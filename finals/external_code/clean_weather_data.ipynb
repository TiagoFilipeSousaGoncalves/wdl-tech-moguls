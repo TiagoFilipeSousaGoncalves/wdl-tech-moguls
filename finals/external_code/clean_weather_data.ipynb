{
 "cells": [
  {
   "cell_type": "markdown",
   "metadata": {},
   "source": [
    "# Preprocess weather data - functions"
   ]
  },
  {
   "cell_type": "code",
   "execution_count": 4,
   "metadata": {},
   "outputs": [],
   "source": [
    "#imports\n",
    "import pandas as pd\n",
    "import numpy as np"
   ]
  },
  {
   "cell_type": "code",
   "execution_count": 5,
   "metadata": {},
   "outputs": [],
   "source": [
    "# Function to load data and to get it by columns of interess and aggregation operation\n",
    "def load_weather_data(data_path, date_col, value_cols, agg_operation = 'mean'):\n",
    "    \n",
    "    \n",
    "    print(\"Reading file \", data_path)\n",
    "    \n",
    "    if data_path == 'data\\weather\\weather_3.csv':\n",
    "        header_to_ignore=5\n",
    "    else:\n",
    "        header_to_ignore=4\n",
    "    \n",
    "    df = pd.read_csv(data_path, header=header_to_ignore, sep=';')\n",
    "\n",
    "    df['Timestamp'] = pd.to_datetime(df['Date'] + ' ' + df['Hour'])\n",
    "\n",
    "    df = df.drop_duplicates()\n",
    "    \n",
    "    df[value_cols].fillna(0)\n",
    "    df[value_cols] = df[value_cols].str.replace(',', '.').astype(float)\n",
    "    \n",
    "    df_resampled = df.set_index(date_col)[value_cols].resample('H').agg('mean').reset_index()\n",
    "\n",
    "\n",
    "    return df_resampled"
   ]
  },
  {
   "cell_type": "code",
   "execution_count": 6,
   "metadata": {},
   "outputs": [],
   "source": [
    "def weather_data():\n",
    "\n",
    "    path_rain = 'data\\weather\\weather_1.csv'\n",
    "    path_wind = 'data\\weather\\weather_2.csv'\n",
    "    path_temperature = 'data\\weather\\weather_3.csv'\n",
    "    path_wind_gust = 'data\\weather\\weather_4.csv'\n",
    "\n",
    "    df_rain = load_weather_data(path_rain,'Timestamp','C1')\n",
    "    df_wind = load_weather_data(path_wind,'Timestamp','C1')\n",
    "    df_temperature = load_weather_data(path_temperature,'Timestamp','C2') \n",
    "    df_wind_gust = load_weather_data(path_wind_gust,'Timestamp','C1') \n",
    "    \n",
    "    df_rain = df_rain.rename(columns={'C1': 'rain'}, inplace = False)\n",
    "    df_wind = df_wind.rename(columns={'C1': 'wind'}, inplace = False)\n",
    "    df_temperature = df_temperature.rename(columns={'C2': 'temperature'}, inplace = False)\n",
    "    df_wind_gust = df_wind_gust.rename(columns={'C1': 'wind_gust'}, inplace = False)\n",
    "    \n",
    "    return df_rain, df_wind, df_temperature, df_wind_gust"
   ]
  },
  {
   "cell_type": "code",
   "execution_count": 7,
   "metadata": {},
   "outputs": [
    {
     "name": "stdout",
     "output_type": "stream",
     "text": [
      "Reading file  data\\weather\\weather_1.csv\n",
      "Reading file  data\\weather\\weather_2.csv\n"
     ]
    },
    {
     "name": "stderr",
     "output_type": "stream",
     "text": [
      "C:\\ProgramData\\Anaconda3\\lib\\site-packages\\IPython\\core\\interactiveshell.py:3343: DtypeWarning: Columns (2) have mixed types.Specify dtype option on import or set low_memory=False.\n",
      "  exec(code_obj, self.user_global_ns, self.user_ns)\n"
     ]
    },
    {
     "name": "stdout",
     "output_type": "stream",
     "text": [
      "Reading file  data\\weather\\weather_3.csv\n",
      "Reading file  data\\weather\\weather_4.csv\n"
     ]
    }
   ],
   "source": [
    "df_rain, df_wind, df_temperature, df_wind_gust = weather_data()"
   ]
  }
 ],
 "metadata": {
  "kernelspec": {
   "display_name": "Python 3",
   "language": "python",
   "name": "python3"
  },
  "language_info": {
   "codemirror_mode": {
    "name": "ipython",
    "version": 3
   },
   "file_extension": ".py",
   "mimetype": "text/x-python",
   "name": "python",
   "nbconvert_exporter": "python",
   "pygments_lexer": "ipython3",
   "version": "3.8.3"
  }
 },
 "nbformat": 4,
 "nbformat_minor": 4
}
