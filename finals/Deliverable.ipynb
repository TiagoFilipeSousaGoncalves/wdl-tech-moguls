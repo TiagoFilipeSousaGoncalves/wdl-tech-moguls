{
 "cells": [
  {
   "cell_type": "markdown",
   "metadata": {
    "id": "JeP6xkRIBJco"
   },
   "source": [
    "tmp# World Data League 2021\n",
    "## Notebook Template\n",
    "\n",
    "This notebook is one of the mandatory deliverables when you submit your solution (alongside the video pitch). Its structure follows the WDL evaluation criteria and it has dedicated cells where you can add descriptions. Make sure your code is readable as it will be the only technical support the jury will have to evaluate your work.\n",
    "\n",
    "The notebook must:\n",
    "\n",
    "*   💻 have all the code that you want the jury to evaluate\n",
    "*   🧱 follow the predefined structure\n",
    "*   📄 have markdown descriptions where you find necessary\n",
    "*   👀 be saved with all the output that you want the jury to see\n",
    "*   🏃‍♂️ be runnable\n"
   ]
  },
  {
   "cell_type": "markdown",
   "metadata": {
    "id": "t6yLp6lm89xR"
   },
   "source": [
    "## Authors\n",
    "Write the name (first and last) of the people on your team that are responsible for developing this solution."
   ]
  },
  {
   "cell_type": "markdown",
   "metadata": {
    "id": "JQ2xq4469UnN"
   },
   "source": []
  },
  {
   "cell_type": "markdown",
   "metadata": {
    "id": "1QNcZrkVu9xf"
   },
   "source": [
    "## External links and resources\n",
    "Paste here all the links to external resources that are necessary to understand and run your code. Add descriptions to make it clear how to use them during evaluation."
   ]
  },
  {
   "cell_type": "markdown",
   "metadata": {
    "id": "VJzSXXIYvxf9"
   },
   "source": []
  },
  {
   "cell_type": "markdown",
   "metadata": {
    "id": "63ltgxp_rOpI"
   },
   "source": [
    "## Introduction\n",
    "Describe how you framed the challenge by telling us what problem are you trying to solve and how your solution solves that problem."
   ]
  },
  {
   "cell_type": "markdown",
   "metadata": {
    "id": "Hp34gOznrwrq"
   },
   "source": []
  },
  {
   "cell_type": "markdown",
   "metadata": {
    "id": "C8rCpNajszur"
   },
   "source": [
    "## Development\n",
    "Start coding here! 👩‍💻\n",
    "\n",
    "Don't hesitate to create markdown cells to include descriptions of your work where you see fit, as well as commenting your code.\n",
    "\n",
    "We know that you know exactly where to start when it comes to crunching data and building models, but don't forget that WDL is all about social impact...so take that into consideration as well."
   ]
  },
  {
   "cell_type": "code",
   "execution_count": 1,
   "metadata": {
    "id": "Sstd_CeKAfc1",
    "outputId": "404b7857-cc26-4681-aa02-b1eff56a0576"
   },
   "outputs": [],
   "source": [
    "# Imports\n",
    "import os\n",
    "import glob\n",
    "import math\n",
    "import numpy as np\n",
    "import pandas as pd\n",
    "import pylab\n",
    "import seaborn as sns\n",
    "import holidays\n",
    "import numpy as np\n",
    "\n",
    "import warnings\n",
    "warnings.filterwarnings('ignore')"
   ]
  },
  {
   "cell_type": "code",
   "execution_count": 2,
   "metadata": {
    "id": "VzYPutu0Afc3"
   },
   "outputs": [],
   "source": [
    "# Helper functions\n",
    "\n",
    "def dbmean(levels, axis=None):\n",
    "    \"\"\"\n",
    "    Energetic average of levels in decibels (such as audio).\n",
    "    :param levels: Sequence of levels.\n",
    "    :param axis: Axis over which to perform the operation.\n",
    "    .. math:: L_{mean} = 10 \\\\log_{10}{\\\\frac{1}{n}\\\\sum_{i=0}^n{10^{L/10}}}\n",
    "    \"\"\"\n",
    "    return 10.0 * np.log10((10.0**(levels / 10.0)).mean(axis=axis))\n",
    "\n",
    "it_holidays = holidays.CountryHoliday('Italy')"
   ]
  },
  {
   "cell_type": "markdown",
   "metadata": {},
   "source": [
    "## Data Loading"
   ]
  },
  {
   "cell_type": "markdown",
   "metadata": {},
   "source": [
    "Loads:\n",
    "- the list of sensors (from 2016 to 2019\n",
    "- Acoustic zone mapping  for each sensor (dB limit in day and night)\n",
    "- Businesses within 500 m radius\n",
    "- Complaints data, which then filtered out to San Salvario, in the locations where we have sensors"
   ]
  },
  {
   "cell_type": "code",
   "execution_count": 3,
   "metadata": {
    "id": "QmCuTK10Afc3"
   },
   "outputs": [],
   "source": [
    "# Load sensor list\n",
    "\n",
    "sensor_list = pd.read_csv('data/noise_sensor_list.csv', sep = ';')\n",
    "sensor_list['Sensor_ID'] = ['C1', 'C2', 'C3', 'C4', 'C5']\n",
    "sensor_list['Lat'] = sensor_list['Lat'].str.replace(',', '.').astype(float)\n",
    "sensor_list['Long'] = sensor_list['Long'].str.replace(',', '.').astype(float)\n",
    "\n",
    "# Get mapping locations and correspondence to area type\n",
    "# Link: https://webgis.arpa.piemonte.it/Geoviewer2D/?config=other-configs/acustica_config.json\n",
    "\n",
    "mapping_location_area_code = pd.DataFrame(\n",
    "    [['s_01', 65, 55, 'IV - Aree di intensa attività umana'],\n",
    "    ['s_02', 60, 50, 'III - Aree di tipo misto'],\n",
    "    ['s_03', 60, 50, 'III - Aree di tipo misto'],\n",
    "    ['s_05', 65, 55, 'IV - Aree di intensa attività umana'],\n",
    "    ['s_06', 60, 50, 'III - Aree di tipo misto']],\n",
    "    columns=['code', 'day_max_db', 'night_max_db', 'area_type']\n",
    ")\n",
    "\n",
    "sensor_list = sensor_list.merge(mapping_location_area_code, on=['code'])\n",
    "\n",
    "# Load businesses within 500 m radius\n",
    "businesses_within_500m_radius = pd.read_csv('data/pois_per_sensor/thresh_df_0.5.csv', sep=';')\n",
    "sensor_list = sensor_list.merge(businesses_within_500m_radius, on=['Sensor_ID'])"
   ]
  },
  {
   "cell_type": "code",
   "execution_count": 4,
   "metadata": {},
   "outputs": [
    {
     "data": {
      "text/html": [
       "<div>\n",
       "<style scoped>\n",
       "    .dataframe tbody tr th:only-of-type {\n",
       "        vertical-align: middle;\n",
       "    }\n",
       "\n",
       "    .dataframe tbody tr th {\n",
       "        vertical-align: top;\n",
       "    }\n",
       "\n",
       "    .dataframe thead th {\n",
       "        text-align: right;\n",
       "    }\n",
       "</style>\n",
       "<table border=\"1\" class=\"dataframe\">\n",
       "  <thead>\n",
       "    <tr style=\"text-align: right;\">\n",
       "      <th></th>\n",
       "      <th>Sensor_ID</th>\n",
       "      <th>Abbigliamento</th>\n",
       "      <th>Alimentari</th>\n",
       "      <th>Alimentari annessi ad altra attivita</th>\n",
       "      <th>Articoli per animali</th>\n",
       "      <th>Articoli pr la casa</th>\n",
       "      <th>Articoli sanitari e ortopedici</th>\n",
       "      <th>Audiovisivi</th>\n",
       "      <th>Autoveicoli e motoveicoli</th>\n",
       "      <th>Bibite</th>\n",
       "      <th>...</th>\n",
       "      <th>Pizza al taglio</th>\n",
       "      <th>Profumeria</th>\n",
       "      <th>Quotidiani e periodici</th>\n",
       "      <th>Ricambi auto e accessori</th>\n",
       "      <th>Sexy shop</th>\n",
       "      <th>Tabacchi</th>\n",
       "      <th>Telefonia</th>\n",
       "      <th>Tessuti</th>\n",
       "      <th>Vendita al dettaglio di cose antiche ed usate</th>\n",
       "      <th>Vendita non esclusiva di giornali</th>\n",
       "    </tr>\n",
       "  </thead>\n",
       "  <tbody>\n",
       "    <tr>\n",
       "      <th>0</th>\n",
       "      <td>C1</td>\n",
       "      <td>37</td>\n",
       "      <td>52</td>\n",
       "      <td>5</td>\n",
       "      <td>3</td>\n",
       "      <td>3</td>\n",
       "      <td>0</td>\n",
       "      <td>11</td>\n",
       "      <td>4</td>\n",
       "      <td>22</td>\n",
       "      <td>...</td>\n",
       "      <td>6</td>\n",
       "      <td>10</td>\n",
       "      <td>5</td>\n",
       "      <td>1</td>\n",
       "      <td>1</td>\n",
       "      <td>8</td>\n",
       "      <td>15</td>\n",
       "      <td>1</td>\n",
       "      <td>12</td>\n",
       "      <td>1</td>\n",
       "    </tr>\n",
       "    <tr>\n",
       "      <th>1</th>\n",
       "      <td>C2</td>\n",
       "      <td>37</td>\n",
       "      <td>54</td>\n",
       "      <td>5</td>\n",
       "      <td>3</td>\n",
       "      <td>3</td>\n",
       "      <td>1</td>\n",
       "      <td>11</td>\n",
       "      <td>4</td>\n",
       "      <td>22</td>\n",
       "      <td>...</td>\n",
       "      <td>6</td>\n",
       "      <td>11</td>\n",
       "      <td>5</td>\n",
       "      <td>1</td>\n",
       "      <td>1</td>\n",
       "      <td>8</td>\n",
       "      <td>15</td>\n",
       "      <td>1</td>\n",
       "      <td>13</td>\n",
       "      <td>1</td>\n",
       "    </tr>\n",
       "    <tr>\n",
       "      <th>2</th>\n",
       "      <td>C3</td>\n",
       "      <td>37</td>\n",
       "      <td>53</td>\n",
       "      <td>5</td>\n",
       "      <td>3</td>\n",
       "      <td>3</td>\n",
       "      <td>1</td>\n",
       "      <td>11</td>\n",
       "      <td>4</td>\n",
       "      <td>22</td>\n",
       "      <td>...</td>\n",
       "      <td>6</td>\n",
       "      <td>11</td>\n",
       "      <td>5</td>\n",
       "      <td>1</td>\n",
       "      <td>1</td>\n",
       "      <td>8</td>\n",
       "      <td>15</td>\n",
       "      <td>1</td>\n",
       "      <td>12</td>\n",
       "      <td>1</td>\n",
       "    </tr>\n",
       "    <tr>\n",
       "      <th>3</th>\n",
       "      <td>C4</td>\n",
       "      <td>37</td>\n",
       "      <td>54</td>\n",
       "      <td>5</td>\n",
       "      <td>3</td>\n",
       "      <td>3</td>\n",
       "      <td>1</td>\n",
       "      <td>11</td>\n",
       "      <td>4</td>\n",
       "      <td>22</td>\n",
       "      <td>...</td>\n",
       "      <td>6</td>\n",
       "      <td>11</td>\n",
       "      <td>5</td>\n",
       "      <td>1</td>\n",
       "      <td>1</td>\n",
       "      <td>8</td>\n",
       "      <td>15</td>\n",
       "      <td>1</td>\n",
       "      <td>13</td>\n",
       "      <td>1</td>\n",
       "    </tr>\n",
       "    <tr>\n",
       "      <th>4</th>\n",
       "      <td>C5</td>\n",
       "      <td>26</td>\n",
       "      <td>37</td>\n",
       "      <td>3</td>\n",
       "      <td>3</td>\n",
       "      <td>2</td>\n",
       "      <td>1</td>\n",
       "      <td>7</td>\n",
       "      <td>2</td>\n",
       "      <td>17</td>\n",
       "      <td>...</td>\n",
       "      <td>4</td>\n",
       "      <td>10</td>\n",
       "      <td>5</td>\n",
       "      <td>1</td>\n",
       "      <td>1</td>\n",
       "      <td>6</td>\n",
       "      <td>9</td>\n",
       "      <td>1</td>\n",
       "      <td>9</td>\n",
       "      <td>1</td>\n",
       "    </tr>\n",
       "  </tbody>\n",
       "</table>\n",
       "<p>5 rows × 55 columns</p>\n",
       "</div>"
      ],
      "text/plain": [
       "  Sensor_ID  Abbigliamento  Alimentari  Alimentari annessi ad altra attivita  \\\n",
       "0        C1             37          52                                     5   \n",
       "1        C2             37          54                                     5   \n",
       "2        C3             37          53                                     5   \n",
       "3        C4             37          54                                     5   \n",
       "4        C5             26          37                                     3   \n",
       "\n",
       "   Articoli per animali  Articoli pr la casa  Articoli sanitari e ortopedici  \\\n",
       "0                     3                    3                               0   \n",
       "1                     3                    3                               1   \n",
       "2                     3                    3                               1   \n",
       "3                     3                    3                               1   \n",
       "4                     3                    2                               1   \n",
       "\n",
       "   Audiovisivi  Autoveicoli e motoveicoli  Bibite  ...  Pizza al taglio  \\\n",
       "0           11                          4      22  ...                6   \n",
       "1           11                          4      22  ...                6   \n",
       "2           11                          4      22  ...                6   \n",
       "3           11                          4      22  ...                6   \n",
       "4            7                          2      17  ...                4   \n",
       "\n",
       "   Profumeria  Quotidiani e periodici  Ricambi auto e accessori  Sexy shop  \\\n",
       "0          10                       5                         1          1   \n",
       "1          11                       5                         1          1   \n",
       "2          11                       5                         1          1   \n",
       "3          11                       5                         1          1   \n",
       "4          10                       5                         1          1   \n",
       "\n",
       "   Tabacchi  Telefonia  Tessuti  \\\n",
       "0         8         15        1   \n",
       "1         8         15        1   \n",
       "2         8         15        1   \n",
       "3         8         15        1   \n",
       "4         6          9        1   \n",
       "\n",
       "   Vendita al dettaglio di cose antiche ed usate  \\\n",
       "0                                             12   \n",
       "1                                             13   \n",
       "2                                             12   \n",
       "3                                             13   \n",
       "4                                              9   \n",
       "\n",
       "   Vendita non esclusiva di giornali  \n",
       "0                                  1  \n",
       "1                                  1  \n",
       "2                                  1  \n",
       "3                                  1  \n",
       "4                                  1  \n",
       "\n",
       "[5 rows x 55 columns]"
      ]
     },
     "execution_count": 4,
     "metadata": {},
     "output_type": "execute_result"
    }
   ],
   "source": [
    "businesses_within_500m_radius"
   ]
  },
  {
   "cell_type": "code",
   "execution_count": 5,
   "metadata": {},
   "outputs": [
    {
     "data": {
      "text/html": [
       "<div>\n",
       "<style scoped>\n",
       "    .dataframe tbody tr th:only-of-type {\n",
       "        vertical-align: middle;\n",
       "    }\n",
       "\n",
       "    .dataframe tbody tr th {\n",
       "        vertical-align: top;\n",
       "    }\n",
       "\n",
       "    .dataframe thead th {\n",
       "        text-align: right;\n",
       "    }\n",
       "</style>\n",
       "<table border=\"1\" class=\"dataframe\">\n",
       "  <thead>\n",
       "    <tr style=\"text-align: right;\">\n",
       "      <th></th>\n",
       "      <th>code</th>\n",
       "      <th>address</th>\n",
       "      <th>Lat</th>\n",
       "      <th>Long</th>\n",
       "      <th>streaming</th>\n",
       "      <th>Sensor_ID</th>\n",
       "      <th>day_max_db</th>\n",
       "      <th>night_max_db</th>\n",
       "      <th>area_type</th>\n",
       "      <th>Abbigliamento</th>\n",
       "      <th>...</th>\n",
       "      <th>Pizza al taglio</th>\n",
       "      <th>Profumeria</th>\n",
       "      <th>Quotidiani e periodici</th>\n",
       "      <th>Ricambi auto e accessori</th>\n",
       "      <th>Sexy shop</th>\n",
       "      <th>Tabacchi</th>\n",
       "      <th>Telefonia</th>\n",
       "      <th>Tessuti</th>\n",
       "      <th>Vendita al dettaglio di cose antiche ed usate</th>\n",
       "      <th>Vendita non esclusiva di giornali</th>\n",
       "    </tr>\n",
       "  </thead>\n",
       "  <tbody>\n",
       "    <tr>\n",
       "      <th>0</th>\n",
       "      <td>s_01</td>\n",
       "      <td>Via Saluzzo, 26 Torino</td>\n",
       "      <td>45.059172</td>\n",
       "      <td>7.678986</td>\n",
       "      <td>https://userportal.smartdatanet.it/userportal/...</td>\n",
       "      <td>C1</td>\n",
       "      <td>65</td>\n",
       "      <td>55</td>\n",
       "      <td>IV - Aree di intensa attività umana</td>\n",
       "      <td>37</td>\n",
       "      <td>...</td>\n",
       "      <td>6</td>\n",
       "      <td>10</td>\n",
       "      <td>5</td>\n",
       "      <td>1</td>\n",
       "      <td>1</td>\n",
       "      <td>8</td>\n",
       "      <td>15</td>\n",
       "      <td>1</td>\n",
       "      <td>12</td>\n",
       "      <td>1</td>\n",
       "    </tr>\n",
       "    <tr>\n",
       "      <th>1</th>\n",
       "      <td>s_02</td>\n",
       "      <td>Via Principe Tommaso, 18bis Torino</td>\n",
       "      <td>45.057837</td>\n",
       "      <td>7.681555</td>\n",
       "      <td>https://userportal.smartdatanet.it/userportal/...</td>\n",
       "      <td>C2</td>\n",
       "      <td>60</td>\n",
       "      <td>50</td>\n",
       "      <td>III - Aree di tipo misto</td>\n",
       "      <td>37</td>\n",
       "      <td>...</td>\n",
       "      <td>6</td>\n",
       "      <td>11</td>\n",
       "      <td>5</td>\n",
       "      <td>1</td>\n",
       "      <td>1</td>\n",
       "      <td>8</td>\n",
       "      <td>15</td>\n",
       "      <td>1</td>\n",
       "      <td>13</td>\n",
       "      <td>1</td>\n",
       "    </tr>\n",
       "    <tr>\n",
       "      <th>2</th>\n",
       "      <td>s_03</td>\n",
       "      <td>Largo Saluzzo Torino</td>\n",
       "      <td>45.058518</td>\n",
       "      <td>7.678854</td>\n",
       "      <td>https://userportal.smartdatanet.it/userportal/...</td>\n",
       "      <td>C3</td>\n",
       "      <td>60</td>\n",
       "      <td>50</td>\n",
       "      <td>III - Aree di tipo misto</td>\n",
       "      <td>37</td>\n",
       "      <td>...</td>\n",
       "      <td>6</td>\n",
       "      <td>11</td>\n",
       "      <td>5</td>\n",
       "      <td>1</td>\n",
       "      <td>1</td>\n",
       "      <td>8</td>\n",
       "      <td>15</td>\n",
       "      <td>1</td>\n",
       "      <td>12</td>\n",
       "      <td>1</td>\n",
       "    </tr>\n",
       "  </tbody>\n",
       "</table>\n",
       "<p>3 rows × 63 columns</p>\n",
       "</div>"
      ],
      "text/plain": [
       "   code                             address        Lat      Long  \\\n",
       "0  s_01              Via Saluzzo, 26 Torino  45.059172  7.678986   \n",
       "1  s_02  Via Principe Tommaso, 18bis Torino  45.057837  7.681555   \n",
       "2  s_03                Largo Saluzzo Torino  45.058518  7.678854   \n",
       "\n",
       "                                           streaming Sensor_ID  day_max_db  \\\n",
       "0  https://userportal.smartdatanet.it/userportal/...        C1          65   \n",
       "1  https://userportal.smartdatanet.it/userportal/...        C2          60   \n",
       "2  https://userportal.smartdatanet.it/userportal/...        C3          60   \n",
       "\n",
       "   night_max_db                            area_type  Abbigliamento  ...  \\\n",
       "0            55  IV - Aree di intensa attività umana             37  ...   \n",
       "1            50             III - Aree di tipo misto             37  ...   \n",
       "2            50             III - Aree di tipo misto             37  ...   \n",
       "\n",
       "   Pizza al taglio  Profumeria  Quotidiani e periodici  \\\n",
       "0                6          10                       5   \n",
       "1                6          11                       5   \n",
       "2                6          11                       5   \n",
       "\n",
       "   Ricambi auto e accessori  Sexy shop  Tabacchi  Telefonia  Tessuti  \\\n",
       "0                         1          1         8         15        1   \n",
       "1                         1          1         8         15        1   \n",
       "2                         1          1         8         15        1   \n",
       "\n",
       "   Vendita al dettaglio di cose antiche ed usate  \\\n",
       "0                                             12   \n",
       "1                                             13   \n",
       "2                                             12   \n",
       "\n",
       "   Vendita non esclusiva di giornali  \n",
       "0                                  1  \n",
       "1                                  1  \n",
       "2                                  1  \n",
       "\n",
       "[3 rows x 63 columns]"
      ]
     },
     "execution_count": 5,
     "metadata": {},
     "output_type": "execute_result"
    }
   ],
   "source": [
    "sensor_list.head(3)"
   ]
  },
  {
   "cell_type": "code",
   "execution_count": 6,
   "metadata": {
    "id": "vvAIjP3zAfc4"
   },
   "outputs": [],
   "source": [
    "def load_noise_data(file_paths, sensor_list):\n",
    "    \"\"\"\n",
    "    Function for loading noise data into the correct format\n",
    "    \"\"\"\n",
    "    concat_data = []\n",
    "    for file in file_paths:\n",
    "        df = pd.read_csv(file, header=8, sep=';')\n",
    "        df = df.melt(id_vars=['Data', 'Ora'])\n",
    "        df['Timestamp'] = pd.to_datetime(df['Data'] + ' ' + df['Ora'])\n",
    "        df.columns = ['Date', 'Time', 'Sensor_ID', 'Intensity', 'Timestamp']\n",
    "        df['Intensity'] = df['Intensity'].str.replace(',', '.').astype(float)\n",
    "\n",
    "        concat_data.append(df)\n",
    "\n",
    "    concat_df = pd.concat(concat_data)\n",
    "\n",
    "    output = concat_df.merge(sensor_list, on=['Sensor_ID'])\n",
    "    \n",
    "    return output\n",
    "\n",
    "file_paths_noise_data = [\n",
    "    'data/noise_data/san_salvario_2016.csv',\n",
    "    'data/noise_data/san_salvario_2017.csv',\n",
    "    'data/noise_data/san_salvario_2018.csv',\n",
    "    'data/noise_data/san_salvario_2019.csv',\n",
    "]\n",
    "df_noise = load_noise_data(file_paths_noise_data, sensor_list)"
   ]
  },
  {
   "cell_type": "code",
   "execution_count": 7,
   "metadata": {},
   "outputs": [
    {
     "data": {
      "text/html": [
       "<div>\n",
       "<style scoped>\n",
       "    .dataframe tbody tr th:only-of-type {\n",
       "        vertical-align: middle;\n",
       "    }\n",
       "\n",
       "    .dataframe tbody tr th {\n",
       "        vertical-align: top;\n",
       "    }\n",
       "\n",
       "    .dataframe thead th {\n",
       "        text-align: right;\n",
       "    }\n",
       "</style>\n",
       "<table border=\"1\" class=\"dataframe\">\n",
       "  <thead>\n",
       "    <tr style=\"text-align: right;\">\n",
       "      <th></th>\n",
       "      <th>Date</th>\n",
       "      <th>Time</th>\n",
       "      <th>Sensor_ID</th>\n",
       "      <th>Intensity</th>\n",
       "      <th>Timestamp</th>\n",
       "      <th>code</th>\n",
       "      <th>address</th>\n",
       "      <th>Lat</th>\n",
       "      <th>Long</th>\n",
       "      <th>streaming</th>\n",
       "      <th>...</th>\n",
       "      <th>Pizza al taglio</th>\n",
       "      <th>Profumeria</th>\n",
       "      <th>Quotidiani e periodici</th>\n",
       "      <th>Ricambi auto e accessori</th>\n",
       "      <th>Sexy shop</th>\n",
       "      <th>Tabacchi</th>\n",
       "      <th>Telefonia</th>\n",
       "      <th>Tessuti</th>\n",
       "      <th>Vendita al dettaglio di cose antiche ed usate</th>\n",
       "      <th>Vendita non esclusiva di giornali</th>\n",
       "    </tr>\n",
       "  </thead>\n",
       "  <tbody>\n",
       "    <tr>\n",
       "      <th>0</th>\n",
       "      <td>01-06-2016</td>\n",
       "      <td>00:00</td>\n",
       "      <td>C1</td>\n",
       "      <td>61.1</td>\n",
       "      <td>2016-01-06 00:00:00</td>\n",
       "      <td>s_01</td>\n",
       "      <td>Via Saluzzo, 26 Torino</td>\n",
       "      <td>45.059172</td>\n",
       "      <td>7.678986</td>\n",
       "      <td>https://userportal.smartdatanet.it/userportal/...</td>\n",
       "      <td>...</td>\n",
       "      <td>6</td>\n",
       "      <td>10</td>\n",
       "      <td>5</td>\n",
       "      <td>1</td>\n",
       "      <td>1</td>\n",
       "      <td>8</td>\n",
       "      <td>15</td>\n",
       "      <td>1</td>\n",
       "      <td>12</td>\n",
       "      <td>1</td>\n",
       "    </tr>\n",
       "    <tr>\n",
       "      <th>1</th>\n",
       "      <td>01-06-2016</td>\n",
       "      <td>01:00</td>\n",
       "      <td>C1</td>\n",
       "      <td>57.2</td>\n",
       "      <td>2016-01-06 01:00:00</td>\n",
       "      <td>s_01</td>\n",
       "      <td>Via Saluzzo, 26 Torino</td>\n",
       "      <td>45.059172</td>\n",
       "      <td>7.678986</td>\n",
       "      <td>https://userportal.smartdatanet.it/userportal/...</td>\n",
       "      <td>...</td>\n",
       "      <td>6</td>\n",
       "      <td>10</td>\n",
       "      <td>5</td>\n",
       "      <td>1</td>\n",
       "      <td>1</td>\n",
       "      <td>8</td>\n",
       "      <td>15</td>\n",
       "      <td>1</td>\n",
       "      <td>12</td>\n",
       "      <td>1</td>\n",
       "    </tr>\n",
       "    <tr>\n",
       "      <th>2</th>\n",
       "      <td>01-06-2016</td>\n",
       "      <td>02:00</td>\n",
       "      <td>C1</td>\n",
       "      <td>52.5</td>\n",
       "      <td>2016-01-06 02:00:00</td>\n",
       "      <td>s_01</td>\n",
       "      <td>Via Saluzzo, 26 Torino</td>\n",
       "      <td>45.059172</td>\n",
       "      <td>7.678986</td>\n",
       "      <td>https://userportal.smartdatanet.it/userportal/...</td>\n",
       "      <td>...</td>\n",
       "      <td>6</td>\n",
       "      <td>10</td>\n",
       "      <td>5</td>\n",
       "      <td>1</td>\n",
       "      <td>1</td>\n",
       "      <td>8</td>\n",
       "      <td>15</td>\n",
       "      <td>1</td>\n",
       "      <td>12</td>\n",
       "      <td>1</td>\n",
       "    </tr>\n",
       "  </tbody>\n",
       "</table>\n",
       "<p>3 rows × 67 columns</p>\n",
       "</div>"
      ],
      "text/plain": [
       "         Date   Time Sensor_ID  Intensity           Timestamp  code  \\\n",
       "0  01-06-2016  00:00        C1       61.1 2016-01-06 00:00:00  s_01   \n",
       "1  01-06-2016  01:00        C1       57.2 2016-01-06 01:00:00  s_01   \n",
       "2  01-06-2016  02:00        C1       52.5 2016-01-06 02:00:00  s_01   \n",
       "\n",
       "                  address        Lat      Long  \\\n",
       "0  Via Saluzzo, 26 Torino  45.059172  7.678986   \n",
       "1  Via Saluzzo, 26 Torino  45.059172  7.678986   \n",
       "2  Via Saluzzo, 26 Torino  45.059172  7.678986   \n",
       "\n",
       "                                           streaming  ...  Pizza al taglio  \\\n",
       "0  https://userportal.smartdatanet.it/userportal/...  ...                6   \n",
       "1  https://userportal.smartdatanet.it/userportal/...  ...                6   \n",
       "2  https://userportal.smartdatanet.it/userportal/...  ...                6   \n",
       "\n",
       "   Profumeria Quotidiani e periodici  Ricambi auto e accessori  Sexy shop  \\\n",
       "0          10                      5                         1          1   \n",
       "1          10                      5                         1          1   \n",
       "2          10                      5                         1          1   \n",
       "\n",
       "   Tabacchi  Telefonia  Tessuti  \\\n",
       "0         8         15        1   \n",
       "1         8         15        1   \n",
       "2         8         15        1   \n",
       "\n",
       "   Vendita al dettaglio di cose antiche ed usate  \\\n",
       "0                                             12   \n",
       "1                                             12   \n",
       "2                                             12   \n",
       "\n",
       "   Vendita non esclusiva di giornali  \n",
       "0                                  1  \n",
       "1                                  1  \n",
       "2                                  1  \n",
       "\n",
       "[3 rows x 67 columns]"
      ]
     },
     "execution_count": 7,
     "metadata": {},
     "output_type": "execute_result"
    }
   ],
   "source": [
    "df_noise.head(3)"
   ]
  },
  {
   "cell_type": "code",
   "execution_count": 8,
   "metadata": {
    "id": "9XNMAVI_Afc5",
    "outputId": "ddf13ff0-990d-4d63-ea0a-f970c8aba0de"
   },
   "outputs": [],
   "source": [
    "# Load police complaints data\n",
    "\n",
    "file_paths = glob.glob('data/police_complaints/*.csv')\n",
    "\n",
    "def load_police_complaints(file_paths):\n",
    "    \"\"\"\n",
    "    Load and filter data related with police complaints for a specific district (San salvario)\n",
    "    \"\"\"\n",
    "    concat_data = []\n",
    "    for file in file_paths:\n",
    "        df = pd.read_csv(file, sep=',')\n",
    "        df['Timestamp'] = pd.to_datetime(df['Date'], format='%d/%m/%Y')\n",
    "        concat_data.append(df)\n",
    "    df_final = pd.concat(concat_data)\n",
    "\n",
    "    filter = ['Facilities disturbances', 'Disturbing noises', 'Youth aggregation']\n",
    "    df_filtered = df_final.loc[df_final['Criminal sub-category'].isin(filter)]\n",
    "\n",
    "    # Filter data within San Salvario and neighbourhood:\n",
    "    # http://aperto.comune.torino.it/dataset/circoscrizioni\n",
    "    df_filtered_san_salvario = df_filtered[df_filtered.District == 8]\n",
    "\n",
    "    df_filtered_san_salvario.loc[:, 'Localization'] = df_filtered_san_salvario.loc[:, 'Localization'].str.lower().str.strip()\n",
    "\n",
    "    # Map the locations in df_filtered_san_salvario to the sensor addresses in the noise sensor dataset\n",
    "    localization_address_mapping = {\n",
    "       'principe tommaso/(via)':  'Via Principe Tommaso, 18bis Torino',\n",
    "       'baretti/giuseppe (via)': 'Via Principe Tommaso angolo via Baretti Torino',\n",
    "       'marconi/guglielmo (corso)' : 'Corso Marconi, 27 Torino',\n",
    "       'saluzzo/(largo)': 'Largo Saluzzo Torino',\n",
    "       'saluzzo/(via)': 'Via Saluzzo, 26 Torino'\n",
    "    }\n",
    "\n",
    "    df_filtered_san_salvario.loc[:, 'address'] = df_filtered_san_salvario.loc[:, 'Localization'].map(localization_address_mapping)\n",
    "    \n",
    "    # Return the cases we can map to our sensors\n",
    "    df_filtered_san_salvario = df_filtered_san_salvario[~df_filtered_san_salvario['address'].isna()]\n",
    "\n",
    "    return df_filtered_san_salvario"
   ]
  },
  {
   "cell_type": "code",
   "execution_count": 9,
   "metadata": {
    "id": "NCOkGPL_Afc5"
   },
   "outputs": [],
   "source": [
    "df_filtered_san_salvario = load_police_complaints(file_paths)"
   ]
  },
  {
   "cell_type": "code",
   "execution_count": 10,
   "metadata": {
    "id": "lbTc7zZGAfc7"
   },
   "outputs": [],
   "source": [
    "# Load weather data\n",
    "\n",
    "def load_weather_data(data_path, date_col, value_cols, agg_operation = 'mean'):\n",
    "    \"\"\"\n",
    "    Function to load data and to get it by columns of interess and aggregation operation\n",
    "    \"\"\"\n",
    "    print(\"Reading file \", data_path)\n",
    "    \n",
    "    if data_path == 'data\\weather\\weather_3.csv':\n",
    "        header_to_ignore=5\n",
    "    else:\n",
    "        header_to_ignore=4\n",
    "    \n",
    "    df = pd.read_csv(data_path, header=header_to_ignore, sep=';')\n",
    "\n",
    "    df['Timestamp'] = pd.to_datetime(df['Date'] + ' ' + df['Hour'])\n",
    "\n",
    "    df = df.drop_duplicates()\n",
    "    \n",
    "    df[value_cols].fillna(0)\n",
    "    df[value_cols] = df[value_cols].str.replace(',', '.').astype(float)\n",
    "    \n",
    "    df_resampled = df.set_index(date_col)[value_cols].resample('H').agg('mean').reset_index()\n",
    "\n",
    "    return df_resampled"
   ]
  },
  {
   "cell_type": "code",
   "execution_count": 11,
   "metadata": {
    "tags": []
   },
   "outputs": [
    {
     "name": "stdout",
     "output_type": "stream",
     "text": [
      "Loading file  data/weather/processed/df_wind.pkl\n",
      "Loading file  data/weather/processed/df_temperature.pkl\n",
      "Loading file  data/weather/processed/df_rain.pkl\n",
      "Loading file  data/weather/processed/df_wind_gust.pkl\n"
     ]
    }
   ],
   "source": [
    "def weather_data():\n",
    "\n",
    "    path_rain = 'data\\weather\\weather_1.csv'\n",
    "    path_wind = 'data\\weather\\weather_2.csv'\n",
    "    path_temperature = 'data\\weather\\weather_3.csv'\n",
    "    path_wind_gust = 'data\\weather\\weather_4.csv'\n",
    "\n",
    "    df_rain = load_weather_data(path_rain, 'Timestamp', 'C1')\n",
    "    df_wind = load_weather_data(path_wind, 'Timestamp', 'C1')\n",
    "    df_temperature = load_weather_data(path_temperature, 'Timestamp', 'C2') \n",
    "    df_wind_gust = load_weather_data(path_wind_gust, 'Timestamp', 'C1') \n",
    "    \n",
    "    df_rain = df_rain.rename(columns={'C1': 'rain'}, inplace = False)\n",
    "    df_wind = df_wind.rename(columns={'C1': 'wind'}, inplace = False)\n",
    "    df_temperature = df_temperature.rename(columns={'C2': 'temperature'}, inplace = False)\n",
    "    df_wind_gust = df_wind_gust.rename(columns={'C1': 'wind_gust'}, inplace = False)\n",
    "    \n",
    "    return df_rain, df_wind, df_temperature, df_wind_gust\n",
    "\n",
    "load_from_cache = 1\n",
    "\n",
    "import pickle\n",
    "\n",
    "if not load_from_cache:\n",
    "    df_rain, df_wind, df_temperature, df_wind_gust = weather_data()\n",
    "else:\n",
    "    paths = [\n",
    "        'data/weather/processed/df_wind.pkl', \n",
    "        'data/weather/processed/df_temperature.pkl', \n",
    "        'data/weather/processed/df_rain.pkl',\n",
    "        'data/weather/processed/df_wind_gust.pkl',\n",
    "    ]\n",
    "    for path in paths:\n",
    "        print(\"Loading file \", path)\n",
    "        with (open(path, \"rb\")) as f:\n",
    "            df_weather = pickle.load(f)\n",
    "            df_noise = df_noise.merge(df_weather, on=['Timestamp'])\n"
   ]
  },
  {
   "cell_type": "code",
   "execution_count": 12,
   "metadata": {},
   "outputs": [
    {
     "data": {
      "text/html": [
       "<div>\n",
       "<style scoped>\n",
       "    .dataframe tbody tr th:only-of-type {\n",
       "        vertical-align: middle;\n",
       "    }\n",
       "\n",
       "    .dataframe tbody tr th {\n",
       "        vertical-align: top;\n",
       "    }\n",
       "\n",
       "    .dataframe thead th {\n",
       "        text-align: right;\n",
       "    }\n",
       "</style>\n",
       "<table border=\"1\" class=\"dataframe\">\n",
       "  <thead>\n",
       "    <tr style=\"text-align: right;\">\n",
       "      <th></th>\n",
       "      <th>Date</th>\n",
       "      <th>Time</th>\n",
       "      <th>Sensor_ID</th>\n",
       "      <th>Intensity</th>\n",
       "      <th>Timestamp</th>\n",
       "      <th>code</th>\n",
       "      <th>address</th>\n",
       "      <th>Lat</th>\n",
       "      <th>Long</th>\n",
       "      <th>streaming</th>\n",
       "      <th>...</th>\n",
       "      <th>Sexy shop</th>\n",
       "      <th>Tabacchi</th>\n",
       "      <th>Telefonia</th>\n",
       "      <th>Tessuti</th>\n",
       "      <th>Vendita al dettaglio di cose antiche ed usate</th>\n",
       "      <th>Vendita non esclusiva di giornali</th>\n",
       "      <th>wind</th>\n",
       "      <th>temperature</th>\n",
       "      <th>rain</th>\n",
       "      <th>wind_gust</th>\n",
       "    </tr>\n",
       "  </thead>\n",
       "  <tbody>\n",
       "    <tr>\n",
       "      <th>0</th>\n",
       "      <td>01-06-2016</td>\n",
       "      <td>00:00</td>\n",
       "      <td>C1</td>\n",
       "      <td>61.1</td>\n",
       "      <td>2016-01-06</td>\n",
       "      <td>s_01</td>\n",
       "      <td>Via Saluzzo, 26 Torino</td>\n",
       "      <td>45.059172</td>\n",
       "      <td>7.678986</td>\n",
       "      <td>https://userportal.smartdatanet.it/userportal/...</td>\n",
       "      <td>...</td>\n",
       "      <td>1</td>\n",
       "      <td>8</td>\n",
       "      <td>15</td>\n",
       "      <td>1</td>\n",
       "      <td>12</td>\n",
       "      <td>1</td>\n",
       "      <td>0.7</td>\n",
       "      <td>14.2</td>\n",
       "      <td>0.0</td>\n",
       "      <td>NaN</td>\n",
       "    </tr>\n",
       "    <tr>\n",
       "      <th>1</th>\n",
       "      <td>01-06-2016</td>\n",
       "      <td>00:00</td>\n",
       "      <td>C2</td>\n",
       "      <td>58.8</td>\n",
       "      <td>2016-01-06</td>\n",
       "      <td>s_02</td>\n",
       "      <td>Via Principe Tommaso, 18bis Torino</td>\n",
       "      <td>45.057837</td>\n",
       "      <td>7.681555</td>\n",
       "      <td>https://userportal.smartdatanet.it/userportal/...</td>\n",
       "      <td>...</td>\n",
       "      <td>1</td>\n",
       "      <td>8</td>\n",
       "      <td>15</td>\n",
       "      <td>1</td>\n",
       "      <td>13</td>\n",
       "      <td>1</td>\n",
       "      <td>0.7</td>\n",
       "      <td>14.2</td>\n",
       "      <td>0.0</td>\n",
       "      <td>NaN</td>\n",
       "    </tr>\n",
       "    <tr>\n",
       "      <th>2</th>\n",
       "      <td>01-06-2016</td>\n",
       "      <td>00:00</td>\n",
       "      <td>C3</td>\n",
       "      <td>63.7</td>\n",
       "      <td>2016-01-06</td>\n",
       "      <td>s_03</td>\n",
       "      <td>Largo Saluzzo Torino</td>\n",
       "      <td>45.058518</td>\n",
       "      <td>7.678854</td>\n",
       "      <td>https://userportal.smartdatanet.it/userportal/...</td>\n",
       "      <td>...</td>\n",
       "      <td>1</td>\n",
       "      <td>8</td>\n",
       "      <td>15</td>\n",
       "      <td>1</td>\n",
       "      <td>12</td>\n",
       "      <td>1</td>\n",
       "      <td>0.7</td>\n",
       "      <td>14.2</td>\n",
       "      <td>0.0</td>\n",
       "      <td>NaN</td>\n",
       "    </tr>\n",
       "  </tbody>\n",
       "</table>\n",
       "<p>3 rows × 71 columns</p>\n",
       "</div>"
      ],
      "text/plain": [
       "         Date   Time Sensor_ID  Intensity  Timestamp  code  \\\n",
       "0  01-06-2016  00:00        C1       61.1 2016-01-06  s_01   \n",
       "1  01-06-2016  00:00        C2       58.8 2016-01-06  s_02   \n",
       "2  01-06-2016  00:00        C3       63.7 2016-01-06  s_03   \n",
       "\n",
       "                              address        Lat      Long  \\\n",
       "0              Via Saluzzo, 26 Torino  45.059172  7.678986   \n",
       "1  Via Principe Tommaso, 18bis Torino  45.057837  7.681555   \n",
       "2                Largo Saluzzo Torino  45.058518  7.678854   \n",
       "\n",
       "                                           streaming  ...  Sexy shop  \\\n",
       "0  https://userportal.smartdatanet.it/userportal/...  ...          1   \n",
       "1  https://userportal.smartdatanet.it/userportal/...  ...          1   \n",
       "2  https://userportal.smartdatanet.it/userportal/...  ...          1   \n",
       "\n",
       "   Tabacchi Telefonia  Tessuti  Vendita al dettaglio di cose antiche ed usate  \\\n",
       "0         8        15        1                                             12   \n",
       "1         8        15        1                                             13   \n",
       "2         8        15        1                                             12   \n",
       "\n",
       "   Vendita non esclusiva di giornali  wind  temperature  rain  wind_gust  \n",
       "0                                  1   0.7         14.2   0.0        NaN  \n",
       "1                                  1   0.7         14.2   0.0        NaN  \n",
       "2                                  1   0.7         14.2   0.0        NaN  \n",
       "\n",
       "[3 rows x 71 columns]"
      ]
     },
     "execution_count": 12,
     "metadata": {},
     "output_type": "execute_result"
    }
   ],
   "source": [
    "df_noise.head(3)"
   ]
  },
  {
   "cell_type": "markdown",
   "metadata": {
    "id": "ZWNv9Cn4AfdC"
   },
   "source": [
    "# Exploratory Data Analysis"
   ]
  },
  {
   "cell_type": "markdown",
   "metadata": {
    "id": "wSUQ9qSNAfdD"
   },
   "source": [
    "### Sensor Location"
   ]
  },
  {
   "cell_type": "markdown",
   "metadata": {
    "id": "KNOFwluqAfdE"
   },
   "source": [
    "TODO: Description here about the sensors' proximity"
   ]
  },
  {
   "cell_type": "code",
   "execution_count": 13,
   "metadata": {
    "id": "lMNqNcrKAfdE",
    "tags": []
   },
   "outputs": [
    {
     "data": {
      "text/html": [
       "<div style=\"width:100%;\"><div style=\"position:relative;width:100%;height:0;padding-bottom:60%;\"><span style=\"color:#565656\">Make this Notebook Trusted to load map: File -> Trust Notebook</span><iframe src=\"about:blank\" style=\"position:absolute;width:100%;height:100%;left:0;top:0;border:none !important;\" data-html=%3C%21DOCTYPE%20html%3E%0A%3Chead%3E%20%20%20%20%0A%20%20%20%20%3Cmeta%20http-equiv%3D%22content-type%22%20content%3D%22text/html%3B%20charset%3DUTF-8%22%20/%3E%0A%20%20%20%20%0A%20%20%20%20%20%20%20%20%3Cscript%3E%0A%20%20%20%20%20%20%20%20%20%20%20%20L_NO_TOUCH%20%3D%20false%3B%0A%20%20%20%20%20%20%20%20%20%20%20%20L_DISABLE_3D%20%3D%20false%3B%0A%20%20%20%20%20%20%20%20%3C/script%3E%0A%20%20%20%20%0A%20%20%20%20%3Cstyle%3Ehtml%2C%20body%20%7Bwidth%3A%20100%25%3Bheight%3A%20100%25%3Bmargin%3A%200%3Bpadding%3A%200%3B%7D%3C/style%3E%0A%20%20%20%20%3Cstyle%3E%23map%20%7Bposition%3Aabsolute%3Btop%3A0%3Bbottom%3A0%3Bright%3A0%3Bleft%3A0%3B%7D%3C/style%3E%0A%20%20%20%20%3Cscript%20src%3D%22https%3A//cdn.jsdelivr.net/npm/leaflet%401.6.0/dist/leaflet.js%22%3E%3C/script%3E%0A%20%20%20%20%3Cscript%20src%3D%22https%3A//code.jquery.com/jquery-1.12.4.min.js%22%3E%3C/script%3E%0A%20%20%20%20%3Cscript%20src%3D%22https%3A//maxcdn.bootstrapcdn.com/bootstrap/3.2.0/js/bootstrap.min.js%22%3E%3C/script%3E%0A%20%20%20%20%3Cscript%20src%3D%22https%3A//cdnjs.cloudflare.com/ajax/libs/Leaflet.awesome-markers/2.0.2/leaflet.awesome-markers.js%22%3E%3C/script%3E%0A%20%20%20%20%3Clink%20rel%3D%22stylesheet%22%20href%3D%22https%3A//cdn.jsdelivr.net/npm/leaflet%401.6.0/dist/leaflet.css%22/%3E%0A%20%20%20%20%3Clink%20rel%3D%22stylesheet%22%20href%3D%22https%3A//maxcdn.bootstrapcdn.com/bootstrap/3.2.0/css/bootstrap.min.css%22/%3E%0A%20%20%20%20%3Clink%20rel%3D%22stylesheet%22%20href%3D%22https%3A//maxcdn.bootstrapcdn.com/bootstrap/3.2.0/css/bootstrap-theme.min.css%22/%3E%0A%20%20%20%20%3Clink%20rel%3D%22stylesheet%22%20href%3D%22https%3A//maxcdn.bootstrapcdn.com/font-awesome/4.6.3/css/font-awesome.min.css%22/%3E%0A%20%20%20%20%3Clink%20rel%3D%22stylesheet%22%20href%3D%22https%3A//cdnjs.cloudflare.com/ajax/libs/Leaflet.awesome-markers/2.0.2/leaflet.awesome-markers.css%22/%3E%0A%20%20%20%20%3Clink%20rel%3D%22stylesheet%22%20href%3D%22https%3A//cdn.jsdelivr.net/gh/python-visualization/folium/folium/templates/leaflet.awesome.rotate.min.css%22/%3E%0A%20%20%20%20%0A%20%20%20%20%20%20%20%20%20%20%20%20%3Cmeta%20name%3D%22viewport%22%20content%3D%22width%3Ddevice-width%2C%0A%20%20%20%20%20%20%20%20%20%20%20%20%20%20%20%20initial-scale%3D1.0%2C%20maximum-scale%3D1.0%2C%20user-scalable%3Dno%22%20/%3E%0A%20%20%20%20%20%20%20%20%20%20%20%20%3Cstyle%3E%0A%20%20%20%20%20%20%20%20%20%20%20%20%20%20%20%20%23map_ce2a0d3880ba4a1c870337f524e5373f%20%7B%0A%20%20%20%20%20%20%20%20%20%20%20%20%20%20%20%20%20%20%20%20position%3A%20relative%3B%0A%20%20%20%20%20%20%20%20%20%20%20%20%20%20%20%20%20%20%20%20width%3A%20100.0%25%3B%0A%20%20%20%20%20%20%20%20%20%20%20%20%20%20%20%20%20%20%20%20height%3A%20100.0%25%3B%0A%20%20%20%20%20%20%20%20%20%20%20%20%20%20%20%20%20%20%20%20left%3A%200.0%25%3B%0A%20%20%20%20%20%20%20%20%20%20%20%20%20%20%20%20%20%20%20%20top%3A%200.0%25%3B%0A%20%20%20%20%20%20%20%20%20%20%20%20%20%20%20%20%7D%0A%20%20%20%20%20%20%20%20%20%20%20%20%3C/style%3E%0A%20%20%20%20%20%20%20%20%0A%3C/head%3E%0A%3Cbody%3E%20%20%20%20%0A%20%20%20%20%0A%20%20%20%20%20%20%20%20%20%20%20%20%3Cdiv%20class%3D%22folium-map%22%20id%3D%22map_ce2a0d3880ba4a1c870337f524e5373f%22%20%3E%3C/div%3E%0A%20%20%20%20%20%20%20%20%0A%3C/body%3E%0A%3Cscript%3E%20%20%20%20%0A%20%20%20%20%0A%20%20%20%20%20%20%20%20%20%20%20%20var%20map_ce2a0d3880ba4a1c870337f524e5373f%20%3D%20L.map%28%0A%20%20%20%20%20%20%20%20%20%20%20%20%20%20%20%20%22map_ce2a0d3880ba4a1c870337f524e5373f%22%2C%0A%20%20%20%20%20%20%20%20%20%20%20%20%20%20%20%20%7B%0A%20%20%20%20%20%20%20%20%20%20%20%20%20%20%20%20%20%20%20%20center%3A%20%5B45.053%2C%207.6798%5D%2C%0A%20%20%20%20%20%20%20%20%20%20%20%20%20%20%20%20%20%20%20%20crs%3A%20L.CRS.EPSG3857%2C%0A%20%20%20%20%20%20%20%20%20%20%20%20%20%20%20%20%20%20%20%20zoom%3A%2015%2C%0A%20%20%20%20%20%20%20%20%20%20%20%20%20%20%20%20%20%20%20%20zoomControl%3A%20true%2C%0A%20%20%20%20%20%20%20%20%20%20%20%20%20%20%20%20%20%20%20%20preferCanvas%3A%20false%2C%0A%20%20%20%20%20%20%20%20%20%20%20%20%20%20%20%20%7D%0A%20%20%20%20%20%20%20%20%20%20%20%20%29%3B%0A%0A%20%20%20%20%20%20%20%20%20%20%20%20%0A%0A%20%20%20%20%20%20%20%20%0A%20%20%20%20%0A%20%20%20%20%20%20%20%20%20%20%20%20var%20tile_layer_eba876fa2a914f92bdf05682d8512cdb%20%3D%20L.tileLayer%28%0A%20%20%20%20%20%20%20%20%20%20%20%20%20%20%20%20%22https%3A//%7Bs%7D.tile.openstreetmap.org/%7Bz%7D/%7Bx%7D/%7By%7D.png%22%2C%0A%20%20%20%20%20%20%20%20%20%20%20%20%20%20%20%20%7B%22attribution%22%3A%20%22Data%20by%20%5Cu0026copy%3B%20%5Cu003ca%20href%3D%5C%22http%3A//openstreetmap.org%5C%22%5Cu003eOpenStreetMap%5Cu003c/a%5Cu003e%2C%20under%20%5Cu003ca%20href%3D%5C%22http%3A//www.openstreetmap.org/copyright%5C%22%5Cu003eODbL%5Cu003c/a%5Cu003e.%22%2C%20%22detectRetina%22%3A%20false%2C%20%22maxNativeZoom%22%3A%2018%2C%20%22maxZoom%22%3A%2018%2C%20%22minZoom%22%3A%200%2C%20%22noWrap%22%3A%20false%2C%20%22opacity%22%3A%201%2C%20%22subdomains%22%3A%20%22abc%22%2C%20%22tms%22%3A%20false%7D%0A%20%20%20%20%20%20%20%20%20%20%20%20%29.addTo%28map_ce2a0d3880ba4a1c870337f524e5373f%29%3B%0A%20%20%20%20%20%20%20%20%0A%20%20%20%20%0A%20%20%20%20%20%20%20%20%20%20%20%20var%20marker_5b24e2777c644e6aaf8fc9bf6d087941%20%3D%20L.marker%28%0A%20%20%20%20%20%20%20%20%20%20%20%20%20%20%20%20%5B45.059172%2C%207.678986%5D%2C%0A%20%20%20%20%20%20%20%20%20%20%20%20%20%20%20%20%7B%7D%0A%20%20%20%20%20%20%20%20%20%20%20%20%29.addTo%28map_ce2a0d3880ba4a1c870337f524e5373f%29%3B%0A%20%20%20%20%20%20%20%20%0A%20%20%20%20%0A%20%20%20%20%20%20%20%20%20%20%20%20var%20icon_b83cbc71ea13419fa18a1454a356435f%20%3D%20L.AwesomeMarkers.icon%28%0A%20%20%20%20%20%20%20%20%20%20%20%20%20%20%20%20%7B%22extraClasses%22%3A%20%22fa-rotate-0%22%2C%20%22icon%22%3A%20%22volume-up%22%2C%20%22iconColor%22%3A%20%22white%22%2C%20%22markerColor%22%3A%20%22red%22%2C%20%22prefix%22%3A%20%22fa%22%7D%0A%20%20%20%20%20%20%20%20%20%20%20%20%29%3B%0A%20%20%20%20%20%20%20%20%20%20%20%20marker_5b24e2777c644e6aaf8fc9bf6d087941.setIcon%28icon_b83cbc71ea13419fa18a1454a356435f%29%3B%0A%20%20%20%20%20%20%20%20%0A%20%20%20%20%0A%20%20%20%20%20%20%20%20var%20popup_991e24fdbe5743b6bb5e411c7e79a9a8%20%3D%20L.popup%28%7B%22maxWidth%22%3A%20%22100%25%22%7D%29%3B%0A%0A%20%20%20%20%20%20%20%20%0A%20%20%20%20%20%20%20%20%20%20%20%20var%20html_fee4fa449f274f749fa35c05e2e3f9d3%20%3D%20%24%28%60%3Cdiv%20id%3D%22html_fee4fa449f274f749fa35c05e2e3f9d3%22%20style%3D%22width%3A%20100.0%25%3B%20height%3A%20100.0%25%3B%22%3EVia%20Saluzzo%2C%2026%20Torino%3C/div%3E%60%29%5B0%5D%3B%0A%20%20%20%20%20%20%20%20%20%20%20%20popup_991e24fdbe5743b6bb5e411c7e79a9a8.setContent%28html_fee4fa449f274f749fa35c05e2e3f9d3%29%3B%0A%20%20%20%20%20%20%20%20%0A%0A%20%20%20%20%20%20%20%20marker_5b24e2777c644e6aaf8fc9bf6d087941.bindPopup%28popup_991e24fdbe5743b6bb5e411c7e79a9a8%29%0A%20%20%20%20%20%20%20%20%3B%0A%0A%20%20%20%20%20%20%20%20%0A%20%20%20%20%0A%20%20%20%20%0A%20%20%20%20%20%20%20%20%20%20%20%20var%20marker_f92a766f7a504996a44827f9e1ad3d01%20%3D%20L.marker%28%0A%20%20%20%20%20%20%20%20%20%20%20%20%20%20%20%20%5B45.057837%2C%207.681555%5D%2C%0A%20%20%20%20%20%20%20%20%20%20%20%20%20%20%20%20%7B%7D%0A%20%20%20%20%20%20%20%20%20%20%20%20%29.addTo%28map_ce2a0d3880ba4a1c870337f524e5373f%29%3B%0A%20%20%20%20%20%20%20%20%0A%20%20%20%20%0A%20%20%20%20%20%20%20%20%20%20%20%20var%20icon_5a3a2886bd66468dac045de86773c637%20%3D%20L.AwesomeMarkers.icon%28%0A%20%20%20%20%20%20%20%20%20%20%20%20%20%20%20%20%7B%22extraClasses%22%3A%20%22fa-rotate-0%22%2C%20%22icon%22%3A%20%22volume-up%22%2C%20%22iconColor%22%3A%20%22white%22%2C%20%22markerColor%22%3A%20%22red%22%2C%20%22prefix%22%3A%20%22fa%22%7D%0A%20%20%20%20%20%20%20%20%20%20%20%20%29%3B%0A%20%20%20%20%20%20%20%20%20%20%20%20marker_f92a766f7a504996a44827f9e1ad3d01.setIcon%28icon_5a3a2886bd66468dac045de86773c637%29%3B%0A%20%20%20%20%20%20%20%20%0A%20%20%20%20%0A%20%20%20%20%20%20%20%20var%20popup_cabaf1e96d14490e83e5a664a76865d1%20%3D%20L.popup%28%7B%22maxWidth%22%3A%20%22100%25%22%7D%29%3B%0A%0A%20%20%20%20%20%20%20%20%0A%20%20%20%20%20%20%20%20%20%20%20%20var%20html_d77bb0e32158408aa9ee528303c57b11%20%3D%20%24%28%60%3Cdiv%20id%3D%22html_d77bb0e32158408aa9ee528303c57b11%22%20style%3D%22width%3A%20100.0%25%3B%20height%3A%20100.0%25%3B%22%3EVia%20Principe%20Tommaso%2C%2018bis%20Torino%3C/div%3E%60%29%5B0%5D%3B%0A%20%20%20%20%20%20%20%20%20%20%20%20popup_cabaf1e96d14490e83e5a664a76865d1.setContent%28html_d77bb0e32158408aa9ee528303c57b11%29%3B%0A%20%20%20%20%20%20%20%20%0A%0A%20%20%20%20%20%20%20%20marker_f92a766f7a504996a44827f9e1ad3d01.bindPopup%28popup_cabaf1e96d14490e83e5a664a76865d1%29%0A%20%20%20%20%20%20%20%20%3B%0A%0A%20%20%20%20%20%20%20%20%0A%20%20%20%20%0A%20%20%20%20%0A%20%20%20%20%20%20%20%20%20%20%20%20var%20marker_9f0a33111eae4389832fae43d7cd42f0%20%3D%20L.marker%28%0A%20%20%20%20%20%20%20%20%20%20%20%20%20%20%20%20%5B45.058518%2C%207.678854%5D%2C%0A%20%20%20%20%20%20%20%20%20%20%20%20%20%20%20%20%7B%7D%0A%20%20%20%20%20%20%20%20%20%20%20%20%29.addTo%28map_ce2a0d3880ba4a1c870337f524e5373f%29%3B%0A%20%20%20%20%20%20%20%20%0A%20%20%20%20%0A%20%20%20%20%20%20%20%20%20%20%20%20var%20icon_07bc1db8d1b948edbde3c4e09e0190b0%20%3D%20L.AwesomeMarkers.icon%28%0A%20%20%20%20%20%20%20%20%20%20%20%20%20%20%20%20%7B%22extraClasses%22%3A%20%22fa-rotate-0%22%2C%20%22icon%22%3A%20%22volume-up%22%2C%20%22iconColor%22%3A%20%22white%22%2C%20%22markerColor%22%3A%20%22red%22%2C%20%22prefix%22%3A%20%22fa%22%7D%0A%20%20%20%20%20%20%20%20%20%20%20%20%29%3B%0A%20%20%20%20%20%20%20%20%20%20%20%20marker_9f0a33111eae4389832fae43d7cd42f0.setIcon%28icon_07bc1db8d1b948edbde3c4e09e0190b0%29%3B%0A%20%20%20%20%20%20%20%20%0A%20%20%20%20%0A%20%20%20%20%20%20%20%20var%20popup_a784c3974b664bf795a0319c3c35df3c%20%3D%20L.popup%28%7B%22maxWidth%22%3A%20%22100%25%22%7D%29%3B%0A%0A%20%20%20%20%20%20%20%20%0A%20%20%20%20%20%20%20%20%20%20%20%20var%20html_d11f998760d3444ebf8f35cb7a963d23%20%3D%20%24%28%60%3Cdiv%20id%3D%22html_d11f998760d3444ebf8f35cb7a963d23%22%20style%3D%22width%3A%20100.0%25%3B%20height%3A%20100.0%25%3B%22%3ELargo%20Saluzzo%20Torino%3C/div%3E%60%29%5B0%5D%3B%0A%20%20%20%20%20%20%20%20%20%20%20%20popup_a784c3974b664bf795a0319c3c35df3c.setContent%28html_d11f998760d3444ebf8f35cb7a963d23%29%3B%0A%20%20%20%20%20%20%20%20%0A%0A%20%20%20%20%20%20%20%20marker_9f0a33111eae4389832fae43d7cd42f0.bindPopup%28popup_a784c3974b664bf795a0319c3c35df3c%29%0A%20%20%20%20%20%20%20%20%3B%0A%0A%20%20%20%20%20%20%20%20%0A%20%20%20%20%0A%20%20%20%20%0A%20%20%20%20%20%20%20%20%20%20%20%20var%20marker_cd635bc545694531a9a94cb10f873861%20%3D%20L.marker%28%0A%20%20%20%20%20%20%20%20%20%20%20%20%20%20%20%20%5B45.057603%2C%207.681348%5D%2C%0A%20%20%20%20%20%20%20%20%20%20%20%20%20%20%20%20%7B%7D%0A%20%20%20%20%20%20%20%20%20%20%20%20%29.addTo%28map_ce2a0d3880ba4a1c870337f524e5373f%29%3B%0A%20%20%20%20%20%20%20%20%0A%20%20%20%20%0A%20%20%20%20%20%20%20%20%20%20%20%20var%20icon_667797d417f6452bb1aa7e26c14adda6%20%3D%20L.AwesomeMarkers.icon%28%0A%20%20%20%20%20%20%20%20%20%20%20%20%20%20%20%20%7B%22extraClasses%22%3A%20%22fa-rotate-0%22%2C%20%22icon%22%3A%20%22volume-up%22%2C%20%22iconColor%22%3A%20%22white%22%2C%20%22markerColor%22%3A%20%22red%22%2C%20%22prefix%22%3A%20%22fa%22%7D%0A%20%20%20%20%20%20%20%20%20%20%20%20%29%3B%0A%20%20%20%20%20%20%20%20%20%20%20%20marker_cd635bc545694531a9a94cb10f873861.setIcon%28icon_667797d417f6452bb1aa7e26c14adda6%29%3B%0A%20%20%20%20%20%20%20%20%0A%20%20%20%20%0A%20%20%20%20%20%20%20%20var%20popup_a94bd5849942499fbd910de3dc228104%20%3D%20L.popup%28%7B%22maxWidth%22%3A%20%22100%25%22%7D%29%3B%0A%0A%20%20%20%20%20%20%20%20%0A%20%20%20%20%20%20%20%20%20%20%20%20var%20html_df01717c21fb414c919e124527c1be7b%20%3D%20%24%28%60%3Cdiv%20id%3D%22html_df01717c21fb414c919e124527c1be7b%22%20style%3D%22width%3A%20100.0%25%3B%20height%3A%20100.0%25%3B%22%3EVia%20Principe%20Tommaso%20angolo%20via%20Baretti%20Torino%3C/div%3E%60%29%5B0%5D%3B%0A%20%20%20%20%20%20%20%20%20%20%20%20popup_a94bd5849942499fbd910de3dc228104.setContent%28html_df01717c21fb414c919e124527c1be7b%29%3B%0A%20%20%20%20%20%20%20%20%0A%0A%20%20%20%20%20%20%20%20marker_cd635bc545694531a9a94cb10f873861.bindPopup%28popup_a94bd5849942499fbd910de3dc228104%29%0A%20%20%20%20%20%20%20%20%3B%0A%0A%20%20%20%20%20%20%20%20%0A%20%20%20%20%0A%20%20%20%20%0A%20%20%20%20%20%20%20%20%20%20%20%20var%20marker_007790a39b4f400381df5121b2af773f%20%3D%20L.marker%28%0A%20%20%20%20%20%20%20%20%20%20%20%20%20%20%20%20%5B45.055554%2C%207.68259%5D%2C%0A%20%20%20%20%20%20%20%20%20%20%20%20%20%20%20%20%7B%7D%0A%20%20%20%20%20%20%20%20%20%20%20%20%29.addTo%28map_ce2a0d3880ba4a1c870337f524e5373f%29%3B%0A%20%20%20%20%20%20%20%20%0A%20%20%20%20%0A%20%20%20%20%20%20%20%20%20%20%20%20var%20icon_10ad08a6e10b4e059707fa57ba4a10b1%20%3D%20L.AwesomeMarkers.icon%28%0A%20%20%20%20%20%20%20%20%20%20%20%20%20%20%20%20%7B%22extraClasses%22%3A%20%22fa-rotate-0%22%2C%20%22icon%22%3A%20%22volume-up%22%2C%20%22iconColor%22%3A%20%22white%22%2C%20%22markerColor%22%3A%20%22red%22%2C%20%22prefix%22%3A%20%22fa%22%7D%0A%20%20%20%20%20%20%20%20%20%20%20%20%29%3B%0A%20%20%20%20%20%20%20%20%20%20%20%20marker_007790a39b4f400381df5121b2af773f.setIcon%28icon_10ad08a6e10b4e059707fa57ba4a10b1%29%3B%0A%20%20%20%20%20%20%20%20%0A%20%20%20%20%0A%20%20%20%20%20%20%20%20var%20popup_66ec3bd73de54efaab001a185d4b5b5e%20%3D%20L.popup%28%7B%22maxWidth%22%3A%20%22100%25%22%7D%29%3B%0A%0A%20%20%20%20%20%20%20%20%0A%20%20%20%20%20%20%20%20%20%20%20%20var%20html_a1d154c158ad4aa6817397398d4a3efa%20%3D%20%24%28%60%3Cdiv%20id%3D%22html_a1d154c158ad4aa6817397398d4a3efa%22%20style%3D%22width%3A%20100.0%25%3B%20height%3A%20100.0%25%3B%22%3ECorso%20Marconi%2C%2027%20Torino%3C/div%3E%60%29%5B0%5D%3B%0A%20%20%20%20%20%20%20%20%20%20%20%20popup_66ec3bd73de54efaab001a185d4b5b5e.setContent%28html_a1d154c158ad4aa6817397398d4a3efa%29%3B%0A%20%20%20%20%20%20%20%20%0A%0A%20%20%20%20%20%20%20%20marker_007790a39b4f400381df5121b2af773f.bindPopup%28popup_66ec3bd73de54efaab001a185d4b5b5e%29%0A%20%20%20%20%20%20%20%20%3B%0A%0A%20%20%20%20%20%20%20%20%0A%20%20%20%20%0A%3C/script%3E onload=\"this.contentDocument.open();this.contentDocument.write(    decodeURIComponent(this.getAttribute('data-html')));this.contentDocument.close();\" allowfullscreen webkitallowfullscreen mozallowfullscreen></iframe></div></div>"
      ],
      "text/plain": [
       "<folium.folium.Map at 0x17b526c62b0>"
      ]
     },
     "execution_count": 13,
     "metadata": {},
     "output_type": "execute_result"
    }
   ],
   "source": [
    "import folium\n",
    "\n",
    "m = folium.Map(location=[45.0530, 7.6798], zoom_start=15)\n",
    "\n",
    "for indice, row in sensor_list.iterrows():\n",
    "    folium.Marker(\n",
    "        location=[row[\"Lat\"], row[\"Long\"]],\n",
    "        popup=row['address'],\n",
    "        icon=folium.Icon(color=\"red\", icon='volume-up', prefix='fa')\n",
    "        ).add_to(m)\n",
    "\n",
    "m"
   ]
  },
  {
   "cell_type": "markdown",
   "metadata": {},
   "source": [
    "### Complaints distribution"
   ]
  },
  {
   "cell_type": "markdown",
   "metadata": {},
   "source": [
    "TODO: Write description with conclusions"
   ]
  },
  {
   "cell_type": "code",
   "execution_count": 14,
   "metadata": {
    "id": "Aghsii1tAfc6",
    "outputId": "429adbc0-1194-4eb5-eeb4-8dd869cbba77"
   },
   "outputs": [
    {
     "data": {
      "image/png": "[encoded data removed]",
      "text/plain": [
       "<Figure size 1440x576 with 1 Axes>"
      ]
     },
     "metadata": {
      "needs_background": "light"
     },
     "output_type": "display_data"
    }
   ],
   "source": [
    "df_filtered_san_salvario['Month'] = pd.DatetimeIndex(df_filtered_san_salvario['Timestamp']).month\n",
    "df_filtered_san_salvario['Number of Complaints'] = 1\n",
    "df_grouped_san_salvario = df_filtered_san_salvario.groupby(['Localization', 'Month']).sum().reset_index()\n",
    "df_grouped_san_salvario = df_grouped_san_salvario.copy()[[\"Localization\", \"Month\", \"Number of Complaints\"]]\n",
    "\n",
    "fig, ax = pylab.subplots(figsize=(20, 8))\n",
    "\n",
    "sns.barplot(data=df_grouped_san_salvario, ax=ax, x=\"Month\", y=\"Number of Complaints\", hue=\"Localization\")\n",
    "\n",
    "def change_width(ax, new_value) :\n",
    "    for patch in ax.patches :\n",
    "        current_width = patch.get_width()\n",
    "        diff = current_width - new_value\n",
    "\n",
    "        # we change the bar width\n",
    "        patch.set_width(new_value)\n",
    "\n",
    "        # we recenter the bar\n",
    "        patch.set_x(patch.get_x() + diff * .5)\n",
    "\n",
    "change_width(ax, .15)\n",
    "pylab.legend(loc='upper center', title=\"Localisation\")\n",
    "pylab.show()"
   ]
  },
  {
   "cell_type": "markdown",
   "metadata": {},
   "source": [
    "## Typical Sensor Behavior"
   ]
  },
  {
   "cell_type": "markdown",
   "metadata": {},
   "source": [
    "Per hour of the day, on all days"
   ]
  },
  {
   "cell_type": "code",
   "execution_count": 15,
   "metadata": {
    "id": "6vZ1sodhAfdH"
   },
   "outputs": [],
   "source": [
    "avg_intensity_per_hour = df_noise[df_noise.Sensor_ID == 'C1'].groupby(df_noise.Timestamp.dt.hour)['Intensity'].apply(dbmean)"
   ]
  },
  {
   "cell_type": "code",
   "execution_count": 16,
   "metadata": {
    "id": "V4NErv28AfdH"
   },
   "outputs": [
    {
     "data": {
      "text/plain": [
       "Text(0.5, 0, 'Hour of day (h)')"
      ]
     },
     "execution_count": 16,
     "metadata": {},
     "output_type": "execute_result"
    },
    {
     "data": {
      "image/png": "[encoded data removed]",
      "text/plain": [
       "<Figure size 432x288 with 1 Axes>"
      ]
     },
     "metadata": {
      "needs_background": "light"
     },
     "output_type": "display_data"
    }
   ],
   "source": [
    "import matplotlib.pyplot as plt\n",
    "\n",
    "plt.plot(np.arange(len(avg_intensity_per_hour)), avg_intensity_per_hour.values)\n",
    "plt.title('Average sensor behavior for sensor C1 in the different times of day')\n",
    "plt.ylabel('Noise (dB)')\n",
    "plt.xlabel('Hour of day (h)')"
   ]
  },
  {
   "cell_type": "markdown",
   "metadata": {
    "id": "uVdd9UI2AfdF"
   },
   "source": [
    "## Feature Extraction and Target Creation"
   ]
  },
  {
   "cell_type": "code",
   "execution_count": 17,
   "metadata": {
    "id": "k8C0pF09AfdF"
   },
   "outputs": [],
   "source": [
    "def get_date_features(df_resampled, date_col, suffix, holidays_list):\n",
    "    \"\"\"\n",
    "    Function for getting date features from a datetime column, based on Pandas DataSeries predefined functions. \n",
    "    \"\"\"\n",
    "    df_resampled[f'day_{suffix}'] = df_resampled[date_col].dt.day\n",
    "    df_resampled[f'hour_{suffix}'] = df_resampled[date_col].dt.hour\n",
    "    df_resampled[f'month_{suffix}'] = df_resampled[date_col].dt.month\n",
    "    df_resampled[f'dayofweek_{suffix}'] = df_resampled[date_col].dt.dayofweek\n",
    "    df_resampled[f'is_holiday_{suffix}'] = df_resampled[date_col].apply(lambda x: x in holidays_list)\n",
    "    df_resampled[f'is_weekend_{suffix}'] = np.where(df_resampled[f'dayofweek_{suffix}'].isin([5, 6]), 1, 0)\n",
    "                                                  \n",
    "    return df_resampled\n",
    "\n",
    "df_noise = get_date_features(df_noise, date_col='Timestamp', suffix='now', holidays_list=it_holidays)"
   ]
  },
  {
   "cell_type": "code",
   "execution_count": 18,
   "metadata": {},
   "outputs": [
    {
     "data": {
      "text/html": [
       "<div>\n",
       "<style scoped>\n",
       "    .dataframe tbody tr th:only-of-type {\n",
       "        vertical-align: middle;\n",
       "    }\n",
       "\n",
       "    .dataframe tbody tr th {\n",
       "        vertical-align: top;\n",
       "    }\n",
       "\n",
       "    .dataframe thead th {\n",
       "        text-align: right;\n",
       "    }\n",
       "</style>\n",
       "<table border=\"1\" class=\"dataframe\">\n",
       "  <thead>\n",
       "    <tr style=\"text-align: right;\">\n",
       "      <th></th>\n",
       "      <th>Date</th>\n",
       "      <th>Time</th>\n",
       "      <th>Sensor_ID</th>\n",
       "      <th>Intensity</th>\n",
       "      <th>Timestamp</th>\n",
       "      <th>code</th>\n",
       "      <th>address</th>\n",
       "      <th>Lat</th>\n",
       "      <th>Long</th>\n",
       "      <th>streaming</th>\n",
       "      <th>...</th>\n",
       "      <th>wind</th>\n",
       "      <th>temperature</th>\n",
       "      <th>rain</th>\n",
       "      <th>wind_gust</th>\n",
       "      <th>day_now</th>\n",
       "      <th>hour_now</th>\n",
       "      <th>month_now</th>\n",
       "      <th>dayofweek_now</th>\n",
       "      <th>is_holiday_now</th>\n",
       "      <th>is_weekend_now</th>\n",
       "    </tr>\n",
       "  </thead>\n",
       "  <tbody>\n",
       "    <tr>\n",
       "      <th>0</th>\n",
       "      <td>01-06-2016</td>\n",
       "      <td>00:00</td>\n",
       "      <td>C1</td>\n",
       "      <td>61.1</td>\n",
       "      <td>2016-01-06</td>\n",
       "      <td>s_01</td>\n",
       "      <td>Via Saluzzo, 26 Torino</td>\n",
       "      <td>45.059172</td>\n",
       "      <td>7.678986</td>\n",
       "      <td>https://userportal.smartdatanet.it/userportal/...</td>\n",
       "      <td>...</td>\n",
       "      <td>0.7</td>\n",
       "      <td>14.2</td>\n",
       "      <td>0.0</td>\n",
       "      <td>NaN</td>\n",
       "      <td>6</td>\n",
       "      <td>0</td>\n",
       "      <td>1</td>\n",
       "      <td>2</td>\n",
       "      <td>True</td>\n",
       "      <td>0</td>\n",
       "    </tr>\n",
       "    <tr>\n",
       "      <th>1</th>\n",
       "      <td>01-06-2016</td>\n",
       "      <td>00:00</td>\n",
       "      <td>C2</td>\n",
       "      <td>58.8</td>\n",
       "      <td>2016-01-06</td>\n",
       "      <td>s_02</td>\n",
       "      <td>Via Principe Tommaso, 18bis Torino</td>\n",
       "      <td>45.057837</td>\n",
       "      <td>7.681555</td>\n",
       "      <td>https://userportal.smartdatanet.it/userportal/...</td>\n",
       "      <td>...</td>\n",
       "      <td>0.7</td>\n",
       "      <td>14.2</td>\n",
       "      <td>0.0</td>\n",
       "      <td>NaN</td>\n",
       "      <td>6</td>\n",
       "      <td>0</td>\n",
       "      <td>1</td>\n",
       "      <td>2</td>\n",
       "      <td>True</td>\n",
       "      <td>0</td>\n",
       "    </tr>\n",
       "    <tr>\n",
       "      <th>2</th>\n",
       "      <td>01-06-2016</td>\n",
       "      <td>00:00</td>\n",
       "      <td>C3</td>\n",
       "      <td>63.7</td>\n",
       "      <td>2016-01-06</td>\n",
       "      <td>s_03</td>\n",
       "      <td>Largo Saluzzo Torino</td>\n",
       "      <td>45.058518</td>\n",
       "      <td>7.678854</td>\n",
       "      <td>https://userportal.smartdatanet.it/userportal/...</td>\n",
       "      <td>...</td>\n",
       "      <td>0.7</td>\n",
       "      <td>14.2</td>\n",
       "      <td>0.0</td>\n",
       "      <td>NaN</td>\n",
       "      <td>6</td>\n",
       "      <td>0</td>\n",
       "      <td>1</td>\n",
       "      <td>2</td>\n",
       "      <td>True</td>\n",
       "      <td>0</td>\n",
       "    </tr>\n",
       "  </tbody>\n",
       "</table>\n",
       "<p>3 rows × 77 columns</p>\n",
       "</div>"
      ],
      "text/plain": [
       "         Date   Time Sensor_ID  Intensity  Timestamp  code  \\\n",
       "0  01-06-2016  00:00        C1       61.1 2016-01-06  s_01   \n",
       "1  01-06-2016  00:00        C2       58.8 2016-01-06  s_02   \n",
       "2  01-06-2016  00:00        C3       63.7 2016-01-06  s_03   \n",
       "\n",
       "                              address        Lat      Long  \\\n",
       "0              Via Saluzzo, 26 Torino  45.059172  7.678986   \n",
       "1  Via Principe Tommaso, 18bis Torino  45.057837  7.681555   \n",
       "2                Largo Saluzzo Torino  45.058518  7.678854   \n",
       "\n",
       "                                           streaming  ...  wind  temperature  \\\n",
       "0  https://userportal.smartdatanet.it/userportal/...  ...   0.7         14.2   \n",
       "1  https://userportal.smartdatanet.it/userportal/...  ...   0.7         14.2   \n",
       "2  https://userportal.smartdatanet.it/userportal/...  ...   0.7         14.2   \n",
       "\n",
       "  rain  wind_gust  day_now  hour_now  month_now  dayofweek_now  \\\n",
       "0  0.0        NaN        6         0          1              2   \n",
       "1  0.0        NaN        6         0          1              2   \n",
       "2  0.0        NaN        6         0          1              2   \n",
       "\n",
       "   is_holiday_now  is_weekend_now  \n",
       "0            True               0  \n",
       "1            True               0  \n",
       "2            True               0  \n",
       "\n",
       "[3 rows x 77 columns]"
      ]
     },
     "execution_count": 18,
     "metadata": {},
     "output_type": "execute_result"
    }
   ],
   "source": [
    "df_noise.head(3)"
   ]
  },
  {
   "cell_type": "markdown",
   "metadata": {
    "id": "MA_45uFmAfdG"
   },
   "source": [
    "Extract noise-related features:\n",
    "- Threshold: Does the current noise level exceed the limit (at day or night?)\n",
    "- Relative difference between intensity and current maximum intensity"
   ]
  },
  {
   "cell_type": "code",
   "execution_count": 19,
   "metadata": {},
   "outputs": [],
   "source": [
    "def current_db(data, date_col='hour_now'):\n",
    "    \"\"\"\n",
    "    Function for determining the current legal limit\n",
    "    \"\"\"\n",
    "    mask_day = (data[date_col] > 6) & (data[date_col] < 22) \n",
    "    mask_night = (data[date_col] > 22) | (data[date_col] < 6)\n",
    "    mask = mask_day | mask_night\n",
    "    data['current_max_db_value'] = np.where(mask==mask_day, data[f'day_max_db'], data[f'night_max_db'])\n",
    "    \n",
    "    return data\n",
    "\n",
    "def noise_threshold(data, date_col='hour_now', suffix='now', value_col='Intensity'):\n",
    "    \"\"\"\n",
    "    Function for determining if noise exceeds legal threshold\n",
    "    \"\"\"\n",
    "    mask_day = (data[date_col] > 6) & (data[date_col] < 22) & (data[value_col] > data['day_max_db'])\n",
    "    mask_night = (data[date_col] > 22) | (data[date_col] < 6) & (data[value_col] > data['night_max_db'])\n",
    "    mask = mask_day | mask_night\n",
    "\n",
    "    data[f'noise_exceeds_threshold_{suffix}'] = np.where(mask, 1, 0)\n",
    "    \n",
    "    return data\n",
    "\n",
    "# Relative difference between intensity and current maximum intensity\n",
    "df_noise = current_db(df_noise, date_col='hour_now')\n",
    "df_noise['relative_diff_intensity_max_db'] = (df_noise.Intensity - df_noise.current_max_db_value) / df_noise.Intensity\n",
    "\n",
    "# Threshold: Does the current noise level exceed the limit (at day or night?)\n",
    "df_noise = noise_threshold(df_noise, date_col='hour_now', suffix='now', value_col='Intensity')"
   ]
  },
  {
   "cell_type": "code",
   "execution_count": 20,
   "metadata": {},
   "outputs": [
    {
     "data": {
      "text/html": [
       "<div>\n",
       "<style scoped>\n",
       "    .dataframe tbody tr th:only-of-type {\n",
       "        vertical-align: middle;\n",
       "    }\n",
       "\n",
       "    .dataframe tbody tr th {\n",
       "        vertical-align: top;\n",
       "    }\n",
       "\n",
       "    .dataframe thead th {\n",
       "        text-align: right;\n",
       "    }\n",
       "</style>\n",
       "<table border=\"1\" class=\"dataframe\">\n",
       "  <thead>\n",
       "    <tr style=\"text-align: right;\">\n",
       "      <th></th>\n",
       "      <th>Timestamp</th>\n",
       "      <th>Intensity</th>\n",
       "      <th>noise_exceeds_threshold_now</th>\n",
       "      <th>current_max_db_value</th>\n",
       "    </tr>\n",
       "  </thead>\n",
       "  <tbody>\n",
       "    <tr>\n",
       "      <th>157075</th>\n",
       "      <td>2019-12-31 23:00:00</td>\n",
       "      <td>60.5</td>\n",
       "      <td>1</td>\n",
       "      <td>55</td>\n",
       "    </tr>\n",
       "    <tr>\n",
       "      <th>157076</th>\n",
       "      <td>2019-12-31 23:00:00</td>\n",
       "      <td>63.2</td>\n",
       "      <td>1</td>\n",
       "      <td>50</td>\n",
       "    </tr>\n",
       "    <tr>\n",
       "      <th>157077</th>\n",
       "      <td>2019-12-31 23:00:00</td>\n",
       "      <td>65.8</td>\n",
       "      <td>1</td>\n",
       "      <td>50</td>\n",
       "    </tr>\n",
       "    <tr>\n",
       "      <th>157078</th>\n",
       "      <td>2019-12-31 23:00:00</td>\n",
       "      <td>NaN</td>\n",
       "      <td>1</td>\n",
       "      <td>55</td>\n",
       "    </tr>\n",
       "    <tr>\n",
       "      <th>157079</th>\n",
       "      <td>2019-12-31 23:00:00</td>\n",
       "      <td>NaN</td>\n",
       "      <td>1</td>\n",
       "      <td>50</td>\n",
       "    </tr>\n",
       "  </tbody>\n",
       "</table>\n",
       "</div>"
      ],
      "text/plain": [
       "                 Timestamp  Intensity  noise_exceeds_threshold_now  \\\n",
       "157075 2019-12-31 23:00:00       60.5                            1   \n",
       "157076 2019-12-31 23:00:00       63.2                            1   \n",
       "157077 2019-12-31 23:00:00       65.8                            1   \n",
       "157078 2019-12-31 23:00:00        NaN                            1   \n",
       "157079 2019-12-31 23:00:00        NaN                            1   \n",
       "\n",
       "        current_max_db_value  \n",
       "157075                    55  \n",
       "157076                    50  \n",
       "157077                    50  \n",
       "157078                    55  \n",
       "157079                    50  "
      ]
     },
     "execution_count": 20,
     "metadata": {},
     "output_type": "execute_result"
    }
   ],
   "source": [
    "df_noise[['Timestamp', 'Intensity', 'noise_exceeds_threshold_now', 'current_max_db_value']].tail(5)"
   ]
  },
  {
   "cell_type": "markdown",
   "metadata": {
    "id": "aCuSXWrhAi-5"
   },
   "source": [
    "Determine current legal limit and how close the intensity is to it, as a feature"
   ]
  },
  {
   "cell_type": "markdown",
   "metadata": {},
   "source": [
    "## Target Creation"
   ]
  },
  {
   "cell_type": "code",
   "execution_count": 21,
   "metadata": {
    "id": "LQ90XveiBN6A"
   },
   "outputs": [],
   "source": [
    "def create_target_noise_level(df_resampled, date_col = 'Timestamp', target_col = 'Intensity', entity_id='Sensor_ID', date_offset = 24):\n",
    "    \"\"\"\n",
    "    Function from creating lagged or future features for a specific date offset.\n",
    "    For instance, this adds a new column with the intensity values 24 hours in the future, for each row, by default.    \n",
    "    \"\"\"\n",
    "    \n",
    "    df_resampled[f'date_col_{target_col}'] = df_resampled[date_col] + pd.DateOffset(hours=date_offset)\n",
    "    tmp = df_resampled[[entity_id, date_col, f'date_col_{target_col}', target_col]].merge(\n",
    "        df_resampled[[entity_id, date_col, f'date_col_{target_col}', target_col]], \n",
    "        left_on = [entity_id, f'date_col_{target_col}'], \n",
    "        right_on=[entity_id, date_col], \n",
    "        how='left'\n",
    "    )\n",
    "\n",
    "    tmp = tmp[[entity_id, f'{date_col}_x', f'{target_col}_y']]\n",
    "    tmp.columns = [entity_id, date_col, f'target_{target_col}_{str(date_offset)}h']\n",
    "\n",
    "    df_resampled = df_resampled.merge(tmp, on=[entity_id, date_col])\n",
    "    \n",
    "    return df_resampled"
   ]
  },
  {
   "cell_type": "code",
   "execution_count": 22,
   "metadata": {
    "id": "7AKGRmrmAfdI"
   },
   "outputs": [],
   "source": [
    "# Create our target\n",
    "\n",
    "df_noise = create_target_noise_level(df_noise, target_col='Intensity', date_offset=24)\n",
    "\n",
    "# Add date features on target date\n",
    "# Add noise threshold on the hour of the target\n",
    "df_noise = get_date_features(df_noise, date_col='date_col_Intensity', suffix='target', holidays_list=it_holidays)\n",
    "df_noise = noise_threshold(df_noise, date_col='hour_target', suffix='target', value_col='target_Intensity_24h')"
   ]
  },
  {
   "cell_type": "code",
   "execution_count": 23,
   "metadata": {
    "id": "k3ooAaS8AfdI"
   },
   "outputs": [
    {
     "data": {
      "text/html": [
       "<div>\n",
       "<style scoped>\n",
       "    .dataframe tbody tr th:only-of-type {\n",
       "        vertical-align: middle;\n",
       "    }\n",
       "\n",
       "    .dataframe tbody tr th {\n",
       "        vertical-align: top;\n",
       "    }\n",
       "\n",
       "    .dataframe thead th {\n",
       "        text-align: right;\n",
       "    }\n",
       "</style>\n",
       "<table border=\"1\" class=\"dataframe\">\n",
       "  <thead>\n",
       "    <tr style=\"text-align: right;\">\n",
       "      <th></th>\n",
       "      <th>Date</th>\n",
       "      <th>Time</th>\n",
       "      <th>Sensor_ID</th>\n",
       "      <th>Intensity</th>\n",
       "      <th>Timestamp</th>\n",
       "      <th>code</th>\n",
       "      <th>address</th>\n",
       "      <th>Lat</th>\n",
       "      <th>Long</th>\n",
       "      <th>streaming</th>\n",
       "      <th>...</th>\n",
       "      <th>noise_exceeds_threshold_now</th>\n",
       "      <th>date_col_Intensity</th>\n",
       "      <th>target_Intensity_24h</th>\n",
       "      <th>day_target</th>\n",
       "      <th>hour_target</th>\n",
       "      <th>month_target</th>\n",
       "      <th>dayofweek_target</th>\n",
       "      <th>is_holiday_target</th>\n",
       "      <th>is_weekend_target</th>\n",
       "      <th>noise_exceeds_threshold_target</th>\n",
       "    </tr>\n",
       "  </thead>\n",
       "  <tbody>\n",
       "    <tr>\n",
       "      <th>0</th>\n",
       "      <td>01-06-2016</td>\n",
       "      <td>00:00</td>\n",
       "      <td>C1</td>\n",
       "      <td>61.1</td>\n",
       "      <td>2016-01-06</td>\n",
       "      <td>s_01</td>\n",
       "      <td>Via Saluzzo, 26 Torino</td>\n",
       "      <td>45.059172</td>\n",
       "      <td>7.678986</td>\n",
       "      <td>https://userportal.smartdatanet.it/userportal/...</td>\n",
       "      <td>...</td>\n",
       "      <td>1</td>\n",
       "      <td>2016-01-07</td>\n",
       "      <td>NaN</td>\n",
       "      <td>7</td>\n",
       "      <td>0</td>\n",
       "      <td>1</td>\n",
       "      <td>3</td>\n",
       "      <td>False</td>\n",
       "      <td>0</td>\n",
       "      <td>0</td>\n",
       "    </tr>\n",
       "    <tr>\n",
       "      <th>1</th>\n",
       "      <td>01-06-2016</td>\n",
       "      <td>00:00</td>\n",
       "      <td>C2</td>\n",
       "      <td>58.8</td>\n",
       "      <td>2016-01-06</td>\n",
       "      <td>s_02</td>\n",
       "      <td>Via Principe Tommaso, 18bis Torino</td>\n",
       "      <td>45.057837</td>\n",
       "      <td>7.681555</td>\n",
       "      <td>https://userportal.smartdatanet.it/userportal/...</td>\n",
       "      <td>...</td>\n",
       "      <td>1</td>\n",
       "      <td>2016-01-07</td>\n",
       "      <td>NaN</td>\n",
       "      <td>7</td>\n",
       "      <td>0</td>\n",
       "      <td>1</td>\n",
       "      <td>3</td>\n",
       "      <td>False</td>\n",
       "      <td>0</td>\n",
       "      <td>0</td>\n",
       "    </tr>\n",
       "    <tr>\n",
       "      <th>2</th>\n",
       "      <td>01-06-2016</td>\n",
       "      <td>00:00</td>\n",
       "      <td>C3</td>\n",
       "      <td>63.7</td>\n",
       "      <td>2016-01-06</td>\n",
       "      <td>s_03</td>\n",
       "      <td>Largo Saluzzo Torino</td>\n",
       "      <td>45.058518</td>\n",
       "      <td>7.678854</td>\n",
       "      <td>https://userportal.smartdatanet.it/userportal/...</td>\n",
       "      <td>...</td>\n",
       "      <td>1</td>\n",
       "      <td>2016-01-07</td>\n",
       "      <td>NaN</td>\n",
       "      <td>7</td>\n",
       "      <td>0</td>\n",
       "      <td>1</td>\n",
       "      <td>3</td>\n",
       "      <td>False</td>\n",
       "      <td>0</td>\n",
       "      <td>0</td>\n",
       "    </tr>\n",
       "  </tbody>\n",
       "</table>\n",
       "<p>3 rows × 89 columns</p>\n",
       "</div>"
      ],
      "text/plain": [
       "         Date   Time Sensor_ID  Intensity  Timestamp  code  \\\n",
       "0  01-06-2016  00:00        C1       61.1 2016-01-06  s_01   \n",
       "1  01-06-2016  00:00        C2       58.8 2016-01-06  s_02   \n",
       "2  01-06-2016  00:00        C3       63.7 2016-01-06  s_03   \n",
       "\n",
       "                              address        Lat      Long  \\\n",
       "0              Via Saluzzo, 26 Torino  45.059172  7.678986   \n",
       "1  Via Principe Tommaso, 18bis Torino  45.057837  7.681555   \n",
       "2                Largo Saluzzo Torino  45.058518  7.678854   \n",
       "\n",
       "                                           streaming  ...  \\\n",
       "0  https://userportal.smartdatanet.it/userportal/...  ...   \n",
       "1  https://userportal.smartdatanet.it/userportal/...  ...   \n",
       "2  https://userportal.smartdatanet.it/userportal/...  ...   \n",
       "\n",
       "   noise_exceeds_threshold_now  date_col_Intensity target_Intensity_24h  \\\n",
       "0                            1          2016-01-07                  NaN   \n",
       "1                            1          2016-01-07                  NaN   \n",
       "2                            1          2016-01-07                  NaN   \n",
       "\n",
       "   day_target  hour_target  month_target  dayofweek_target  is_holiday_target  \\\n",
       "0           7            0             1                 3              False   \n",
       "1           7            0             1                 3              False   \n",
       "2           7            0             1                 3              False   \n",
       "\n",
       "   is_weekend_target  noise_exceeds_threshold_target  \n",
       "0                  0                               0  \n",
       "1                  0                               0  \n",
       "2                  0                               0  \n",
       "\n",
       "[3 rows x 89 columns]"
      ]
     },
     "execution_count": 23,
     "metadata": {},
     "output_type": "execute_result"
    }
   ],
   "source": [
    "df_noise.head(3)"
   ]
  },
  {
   "cell_type": "markdown",
   "metadata": {},
   "source": [
    "We will now create our target for complaints, following this rule:\n",
    "\n",
    "- A complaint happened on day 24 (for instance). As some of the rows don't have the complaint date - and we don't know if the complaint date refers to the reporting date or the date of occurence - we consider that the noise could have happened on the 24 or 23.\n",
    "- As we are predicting one day in advance, we consider as positive labels both 23 and 22. "
   ]
  },
  {
   "cell_type": "code",
   "execution_count": 24,
   "metadata": {},
   "outputs": [
    {
     "data": {
      "text/html": [
       "<div>\n",
       "<style scoped>\n",
       "    .dataframe tbody tr th:only-of-type {\n",
       "        vertical-align: middle;\n",
       "    }\n",
       "\n",
       "    .dataframe tbody tr th {\n",
       "        vertical-align: top;\n",
       "    }\n",
       "\n",
       "    .dataframe thead th {\n",
       "        text-align: right;\n",
       "    }\n",
       "</style>\n",
       "<table border=\"1\" class=\"dataframe\">\n",
       "  <thead>\n",
       "    <tr style=\"text-align: right;\">\n",
       "      <th></th>\n",
       "      <th>Criminal category</th>\n",
       "      <th>Criminal sub-category</th>\n",
       "      <th>District</th>\n",
       "      <th>Localization</th>\n",
       "      <th>Green Area</th>\n",
       "      <th>Date</th>\n",
       "      <th>Hour</th>\n",
       "      <th>Timestamp</th>\n",
       "      <th>address</th>\n",
       "      <th>Month</th>\n",
       "      <th>Number of Complaints</th>\n",
       "    </tr>\n",
       "  </thead>\n",
       "  <tbody>\n",
       "    <tr>\n",
       "      <th>689</th>\n",
       "      <td>Civil coexistence</td>\n",
       "      <td>Disturbing noises</td>\n",
       "      <td>8.0</td>\n",
       "      <td>baretti/giuseppe (via)</td>\n",
       "      <td>NaN</td>\n",
       "      <td>19/06/2017</td>\n",
       "      <td>NaN</td>\n",
       "      <td>2017-06-19</td>\n",
       "      <td>Via Principe Tommaso angolo via Baretti Torino</td>\n",
       "      <td>6</td>\n",
       "      <td>1</td>\n",
       "    </tr>\n",
       "  </tbody>\n",
       "</table>\n",
       "</div>"
      ],
      "text/plain": [
       "     Criminal category Criminal sub-category  District  \\\n",
       "689  Civil coexistence     Disturbing noises       8.0   \n",
       "\n",
       "               Localization Green Area        Date  Hour  Timestamp  \\\n",
       "689  baretti/giuseppe (via)        NaN  19/06/2017   NaN 2017-06-19   \n",
       "\n",
       "                                            address  Month  \\\n",
       "689  Via Principe Tommaso angolo via Baretti Torino      6   \n",
       "\n",
       "     Number of Complaints  \n",
       "689                     1  "
      ]
     },
     "execution_count": 24,
     "metadata": {},
     "output_type": "execute_result"
    }
   ],
   "source": [
    "df_filtered_san_salvario[\n",
    "    df_filtered_san_salvario.Timestamp == '2017-06-19'\n",
    "]"
   ]
  },
  {
   "cell_type": "code",
   "execution_count": 25,
   "metadata": {},
   "outputs": [],
   "source": [
    "df_noise['Timestamp_trunc'] = df_noise['Timestamp'].dt.floor('d')\n",
    "\n",
    "tmp = df_filtered_san_salvario.merge(df_noise, on=['address'])\n",
    "\n",
    "tmp['Timestamp_x'] = pd.to_datetime(tmp['Timestamp_x'])\n",
    "tmp['Timestamp_y'] = pd.to_datetime(tmp['Timestamp_y'])\n",
    "\n",
    "tmp['day_difference'] = (tmp['Timestamp_x'] - tmp['Timestamp_y']).dt.days\n",
    "\n",
    "tmp = tmp[(tmp.day_difference > 0) & (tmp.day_difference < 2)]\n",
    "tmp['complaint_followed'] = 1\n",
    "merged = df_noise.merge(tmp[['address', 'Timestamp_trunc', 'complaint_followed']].drop_duplicates(['address', 'Timestamp_trunc']), on=['address', 'Timestamp_trunc'], how='left')"
   ]
  },
  {
   "cell_type": "code",
   "execution_count": null,
   "metadata": {},
   "outputs": [],
   "source": []
  },
  {
   "cell_type": "code",
   "execution_count": null,
   "metadata": {
    "id": "C5vvVwIMAfc7"
   },
   "outputs": [],
   "source": [
    "def create_target_complaints(df_filtered_san_salvario, range_days = 2, target_forecast = 1):\n",
    "    \"\"\"\n",
    "    Creates target for complaints\n",
    "    \"\"\"\n",
    "    complaint_dates = pd.to_datetime(df_filtered_san_salvario['Date']).unique()\n",
    "\n",
    "    # Target dates: same day or subtract one day (by default)\n",
    "    range_deltas = [pd.Timedelta(x + target_forecast, 'd') for x in np.arange(0, range_days)]\n",
    "    \n",
    "    target_dates = []\n",
    "    for x in range_deltas:\n",
    "        for y in complaint_dates:\n",
    "            target_dates.append(y - x)\n",
    "            \n",
    "    return target_dates, complaint_dates"
   ]
  },
  {
   "cell_type": "code",
   "execution_count": null,
   "metadata": {
    "id": "14VDtxaWAfc7"
   },
   "outputs": [],
   "source": [
    "target_dates, complaint_dates = create_target_complaints(df_filtered_san_salvario)"
   ]
  },
  {
   "cell_type": "code",
   "execution_count": null,
   "metadata": {},
   "outputs": [],
   "source": [
    "print(\"Target Dates\", sorted(target_dates)[0:2])\n",
    "print(\"Complaint dates\", sorted(complaint_dates)[0])"
   ]
  },
  {
   "cell_type": "code",
   "execution_count": null,
   "metadata": {
    "id": "dULDy0XvAfc8"
   },
   "outputs": [],
   "source": [
    "# Add our target to the noise measurements dataframe\n",
    "\n",
    "df_noise['Timestamp_trunc'] = df_noise['Timestamp'].truncate()\n",
    "df_noise['complaint_followed'] = np.where(df_noise['Timestamp_trunc'].isin(target_dates), 1, 0)"
   ]
  },
  {
   "cell_type": "code",
   "execution_count": null,
   "metadata": {},
   "outputs": [],
   "source": [
    "df_noise[df_noise.complaint_followed == 1].head(3)"
   ]
  },
  {
   "cell_type": "markdown",
   "metadata": {
    "id": "YTOJBikxAfdJ"
   },
   "source": [
    "# Model Training"
   ]
  },
  {
   "cell_type": "code",
   "execution_count": null,
   "metadata": {
    "id": "e5A9C2U5AfdJ"
   },
   "outputs": [],
   "source": [
    "# We create a list of columns that we do not need to train our model\n",
    "COLS_TO_REMOVE = [\n",
    "    'Timestamp',\n",
    "    'Sensor_ID',\n",
    "    'address',\n",
    "    'Lat',\n",
    "    'Long',\n",
    "    'area_type',\n",
    "    'target_Intensity_24h',\n",
    "    'date_col_Intensity',\n",
    "    'noise_exceeds_threshold_target',\n",
    "    'Timestamp_trunc',\n",
    "    'complaint_followed'\n",
    "    #'average_intensity_next_3h',\n",
    "    #'noise_exceeds_threshold_target_2'\n",
    "]\n",
    "\n",
    "# Based on the previous list, we create a new list with the features that we actually need!\n",
    "COLS_TO_KEEP = [x for x in data.columns if x not in COLS_TO_REMOVE]"
   ]
  },
  {
   "cell_type": "code",
   "execution_count": null,
   "metadata": {},
   "outputs": [],
   "source": [
    "\"\"\"\n",
    "# Cross validation for hyperparameter tuning\n",
    "\n",
    "from sklearn.model_selection import TimeSeriesSplit, RandomizedSearchCV\n",
    "\n",
    "tscv = TimeSeriesSplit(n_splits=5)\n",
    "\n",
    "xgb = XGBRegressor()\n",
    "\n",
    "params = {\n",
    "    'n_estimators': [100, 200, 300, 400],\n",
    "    'max_depth': range(3, 10, 2),\n",
    "    'min_child_weight': range(1,6,2),\n",
    "    'gamma': [i/10.0 for i in range(0,5)]\n",
    "}\n",
    "\n",
    "search = RandomizedSearchCV(xgb, params, cv=tscv, n_iter=10, random_state=42)\n",
    "\n",
    "search.fit(\n",
    "    X_train[COLS_TO_KEEP].fillna(9999).astype(float), \n",
    "    y_train\n",
    ")\n",
    "\"\"\""
   ]
  },
  {
   "cell_type": "code",
   "execution_count": null,
   "metadata": {},
   "outputs": [],
   "source": [
    "COLS_TO_KEEP"
   ]
  },
  {
   "cell_type": "code",
   "execution_count": null,
   "metadata": {
    "id": "C8ayaww5AfdJ"
   },
   "outputs": [],
   "source": [
    "COLS_TO_REMOVE"
   ]
  },
  {
   "cell_type": "code",
   "execution_count": null,
   "metadata": {
    "id": "TzF7hMGgAfdJ"
   },
   "outputs": [],
   "source": [
    "data = data.sort_values(by= ['Timestamp', 'Sensor_ID']).reset_index(drop=True)"
   ]
  },
  {
   "cell_type": "code",
   "execution_count": null,
   "metadata": {
    "id": "c37iv2EiAfdK"
   },
   "outputs": [],
   "source": [
    "target_1 = 'target_Intensity_24h'\n",
    "\n",
    "from xgboost import XGBClassifier\n",
    "\n",
    "# Train model\n",
    "# Please note that we use 80% of the data set as our train set!\n",
    "X_train = data[0:int(0.7*len(data))]\n",
    "\n",
    "# We remove the NaNs (labels that are NaNs)\n",
    "X_train = X_train[~X_train[target_1].isna()]\n",
    "\n",
    "# We use the remaining 20% as test set\n",
    "X_test = data[int(0.7*len(data)):]\n",
    "\n",
    "# We remove the NaNs (labels that are NaNs)\n",
    "X_test = X_test[~X_test[target_1].isna()]\n",
    "\n",
    "# Our labels column\n",
    "y_train = X_train['noise_exceeds_threshold_target']\n",
    "\n",
    "# We train an XGBoost Regressor. \n",
    "# Since it is a decision tree, it becomes easier to explain the decisions of our model\n",
    "xgb_noise = XGBClassifier(n_estimators=100)\n",
    "\n",
    "# We train our model\n",
    "xgb_noise.fit(X_train[COLS_TO_KEEP].fillna(9999).astype(float), y_train)\n",
    "\n",
    "y_pred = xgb_noise.predict_proba(X_test[COLS_TO_KEEP].fillna(9999).astype(float))\n",
    "X_test['pred_score_noise'] = y_pred[:, 1]"
   ]
  },
  {
   "cell_type": "code",
   "execution_count": null,
   "metadata": {
    "id": "Jn5iXqbCAfdK"
   },
   "outputs": [],
   "source": [
    "X_train.Timestamp.max(), X_test.Timestamp.min()"
   ]
  },
  {
   "cell_type": "code",
   "execution_count": null,
   "metadata": {
    "id": "6srbg0oQAfdK"
   },
   "outputs": [],
   "source": [
    "# X_test[(X_test.noise_exceeds_threshold_target == 1)][['Timestamp', 'Sensor_ID', 'Intensity', 'target_Intensity_24h']]"
   ]
  },
  {
   "cell_type": "code",
   "execution_count": null,
   "metadata": {
    "id": "XHweqduTAfdK"
   },
   "outputs": [],
   "source": [
    "from sklearn.metrics import roc_auc_score\n",
    "\n",
    "print(\"ROC AUC\", roc_auc_score(X_test['noise_exceeds_threshold_target'], y_pred[:, 1]))"
   ]
  },
  {
   "cell_type": "code",
   "execution_count": null,
   "metadata": {},
   "outputs": [],
   "source": [
    "import shap\n",
    "# Shap explanation\n",
    "\n",
    "# We now explain the model's predictions using SHAP\n",
    "# (same syntax works for LightGBM, CatBoost, scikit-learn, transformers, Spark, etc.)\n",
    "explainer = shap.Explainer(xgb_noise)\n",
    "shap_values_noise = explainer(X_test[COLS_TO_KEEP].fillna(9999).astype(float))\n",
    "\n",
    "# Let's get a nice plot with the shap values so you can have an intuition on the rationale behind the model learned by the XGBoost Regressor\n",
    "shap.plots.beeswarm(shap_values_noise, max_display=15)"
   ]
  },
  {
   "cell_type": "code",
   "execution_count": null,
   "metadata": {},
   "outputs": [],
   "source": [
    "target_1 = 'complaint_followed'\n",
    "\n",
    "from xgboost import XGBClassifier\n",
    "\n",
    "# Train model\n",
    "# Please note that we use 80% of the data set as our train set!\n",
    "X_train = data[0:int(0.7*len(data))]\n",
    "\n",
    "# We remove the NaNs (labels that are NaNs)\n",
    "X_train = X_train[~X_train[target_1].isna()]\n",
    "\n",
    "# We use the remaining 20% as test set\n",
    "X_test = data[int(0.7*len(data)):]\n",
    "\n",
    "# We remove the NaNs (labels that are NaNs)\n",
    "X_test = X_test[~X_test[target_1].isna()]\n",
    "\n",
    "# Our labels column\n",
    "y_train = X_train[target_1]\n",
    "\n",
    "# We train an XGBoost Regressor. \n",
    "# Since it is a decision tree, it becomes easier to explain the decisions of our model\n",
    "xgb_complaint = XGBClassifier(n_estimators=100)\n",
    "\n",
    "# We train our model\n",
    "xgb_complaint.fit(X_train[COLS_TO_KEEP].fillna(9999).astype(float), y_train)\n",
    "\n",
    "y_pred = xgb_complaint.predict_proba(X_test[COLS_TO_KEEP].fillna(9999).astype(float))\n",
    "X_test['pred_score_complaint'] = y_pred[:, 1]"
   ]
  },
  {
   "cell_type": "code",
   "execution_count": null,
   "metadata": {},
   "outputs": [],
   "source": [
    "print(\"ROC AUC\", roc_auc_score(X_test['complaint_followed'], y_pred[:, 1]))"
   ]
  },
  {
   "cell_type": "code",
   "execution_count": null,
   "metadata": {},
   "outputs": [],
   "source": [
    "y_pred[:, 1].mean()"
   ]
  },
  {
   "cell_type": "code",
   "execution_count": null,
   "metadata": {},
   "outputs": [],
   "source": [
    "import shap\n",
    "# Shap explanation\n",
    "\n",
    "# We now explain the model's predictions using SHAP\n",
    "# (same syntax works for LightGBM, CatBoost, scikit-learn, transformers, Spark, etc.)\n",
    "explainer = shap.Explainer(xgb_complaint)\n",
    "shap_values = explainer(X_test[COLS_TO_KEEP].fillna(9999).astype(float))"
   ]
  },
  {
   "cell_type": "code",
   "execution_count": null,
   "metadata": {},
   "outputs": [],
   "source": [
    "shap.plots.beeswarm(shap_values, max_display=15)"
   ]
  },
  {
   "cell_type": "markdown",
   "metadata": {},
   "source": [
    "## Decision Process"
   ]
  },
  {
   "cell_type": "code",
   "execution_count": null,
   "metadata": {},
   "outputs": [],
   "source": [
    "X_test = X_test.reset_index(drop=True)\n",
    "day_to_predict = X_test[X_test.Timestamp == '2018-12-05']"
   ]
  },
  {
   "cell_type": "code",
   "execution_count": null,
   "metadata": {},
   "outputs": [],
   "source": [
    "X_test"
   ]
  },
  {
   "cell_type": "code",
   "execution_count": null,
   "metadata": {},
   "outputs": [],
   "source": [
    "mask = X_test.Timestamp == '2018-12-05'"
   ]
  },
  {
   "cell_type": "code",
   "execution_count": null,
   "metadata": {},
   "outputs": [],
   "source": [
    "shap.initjs()\n",
    "\n",
    "# TODO: Add for loop for each of the sensor.\n",
    "# For each, plot the figure and add the text\n",
    "fig = shap.plots.force(shap_values_noise[mask[mask == True].index[1]])\n",
    "fig"
   ]
  },
  {
   "cell_type": "code",
   "execution_count": null,
   "metadata": {},
   "outputs": [],
   "source": [
    "fig.data['featureNames'][1], fig.data['features'][1]\n",
    "\n",
    "# TODO: Create a dict mapping the features to its name written in a less technical way\n",
    "mapping_dict = {\n",
    "    'Intensity': 'Measured intensity in dB, at current date:'\n",
    "}\n",
    "\n",
    "# \"mapping_dict['Intensity'] = 64.3; mapping_dict['day_max_db'] = 60.0\""
   ]
  },
  {
   "cell_type": "code",
   "execution_count": null,
   "metadata": {},
   "outputs": [],
   "source": [
    "# TODO: Write pandas DataFrame with\n",
    "\n",
    "# prediction_hour\n",
    "# sensor_id\n",
    "# probability modelo 1\n",
    "# probability modelo 2\n",
    "# explanation modelo 1\n",
    "# explanation modelo 2"
   ]
  },
  {
   "cell_type": "markdown",
   "metadata": {
    "id": "gSDath2nr1fq"
   },
   "source": [
    "## Conclusions\n",
    "\n",
    "### Scalability and Impact\n",
    "Tell us how applicable and scalable your solution is if you were to implement it in a city. Identify possible limitations and measure the potential social impact of your solution."
   ]
  },
  {
   "cell_type": "markdown",
   "metadata": {
    "id": "CGmbES9GszEv"
   },
   "source": []
  },
  {
   "cell_type": "markdown",
   "metadata": {
    "id": "0XBiBOyAl2Sv"
   },
   "source": [
    "### Future Work\n",
    "Now picture the following scenario: imagine you could have access to any type of data that could help you solve this challenge even better. What would that data be and how would it improve your solution? 🚀"
   ]
  },
  {
   "cell_type": "markdown",
   "metadata": {
    "id": "5gK3heTKl7qz"
   },
   "source": []
  }
 ],
 "metadata": {
  "colab": {
   "collapsed_sections": [],
   "name": "Deliverable.ipynb",
   "provenance": []
  },
  "kernelspec": {
   "display_name": "Python 3",
   "language": "python",
   "name": "python3"
  },
  "language_info": {
   "codemirror_mode": {
    "name": "ipython",
    "version": 3
   },
   "file_extension": ".py",
   "mimetype": "text/x-python",
   "name": "python",
   "nbconvert_exporter": "python",
   "pygments_lexer": "ipython3",
   "version": "3.8.5"
  }
 },
 "nbformat": 4,
 "nbformat_minor": 4
}
