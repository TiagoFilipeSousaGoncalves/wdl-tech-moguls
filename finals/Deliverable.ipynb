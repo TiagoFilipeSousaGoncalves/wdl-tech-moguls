{
 "cells": [
  {
   "cell_type": "markdown",
   "metadata": {
    "id": "JeP6xkRIBJco"
   },
   "source": [
    "tmp# World Data League 2021\n",
    "## Notebook Template\n",
    "\n",
    "This notebook is one of the mandatory deliverables when you submit your solution (alongside the video pitch). Its structure follows the WDL evaluation criteria and it has dedicated cells where you can add descriptions. Make sure your code is readable as it will be the only technical support the jury will have to evaluate your work.\n",
    "\n",
    "The notebook must:\n",
    "\n",
    "*   💻 have all the code that you want the jury to evaluate\n",
    "*   🧱 follow the predefined structure\n",
    "*   📄 have markdown descriptions where you find necessary\n",
    "*   👀 be saved with all the output that you want the jury to see\n",
    "*   🏃‍♂️ be runnable\n"
   ]
  },
  {
   "cell_type": "markdown",
   "metadata": {
    "id": "t6yLp6lm89xR"
   },
   "source": [
    "## Authors\n",
    "Write the name (first and last) of the people on your team that are responsible for developing this solution."
   ]
  },
  {
   "cell_type": "markdown",
   "metadata": {
    "id": "JQ2xq4469UnN"
   },
   "source": []
  },
  {
   "cell_type": "markdown",
   "metadata": {
    "id": "1QNcZrkVu9xf"
   },
   "source": [
    "## External links and resources\n",
    "Paste here all the links to external resources that are necessary to understand and run your code. Add descriptions to make it clear how to use them during evaluation."
   ]
  },
  {
   "cell_type": "markdown",
   "metadata": {
    "id": "VJzSXXIYvxf9"
   },
   "source": []
  },
  {
   "cell_type": "markdown",
   "metadata": {
    "id": "63ltgxp_rOpI"
   },
   "source": [
    "## Introduction\n",
    "Describe how you framed the challenge by telling us what problem are you trying to solve and how your solution solves that problem."
   ]
  },
  {
   "cell_type": "markdown",
   "metadata": {
    "id": "Hp34gOznrwrq"
   },
   "source": []
  },
  {
   "cell_type": "markdown",
   "metadata": {
    "id": "C8rCpNajszur"
   },
   "source": [
    "## Development\n",
    "Start coding here! 👩‍💻\n",
    "\n",
    "Don't hesitate to create markdown cells to include descriptions of your work where you see fit, as well as commenting your code.\n",
    "\n",
    "We know that you know exactly where to start when it comes to crunching data and building models, but don't forget that WDL is all about social impact...so take that into consideration as well."
   ]
  },
  {
   "cell_type": "code",
   "execution_count": 62,
   "metadata": {},
   "outputs": [],
   "source": [
    "# Imports and helper functions for loading data\n",
    "\n",
    "import shapefile\n",
    "import pandas as pd\n",
    "import glob\n",
    "\n",
    "def read_shapefile(shp_path):\n",
    "    \"\"\"\n",
    "    Read a shapefile into a Pandas dataframe with a 'coords' column holding\n",
    "    the geometry information. This uses the pyshp package\n",
    "    \"\"\"\n",
    "\n",
    "    #read file, parse out the records and shapes\n",
    "    sf = shapefile.Reader(shp_path)\n",
    "    fields = [x[0] for x in sf.fields][1:]\n",
    "    records = sf.records()\n",
    "    shps = [s.points for s in sf.shapes()]\n",
    "\n",
    "    #write into a dataframe\n",
    "    df = pd.DataFrame(columns=fields, data=records)\n",
    "    df = df.assign(coords=shps)\n",
    "\n",
    "    return df\n",
    "\n",
    "def load_noise_data(file_paths, sensor_list):\n",
    "    \"\"\"\n",
    "    Function for loading noise data into the correct format\n",
    "    \"\"\"\n",
    "    concat_data = []\n",
    "    for file in file_paths:\n",
    "        df = pd.read_csv(file, header=8, sep=';')\n",
    "        df = df.melt(id_vars=['Data', 'Ora'])\n",
    "        df['Timestamp'] = pd.to_datetime(df['Data'] + ' ' + df['Ora'])\n",
    "        df.columns = ['Date', 'Time', 'Sensor_ID', 'Intensity', 'Timestamp']\n",
    "        df['Intensity'] = df['Intensity'].str.replace(',', '.').astype(float)\n",
    "\n",
    "        concat_data.append(df)\n",
    "\n",
    "    concat_df = pd.concat(concat_data)\n",
    "\n",
    "    output = concat_df.merge(sensor_list, on=['Sensor_ID'])\n",
    "    return output[['Timestamp', 'Sensor_ID', 'Intensity', 'address', 'Lat', 'Long', 'day_max_db', 'night_max_db', 'area_type']]"
   ]
  },
  {
   "cell_type": "code",
   "execution_count": 63,
   "metadata": {},
   "outputs": [],
   "source": [
    "# Load list of sensors\n",
    "\n",
    "sensor_list = pd.read_csv('data/noise_sensor_list.csv', sep = ';')\n",
    "sensor_list['Sensor_ID'] = ['C1', 'C2', 'C3', 'C4', 'C5']\n",
    "sensor_list['Lat'] = sensor_list['Lat'].str.replace(',', '.').astype(float)\n",
    "sensor_list['Long'] = sensor_list['Long'].str.replace(',', '.').astype(float)\n",
    "\n",
    "# Get mapping locations and correspondence to area type\n",
    "# Link: https://webgis.arpa.piemonte.it/Geoviewer2D/?config=other-configs/acustica_config.json\n",
    "\n",
    "mapping_location_area_code = pd.DataFrame(\n",
    "    [['s_01', 65, 55, 'IV - Aree di intensa attività umana'],\n",
    "    ['s_02', 60, 50, 'III - Aree di tipo misto'],\n",
    "    ['s_03', 60, 50, 'III - Aree di tipo misto'],\n",
    "    ['s_05', 65, 55, 'IV - Aree di intensa attività umana'],\n",
    "    ['s_06', 60, 50, 'III - Aree di tipo misto']],\n",
    "    columns=['code', 'day_max_db', 'night_max_db', 'area_type']\n",
    ")\n",
    "\n",
    "sensor_list = sensor_list.merge(mapping_location_area_code, on=['code'])"
   ]
  },
  {
   "cell_type": "code",
   "execution_count": 64,
   "metadata": {},
   "outputs": [
    {
     "data": {
      "text/html": [
       "<div>\n",
       "<style scoped>\n",
       "    .dataframe tbody tr th:only-of-type {\n",
       "        vertical-align: middle;\n",
       "    }\n",
       "\n",
       "    .dataframe tbody tr th {\n",
       "        vertical-align: top;\n",
       "    }\n",
       "\n",
       "    .dataframe thead th {\n",
       "        text-align: right;\n",
       "    }\n",
       "</style>\n",
       "<table border=\"1\" class=\"dataframe\">\n",
       "  <thead>\n",
       "    <tr style=\"text-align: right;\">\n",
       "      <th></th>\n",
       "      <th>code</th>\n",
       "      <th>address</th>\n",
       "      <th>Lat</th>\n",
       "      <th>Long</th>\n",
       "      <th>streaming</th>\n",
       "      <th>Sensor_ID</th>\n",
       "      <th>day_max_db</th>\n",
       "      <th>night_max_db</th>\n",
       "      <th>area_type</th>\n",
       "    </tr>\n",
       "  </thead>\n",
       "  <tbody>\n",
       "    <tr>\n",
       "      <th>0</th>\n",
       "      <td>s_01</td>\n",
       "      <td>Via Saluzzo, 26 Torino</td>\n",
       "      <td>45.059172</td>\n",
       "      <td>7.678986</td>\n",
       "      <td>https://userportal.smartdatanet.it/userportal/...</td>\n",
       "      <td>C1</td>\n",
       "      <td>65</td>\n",
       "      <td>55</td>\n",
       "      <td>IV - Aree di intensa attività umana</td>\n",
       "    </tr>\n",
       "    <tr>\n",
       "      <th>1</th>\n",
       "      <td>s_02</td>\n",
       "      <td>Via Principe Tommaso, 18bis Torino</td>\n",
       "      <td>45.057837</td>\n",
       "      <td>7.681555</td>\n",
       "      <td>https://userportal.smartdatanet.it/userportal/...</td>\n",
       "      <td>C2</td>\n",
       "      <td>60</td>\n",
       "      <td>50</td>\n",
       "      <td>III - Aree di tipo misto</td>\n",
       "    </tr>\n",
       "    <tr>\n",
       "      <th>2</th>\n",
       "      <td>s_03</td>\n",
       "      <td>Largo Saluzzo Torino</td>\n",
       "      <td>45.058518</td>\n",
       "      <td>7.678854</td>\n",
       "      <td>https://userportal.smartdatanet.it/userportal/...</td>\n",
       "      <td>C3</td>\n",
       "      <td>60</td>\n",
       "      <td>50</td>\n",
       "      <td>III - Aree di tipo misto</td>\n",
       "    </tr>\n",
       "  </tbody>\n",
       "</table>\n",
       "</div>"
      ],
      "text/plain": [
       "   code                             address        Lat      Long  \\\n",
       "0  s_01              Via Saluzzo, 26 Torino  45.059172  7.678986   \n",
       "1  s_02  Via Principe Tommaso, 18bis Torino  45.057837  7.681555   \n",
       "2  s_03                Largo Saluzzo Torino  45.058518  7.678854   \n",
       "\n",
       "                                           streaming Sensor_ID  day_max_db  \\\n",
       "0  https://userportal.smartdatanet.it/userportal/...        C1          65   \n",
       "1  https://userportal.smartdatanet.it/userportal/...        C2          60   \n",
       "2  https://userportal.smartdatanet.it/userportal/...        C3          60   \n",
       "\n",
       "   night_max_db                            area_type  \n",
       "0            55  IV - Aree di intensa attività umana  \n",
       "1            50             III - Aree di tipo misto  \n",
       "2            50             III - Aree di tipo misto  "
      ]
     },
     "execution_count": 64,
     "metadata": {},
     "output_type": "execute_result"
    }
   ],
   "source": [
    "sensor_list.head(3)"
   ]
  },
  {
   "cell_type": "code",
   "execution_count": 65,
   "metadata": {},
   "outputs": [],
   "source": [
    "file_paths_noise_data = ['data/noise_data/san_salvario_2017.csv']\n",
    "\n",
    "data = load_noise_data(file_paths_noise_data, sensor_list)"
   ]
  },
  {
   "cell_type": "code",
   "execution_count": 66,
   "metadata": {
    "tags": []
   },
   "outputs": [
    {
     "data": {
      "text/html": [
       "<div>\n",
       "<style scoped>\n",
       "    .dataframe tbody tr th:only-of-type {\n",
       "        vertical-align: middle;\n",
       "    }\n",
       "\n",
       "    .dataframe tbody tr th {\n",
       "        vertical-align: top;\n",
       "    }\n",
       "\n",
       "    .dataframe thead th {\n",
       "        text-align: right;\n",
       "    }\n",
       "</style>\n",
       "<table border=\"1\" class=\"dataframe\">\n",
       "  <thead>\n",
       "    <tr style=\"text-align: right;\">\n",
       "      <th></th>\n",
       "      <th>Timestamp</th>\n",
       "      <th>Sensor_ID</th>\n",
       "      <th>Intensity</th>\n",
       "      <th>address</th>\n",
       "      <th>Lat</th>\n",
       "      <th>Long</th>\n",
       "      <th>day_max_db</th>\n",
       "      <th>night_max_db</th>\n",
       "      <th>area_type</th>\n",
       "    </tr>\n",
       "  </thead>\n",
       "  <tbody>\n",
       "    <tr>\n",
       "      <th>0</th>\n",
       "      <td>2017-01-01 00:00:00</td>\n",
       "      <td>C1</td>\n",
       "      <td>70.8</td>\n",
       "      <td>Via Saluzzo, 26 Torino</td>\n",
       "      <td>45.059172</td>\n",
       "      <td>7.678986</td>\n",
       "      <td>65</td>\n",
       "      <td>55</td>\n",
       "      <td>IV - Aree di intensa attività umana</td>\n",
       "    </tr>\n",
       "    <tr>\n",
       "      <th>1</th>\n",
       "      <td>2017-01-01 01:00:00</td>\n",
       "      <td>C1</td>\n",
       "      <td>63.0</td>\n",
       "      <td>Via Saluzzo, 26 Torino</td>\n",
       "      <td>45.059172</td>\n",
       "      <td>7.678986</td>\n",
       "      <td>65</td>\n",
       "      <td>55</td>\n",
       "      <td>IV - Aree di intensa attività umana</td>\n",
       "    </tr>\n",
       "    <tr>\n",
       "      <th>2</th>\n",
       "      <td>2017-01-01 02:00:00</td>\n",
       "      <td>C1</td>\n",
       "      <td>63.7</td>\n",
       "      <td>Via Saluzzo, 26 Torino</td>\n",
       "      <td>45.059172</td>\n",
       "      <td>7.678986</td>\n",
       "      <td>65</td>\n",
       "      <td>55</td>\n",
       "      <td>IV - Aree di intensa attività umana</td>\n",
       "    </tr>\n",
       "  </tbody>\n",
       "</table>\n",
       "</div>"
      ],
      "text/plain": [
       "            Timestamp Sensor_ID  Intensity                 address        Lat  \\\n",
       "0 2017-01-01 00:00:00        C1       70.8  Via Saluzzo, 26 Torino  45.059172   \n",
       "1 2017-01-01 01:00:00        C1       63.0  Via Saluzzo, 26 Torino  45.059172   \n",
       "2 2017-01-01 02:00:00        C1       63.7  Via Saluzzo, 26 Torino  45.059172   \n",
       "\n",
       "       Long  day_max_db  night_max_db                            area_type  \n",
       "0  7.678986          65            55  IV - Aree di intensa attività umana  \n",
       "1  7.678986          65            55  IV - Aree di intensa attività umana  \n",
       "2  7.678986          65            55  IV - Aree di intensa attività umana  "
      ]
     },
     "execution_count": 66,
     "metadata": {},
     "output_type": "execute_result"
    }
   ],
   "source": [
    "data.head(3)"
   ]
  },
  {
   "cell_type": "code",
   "execution_count": null,
   "metadata": {},
   "outputs": [],
   "source": [
    "# Police complaints\n",
    "\n",
    "file_paths=glob.glob('data/police_complaints/*.csv')\n",
    "\n",
    "concat_data = []\n",
    "for file in file_paths:\n",
    "    df = pd.read_csv(file, sep=',')\n",
    "    df['Timestamp'] = pd.to_datetime(df['Date'], format='%d/%m/%Y')\n",
    "    concat_data.append(df)\n",
    "df_final = pd.concat(concat_data)\n",
    "\n",
    "filter = ['Facilities disturbances', 'Disturbing noises', 'Youth aggregation']\n",
    "df_filtered = df_final.loc[df_final['Criminal sub-category'].isin(filter)]\n",
    "\n",
    "df_filtered_san_salvario = df_filtered[df_filtered.District == 8]\n",
    "\n",
    "df_filtered_san_salvario['Localization'] = df_filtered_san_salvario['Localization'].str.lower().str.strip()"
   ]
  },
  {
   "cell_type": "code",
   "execution_count": 51,
   "metadata": {},
   "outputs": [],
   "source": [
    "# TODO Joana: Fazer mapeamento manual usando o código:\n",
    "\n",
    "# df_filtered_san_salvario str contains Tommaso\n",
    "# df_filtered_san_salvario str contains saluzzo (largo)\n",
    "# df_filtered_san_salvario str contains baretti\n",
    "# df_filtered_san_salvario str contains marconi \n",
    "localization_address_mapping = {\n",
    "   'saluzzo/(via)':  'Via Saluzzo, 26 Torino'\n",
    "}"
   ]
  },
  {
   "cell_type": "code",
   "execution_count": 56,
   "metadata": {},
   "outputs": [
    {
     "name": "stderr",
     "output_type": "stream",
     "text": [
      "<ipython-input-56-e10d5282f209>:1: SettingWithCopyWarning: \n",
      "A value is trying to be set on a copy of a slice from a DataFrame.\n",
      "Try using .loc[row_indexer,col_indexer] = value instead\n",
      "\n",
      "See the caveats in the documentation: https://pandas.pydata.org/pandas-docs/stable/user_guide/indexing.html#returning-a-view-versus-a-copy\n",
      "  df_filtered_san_salvario['address'] = df_filtered_san_salvario['Localization'].map(localization_address_mapping)\n"
     ]
    }
   ],
   "source": [
    "df_filtered_san_salvario['address'] = df_filtered_san_salvario['Localization'].map(localization_address_mapping)"
   ]
  },
  {
   "cell_type": "code",
   "execution_count": 58,
   "metadata": {},
   "outputs": [],
   "source": [
    "tmp = df_filtered_san_salvario.merge(data, on=['address'])\n",
    "\n",
    "# Filtrar as linhas em que timestamp_x >= timestamp_y + 1 dia \n",
    "\n",
    "# Criar um pandas Series / dicionario que tenha como chave o dia/timestamp no qual houve uma queixa no mesmo dia ou no dia seguinte (que vai ser a label=1)\n",
    "# label = 0 vão ser os dias em que não se conseguiu mapear nada"
   ]
  },
  {
   "cell_type": "code",
   "execution_count": null,
   "metadata": {},
   "outputs": [],
   "source": [
    "# Filtrar dataset de treino para as datas"
   ]
  },
  {
   "cell_type": "markdown",
   "metadata": {},
   "source": [
    "# Exploratory Data Analysis"
   ]
  },
  {
   "cell_type": "markdown",
   "metadata": {},
   "source": [
    "## Sensor Location"
   ]
  },
  {
   "cell_type": "markdown",
   "metadata": {},
   "source": [
    "TODO: Description here about the sensors' proximity"
   ]
  },
  {
   "cell_type": "code",
   "execution_count": 24,
   "metadata": {},
   "outputs": [
    {
     "data": {
      "text/html": [
       "<div style=\"width:100%;\"><div style=\"position:relative;width:100%;height:0;padding-bottom:60%;\"><span style=\"color:#565656\">Make this Notebook Trusted to load map: File -> Trust Notebook</span><iframe src=\"about:blank\" style=\"position:absolute;width:100%;height:100%;left:0;top:0;border:none !important;\" data-html=%3C%21DOCTYPE%20html%3E%0A%3Chead%3E%20%20%20%20%0A%20%20%20%20%3Cmeta%20http-equiv%3D%22content-type%22%20content%3D%22text/html%3B%20charset%3DUTF-8%22%20/%3E%0A%20%20%20%20%0A%20%20%20%20%20%20%20%20%3Cscript%3E%0A%20%20%20%20%20%20%20%20%20%20%20%20L_NO_TOUCH%20%3D%20false%3B%0A%20%20%20%20%20%20%20%20%20%20%20%20L_DISABLE_3D%20%3D%20false%3B%0A%20%20%20%20%20%20%20%20%3C/script%3E%0A%20%20%20%20%0A%20%20%20%20%3Cstyle%3Ehtml%2C%20body%20%7Bwidth%3A%20100%25%3Bheight%3A%20100%25%3Bmargin%3A%200%3Bpadding%3A%200%3B%7D%3C/style%3E%0A%20%20%20%20%3Cstyle%3E%23map%20%7Bposition%3Aabsolute%3Btop%3A0%3Bbottom%3A0%3Bright%3A0%3Bleft%3A0%3B%7D%3C/style%3E%0A%20%20%20%20%3Cscript%20src%3D%22https%3A//cdn.jsdelivr.net/npm/leaflet%401.6.0/dist/leaflet.js%22%3E%3C/script%3E%0A%20%20%20%20%3Cscript%20src%3D%22https%3A//code.jquery.com/jquery-1.12.4.min.js%22%3E%3C/script%3E%0A%20%20%20%20%3Cscript%20src%3D%22https%3A//maxcdn.bootstrapcdn.com/bootstrap/3.2.0/js/bootstrap.min.js%22%3E%3C/script%3E%0A%20%20%20%20%3Cscript%20src%3D%22https%3A//cdnjs.cloudflare.com/ajax/libs/Leaflet.awesome-markers/2.0.2/leaflet.awesome-markers.js%22%3E%3C/script%3E%0A%20%20%20%20%3Clink%20rel%3D%22stylesheet%22%20href%3D%22https%3A//cdn.jsdelivr.net/npm/leaflet%401.6.0/dist/leaflet.css%22/%3E%0A%20%20%20%20%3Clink%20rel%3D%22stylesheet%22%20href%3D%22https%3A//maxcdn.bootstrapcdn.com/bootstrap/3.2.0/css/bootstrap.min.css%22/%3E%0A%20%20%20%20%3Clink%20rel%3D%22stylesheet%22%20href%3D%22https%3A//maxcdn.bootstrapcdn.com/bootstrap/3.2.0/css/bootstrap-theme.min.css%22/%3E%0A%20%20%20%20%3Clink%20rel%3D%22stylesheet%22%20href%3D%22https%3A//maxcdn.bootstrapcdn.com/font-awesome/4.6.3/css/font-awesome.min.css%22/%3E%0A%20%20%20%20%3Clink%20rel%3D%22stylesheet%22%20href%3D%22https%3A//cdnjs.cloudflare.com/ajax/libs/Leaflet.awesome-markers/2.0.2/leaflet.awesome-markers.css%22/%3E%0A%20%20%20%20%3Clink%20rel%3D%22stylesheet%22%20href%3D%22https%3A//cdn.jsdelivr.net/gh/python-visualization/folium/folium/templates/leaflet.awesome.rotate.min.css%22/%3E%0A%20%20%20%20%0A%20%20%20%20%20%20%20%20%20%20%20%20%3Cmeta%20name%3D%22viewport%22%20content%3D%22width%3Ddevice-width%2C%0A%20%20%20%20%20%20%20%20%20%20%20%20%20%20%20%20initial-scale%3D1.0%2C%20maximum-scale%3D1.0%2C%20user-scalable%3Dno%22%20/%3E%0A%20%20%20%20%20%20%20%20%20%20%20%20%3Cstyle%3E%0A%20%20%20%20%20%20%20%20%20%20%20%20%20%20%20%20%23map_788fe6594d5d4887afe347a5dd67cb8b%20%7B%0A%20%20%20%20%20%20%20%20%20%20%20%20%20%20%20%20%20%20%20%20position%3A%20relative%3B%0A%20%20%20%20%20%20%20%20%20%20%20%20%20%20%20%20%20%20%20%20width%3A%20100.0%25%3B%0A%20%20%20%20%20%20%20%20%20%20%20%20%20%20%20%20%20%20%20%20height%3A%20100.0%25%3B%0A%20%20%20%20%20%20%20%20%20%20%20%20%20%20%20%20%20%20%20%20left%3A%200.0%25%3B%0A%20%20%20%20%20%20%20%20%20%20%20%20%20%20%20%20%20%20%20%20top%3A%200.0%25%3B%0A%20%20%20%20%20%20%20%20%20%20%20%20%20%20%20%20%7D%0A%20%20%20%20%20%20%20%20%20%20%20%20%3C/style%3E%0A%20%20%20%20%20%20%20%20%0A%3C/head%3E%0A%3Cbody%3E%20%20%20%20%0A%20%20%20%20%0A%20%20%20%20%20%20%20%20%20%20%20%20%3Cdiv%20class%3D%22folium-map%22%20id%3D%22map_788fe6594d5d4887afe347a5dd67cb8b%22%20%3E%3C/div%3E%0A%20%20%20%20%20%20%20%20%0A%3C/body%3E%0A%3Cscript%3E%20%20%20%20%0A%20%20%20%20%0A%20%20%20%20%20%20%20%20%20%20%20%20var%20map_788fe6594d5d4887afe347a5dd67cb8b%20%3D%20L.map%28%0A%20%20%20%20%20%20%20%20%20%20%20%20%20%20%20%20%22map_788fe6594d5d4887afe347a5dd67cb8b%22%2C%0A%20%20%20%20%20%20%20%20%20%20%20%20%20%20%20%20%7B%0A%20%20%20%20%20%20%20%20%20%20%20%20%20%20%20%20%20%20%20%20center%3A%20%5B45.053%2C%207.6798%5D%2C%0A%20%20%20%20%20%20%20%20%20%20%20%20%20%20%20%20%20%20%20%20crs%3A%20L.CRS.EPSG3857%2C%0A%20%20%20%20%20%20%20%20%20%20%20%20%20%20%20%20%20%20%20%20zoom%3A%2015%2C%0A%20%20%20%20%20%20%20%20%20%20%20%20%20%20%20%20%20%20%20%20zoomControl%3A%20true%2C%0A%20%20%20%20%20%20%20%20%20%20%20%20%20%20%20%20%20%20%20%20preferCanvas%3A%20false%2C%0A%20%20%20%20%20%20%20%20%20%20%20%20%20%20%20%20%7D%0A%20%20%20%20%20%20%20%20%20%20%20%20%29%3B%0A%0A%20%20%20%20%20%20%20%20%20%20%20%20%0A%0A%20%20%20%20%20%20%20%20%0A%20%20%20%20%0A%20%20%20%20%20%20%20%20%20%20%20%20var%20tile_layer_b2648abf54924924bb1004c7cc860553%20%3D%20L.tileLayer%28%0A%20%20%20%20%20%20%20%20%20%20%20%20%20%20%20%20%22https%3A//%7Bs%7D.tile.openstreetmap.org/%7Bz%7D/%7Bx%7D/%7By%7D.png%22%2C%0A%20%20%20%20%20%20%20%20%20%20%20%20%20%20%20%20%7B%22attribution%22%3A%20%22Data%20by%20%5Cu0026copy%3B%20%5Cu003ca%20href%3D%5C%22http%3A//openstreetmap.org%5C%22%5Cu003eOpenStreetMap%5Cu003c/a%5Cu003e%2C%20under%20%5Cu003ca%20href%3D%5C%22http%3A//www.openstreetmap.org/copyright%5C%22%5Cu003eODbL%5Cu003c/a%5Cu003e.%22%2C%20%22detectRetina%22%3A%20false%2C%20%22maxNativeZoom%22%3A%2018%2C%20%22maxZoom%22%3A%2018%2C%20%22minZoom%22%3A%200%2C%20%22noWrap%22%3A%20false%2C%20%22opacity%22%3A%201%2C%20%22subdomains%22%3A%20%22abc%22%2C%20%22tms%22%3A%20false%7D%0A%20%20%20%20%20%20%20%20%20%20%20%20%29.addTo%28map_788fe6594d5d4887afe347a5dd67cb8b%29%3B%0A%20%20%20%20%20%20%20%20%0A%20%20%20%20%0A%20%20%20%20%20%20%20%20%20%20%20%20var%20marker_896d0304d65442578240d9e5627c1a76%20%3D%20L.marker%28%0A%20%20%20%20%20%20%20%20%20%20%20%20%20%20%20%20%5B45.059172%2C%207.678986%5D%2C%0A%20%20%20%20%20%20%20%20%20%20%20%20%20%20%20%20%7B%7D%0A%20%20%20%20%20%20%20%20%20%20%20%20%29.addTo%28map_788fe6594d5d4887afe347a5dd67cb8b%29%3B%0A%20%20%20%20%20%20%20%20%0A%20%20%20%20%0A%20%20%20%20%20%20%20%20%20%20%20%20var%20icon_acec6dbe87b847eca4e89e33ebf2950a%20%3D%20L.AwesomeMarkers.icon%28%0A%20%20%20%20%20%20%20%20%20%20%20%20%20%20%20%20%7B%22extraClasses%22%3A%20%22fa-rotate-0%22%2C%20%22icon%22%3A%20%22automobile%22%2C%20%22iconColor%22%3A%20%22white%22%2C%20%22markerColor%22%3A%20%22red%22%2C%20%22prefix%22%3A%20%22fa%22%7D%0A%20%20%20%20%20%20%20%20%20%20%20%20%29%3B%0A%20%20%20%20%20%20%20%20%20%20%20%20marker_896d0304d65442578240d9e5627c1a76.setIcon%28icon_acec6dbe87b847eca4e89e33ebf2950a%29%3B%0A%20%20%20%20%20%20%20%20%0A%20%20%20%20%0A%20%20%20%20%20%20%20%20var%20popup_35823a7786034d9d9e9246c4f3bb8f1b%20%3D%20L.popup%28%7B%22maxWidth%22%3A%20%22100%25%22%7D%29%3B%0A%0A%20%20%20%20%20%20%20%20%0A%20%20%20%20%20%20%20%20%20%20%20%20var%20html_d9c688050d894fe6871fbf6b5c69661c%20%3D%20%24%28%60%3Cdiv%20id%3D%22html_d9c688050d894fe6871fbf6b5c69661c%22%20style%3D%22width%3A%20100.0%25%3B%20height%3A%20100.0%25%3B%22%3EVia%20Saluzzo%2C%2026%20Torino%3C/div%3E%60%29%5B0%5D%3B%0A%20%20%20%20%20%20%20%20%20%20%20%20popup_35823a7786034d9d9e9246c4f3bb8f1b.setContent%28html_d9c688050d894fe6871fbf6b5c69661c%29%3B%0A%20%20%20%20%20%20%20%20%0A%0A%20%20%20%20%20%20%20%20marker_896d0304d65442578240d9e5627c1a76.bindPopup%28popup_35823a7786034d9d9e9246c4f3bb8f1b%29%0A%20%20%20%20%20%20%20%20%3B%0A%0A%20%20%20%20%20%20%20%20%0A%20%20%20%20%0A%20%20%20%20%0A%20%20%20%20%20%20%20%20%20%20%20%20var%20marker_534dd2412c1a41f0939f4e2c277f9512%20%3D%20L.marker%28%0A%20%20%20%20%20%20%20%20%20%20%20%20%20%20%20%20%5B45.057837%2C%207.681555%5D%2C%0A%20%20%20%20%20%20%20%20%20%20%20%20%20%20%20%20%7B%7D%0A%20%20%20%20%20%20%20%20%20%20%20%20%29.addTo%28map_788fe6594d5d4887afe347a5dd67cb8b%29%3B%0A%20%20%20%20%20%20%20%20%0A%20%20%20%20%0A%20%20%20%20%20%20%20%20%20%20%20%20var%20icon_52473ef54ab0423db9dd13d3925a75a7%20%3D%20L.AwesomeMarkers.icon%28%0A%20%20%20%20%20%20%20%20%20%20%20%20%20%20%20%20%7B%22extraClasses%22%3A%20%22fa-rotate-0%22%2C%20%22icon%22%3A%20%22automobile%22%2C%20%22iconColor%22%3A%20%22white%22%2C%20%22markerColor%22%3A%20%22red%22%2C%20%22prefix%22%3A%20%22fa%22%7D%0A%20%20%20%20%20%20%20%20%20%20%20%20%29%3B%0A%20%20%20%20%20%20%20%20%20%20%20%20marker_534dd2412c1a41f0939f4e2c277f9512.setIcon%28icon_52473ef54ab0423db9dd13d3925a75a7%29%3B%0A%20%20%20%20%20%20%20%20%0A%20%20%20%20%0A%20%20%20%20%20%20%20%20var%20popup_30527f92b4cc41c2a220482e65d26ebe%20%3D%20L.popup%28%7B%22maxWidth%22%3A%20%22100%25%22%7D%29%3B%0A%0A%20%20%20%20%20%20%20%20%0A%20%20%20%20%20%20%20%20%20%20%20%20var%20html_76f2d23283f14f9197eed0ba388beb19%20%3D%20%24%28%60%3Cdiv%20id%3D%22html_76f2d23283f14f9197eed0ba388beb19%22%20style%3D%22width%3A%20100.0%25%3B%20height%3A%20100.0%25%3B%22%3EVia%20Principe%20Tommaso%2C%2018bis%20Torino%3C/div%3E%60%29%5B0%5D%3B%0A%20%20%20%20%20%20%20%20%20%20%20%20popup_30527f92b4cc41c2a220482e65d26ebe.setContent%28html_76f2d23283f14f9197eed0ba388beb19%29%3B%0A%20%20%20%20%20%20%20%20%0A%0A%20%20%20%20%20%20%20%20marker_534dd2412c1a41f0939f4e2c277f9512.bindPopup%28popup_30527f92b4cc41c2a220482e65d26ebe%29%0A%20%20%20%20%20%20%20%20%3B%0A%0A%20%20%20%20%20%20%20%20%0A%20%20%20%20%0A%20%20%20%20%0A%20%20%20%20%20%20%20%20%20%20%20%20var%20marker_810a468f50a040b8aaec0ccba0e6b178%20%3D%20L.marker%28%0A%20%20%20%20%20%20%20%20%20%20%20%20%20%20%20%20%5B45.058518%2C%207.678854%5D%2C%0A%20%20%20%20%20%20%20%20%20%20%20%20%20%20%20%20%7B%7D%0A%20%20%20%20%20%20%20%20%20%20%20%20%29.addTo%28map_788fe6594d5d4887afe347a5dd67cb8b%29%3B%0A%20%20%20%20%20%20%20%20%0A%20%20%20%20%0A%20%20%20%20%20%20%20%20%20%20%20%20var%20icon_a93a605e694545a89bbcbf9219bbca3c%20%3D%20L.AwesomeMarkers.icon%28%0A%20%20%20%20%20%20%20%20%20%20%20%20%20%20%20%20%7B%22extraClasses%22%3A%20%22fa-rotate-0%22%2C%20%22icon%22%3A%20%22automobile%22%2C%20%22iconColor%22%3A%20%22white%22%2C%20%22markerColor%22%3A%20%22red%22%2C%20%22prefix%22%3A%20%22fa%22%7D%0A%20%20%20%20%20%20%20%20%20%20%20%20%29%3B%0A%20%20%20%20%20%20%20%20%20%20%20%20marker_810a468f50a040b8aaec0ccba0e6b178.setIcon%28icon_a93a605e694545a89bbcbf9219bbca3c%29%3B%0A%20%20%20%20%20%20%20%20%0A%20%20%20%20%0A%20%20%20%20%20%20%20%20var%20popup_61f31e4989e348bfbfdc89e3ae57f150%20%3D%20L.popup%28%7B%22maxWidth%22%3A%20%22100%25%22%7D%29%3B%0A%0A%20%20%20%20%20%20%20%20%0A%20%20%20%20%20%20%20%20%20%20%20%20var%20html_4773fcddcd0e40b9b3a4aac6aaa76011%20%3D%20%24%28%60%3Cdiv%20id%3D%22html_4773fcddcd0e40b9b3a4aac6aaa76011%22%20style%3D%22width%3A%20100.0%25%3B%20height%3A%20100.0%25%3B%22%3ELargo%20Saluzzo%20Torino%3C/div%3E%60%29%5B0%5D%3B%0A%20%20%20%20%20%20%20%20%20%20%20%20popup_61f31e4989e348bfbfdc89e3ae57f150.setContent%28html_4773fcddcd0e40b9b3a4aac6aaa76011%29%3B%0A%20%20%20%20%20%20%20%20%0A%0A%20%20%20%20%20%20%20%20marker_810a468f50a040b8aaec0ccba0e6b178.bindPopup%28popup_61f31e4989e348bfbfdc89e3ae57f150%29%0A%20%20%20%20%20%20%20%20%3B%0A%0A%20%20%20%20%20%20%20%20%0A%20%20%20%20%0A%20%20%20%20%0A%20%20%20%20%20%20%20%20%20%20%20%20var%20marker_3be48ae10dd24978909f858a02e7f58d%20%3D%20L.marker%28%0A%20%20%20%20%20%20%20%20%20%20%20%20%20%20%20%20%5B45.057603%2C%207.681348%5D%2C%0A%20%20%20%20%20%20%20%20%20%20%20%20%20%20%20%20%7B%7D%0A%20%20%20%20%20%20%20%20%20%20%20%20%29.addTo%28map_788fe6594d5d4887afe347a5dd67cb8b%29%3B%0A%20%20%20%20%20%20%20%20%0A%20%20%20%20%0A%20%20%20%20%20%20%20%20%20%20%20%20var%20icon_4bdda7176f384c06bea1b85fd43f02f1%20%3D%20L.AwesomeMarkers.icon%28%0A%20%20%20%20%20%20%20%20%20%20%20%20%20%20%20%20%7B%22extraClasses%22%3A%20%22fa-rotate-0%22%2C%20%22icon%22%3A%20%22automobile%22%2C%20%22iconColor%22%3A%20%22white%22%2C%20%22markerColor%22%3A%20%22red%22%2C%20%22prefix%22%3A%20%22fa%22%7D%0A%20%20%20%20%20%20%20%20%20%20%20%20%29%3B%0A%20%20%20%20%20%20%20%20%20%20%20%20marker_3be48ae10dd24978909f858a02e7f58d.setIcon%28icon_4bdda7176f384c06bea1b85fd43f02f1%29%3B%0A%20%20%20%20%20%20%20%20%0A%20%20%20%20%0A%20%20%20%20%20%20%20%20var%20popup_58701f7165d9464cb4a0a445d966dfdd%20%3D%20L.popup%28%7B%22maxWidth%22%3A%20%22100%25%22%7D%29%3B%0A%0A%20%20%20%20%20%20%20%20%0A%20%20%20%20%20%20%20%20%20%20%20%20var%20html_4da9f24438364fbcb67ec4cf6d98cee4%20%3D%20%24%28%60%3Cdiv%20id%3D%22html_4da9f24438364fbcb67ec4cf6d98cee4%22%20style%3D%22width%3A%20100.0%25%3B%20height%3A%20100.0%25%3B%22%3EVia%20Principe%20Tommaso%20angolo%20via%20Baretti%20Torino%3C/div%3E%60%29%5B0%5D%3B%0A%20%20%20%20%20%20%20%20%20%20%20%20popup_58701f7165d9464cb4a0a445d966dfdd.setContent%28html_4da9f24438364fbcb67ec4cf6d98cee4%29%3B%0A%20%20%20%20%20%20%20%20%0A%0A%20%20%20%20%20%20%20%20marker_3be48ae10dd24978909f858a02e7f58d.bindPopup%28popup_58701f7165d9464cb4a0a445d966dfdd%29%0A%20%20%20%20%20%20%20%20%3B%0A%0A%20%20%20%20%20%20%20%20%0A%20%20%20%20%0A%20%20%20%20%0A%20%20%20%20%20%20%20%20%20%20%20%20var%20marker_66d95d22d21246e28db4971e07d5b16e%20%3D%20L.marker%28%0A%20%20%20%20%20%20%20%20%20%20%20%20%20%20%20%20%5B45.055554%2C%207.68259%5D%2C%0A%20%20%20%20%20%20%20%20%20%20%20%20%20%20%20%20%7B%7D%0A%20%20%20%20%20%20%20%20%20%20%20%20%29.addTo%28map_788fe6594d5d4887afe347a5dd67cb8b%29%3B%0A%20%20%20%20%20%20%20%20%0A%20%20%20%20%0A%20%20%20%20%20%20%20%20%20%20%20%20var%20icon_3b5a6c33eb8740b7b65987fa184c09e4%20%3D%20L.AwesomeMarkers.icon%28%0A%20%20%20%20%20%20%20%20%20%20%20%20%20%20%20%20%7B%22extraClasses%22%3A%20%22fa-rotate-0%22%2C%20%22icon%22%3A%20%22automobile%22%2C%20%22iconColor%22%3A%20%22white%22%2C%20%22markerColor%22%3A%20%22red%22%2C%20%22prefix%22%3A%20%22fa%22%7D%0A%20%20%20%20%20%20%20%20%20%20%20%20%29%3B%0A%20%20%20%20%20%20%20%20%20%20%20%20marker_66d95d22d21246e28db4971e07d5b16e.setIcon%28icon_3b5a6c33eb8740b7b65987fa184c09e4%29%3B%0A%20%20%20%20%20%20%20%20%0A%20%20%20%20%0A%20%20%20%20%20%20%20%20var%20popup_81c53f356e5d45ec81325128fc97cf99%20%3D%20L.popup%28%7B%22maxWidth%22%3A%20%22100%25%22%7D%29%3B%0A%0A%20%20%20%20%20%20%20%20%0A%20%20%20%20%20%20%20%20%20%20%20%20var%20html_030551f33eb74fcc8e74240d3933f861%20%3D%20%24%28%60%3Cdiv%20id%3D%22html_030551f33eb74fcc8e74240d3933f861%22%20style%3D%22width%3A%20100.0%25%3B%20height%3A%20100.0%25%3B%22%3ECorso%20Marconi%2C%2027%20Torino%3C/div%3E%60%29%5B0%5D%3B%0A%20%20%20%20%20%20%20%20%20%20%20%20popup_81c53f356e5d45ec81325128fc97cf99.setContent%28html_030551f33eb74fcc8e74240d3933f861%29%3B%0A%20%20%20%20%20%20%20%20%0A%0A%20%20%20%20%20%20%20%20marker_66d95d22d21246e28db4971e07d5b16e.bindPopup%28popup_81c53f356e5d45ec81325128fc97cf99%29%0A%20%20%20%20%20%20%20%20%3B%0A%0A%20%20%20%20%20%20%20%20%0A%20%20%20%20%0A%3C/script%3E onload=\"this.contentDocument.open();this.contentDocument.write(    decodeURIComponent(this.getAttribute('data-html')));this.contentDocument.close();\" allowfullscreen webkitallowfullscreen mozallowfullscreen></iframe></div></div>"
      ],
      "text/plain": [
       "<folium.folium.Map at 0x1d8d9683820>"
      ]
     },
     "execution_count": 24,
     "metadata": {},
     "output_type": "execute_result"
    }
   ],
   "source": [
    "import folium\n",
    "\n",
    "m = folium.Map(location=[45.0530, 7.6798], zoom_start=15)\n",
    "\n",
    "for indice, row in sensor_list.iterrows():\n",
    "    folium.Marker(\n",
    "        location=[row[\"Lat\"], row[\"Long\"]],\n",
    "        popup=row['address'],\n",
    "        icon=folium.Icon(color=\"red\", icon='automobile', prefix='fa')\n",
    "        ).add_to(m)\n",
    "\n",
    "m"
   ]
  },
  {
   "cell_type": "markdown",
   "metadata": {},
   "source": [
    "## Sazonality and regular behavior studies"
   ]
  },
  {
   "cell_type": "code",
   "execution_count": null,
   "metadata": {},
   "outputs": [],
   "source": [
    "import holidays\n",
    "import numpy as np\n",
    "\n",
    "it_holidays = holidays.CountryHoliday('Italy')\n",
    "\n",
    "# We created a function to get some interesting date features, based on Pandas DataSeries predefined functions\n",
    "def get_date_features(df_resampled, date_col, suffix, holidays_list):\n",
    "    \"\"\"\n",
    "    Function for getting date features from a datetime column. \n",
    "    \"\"\"\n",
    "    df_resampled[f'day_{suffix}'] = df_resampled[date_col].dt.day\n",
    "    df_resampled[f'hour_{suffix}'] = df_resampled[date_col].dt.hour\n",
    "    df_resampled[f'month_{suffix}'] = df_resampled[date_col].dt.month\n",
    "    df_resampled[f'dayofweek_{suffix}'] = df_resampled[date_col].dt.dayofweek\n",
    "    # df_resampled[f'year_{suffix}'] = df_resampled[date_col].dt.year\n",
    "    df_resampled[f'quarter_{suffix}'] = df_resampled[date_col].dt.quarter\n",
    "    df_resampled[f'is_holiday_{suffix}'] = df_resampled[date_col].apply(lambda x: x in holidays_list)\n",
    "    # df_resampled[f'is_year_end_{suffix}'] = df_resampled[date_col].dt.is_year_end\n",
    "    df_resampled[f'is_weekend_{suffix}'] = np.where(df_resampled[f'dayofweek_{suffix}'].isin([5, 6]), 1, 0)\n",
    "                                                  \n",
    "    return df_resampled\n",
    "\n",
    "df = get_date_features(df, date_col='Timestamp', suffix='today', holidays_list=it_holidays)"
   ]
  },
  {
   "cell_type": "code",
   "execution_count": null,
   "metadata": {},
   "outputs": [],
   "source": [
    "def dbmean(levels, axis=None):\n",
    "    \"\"\"\n",
    "    Energetic average of levels.\n",
    "    :param levels: Sequence of levels.\n",
    "    :param axis: Axis over which to perform the operation.\n",
    "    .. math:: L_{mean} = 10 \\\\log_{10}{\\\\frac{1}{n}\\\\sum_{i=0}^n{10^{L/10}}}\n",
    "    \"\"\"\n",
    "    # levels = np.asanyarray(levels)\n",
    "    return 10.0 * np.log10((10.0**(levels / 10.0)).mean(axis=axis))"
   ]
  },
  {
   "cell_type": "code",
   "execution_count": null,
   "metadata": {},
   "outputs": [],
   "source": [
    "#def average_log(x):\n",
    "#    return 10 ** np.log(1 + np.mean(10**(x/10)))"
   ]
  },
  {
   "cell_type": "code",
   "execution_count": null,
   "metadata": {},
   "outputs": [],
   "source": [
    "avg_intensity_per_hour = df[df.Sensor_ID == 'C1'].groupby('hour_today')['Intensity'].apply(dbmean)"
   ]
  },
  {
   "cell_type": "code",
   "execution_count": null,
   "metadata": {},
   "outputs": [],
   "source": [
    "import matplotlib.pyplot as plt\n",
    "\n",
    "plt.plot(np.arange(len(avg_intensity_per_hour)), avg_intensity_per_hour.values)\n",
    "plt.title('Average sensor behavior for sensor C1 in the different times of day')\n",
    "plt.ylabel('Noise (dB)')\n",
    "plt.xlabel('Hour of day (h)')"
   ]
  },
  {
   "cell_type": "code",
   "execution_count": null,
   "metadata": {
    "id": "LQ90XveiBN6A"
   },
   "outputs": [],
   "source": [
    "# We create a function to create our targets\n",
    "# As you can see, we created our target (label) based on a date offset (i.e., our label will be the intensity of the next day at the same time)\n",
    "def create_target(df_resampled, date_col = 'Timestamp', target_col = 'Intensity', entity_id='Sensor_ID', date_offset = 24):\n",
    "    \"\"\"\n",
    "    Function from creating lagged or future features for a specific date offset.\n",
    "    For instance, this adds a new column with the intensity values 24 hours in the future, for each row, by default.    \n",
    "    \"\"\"\n",
    "    \n",
    "    df_resampled[f'date_col_{target_col}'] = df_resampled[date_col] + pd.DateOffset(hours=date_offset)\n",
    "    tmp = df_resampled[[entity_id, date_col, f'date_col_{target_col}', target_col]].merge(\n",
    "        df_resampled[[entity_id, date_col, f'date_col_{target_col}', target_col]], \n",
    "        left_on = [entity_id, f'date_col_{target_col}'], \n",
    "        right_on=[entity_id, date_col], \n",
    "        how='left'\n",
    "    )\n",
    "\n",
    "    tmp = tmp[[entity_id, f'{date_col}_x', f'{target_col}_y']]\n",
    "    tmp.columns = [entity_id, date_col, f'target_{target_col}_{str(date_offset)}h']\n",
    "\n",
    "    df_resampled = df_resampled.merge(tmp, on=[entity_id, date_col])\n",
    "    \n",
    "    return df_resampled"
   ]
  },
  {
   "cell_type": "code",
   "execution_count": null,
   "metadata": {},
   "outputs": [],
   "source": [
    "df = create_target(data, target_col='Intensity', date_offset=1)"
   ]
  },
  {
   "cell_type": "code",
   "execution_count": null,
   "metadata": {},
   "outputs": [],
   "source": [
    "df.head(3)"
   ]
  },
  {
   "cell_type": "markdown",
   "metadata": {
    "id": "gSDath2nr1fq"
   },
   "source": [
    "## Conclusions\n",
    "\n",
    "### Scalability and Impact\n",
    "Tell us how applicable and scalable your solution is if you were to implement it in a city. Identify possible limitations and measure the potential social impact of your solution."
   ]
  },
  {
   "cell_type": "markdown",
   "metadata": {
    "id": "CGmbES9GszEv"
   },
   "source": []
  },
  {
   "cell_type": "markdown",
   "metadata": {
    "id": "0XBiBOyAl2Sv"
   },
   "source": [
    "### Future Work\n",
    "Now picture the following scenario: imagine you could have access to any type of data that could help you solve this challenge even better. What would that data be and how would it improve your solution? 🚀"
   ]
  },
  {
   "cell_type": "markdown",
   "metadata": {
    "id": "5gK3heTKl7qz"
   },
   "source": []
  }
 ],
 "metadata": {
  "colab": {
   "collapsed_sections": [],
   "name": "Notebook Submission Template.ipynb",
   "provenance": []
  },
  "kernelspec": {
   "display_name": "Python 3",
   "language": "python",
   "name": "python3"
  },
  "language_info": {
   "codemirror_mode": {
    "name": "ipython",
    "version": 3
   },
   "file_extension": ".py",
   "mimetype": "text/x-python",
   "name": "python",
   "nbconvert_exporter": "python",
   "pygments_lexer": "ipython3",
   "version": "3.8.5"
  }
 },
 "nbformat": 4,
 "nbformat_minor": 4
}
