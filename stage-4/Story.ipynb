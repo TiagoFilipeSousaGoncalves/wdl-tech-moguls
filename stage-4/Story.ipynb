{
  "nbformat": 4,
  "nbformat_minor": 0,
  "metadata": {
    "kernelspec": {
      "display_name": "Python 3",
      "language": "python",
      "name": "python3"
    },
    "language_info": {
      "codemirror_mode": {
        "name": "ipython",
        "version": 3
      },
      "file_extension": ".py",
      "mimetype": "text/x-python",
      "name": "python",
      "nbconvert_exporter": "python",
      "pygments_lexer": "ipython3",
      "version": "3.7.7"
    },
    "colab": {
      "name": "Story.ipynb",
      "provenance": [],
      "collapsed_sections": []
    }
  },
  "cells": [
    {
      "cell_type": "markdown",
      "metadata": {
        "id": "iT8Ob4d1KjHJ"
      },
      "source": [
        "# Introduction"
      ]
    },
    {
      "cell_type": "markdown",
      "metadata": {
        "id": "muRYXlo-KjHK"
      },
      "source": [
        "## What is the problem?\n",
        "As stated by the challenge provider in the official document, \"*cities are flooded by countless outdoor advertising panels, often with a poor distribution*\". Hence, we acknowledge that these visual aspects are crucial in the urban planning process since each plan choice can generate obstruction of urban elements, thus producing adverse effects on the city’s image.\n",
        "\n",
        "\n",
        "## How do we relate this problem with the United Nations' Sustainable Development Goals (SDGs)?\n",
        "Once again, we started by looking at the official document given by the challenge provider, which establishes a connection between this challenge and the **11th UN Sustainable Goal - Sustainable Cities and Communities**. From an attentive look at the scope of this 11th SDG, we can conclude that this is, somehow, related to the topic of \"*Sustainable cities and human settlements*\" (please refer to [https://sdgs.un.org/topics/sustainable-cities-and-human-settlements](https://sdgs.un.org/topics/sustainable-cities-and-human-settlements)). Since it is expected that the number of people in cities will grow significantly by 2050, it is of utmost importance that policy- and decision-makers define a sustainable strategy to assure that their cities have the right infrastructures to keep up with this development rate. We highlight two important ideas:\n",
        " - *Improving human settlements management*; \n",
        " - *Promoting sustainable land-use planning and management*.\n",
        "\n",
        "The ideas above are directly related to the proper organisation of outdoor advertising panels in cities in the sense that careful management may contribute to an increase of visual quality of streets and roads but also allows to increase the focus on the message and the announcement that the panel intends to transmit. Therefore, we agree that reducing the outdoor advertising visual impact in cities will contribute to minimising the reduction of the audience of the outdoor ad sector, thus improving the visual environment of cities and the sustainability of outdoor advertising activity.\n",
        "\n",
        "\n",
        "## How do we propose to solve this problem?\n",
        "We developed a metaheuristics-based algorithm (local/neighbourhood search) that optimises the outdoor-billboard density (*i.e.*, the number of outdoor billboards in a given radius). We start by creating neighbour solutions through swap operations in which we change the coordinates of a given billboard and assess the impact on hour fitness function, which takes this variable into account. In the end, we are capable of proposing an alternative layout for the billboard location without needing to remove billboards. Why did we not want to remove billboards? Well, we do not know if by removing a billboard we are jeopardising the business of a given company. Therefore, we tried to keep our problem approach as simples as possible and thinking about the stakeholders as well."
      ]
    },
    {
      "cell_type": "markdown",
      "metadata": {
        "id": "Mg5CpENdKjHL"
      },
      "source": [
        "# Data Sources and Files\n",
        "\n",
        "We use the following data sources and/or files:\n",
        " 1) \"reverse_loc.pickle\": a .PICKLE file with the reversed-coordinates (*i.e.*, the name of the parish, city and district related to a given pair of coordinates)\n",
        " \n",
        " 2) \"df_reverse_coords.csv\": a .CSV file with the reversed-coordinates (*i.e.*, the name of the parish, city and district related to a given pair of coordinates)"
      ]
    },
    {
      "cell_type": "markdown",
      "metadata": {
        "id": "EZqPMh7cKjHM"
      },
      "source": [
        "# Exploratory Data Analysis\n",
        "\n",
        "The next cells present you an exploratory data analysis to give you some insights and/or intuition on the information we extracted before going into a \"very algorithmic\" approach."
      ]
    },
    {
      "cell_type": "markdown",
      "metadata": {
        "id": "2UXTQli4KjHN"
      },
      "source": [
        "..."
      ]
    },
    {
      "cell_type": "markdown",
      "metadata": {
        "id": "hDHfMMzJKjHN"
      },
      "source": [
        "# Metaheuristics: Outdoor Billboard Optimisation\n",
        "\n",
        "We now present you the algorithmic approach used to optimise the outdoor billboard. We start by defining our fitness function $f = den(s)$, where $den(s)$ is the density of outdoor billboard in a given radius. In this case, our goal is to minimise this function."
      ]
    },
    {
      "cell_type": "markdown",
      "metadata": {
        "id": "smZ5JZBNKjHN"
      },
      "source": [
        "..."
      ]
    },
    {
      "cell_type": "markdown",
      "metadata": {
        "id": "52UFDZm9KjHO"
      },
      "source": [
        "# Conclusion\n",
        "\n",
        "## Scalability and Impact\n",
        "In 2017, advertising investments made in outdoor represented 11.7% of the market according to Omnicom data (source: https://obercom.pt/wp-content/uploads/2019/05/Publicidade_2019_Final.pdf). This percentage is mostly due to the knowledge of the advantages of this type of advertising, such as the great effectiveness in reach (it is a form of advertising without interruption since it remains on display 24 hours a day) and the power to reach different parts of the city, social classes and age groups (source: https://www.adquick.com/blog/what-are-the-benefits-of-outdoor-advertising/).\n",
        "\n",
        "A recent study by the company PSE shows that the outdoor advertising medium has close to 90% coverage. With the new confinement decreed in January, both coverage and frequency have naturally decreased, resulting in a lower audience production. However, this audience is still high, around 50,000 viewers (source: https://www.meiosepublicidade.pt/2021/02/estudo-audiencias-outdoor-ja-mede-80-cento-dos-suportes-portugal/).\n",
        "\n",
        "The annual corporate outdoor advertising media cost was in 2019, equal to €89 534 (source: https://www.ine.pt/xportal/xmain?xpid=INE&xpgid=ine_indicadores&indOcorrCod=0006846&contexto=bd&selTab=tab2&xlang=PT). By switching the position of billboards to positions with lower billboard density and higher visibility, we gain **X**% of audience. Considering that the average rental cost remains fixed, and assuming that **Y** people who see it have an interest in the brand, there is an impact **K** times greater.\n",
        "\n",
        "\n",
        "## Future Work\n",
        "It would be interesting to have information related to:\n",
        " 1) Distribution of the billboards per company (the concession): with this data we could optimise our algorithm by taking into account the distribution of billboards in a given radius per company."
      ]
    }
  ]
}