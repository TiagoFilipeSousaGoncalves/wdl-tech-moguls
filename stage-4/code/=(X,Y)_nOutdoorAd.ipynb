{
  "nbformat": 4,
  "nbformat_minor": 0,
  "metadata": {
    "colab": {
      "name": "=(X,Y)_nOutdoorAd.ipynb",
      "provenance": []
    },
    "kernelspec": {
      "name": "python3",
      "display_name": "Python 3"
    },
    "language_info": {
      "name": "python"
    }
  },
  "cells": [
    {
      "cell_type": "code",
      "metadata": {
        "id": "tqMLrzaqImy2"
      },
      "source": [
        "###################IGUAL AO DELIVERABLE####################\n",
        "\n",
        "# !pip install pyshp\n",
        "import pandas as pd\n",
        "import pickle\n",
        "from scipy.spatial import cKDTree\n",
        "import numpy as np\n",
        "\n",
        "def read_shapefile(shp_path):\n",
        "    \"\"\"\n",
        "    Read a shapefile into a Pandas dataframe with a 'coords' column holding\n",
        "    the geometry information. This uses the pyshp package\n",
        "    \"\"\"\n",
        "    import shapefile\n",
        "\n",
        "    #read file, parse out the records and shapes\n",
        "    sf = shapefile.Reader(shp_path)\n",
        "    fields = [x[0] for x in sf.fields][1:]\n",
        "    records = sf.records()\n",
        "    shps = [s.points for s in sf.shapes()]\n",
        "\n",
        "    #write into a dataframe\n",
        "    df = pd.DataFrame(columns=fields, data=records)\n",
        "    df = df.assign(coords=shps)\n",
        "\n",
        "    return df\n",
        "\n",
        "\n",
        "from google.colab import drive\n",
        "drive.mount('/content/drive')\n",
        "\n",
        "df = read_shapefile('/content/drive/MyDrive/WDL/outdoor_inventory/Outdoor_Inventory_AV.shp')\n",
        "reverse_coords_list = pd.read_pickle('/content/drive/MyDrive/WDL/reverse_loc.pickle')\n",
        "df['address_road'] = [x.get('address').get('road') for x in reverse_coords_list]\n",
        "df['concelho'] = [x.get('address').get('town') for x in reverse_coords_list]\n",
        "df['freguesia'] = [x.get('address').get('village') if 'village' in x.get('address') else x.get('address').get('neighbourhood') for x in reverse_coords_list]\n",
        "df['distrito'] = [x.get('address').get('county') for x in reverse_coords_list]\n",
        "df['address_road'] = df['address_road'].fillna('')\n",
        "df['is_national_road'] = df['address_road'].str.contains('EN')\n",
        "df['is_highway'] = df['address_road'].str.contains('Auto')\n",
        "df['is_city_center'] = (~df['is_national_road']) & (~df['is_highway']) & (df['address_road'] != '')\n",
        "\n",
        "\n",
        "def find_neighbours_within_radius(xy, radius):\n",
        "    tree = cKDTree(xy)\n",
        "    within_radius = tree.query_ball_tree(tree, r=radius)\n",
        "    return within_radius\n",
        "\n",
        "def get_density_billboards(df):\n",
        "    \"\"\"\n",
        "    Calculate number of billboards in a X km radius for each point\n",
        "    \"\"\"\n",
        "    \n",
        "    df_copy = df.copy()\n",
        "\n",
        "    import numpy as np\n",
        "\n",
        "    kms_per_radian = 6371.0088\n",
        "    radius = 1.5\n",
        "    neighbours_within_radius = find_neighbours_within_radius(\n",
        "        np.radians(df_copy[['Y', 'X']].values), \n",
        "        radius/kms_per_radian\n",
        "    )\n",
        "\n",
        "    df_copy['nbr_points_around_billboard'] = [len(x) for x in neighbours_within_radius]\n",
        "\n",
        "    return df_copy, neighbours_within_radius\n",
        "\n",
        "df, neighbours_within_radius = get_density_billboards(df)\n",
        "df['average_people_around_billboard'] = [np.mean(df.iloc[x].Average_Da) for x in neighbours_within_radius]\n",
        "df['std_people_around_billboard'] = [np.std(df.iloc[x].Average_Da) for x in neighbours_within_radius]\n",
        "df['diff_to_neighbourhood'] = df['Average_Da'] - df['average_people_around_billboard']"
      ],
      "execution_count": null,
      "outputs": []
    },
    {
      "cell_type": "code",
      "metadata": {
        "id": "D9i1txSXTS5D"
      },
      "source": [
        "df[[\"X\", \"Y\"]].value_counts().to_frame('n_OutdoorAd').reset_index()\n",
        "\n",
        "#Existe uma zona com 11 billboards e outra zona com 6. Depois existem várias zonas com 4, 3, 2 e 1 billboards. (Será que faz sentido por em forma de mapa ou assim? Para não se ver 1 a 1)"
      ],
      "execution_count": null,
      "outputs": []
    },
    {
      "cell_type": "code",
      "metadata": {
        "id": "zFCk_8SQq2D0"
      },
      "source": [
        "#Zona com 11 billboards\n",
        "df.loc[(df['X'] == -9.128028) & (df['Y'] == 38.620447)]\n",
        "\n",
        "#As coordenadas de latitude e longitude com o maior número de billboards (11) correspondem à Autoestrada do Sul (também conhecida como A2) no concelho do Seixal,\n",
        "#freguesia Cruz de Pau e distrito Setúbal. Apresenta outros 132 billboards \"vizinhos\"."
      ],
      "execution_count": null,
      "outputs": []
    },
    {
      "cell_type": "code",
      "metadata": {
        "id": "pw15HAtgwSK1"
      },
      "source": [
        "#Zona com 6 billboards\n",
        "df.loc[(df['X'] == -9.167858) & (df['Y'] == 38.741668)]\n",
        "\n",
        "#A praça Marechal Humberto Delgado no centro da cidade de Lisboa tem 6 billboards. Existe um total de 540 billboards num raio de 1.5km. "
      ],
      "execution_count": null,
      "outputs": []
    }
  ]
}