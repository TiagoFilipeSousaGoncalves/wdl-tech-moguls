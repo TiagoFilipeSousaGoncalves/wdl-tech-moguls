{
 "cells": [
  {
   "cell_type": "code",
   "execution_count": 1,
   "metadata": {},
   "outputs": [],
   "source": [
    "# !pip install pyshp\n",
    "import pandas as pd\n",
    "\n",
    "def read_shapefile(shp_path):\n",
    "    \"\"\"\n",
    "    Read a shapefile into a Pandas dataframe with a 'coords' column holding\n",
    "    the geometry information. This uses the pyshp package\n",
    "    \"\"\"\n",
    "    import shapefile\n",
    "\n",
    "    #read file, parse out the records and shapes\n",
    "    sf = shapefile.Reader(shp_path)\n",
    "    fields = [x[0] for x in sf.fields][1:]\n",
    "    records = sf.records()\n",
    "    shps = [s.points for s in sf.shapes()]\n",
    "\n",
    "    #write into a dataframe\n",
    "    df = pd.DataFrame(columns=fields, data=records)\n",
    "    df = df.assign(coords=shps)\n",
    "\n",
    "    return df"
   ]
  },
  {
   "cell_type": "code",
   "execution_count": 2,
   "metadata": {},
   "outputs": [],
   "source": [
    "df = read_shapefile('data/outdoor_inventory/Outdoor_Inventory_AV.shp')"
   ]
  },
  {
   "cell_type": "code",
   "execution_count": 3,
   "metadata": {},
   "outputs": [],
   "source": [
    "import pickle\n",
    "\n",
    "reverse_coords_list = pd.read_pickle('data/reverse_loc.pickle')"
   ]
  },
  {
   "cell_type": "code",
   "execution_count": 4,
   "metadata": {},
   "outputs": [],
   "source": [
    "df['address_road'] = [x.get('address').get('road') for x in reverse_coords_list]\n",
    "df['concelho'] = [x.get('address').get('town') for x in reverse_coords_list]\n",
    "df['freguesia'] = [x.get('address').get('village') if 'village' in x.get('address') else x.get('address').get('neighbourhood') for x in reverse_coords_list]\n",
    "df['distrito'] = [x.get('address').get('county') for x in reverse_coords_list]"
   ]
  },
  {
   "cell_type": "code",
   "execution_count": 5,
   "metadata": {},
   "outputs": [],
   "source": [
    "df['address_road'] = df['address_road'].fillna('')\n",
    "\n",
    "df['is_national_road'] = df['address_road'].str.contains('EN')\n",
    "df['is_highway'] = df['address_road'].str.contains('Auto')\n",
    "df['is_city_center'] = (~df['is_national_road']) & (~df['is_highway']) & (df['address_road'] != '')"
   ]
  },
  {
   "cell_type": "code",
   "execution_count": 6,
   "metadata": {},
   "outputs": [
    {
     "data": {
      "text/plain": [
       "1.9444630671970706"
      ]
     },
     "execution_count": 6,
     "metadata": {},
     "output_type": "execute_result"
    }
   ],
   "source": [
    "from geopy import distance\n",
    "\n",
    "distance.distance((40.900768, -8.473975), (40.9142, -8.48878)).km"
   ]
  },
  {
   "cell_type": "code",
   "execution_count": 7,
   "metadata": {},
   "outputs": [],
   "source": [
    "# https://geoffboeing.com/2014/08/clustering-to-reduce-spatial-data-set-size/\n",
    "# https://stackoverflow.com/questions/43592094/efficient-way-to-calculate-geographic-density-in-pandas \n",
    "# https://stackoverflow.com/questions/34579213/dbscan-for-clustering-of-geographic-location-data \n",
    "\n",
    "from scipy.spatial import cKDTree\n",
    "\n",
    "def find_neighbours_within_radius(xy, radius):\n",
    "    tree = cKDTree(xy)\n",
    "    within_radius = tree.query_ball_tree(tree, r=radius)\n",
    "    return within_radius\n",
    "\n",
    "def flatten_nested_list(nested_list):\n",
    "    return [item for sublist in nested_list for item in sublist]\n",
    "\n",
    "def total_neighbours_within_radius(xy, radius):\n",
    "    neighbours = find_neighbours_within_radius(xy, radius)\n",
    "    return len(flatten_nested_list(neighbours))"
   ]
  },
  {
   "cell_type": "code",
   "execution_count": 92,
   "metadata": {},
   "outputs": [],
   "source": [
    "def get_density_billboards(df):\n",
    "    \n",
    "    df_copy = df.copy()\n",
    "    # Calculate number of billboards in a X km radius for each point\n",
    "\n",
    "    import numpy as np\n",
    "\n",
    "    kms_per_radian = 6371.0088\n",
    "    radius = 1.5\n",
    "    neighbours_within_radius = find_neighbours_within_radius(np.radians(df_copy[['Y', 'X']].values), radius/kms_per_radian)\n",
    "\n",
    "    df_copy['nbr_points_around_billboard'] = [len(x) for x in neighbours_within_radius]\n",
    "\n",
    "    return df_copy"
   ]
  },
  {
   "cell_type": "code",
   "execution_count": 93,
   "metadata": {},
   "outputs": [],
   "source": [
    "df = get_density_billboards(df)"
   ]
  },
  {
   "cell_type": "code",
   "execution_count": 10,
   "metadata": {},
   "outputs": [],
   "source": [
    "df['average_people_around_billboard'] = [np.mean(df.iloc[x].Average_Da) for x in neighbours_within_radius]\n",
    "df['std_people_around_billboard'] = [np.std(df.iloc[x].Average_Da) for x in neighbours_within_radius]"
   ]
  },
  {
   "cell_type": "code",
   "execution_count": null,
   "metadata": {},
   "outputs": [],
   "source": [
    "# TODO: Ver se faz sentido desvio padrão dentro do cluster"
   ]
  },
  {
   "cell_type": "code",
   "execution_count": 11,
   "metadata": {},
   "outputs": [],
   "source": [
    "# points where this value is very negative are just visual noise, they make no impact\n",
    "# retirar N billboards por concelho\n",
    "df['diff_to_neighbourhood'] = df['Average_Da'] - df['average_people_around_billboard']"
   ]
  },
  {
   "cell_type": "code",
   "execution_count": null,
   "metadata": {},
   "outputs": [],
   "source": [
    "# sitios maus: sitios com pouca gente, e que tens muita gente a volta. As pessoas estão a passar pelos outros, e não pelo teu. \n",
    "# zonas com muita densidade: estamos a dividir a eficiencia de marketing com outras empresas\n",
    "\n",
    "# Locais para novas "
   ]
  },
  {
   "cell_type": "code",
   "execution_count": 25,
   "metadata": {},
   "outputs": [],
   "source": [
    "# Focus on lisbon\n",
    "\n",
    "df = df[df['distrito'] == 'Lisboa']"
   ]
  },
  {
   "cell_type": "code",
   "execution_count": 110,
   "metadata": {},
   "outputs": [],
   "source": [
    "def fitness(df):\n",
    "    \"\"\"\n",
    "    Fitness function, which we want to minimize\n",
    "    \"\"\"\n",
    "    \n",
    "    # Get billboard density\n",
    "    df = get_density_billboards(df)\n",
    "\n",
    "    max_density = df['nbr_points_around_billboard'].mean()\n",
    "    total_number_of_views = df['Average_Da'].sum()\n",
    "    return max_density # + total_number_of_views"
   ]
  },
  {
   "cell_type": "code",
   "execution_count": 111,
   "metadata": {},
   "outputs": [
    {
     "data": {
      "text/plain": [
       "382.6084085051546"
      ]
     },
     "execution_count": 111,
     "metadata": {},
     "output_type": "execute_result"
    }
   ],
   "source": [
    "fitness(df)"
   ]
  },
  {
   "cell_type": "code",
   "execution_count": 119,
   "metadata": {},
   "outputs": [],
   "source": [
    "df = df.reset_index()"
   ]
  },
  {
   "cell_type": "code",
   "execution_count": 120,
   "metadata": {},
   "outputs": [],
   "source": [
    "# We might have different impressions for the same coordinate (maybe diff directions of traffic?) so let's average it out\n",
    "\n",
    "mean_impressions_per_coord = df.groupby(['X', 'Y']).Average_Da.mean().reset_index()"
   ]
  },
  {
   "cell_type": "code",
   "execution_count": 121,
   "metadata": {},
   "outputs": [],
   "source": [
    "def get_neighbours(df, nbr_neighbours):\n",
    "    \"\"\"\n",
    "    Creates a list of size nbr_neighbours with potential swaps of coordinates\n",
    "    \"\"\"\n",
    "    \n",
    "    neighbors = []\n",
    "    \n",
    "    # Pick new positions for swapping random elements of df\n",
    "    sampled_coords = mean_impressions_per_coord.sample(nbr_neighbours).reset_index()\n",
    "    \n",
    "    for i in range(nbr_neighbours):\n",
    "        \n",
    "        df_copy = df.copy()\n",
    "\n",
    "        # Pick a random number between 0 and len(df)\n",
    "        random_number = np.random.randint(0, len(df_copy))\n",
    "                    \n",
    "        # Replace by the Average_Da at that position\n",
    "        df_copy.loc[random_number, ['X', 'Y', 'Average_Da']] = sampled_coords.loc[i, ['X', 'Y', 'Average_Da']]\n",
    "                \n",
    "        neighbors.append(df_copy)\n",
    "    \n",
    "    return neighbors"
   ]
  },
  {
   "cell_type": "code",
   "execution_count": 114,
   "metadata": {},
   "outputs": [],
   "source": [
    "neighbors_it_1 = get_neighbours(df.reset_index(), 5)"
   ]
  },
  {
   "cell_type": "code",
   "execution_count": 116,
   "metadata": {},
   "outputs": [
    {
     "data": {
      "text/plain": [
       "(382.64851804123714, 382.67042525773195, 382.6074420103093)"
      ]
     },
     "execution_count": 116,
     "metadata": {},
     "output_type": "execute_result"
    }
   ],
   "source": [
    "fitness(neighbors_it_1[0]), fitness(neighbors_it_1[1]), fitness(neighbors_it_1[3])"
   ]
  },
  {
   "cell_type": "code",
   "execution_count": 130,
   "metadata": {
    "scrolled": true,
    "tags": []
   },
   "outputs": [
    {
     "name": "stdout",
     "output_type": "stream",
     "text": [
      "Found a better solution!\n",
      "Epoch 0 | Fitness 382.456508\n",
      "Found a better solution!\n",
      "Epoch 1 | Fitness 382.347616\n",
      "Found a better solution!\n",
      "Epoch 2 | Fitness 382.183634\n",
      "Found a better solution!\n",
      "Epoch 3 | Fitness 382.031411\n",
      "Found a better solution!\n",
      "Epoch 4 | Fitness 381.836179\n",
      "Found a better solution!\n",
      "Epoch 5 | Fitness 381.662371\n",
      "Found a better solution!\n",
      "Epoch 6 | Fitness 381.484697\n",
      "Found a better solution!\n",
      "Epoch 7 | Fitness 381.343589\n",
      "Found a better solution!\n",
      "Epoch 8 | Fitness 381.186050\n",
      "Found a better solution!\n",
      "Epoch 9 | Fitness 380.995329\n"
     ]
    }
   ],
   "source": [
    "best_fitness = np.inf\n",
    "best_solution = df\n",
    "\n",
    "for iteration in range(10):\n",
    "    \n",
    "    # Get 5 random neighbours\n",
    "    neighbors = get_neighbours(best_solution, 30)\n",
    "    \n",
    "    fitness_neighbours = [fitness(x) for x in neighbors]\n",
    "    \n",
    "    neighbour_lower_fitness_idx = np.argmin(fitness_neighbours)\n",
    "    fitness_neighbour_lower_fitness = fitness_neighbours[neighbour_lower_fitness_idx]\n",
    "    neighbour_lower_fitness = neighbors[neighbour_lower_fitness_idx]\n",
    "    \n",
    "    if fitness_neighbour_lower_fitness < best_fitness:\n",
    "        best_fitness = fitness_neighbour_lower_fitness\n",
    "        best_solution = neighbour_lower_fitness\n",
    "        print(\"Found a better solution!\")\n",
    "        \n",
    "    print(\"Epoch %d | Fitness %f\" % (iteration, best_fitness))"
   ]
  },
  {
   "cell_type": "code",
   "execution_count": 140,
   "metadata": {},
   "outputs": [],
   "source": [
    "COLS = ['PanelID', 'X', 'Y', 'Max_Visibi']"
   ]
  },
  {
   "cell_type": "code",
   "execution_count": 146,
   "metadata": {
    "tags": []
   },
   "outputs": [
    {
     "data": {
      "text/html": [
       "<div>\n",
       "<style scoped>\n",
       "    .dataframe tbody tr th:only-of-type {\n",
       "        vertical-align: middle;\n",
       "    }\n",
       "\n",
       "    .dataframe tbody tr th {\n",
       "        vertical-align: top;\n",
       "    }\n",
       "\n",
       "    .dataframe thead th {\n",
       "        text-align: right;\n",
       "    }\n",
       "</style>\n",
       "<table border=\"1\" class=\"dataframe\">\n",
       "  <thead>\n",
       "    <tr style=\"text-align: right;\">\n",
       "      <th></th>\n",
       "      <th>PanelID</th>\n",
       "      <th>X</th>\n",
       "      <th>Y</th>\n",
       "      <th>Max_Visibi</th>\n",
       "    </tr>\n",
       "  </thead>\n",
       "  <tbody>\n",
       "    <tr>\n",
       "      <th>1523</th>\n",
       "      <td>25619</td>\n",
       "      <td>-9.140753</td>\n",
       "      <td>38.731875</td>\n",
       "      <td>69</td>\n",
       "    </tr>\n",
       "    <tr>\n",
       "      <th>1530</th>\n",
       "      <td>21061</td>\n",
       "      <td>-9.144220</td>\n",
       "      <td>38.738634</td>\n",
       "      <td>69</td>\n",
       "    </tr>\n",
       "    <tr>\n",
       "      <th>2162</th>\n",
       "      <td>7824</td>\n",
       "      <td>-9.144519</td>\n",
       "      <td>38.741787</td>\n",
       "      <td>69</td>\n",
       "    </tr>\n",
       "  </tbody>\n",
       "</table>\n",
       "</div>"
      ],
      "text/plain": [
       "      PanelID         X          Y  Max_Visibi\n",
       "1523    25619 -9.140753  38.731875          69\n",
       "1530    21061 -9.144220  38.738634          69\n",
       "2162     7824 -9.144519  38.741787          69"
      ]
     },
     "execution_count": 146,
     "metadata": {},
     "output_type": "execute_result"
    }
   ],
   "source": [
    "diff = pd.concat([df[COLS], best_solution[COLS]]).drop_duplicates(keep=False)\n",
    "diff.head(3)"
   ]
  },
  {
   "cell_type": "code",
   "execution_count": 143,
   "metadata": {},
   "outputs": [
    {
     "data": {
      "text/html": [
       "<div>\n",
       "<style scoped>\n",
       "    .dataframe tbody tr th:only-of-type {\n",
       "        vertical-align: middle;\n",
       "    }\n",
       "\n",
       "    .dataframe tbody tr th {\n",
       "        vertical-align: top;\n",
       "    }\n",
       "\n",
       "    .dataframe thead th {\n",
       "        text-align: right;\n",
       "    }\n",
       "</style>\n",
       "<table border=\"1\" class=\"dataframe\">\n",
       "  <thead>\n",
       "    <tr style=\"text-align: right;\">\n",
       "      <th></th>\n",
       "      <th>index</th>\n",
       "      <th>PanelID</th>\n",
       "      <th>X</th>\n",
       "      <th>Y</th>\n",
       "      <th>Max_Visibi</th>\n",
       "      <th>Average_Da</th>\n",
       "      <th>coords</th>\n",
       "      <th>address_road</th>\n",
       "      <th>concelho</th>\n",
       "      <th>freguesia</th>\n",
       "      <th>distrito</th>\n",
       "      <th>is_national_road</th>\n",
       "      <th>is_highway</th>\n",
       "      <th>is_city_center</th>\n",
       "      <th>nbr_points_around_billboard</th>\n",
       "      <th>average_people_around_billboard</th>\n",
       "      <th>std_people_around_billboard</th>\n",
       "      <th>diff_to_neighbourhood</th>\n",
       "    </tr>\n",
       "  </thead>\n",
       "  <tbody>\n",
       "    <tr>\n",
       "      <th>1523</th>\n",
       "      <td>5478</td>\n",
       "      <td>25619</td>\n",
       "      <td>-9.140753</td>\n",
       "      <td>38.731875</td>\n",
       "      <td>69</td>\n",
       "      <td>2428.0</td>\n",
       "      <td>[[-9.140753, 38.731875]]</td>\n",
       "      <td>Largo Dona Estefânia</td>\n",
       "      <td>None</td>\n",
       "      <td>Saldanha</td>\n",
       "      <td>Lisboa</td>\n",
       "      <td>False</td>\n",
       "      <td>False</td>\n",
       "      <td>True</td>\n",
       "      <td>1218</td>\n",
       "      <td>8800.955802</td>\n",
       "      <td>5510.880071</td>\n",
       "      <td>-6372.955802</td>\n",
       "    </tr>\n",
       "  </tbody>\n",
       "</table>\n",
       "</div>"
      ],
      "text/plain": [
       "      index  PanelID         X          Y  Max_Visibi  Average_Da  \\\n",
       "1523   5478    25619 -9.140753  38.731875          69      2428.0   \n",
       "\n",
       "                        coords          address_road concelho freguesia  \\\n",
       "1523  [[-9.140753, 38.731875]]  Largo Dona Estefânia     None  Saldanha   \n",
       "\n",
       "     distrito  is_national_road  is_highway  is_city_center  \\\n",
       "1523   Lisboa             False       False            True   \n",
       "\n",
       "      nbr_points_around_billboard  average_people_around_billboard  \\\n",
       "1523                         1218                      8800.955802   \n",
       "\n",
       "      std_people_around_billboard  diff_to_neighbourhood  \n",
       "1523                  5510.880071           -6372.955802  "
      ]
     },
     "execution_count": 143,
     "metadata": {},
     "output_type": "execute_result"
    }
   ],
   "source": [
    "df[df.PanelID == 25619]"
   ]
  },
  {
   "cell_type": "code",
   "execution_count": 144,
   "metadata": {},
   "outputs": [
    {
     "data": {
      "text/html": [
       "<div>\n",
       "<style scoped>\n",
       "    .dataframe tbody tr th:only-of-type {\n",
       "        vertical-align: middle;\n",
       "    }\n",
       "\n",
       "    .dataframe tbody tr th {\n",
       "        vertical-align: top;\n",
       "    }\n",
       "\n",
       "    .dataframe thead th {\n",
       "        text-align: right;\n",
       "    }\n",
       "</style>\n",
       "<table border=\"1\" class=\"dataframe\">\n",
       "  <thead>\n",
       "    <tr style=\"text-align: right;\">\n",
       "      <th></th>\n",
       "      <th>index</th>\n",
       "      <th>PanelID</th>\n",
       "      <th>X</th>\n",
       "      <th>Y</th>\n",
       "      <th>Max_Visibi</th>\n",
       "      <th>Average_Da</th>\n",
       "      <th>coords</th>\n",
       "      <th>address_road</th>\n",
       "      <th>concelho</th>\n",
       "      <th>freguesia</th>\n",
       "      <th>distrito</th>\n",
       "      <th>is_national_road</th>\n",
       "      <th>is_highway</th>\n",
       "      <th>is_city_center</th>\n",
       "      <th>nbr_points_around_billboard</th>\n",
       "      <th>average_people_around_billboard</th>\n",
       "      <th>std_people_around_billboard</th>\n",
       "      <th>diff_to_neighbourhood</th>\n",
       "    </tr>\n",
       "  </thead>\n",
       "  <tbody>\n",
       "    <tr>\n",
       "      <th>1523</th>\n",
       "      <td>5478</td>\n",
       "      <td>25619</td>\n",
       "      <td>-9.148588</td>\n",
       "      <td>38.779721</td>\n",
       "      <td>69</td>\n",
       "      <td>5438.0</td>\n",
       "      <td>[[-9.140753, 38.731875]]</td>\n",
       "      <td>Largo Dona Estefânia</td>\n",
       "      <td>None</td>\n",
       "      <td>Saldanha</td>\n",
       "      <td>Lisboa</td>\n",
       "      <td>False</td>\n",
       "      <td>False</td>\n",
       "      <td>True</td>\n",
       "      <td>1218</td>\n",
       "      <td>8800.955802</td>\n",
       "      <td>5510.880071</td>\n",
       "      <td>-6372.955802</td>\n",
       "    </tr>\n",
       "  </tbody>\n",
       "</table>\n",
       "</div>"
      ],
      "text/plain": [
       "      index  PanelID         X          Y  Max_Visibi  Average_Da  \\\n",
       "1523   5478    25619 -9.148588  38.779721          69      5438.0   \n",
       "\n",
       "                        coords          address_road concelho freguesia  \\\n",
       "1523  [[-9.140753, 38.731875]]  Largo Dona Estefânia     None  Saldanha   \n",
       "\n",
       "     distrito  is_national_road  is_highway  is_city_center  \\\n",
       "1523   Lisboa             False       False            True   \n",
       "\n",
       "      nbr_points_around_billboard  average_people_around_billboard  \\\n",
       "1523                         1218                      8800.955802   \n",
       "\n",
       "      std_people_around_billboard  diff_to_neighbourhood  \n",
       "1523                  5510.880071           -6372.955802  "
      ]
     },
     "execution_count": 144,
     "metadata": {},
     "output_type": "execute_result"
    }
   ],
   "source": [
    "best_solution[best_solution.PanelID == 25619]"
   ]
  },
  {
   "cell_type": "code",
   "execution_count": null,
   "metadata": {},
   "outputs": [],
   "source": [
    "# TODO: Swap de linhas, metaheuristica onde re-calculas a densidade e calculas a average_da\n",
    "# penalizar para minimizar a distancia percorrida para trocar o billboard \n",
    "# minimizar nº total de operações - Custo estimado da solução \n",
    "\n",
    "# Probabilidade de uma zona sofrer swap é proporcional ao nº de repetições? Ideia a pensar"
   ]
  },
  {
   "cell_type": "code",
   "execution_count": 142,
   "metadata": {},
   "outputs": [
    {
     "data": {
      "text/html": [
       "<div>\n",
       "<style scoped>\n",
       "    .dataframe tbody tr th:only-of-type {\n",
       "        vertical-align: middle;\n",
       "    }\n",
       "\n",
       "    .dataframe tbody tr th {\n",
       "        vertical-align: top;\n",
       "    }\n",
       "\n",
       "    .dataframe thead th {\n",
       "        text-align: right;\n",
       "    }\n",
       "</style>\n",
       "<table border=\"1\" class=\"dataframe\">\n",
       "  <thead>\n",
       "    <tr style=\"text-align: right;\">\n",
       "      <th></th>\n",
       "      <th>PanelID</th>\n",
       "      <th>X</th>\n",
       "      <th>Y</th>\n",
       "      <th>Max_Visibi</th>\n",
       "      <th>Average_Da</th>\n",
       "      <th>coords</th>\n",
       "      <th>address_road</th>\n",
       "      <th>concelho</th>\n",
       "      <th>freguesia</th>\n",
       "      <th>distrito</th>\n",
       "      <th>is_national_road</th>\n",
       "      <th>is_highway</th>\n",
       "      <th>is_city_center</th>\n",
       "      <th>nbr_points_around_billboard</th>\n",
       "      <th>average_people_around_billboard</th>\n",
       "      <th>std_people_around_billboard</th>\n",
       "      <th>diff_to_neighbourhood</th>\n",
       "    </tr>\n",
       "  </thead>\n",
       "  <tbody>\n",
       "    <tr>\n",
       "      <th>1057</th>\n",
       "      <td>14609</td>\n",
       "      <td>-7.839479</td>\n",
       "      <td>37.031645</td>\n",
       "      <td>89</td>\n",
       "      <td>514.0</td>\n",
       "      <td>[[-7.839479, 37.031645]]</td>\n",
       "      <td>Praceta José Leal Júnior</td>\n",
       "      <td>Olhão</td>\n",
       "      <td>None</td>\n",
       "      <td>Faro</td>\n",
       "      <td>False</td>\n",
       "      <td>False</td>\n",
       "      <td>True</td>\n",
       "      <td>28</td>\n",
       "      <td>18629.642857</td>\n",
       "      <td>8628.288877</td>\n",
       "      <td>-18115.642857</td>\n",
       "    </tr>\n",
       "    <tr>\n",
       "      <th>8820</th>\n",
       "      <td>14608</td>\n",
       "      <td>-7.839473</td>\n",
       "      <td>37.031647</td>\n",
       "      <td>89</td>\n",
       "      <td>3657.0</td>\n",
       "      <td>[[-7.839473, 37.031647]]</td>\n",
       "      <td>Praceta José Leal Júnior</td>\n",
       "      <td>Olhão</td>\n",
       "      <td>None</td>\n",
       "      <td>Faro</td>\n",
       "      <td>False</td>\n",
       "      <td>False</td>\n",
       "      <td>True</td>\n",
       "      <td>28</td>\n",
       "      <td>18629.642857</td>\n",
       "      <td>8628.288877</td>\n",
       "      <td>-14972.642857</td>\n",
       "    </tr>\n",
       "    <tr>\n",
       "      <th>1267</th>\n",
       "      <td>6273</td>\n",
       "      <td>-8.885145</td>\n",
       "      <td>40.169839</td>\n",
       "      <td>69</td>\n",
       "      <td>628.0</td>\n",
       "      <td>[[-8.885145, 40.169839]]</td>\n",
       "      <td>Rua Dona Maria</td>\n",
       "      <td>Figueira da Foz</td>\n",
       "      <td>None</td>\n",
       "      <td>Coimbra</td>\n",
       "      <td>False</td>\n",
       "      <td>False</td>\n",
       "      <td>True</td>\n",
       "      <td>12</td>\n",
       "      <td>15455.833333</td>\n",
       "      <td>13779.421050</td>\n",
       "      <td>-14827.833333</td>\n",
       "    </tr>\n",
       "    <tr>\n",
       "      <th>1407</th>\n",
       "      <td>6274</td>\n",
       "      <td>-8.885147</td>\n",
       "      <td>40.169840</td>\n",
       "      <td>69</td>\n",
       "      <td>687.0</td>\n",
       "      <td>[[-8.885147, 40.16984]]</td>\n",
       "      <td>Rua Dona Maria</td>\n",
       "      <td>Figueira da Foz</td>\n",
       "      <td>None</td>\n",
       "      <td>Coimbra</td>\n",
       "      <td>False</td>\n",
       "      <td>False</td>\n",
       "      <td>True</td>\n",
       "      <td>12</td>\n",
       "      <td>15455.833333</td>\n",
       "      <td>13779.421050</td>\n",
       "      <td>-14768.833333</td>\n",
       "    </tr>\n",
       "    <tr>\n",
       "      <th>62</th>\n",
       "      <td>6285</td>\n",
       "      <td>-8.848601</td>\n",
       "      <td>40.148077</td>\n",
       "      <td>69</td>\n",
       "      <td>51.0</td>\n",
       "      <td>[[-8.848601, 40.148077]]</td>\n",
       "      <td>Avenida Saraiva de Carvalho</td>\n",
       "      <td>Figueira da Foz</td>\n",
       "      <td>None</td>\n",
       "      <td>Coimbra</td>\n",
       "      <td>False</td>\n",
       "      <td>False</td>\n",
       "      <td>True</td>\n",
       "      <td>45</td>\n",
       "      <td>14669.111111</td>\n",
       "      <td>17086.656032</td>\n",
       "      <td>-14618.111111</td>\n",
       "    </tr>\n",
       "  </tbody>\n",
       "</table>\n",
       "</div>"
      ],
      "text/plain": [
       "      PanelID         X          Y  Max_Visibi  Average_Da  \\\n",
       "1057    14609 -7.839479  37.031645          89       514.0   \n",
       "8820    14608 -7.839473  37.031647          89      3657.0   \n",
       "1267     6273 -8.885145  40.169839          69       628.0   \n",
       "1407     6274 -8.885147  40.169840          69       687.0   \n",
       "62       6285 -8.848601  40.148077          69        51.0   \n",
       "\n",
       "                        coords                 address_road         concelho  \\\n",
       "1057  [[-7.839479, 37.031645]]     Praceta José Leal Júnior            Olhão   \n",
       "8820  [[-7.839473, 37.031647]]     Praceta José Leal Júnior            Olhão   \n",
       "1267  [[-8.885145, 40.169839]]               Rua Dona Maria  Figueira da Foz   \n",
       "1407   [[-8.885147, 40.16984]]               Rua Dona Maria  Figueira da Foz   \n",
       "62    [[-8.848601, 40.148077]]  Avenida Saraiva de Carvalho  Figueira da Foz   \n",
       "\n",
       "     freguesia distrito  is_national_road  is_highway  is_city_center  \\\n",
       "1057      None     Faro             False       False            True   \n",
       "8820      None     Faro             False       False            True   \n",
       "1267      None  Coimbra             False       False            True   \n",
       "1407      None  Coimbra             False       False            True   \n",
       "62        None  Coimbra             False       False            True   \n",
       "\n",
       "      nbr_points_around_billboard  average_people_around_billboard  \\\n",
       "1057                           28                     18629.642857   \n",
       "8820                           28                     18629.642857   \n",
       "1267                           12                     15455.833333   \n",
       "1407                           12                     15455.833333   \n",
       "62                             45                     14669.111111   \n",
       "\n",
       "      std_people_around_billboard  diff_to_neighbourhood  \n",
       "1057                  8628.288877          -18115.642857  \n",
       "8820                  8628.288877          -14972.642857  \n",
       "1267                 13779.421050          -14827.833333  \n",
       "1407                 13779.421050          -14768.833333  \n",
       "62                   17086.656032          -14618.111111  "
      ]
     },
     "execution_count": 142,
     "metadata": {},
     "output_type": "execute_result"
    }
   ],
   "source": [
    "df[df.nbr_points_around_billboard > 10].sort_values(by='diff_to_neighbourhood').head(5)"
   ]
  },
  {
   "cell_type": "code",
   "execution_count": 12,
   "metadata": {},
   "outputs": [
    {
     "data": {
      "text/html": [
       "<div>\n",
       "<style scoped>\n",
       "    .dataframe tbody tr th:only-of-type {\n",
       "        vertical-align: middle;\n",
       "    }\n",
       "\n",
       "    .dataframe tbody tr th {\n",
       "        vertical-align: top;\n",
       "    }\n",
       "\n",
       "    .dataframe thead th {\n",
       "        text-align: right;\n",
       "    }\n",
       "</style>\n",
       "<table border=\"1\" class=\"dataframe\">\n",
       "  <thead>\n",
       "    <tr style=\"text-align: right;\">\n",
       "      <th></th>\n",
       "      <th>PanelID</th>\n",
       "      <th>X</th>\n",
       "      <th>Y</th>\n",
       "      <th>Max_Visibi</th>\n",
       "      <th>Average_Da</th>\n",
       "      <th>coords</th>\n",
       "      <th>address_road</th>\n",
       "      <th>concelho</th>\n",
       "      <th>freguesia</th>\n",
       "      <th>distrito</th>\n",
       "      <th>is_national_road</th>\n",
       "      <th>is_highway</th>\n",
       "      <th>is_city_center</th>\n",
       "      <th>nbr_points_around_billboard</th>\n",
       "      <th>average_people_around_billboard</th>\n",
       "      <th>std_people_around_billboard</th>\n",
       "      <th>diff_to_neighbourhood</th>\n",
       "    </tr>\n",
       "  </thead>\n",
       "  <tbody>\n",
       "    <tr>\n",
       "      <th>0</th>\n",
       "      <td>26144</td>\n",
       "      <td>-8.473975</td>\n",
       "      <td>40.900768</td>\n",
       "      <td>69</td>\n",
       "      <td>31.0</td>\n",
       "      <td>[[-8.473975, 40.900768]]</td>\n",
       "      <td>Rua Alto das Casas</td>\n",
       "      <td>São João da Madeira</td>\n",
       "      <td>Macieira de Sarnes</td>\n",
       "      <td>Aveiro</td>\n",
       "      <td>False</td>\n",
       "      <td>False</td>\n",
       "      <td>True</td>\n",
       "      <td>25</td>\n",
       "      <td>5148.240000</td>\n",
       "      <td>4158.391442</td>\n",
       "      <td>-5117.240000</td>\n",
       "    </tr>\n",
       "    <tr>\n",
       "      <th>1</th>\n",
       "      <td>11714</td>\n",
       "      <td>-9.315949</td>\n",
       "      <td>38.958125</td>\n",
       "      <td>69</td>\n",
       "      <td>31.0</td>\n",
       "      <td>[[-9.315949, 38.958125]]</td>\n",
       "      <td>EN 9</td>\n",
       "      <td>Mafra</td>\n",
       "      <td>Barreiralva</td>\n",
       "      <td>Lisboa</td>\n",
       "      <td>True</td>\n",
       "      <td>False</td>\n",
       "      <td>False</td>\n",
       "      <td>9</td>\n",
       "      <td>998.333333</td>\n",
       "      <td>1228.854028</td>\n",
       "      <td>-967.333333</td>\n",
       "    </tr>\n",
       "    <tr>\n",
       "      <th>2</th>\n",
       "      <td>26109</td>\n",
       "      <td>-8.510079</td>\n",
       "      <td>40.871821</td>\n",
       "      <td>69</td>\n",
       "      <td>32.0</td>\n",
       "      <td>[[-8.510079, 40.871821]]</td>\n",
       "      <td>Rua Professor Doutor António Joaquim Ferreira ...</td>\n",
       "      <td>Oliveira de Azeméis</td>\n",
       "      <td>Vila de Cucujães</td>\n",
       "      <td>Aveiro</td>\n",
       "      <td>False</td>\n",
       "      <td>False</td>\n",
       "      <td>True</td>\n",
       "      <td>5</td>\n",
       "      <td>92.000000</td>\n",
       "      <td>44.181444</td>\n",
       "      <td>-60.000000</td>\n",
       "    </tr>\n",
       "  </tbody>\n",
       "</table>\n",
       "</div>"
      ],
      "text/plain": [
       "   PanelID         X          Y  Max_Visibi  Average_Da  \\\n",
       "0    26144 -8.473975  40.900768          69        31.0   \n",
       "1    11714 -9.315949  38.958125          69        31.0   \n",
       "2    26109 -8.510079  40.871821          69        32.0   \n",
       "\n",
       "                     coords  \\\n",
       "0  [[-8.473975, 40.900768]]   \n",
       "1  [[-9.315949, 38.958125]]   \n",
       "2  [[-8.510079, 40.871821]]   \n",
       "\n",
       "                                        address_road             concelho  \\\n",
       "0                                 Rua Alto das Casas  São João da Madeira   \n",
       "1                                               EN 9                Mafra   \n",
       "2  Rua Professor Doutor António Joaquim Ferreira ...  Oliveira de Azeméis   \n",
       "\n",
       "            freguesia distrito  is_national_road  is_highway  is_city_center  \\\n",
       "0  Macieira de Sarnes   Aveiro             False       False            True   \n",
       "1         Barreiralva   Lisboa              True       False           False   \n",
       "2    Vila de Cucujães   Aveiro             False       False            True   \n",
       "\n",
       "   nbr_points_around_billboard  average_people_around_billboard  \\\n",
       "0                           25                      5148.240000   \n",
       "1                            9                       998.333333   \n",
       "2                            5                        92.000000   \n",
       "\n",
       "   std_people_around_billboard  diff_to_neighbourhood  \n",
       "0                  4158.391442           -5117.240000  \n",
       "1                  1228.854028            -967.333333  \n",
       "2                    44.181444             -60.000000  "
      ]
     },
     "execution_count": 12,
     "metadata": {},
     "output_type": "execute_result"
    }
   ],
   "source": [
    "df.head(3)"
   ]
  },
  {
   "cell_type": "markdown",
   "metadata": {},
   "source": [
    "# Map"
   ]
  },
  {
   "cell_type": "code",
   "execution_count": 13,
   "metadata": {},
   "outputs": [
    {
     "data": {
      "text/html": [
       "<div>\n",
       "<style scoped>\n",
       "    .dataframe tbody tr th:only-of-type {\n",
       "        vertical-align: middle;\n",
       "    }\n",
       "\n",
       "    .dataframe tbody tr th {\n",
       "        vertical-align: top;\n",
       "    }\n",
       "\n",
       "    .dataframe thead th {\n",
       "        text-align: right;\n",
       "    }\n",
       "</style>\n",
       "<table border=\"1\" class=\"dataframe\">\n",
       "  <thead>\n",
       "    <tr style=\"text-align: right;\">\n",
       "      <th></th>\n",
       "      <th>PanelID</th>\n",
       "      <th>X</th>\n",
       "      <th>Y</th>\n",
       "      <th>Max_Visibi</th>\n",
       "      <th>Average_Da</th>\n",
       "      <th>coords</th>\n",
       "      <th>address_road</th>\n",
       "      <th>concelho</th>\n",
       "      <th>freguesia</th>\n",
       "      <th>distrito</th>\n",
       "      <th>is_national_road</th>\n",
       "      <th>is_highway</th>\n",
       "      <th>is_city_center</th>\n",
       "      <th>nbr_points_around_billboard</th>\n",
       "      <th>average_people_around_billboard</th>\n",
       "      <th>std_people_around_billboard</th>\n",
       "      <th>diff_to_neighbourhood</th>\n",
       "    </tr>\n",
       "  </thead>\n",
       "  <tbody>\n",
       "    <tr>\n",
       "      <th>16427</th>\n",
       "      <td>48084</td>\n",
       "      <td>-9.290662</td>\n",
       "      <td>38.75665</td>\n",
       "      <td>145</td>\n",
       "      <td>6422.0</td>\n",
       "      <td>[[-9.290662, 38.75665]]</td>\n",
       "      <td>IC 19;A 37</td>\n",
       "      <td>None</td>\n",
       "      <td>None</td>\n",
       "      <td>Lisboa</td>\n",
       "      <td>False</td>\n",
       "      <td>False</td>\n",
       "      <td>True</td>\n",
       "      <td>84</td>\n",
       "      <td>5694.178571</td>\n",
       "      <td>2809.481859</td>\n",
       "      <td>727.821429</td>\n",
       "    </tr>\n",
       "  </tbody>\n",
       "</table>\n",
       "</div>"
      ],
      "text/plain": [
       "       PanelID         X         Y  Max_Visibi  Average_Da  \\\n",
       "16427    48084 -9.290662  38.75665         145      6422.0   \n",
       "\n",
       "                        coords address_road concelho freguesia distrito  \\\n",
       "16427  [[-9.290662, 38.75665]]   IC 19;A 37     None      None   Lisboa   \n",
       "\n",
       "       is_national_road  is_highway  is_city_center  \\\n",
       "16427             False       False            True   \n",
       "\n",
       "       nbr_points_around_billboard  average_people_around_billboard  \\\n",
       "16427                           84                      5694.178571   \n",
       "\n",
       "       std_people_around_billboard  diff_to_neighbourhood  \n",
       "16427                  2809.481859             727.821429  "
      ]
     },
     "execution_count": 13,
     "metadata": {},
     "output_type": "execute_result"
    }
   ],
   "source": [
    "df[df.PanelID == 48084]"
   ]
  },
  {
   "cell_type": "code",
   "execution_count": 16,
   "metadata": {},
   "outputs": [],
   "source": [
    "df_sampling = df[df.distrito == 'Lisboa']"
   ]
  },
  {
   "cell_type": "code",
   "execution_count": 18,
   "metadata": {},
   "outputs": [],
   "source": [
    "import folium\n",
    "\n",
    "m = folium.Map(location=[38.760398,-9.190202], zoom_start=13)\n",
    "\n",
    "for indice, row in df_sampling.iterrows():\n",
    "      folium.CircleMarker(location=[row[\"Y\"], row[\"X\"]],\n",
    "                          color=\"crimson\", fill_color=\"crimson\", tooltip=row[\"PanelID\"], fill=True,\n",
    "                          radius=3).add_to(m)\n",
    "        \n",
    "        \n",
    "# m"
   ]
  },
  {
   "cell_type": "code",
   "execution_count": null,
   "metadata": {},
   "outputs": [],
   "source": [
    "df.groupby(['X', 'Y']).PanelID.count().sort_values()"
   ]
  },
  {
   "cell_type": "code",
   "execution_count": null,
   "metadata": {},
   "outputs": [],
   "source": [
    "df.X.value_counts()"
   ]
  },
  {
   "cell_type": "code",
   "execution_count": null,
   "metadata": {},
   "outputs": [],
   "source": [
    "df[df.X == -9.128028]# 38.620447]]]"
   ]
  },
  {
   "cell_type": "code",
   "execution_count": null,
   "metadata": {},
   "outputs": [],
   "source": [
    "import seaborn as sns\n",
    "\n",
    "sns.distplot(df.Max_Visibi)"
   ]
  },
  {
   "cell_type": "code",
   "execution_count": null,
   "metadata": {},
   "outputs": [],
   "source": [
    "df.Max_Visibi.value_counts()"
   ]
  },
  {
   "cell_type": "code",
   "execution_count": null,
   "metadata": {},
   "outputs": [],
   "source": []
  }
 ],
 "metadata": {
  "kernelspec": {
   "display_name": "Python 3",
   "language": "python",
   "name": "python3"
  },
  "language_info": {
   "codemirror_mode": {
    "name": "ipython",
    "version": 3
   },
   "file_extension": ".py",
   "mimetype": "text/x-python",
   "name": "python",
   "nbconvert_exporter": "python",
   "pygments_lexer": "ipython3",
   "version": "3.8.5"
  }
 },
 "nbformat": 4,
 "nbformat_minor": 4
}
