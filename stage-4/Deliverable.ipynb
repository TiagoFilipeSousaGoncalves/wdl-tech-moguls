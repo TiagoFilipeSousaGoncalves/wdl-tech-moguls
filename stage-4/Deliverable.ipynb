{
 "cells": [
  {
   "cell_type": "code",
   "execution_count": 1,
   "metadata": {},
   "outputs": [],
   "source": [
    "# !pip install pyshp\n",
    "import pandas as pd\n",
    "import pickle\n",
    "from scipy.spatial import cKDTree\n",
    "import numpy as np\n",
    "\n",
    "def read_shapefile(shp_path):\n",
    "    \"\"\"\n",
    "    Read a shapefile into a Pandas dataframe with a 'coords' column holding\n",
    "    the geometry information. This uses the pyshp package\n",
    "    \"\"\"\n",
    "    import shapefile\n",
    "\n",
    "    #read file, parse out the records and shapes\n",
    "    sf = shapefile.Reader(shp_path)\n",
    "    fields = [x[0] for x in sf.fields][1:]\n",
    "    records = sf.records()\n",
    "    shps = [s.points for s in sf.shapes()]\n",
    "\n",
    "    #write into a dataframe\n",
    "    df = pd.DataFrame(columns=fields, data=records)\n",
    "    df = df.assign(coords=shps)\n",
    "\n",
    "    return df"
   ]
  },
  {
   "cell_type": "code",
   "execution_count": 2,
   "metadata": {},
   "outputs": [],
   "source": [
    "df = read_shapefile('data/outdoor_inventory/Outdoor_Inventory_AV.shp')"
   ]
  },
  {
   "cell_type": "code",
   "execution_count": 3,
   "metadata": {},
   "outputs": [],
   "source": [
    "reverse_coords_list = pd.read_pickle('data/reverse_loc.pickle')"
   ]
  },
  {
   "cell_type": "code",
   "execution_count": 4,
   "metadata": {},
   "outputs": [],
   "source": [
    "df['address_road'] = [x.get('address').get('road') for x in reverse_coords_list]\n",
    "df['concelho'] = [x.get('address').get('town') for x in reverse_coords_list]\n",
    "df['freguesia'] = [x.get('address').get('village') if 'village' in x.get('address') else x.get('address').get('neighbourhood') for x in reverse_coords_list]\n",
    "df['distrito'] = [x.get('address').get('county') for x in reverse_coords_list]"
   ]
  },
  {
   "cell_type": "code",
   "execution_count": 5,
   "metadata": {},
   "outputs": [],
   "source": [
    "df['address_road'] = df['address_road'].fillna('')\n",
    "df['is_national_road'] = df['address_road'].str.contains('EN')\n",
    "df['is_highway'] = df['address_road'].str.contains('Auto')\n",
    "df['is_city_center'] = (~df['is_national_road']) & (~df['is_highway']) & (df['address_road'] != '')"
   ]
  },
  {
   "cell_type": "code",
   "execution_count": 6,
   "metadata": {},
   "outputs": [
    {
     "data": {
      "text/html": [
       "<div>\n",
       "<style scoped>\n",
       "    .dataframe tbody tr th:only-of-type {\n",
       "        vertical-align: middle;\n",
       "    }\n",
       "\n",
       "    .dataframe tbody tr th {\n",
       "        vertical-align: top;\n",
       "    }\n",
       "\n",
       "    .dataframe thead th {\n",
       "        text-align: right;\n",
       "    }\n",
       "</style>\n",
       "<table border=\"1\" class=\"dataframe\">\n",
       "  <thead>\n",
       "    <tr style=\"text-align: right;\">\n",
       "      <th></th>\n",
       "      <th>PanelID</th>\n",
       "      <th>X</th>\n",
       "      <th>Y</th>\n",
       "      <th>Max_Visibi</th>\n",
       "      <th>Average_Da</th>\n",
       "      <th>coords</th>\n",
       "      <th>address_road</th>\n",
       "      <th>concelho</th>\n",
       "      <th>freguesia</th>\n",
       "      <th>distrito</th>\n",
       "      <th>is_national_road</th>\n",
       "      <th>is_highway</th>\n",
       "      <th>is_city_center</th>\n",
       "    </tr>\n",
       "  </thead>\n",
       "  <tbody>\n",
       "    <tr>\n",
       "      <th>0</th>\n",
       "      <td>26144</td>\n",
       "      <td>-8.473975</td>\n",
       "      <td>40.900768</td>\n",
       "      <td>69</td>\n",
       "      <td>31.0</td>\n",
       "      <td>[[-8.473975, 40.900768]]</td>\n",
       "      <td>Rua Alto das Casas</td>\n",
       "      <td>São João da Madeira</td>\n",
       "      <td>Macieira de Sarnes</td>\n",
       "      <td>Aveiro</td>\n",
       "      <td>False</td>\n",
       "      <td>False</td>\n",
       "      <td>True</td>\n",
       "    </tr>\n",
       "    <tr>\n",
       "      <th>1</th>\n",
       "      <td>11714</td>\n",
       "      <td>-9.315949</td>\n",
       "      <td>38.958125</td>\n",
       "      <td>69</td>\n",
       "      <td>31.0</td>\n",
       "      <td>[[-9.315949, 38.958125]]</td>\n",
       "      <td>EN 9</td>\n",
       "      <td>Mafra</td>\n",
       "      <td>Barreiralva</td>\n",
       "      <td>Lisboa</td>\n",
       "      <td>True</td>\n",
       "      <td>False</td>\n",
       "      <td>False</td>\n",
       "    </tr>\n",
       "    <tr>\n",
       "      <th>2</th>\n",
       "      <td>26109</td>\n",
       "      <td>-8.510079</td>\n",
       "      <td>40.871821</td>\n",
       "      <td>69</td>\n",
       "      <td>32.0</td>\n",
       "      <td>[[-8.510079, 40.871821]]</td>\n",
       "      <td>Rua Professor Doutor António Joaquim Ferreira ...</td>\n",
       "      <td>Oliveira de Azeméis</td>\n",
       "      <td>Vila de Cucujães</td>\n",
       "      <td>Aveiro</td>\n",
       "      <td>False</td>\n",
       "      <td>False</td>\n",
       "      <td>True</td>\n",
       "    </tr>\n",
       "  </tbody>\n",
       "</table>\n",
       "</div>"
      ],
      "text/plain": [
       "   PanelID         X          Y  Max_Visibi  Average_Da  \\\n",
       "0    26144 -8.473975  40.900768          69        31.0   \n",
       "1    11714 -9.315949  38.958125          69        31.0   \n",
       "2    26109 -8.510079  40.871821          69        32.0   \n",
       "\n",
       "                     coords  \\\n",
       "0  [[-8.473975, 40.900768]]   \n",
       "1  [[-9.315949, 38.958125]]   \n",
       "2  [[-8.510079, 40.871821]]   \n",
       "\n",
       "                                        address_road             concelho  \\\n",
       "0                                 Rua Alto das Casas  São João da Madeira   \n",
       "1                                               EN 9                Mafra   \n",
       "2  Rua Professor Doutor António Joaquim Ferreira ...  Oliveira de Azeméis   \n",
       "\n",
       "            freguesia distrito  is_national_road  is_highway  is_city_center  \n",
       "0  Macieira de Sarnes   Aveiro             False       False            True  \n",
       "1         Barreiralva   Lisboa              True       False           False  \n",
       "2    Vila de Cucujães   Aveiro             False       False            True  "
      ]
     },
     "execution_count": 6,
     "metadata": {},
     "output_type": "execute_result"
    }
   ],
   "source": [
    "df.head(3)"
   ]
  },
  {
   "cell_type": "code",
   "execution_count": 7,
   "metadata": {},
   "outputs": [],
   "source": [
    "# https://geoffboeing.com/2014/08/clustering-to-reduce-spatial-data-set-size/\n",
    "# https://stackoverflow.com/questions/43592094/efficient-way-to-calculate-geographic-density-in-pandas \n",
    "# https://stackoverflow.com/questions/34579213/dbscan-for-clustering-of-geographic-location-data \n",
    "\n",
    "def find_neighbours_within_radius(xy, radius):\n",
    "    tree = cKDTree(xy)\n",
    "    within_radius = tree.query_ball_tree(tree, r=radius)\n",
    "    return within_radius"
   ]
  },
  {
   "cell_type": "code",
   "execution_count": 8,
   "metadata": {},
   "outputs": [],
   "source": [
    "def get_density_billboards(df):\n",
    "    \"\"\"\n",
    "    Calculate number of billboards in a X km radius for each point\n",
    "    \"\"\"\n",
    "    \n",
    "    df_copy = df.copy()\n",
    "\n",
    "    import numpy as np\n",
    "\n",
    "    kms_per_radian = 6371.0088\n",
    "    radius = 1.5\n",
    "    neighbours_within_radius = find_neighbours_within_radius(np.radians(df_copy[['Y', 'X']].values), radius/kms_per_radian)\n",
    "\n",
    "    df_copy['nbr_points_around_billboard'] = [len(x) for x in neighbours_within_radius]\n",
    "\n",
    "    return df_copy, neighbours_within_radius"
   ]
  },
  {
   "cell_type": "code",
   "execution_count": 9,
   "metadata": {},
   "outputs": [],
   "source": [
    "df, neighbours_within_radius = get_density_billboards(df)"
   ]
  },
  {
   "cell_type": "code",
   "execution_count": 10,
   "metadata": {},
   "outputs": [
    {
     "data": {
      "text/plain": [
       "[0,\n",
       " 792,\n",
       " 1060,\n",
       " 1686,\n",
       " 4455,\n",
       " 5095,\n",
       " 5225,\n",
       " 5485,\n",
       " 7093,\n",
       " 7362,\n",
       " 8007,\n",
       " 8703,\n",
       " 8933,\n",
       " 12413,\n",
       " 12768,\n",
       " 13477,\n",
       " 15485,\n",
       " 16590,\n",
       " 18603,\n",
       " 19241,\n",
       " 21358,\n",
       " 21619,\n",
       " 24057,\n",
       " 24927,\n",
       " 28937]"
      ]
     },
     "execution_count": 10,
     "metadata": {},
     "output_type": "execute_result"
    }
   ],
   "source": [
    "neighbours_within_radius[0]"
   ]
  },
  {
   "cell_type": "code",
   "execution_count": 11,
   "metadata": {},
   "outputs": [
    {
     "data": {
      "text/plain": [
       "(X                     -8.473975\n",
       " Y                     40.900768\n",
       " freguesia    Macieira de Sarnes\n",
       " Name: 0, dtype: object,\n",
       " X            -8.432738\n",
       " Y            40.214686\n",
       " freguesia         None\n",
       " Name: 24, dtype: object,\n",
       " Distance(0.6677214916495565))"
      ]
     },
     "execution_count": 11,
     "metadata": {},
     "output_type": "execute_result"
    }
   ],
   "source": [
    "from geopy import distance\n",
    "df.iloc[0][['X', 'Y', 'freguesia']], df.iloc[24][['X', 'Y', 'freguesia']], distance.distance((38.9581, -9.31595), (38.9639, -9.31799))"
   ]
  },
  {
   "cell_type": "code",
   "execution_count": 12,
   "metadata": {},
   "outputs": [],
   "source": [
    "df['average_people_around_billboard'] = [np.mean(df.iloc[x].Average_Da) for x in neighbours_within_radius]\n",
    "df['std_people_around_billboard'] = [np.std(df.iloc[x].Average_Da) for x in neighbours_within_radius]\n",
    "\n",
    "# points where this value is very negative are just visual noise, they make no impact\n",
    "# retirar N billboards por concelho\n",
    "df['diff_to_neighbourhood'] = df['Average_Da'] - df['average_people_around_billboard']\n",
    "\n",
    "# sitios maus: sitios com pouca gente, e que tens muita gente a volta. As pessoas estão a passar pelos outros, e não pelo teu. \n",
    "# zonas com muita densidade: estamos a dividir a eficiencia de marketing com outras empresas\n",
    "\n",
    "# Locais para novos billboards?"
   ]
  },
  {
   "cell_type": "code",
   "execution_count": 13,
   "metadata": {},
   "outputs": [
    {
     "data": {
      "text/html": [
       "<div>\n",
       "<style scoped>\n",
       "    .dataframe tbody tr th:only-of-type {\n",
       "        vertical-align: middle;\n",
       "    }\n",
       "\n",
       "    .dataframe tbody tr th {\n",
       "        vertical-align: top;\n",
       "    }\n",
       "\n",
       "    .dataframe thead th {\n",
       "        text-align: right;\n",
       "    }\n",
       "</style>\n",
       "<table border=\"1\" class=\"dataframe\">\n",
       "  <thead>\n",
       "    <tr style=\"text-align: right;\">\n",
       "      <th></th>\n",
       "      <th>PanelID</th>\n",
       "      <th>X</th>\n",
       "      <th>Y</th>\n",
       "      <th>Max_Visibi</th>\n",
       "      <th>Average_Da</th>\n",
       "      <th>coords</th>\n",
       "      <th>address_road</th>\n",
       "      <th>concelho</th>\n",
       "      <th>freguesia</th>\n",
       "      <th>distrito</th>\n",
       "      <th>is_national_road</th>\n",
       "      <th>is_highway</th>\n",
       "      <th>is_city_center</th>\n",
       "      <th>nbr_points_around_billboard</th>\n",
       "      <th>average_people_around_billboard</th>\n",
       "      <th>std_people_around_billboard</th>\n",
       "      <th>diff_to_neighbourhood</th>\n",
       "    </tr>\n",
       "  </thead>\n",
       "  <tbody>\n",
       "    <tr>\n",
       "      <th>0</th>\n",
       "      <td>26144</td>\n",
       "      <td>-8.473975</td>\n",
       "      <td>40.900768</td>\n",
       "      <td>69</td>\n",
       "      <td>31.0</td>\n",
       "      <td>[[-8.473975, 40.900768]]</td>\n",
       "      <td>Rua Alto das Casas</td>\n",
       "      <td>São João da Madeira</td>\n",
       "      <td>Macieira de Sarnes</td>\n",
       "      <td>Aveiro</td>\n",
       "      <td>False</td>\n",
       "      <td>False</td>\n",
       "      <td>True</td>\n",
       "      <td>25</td>\n",
       "      <td>5148.240000</td>\n",
       "      <td>4158.391442</td>\n",
       "      <td>-5117.240000</td>\n",
       "    </tr>\n",
       "    <tr>\n",
       "      <th>1</th>\n",
       "      <td>11714</td>\n",
       "      <td>-9.315949</td>\n",
       "      <td>38.958125</td>\n",
       "      <td>69</td>\n",
       "      <td>31.0</td>\n",
       "      <td>[[-9.315949, 38.958125]]</td>\n",
       "      <td>EN 9</td>\n",
       "      <td>Mafra</td>\n",
       "      <td>Barreiralva</td>\n",
       "      <td>Lisboa</td>\n",
       "      <td>True</td>\n",
       "      <td>False</td>\n",
       "      <td>False</td>\n",
       "      <td>9</td>\n",
       "      <td>998.333333</td>\n",
       "      <td>1228.854028</td>\n",
       "      <td>-967.333333</td>\n",
       "    </tr>\n",
       "    <tr>\n",
       "      <th>2</th>\n",
       "      <td>26109</td>\n",
       "      <td>-8.510079</td>\n",
       "      <td>40.871821</td>\n",
       "      <td>69</td>\n",
       "      <td>32.0</td>\n",
       "      <td>[[-8.510079, 40.871821]]</td>\n",
       "      <td>Rua Professor Doutor António Joaquim Ferreira ...</td>\n",
       "      <td>Oliveira de Azeméis</td>\n",
       "      <td>Vila de Cucujães</td>\n",
       "      <td>Aveiro</td>\n",
       "      <td>False</td>\n",
       "      <td>False</td>\n",
       "      <td>True</td>\n",
       "      <td>5</td>\n",
       "      <td>92.000000</td>\n",
       "      <td>44.181444</td>\n",
       "      <td>-60.000000</td>\n",
       "    </tr>\n",
       "  </tbody>\n",
       "</table>\n",
       "</div>"
      ],
      "text/plain": [
       "   PanelID         X          Y  Max_Visibi  Average_Da  \\\n",
       "0    26144 -8.473975  40.900768          69        31.0   \n",
       "1    11714 -9.315949  38.958125          69        31.0   \n",
       "2    26109 -8.510079  40.871821          69        32.0   \n",
       "\n",
       "                     coords  \\\n",
       "0  [[-8.473975, 40.900768]]   \n",
       "1  [[-9.315949, 38.958125]]   \n",
       "2  [[-8.510079, 40.871821]]   \n",
       "\n",
       "                                        address_road             concelho  \\\n",
       "0                                 Rua Alto das Casas  São João da Madeira   \n",
       "1                                               EN 9                Mafra   \n",
       "2  Rua Professor Doutor António Joaquim Ferreira ...  Oliveira de Azeméis   \n",
       "\n",
       "            freguesia distrito  is_national_road  is_highway  is_city_center  \\\n",
       "0  Macieira de Sarnes   Aveiro             False       False            True   \n",
       "1         Barreiralva   Lisboa              True       False           False   \n",
       "2    Vila de Cucujães   Aveiro             False       False            True   \n",
       "\n",
       "   nbr_points_around_billboard  average_people_around_billboard  \\\n",
       "0                           25                      5148.240000   \n",
       "1                            9                       998.333333   \n",
       "2                            5                        92.000000   \n",
       "\n",
       "   std_people_around_billboard  diff_to_neighbourhood  \n",
       "0                  4158.391442           -5117.240000  \n",
       "1                  1228.854028            -967.333333  \n",
       "2                    44.181444             -60.000000  "
      ]
     },
     "execution_count": 13,
     "metadata": {},
     "output_type": "execute_result"
    }
   ],
   "source": [
    "df[df.diff_to_neighbourhood < 0].head(3)"
   ]
  },
  {
   "cell_type": "code",
   "execution_count": 14,
   "metadata": {},
   "outputs": [
    {
     "data": {
      "text/html": [
       "<div>\n",
       "<style scoped>\n",
       "    .dataframe tbody tr th:only-of-type {\n",
       "        vertical-align: middle;\n",
       "    }\n",
       "\n",
       "    .dataframe tbody tr th {\n",
       "        vertical-align: top;\n",
       "    }\n",
       "\n",
       "    .dataframe thead th {\n",
       "        text-align: right;\n",
       "    }\n",
       "</style>\n",
       "<table border=\"1\" class=\"dataframe\">\n",
       "  <thead>\n",
       "    <tr style=\"text-align: right;\">\n",
       "      <th></th>\n",
       "      <th>PanelID</th>\n",
       "      <th>X</th>\n",
       "      <th>Y</th>\n",
       "      <th>Max_Visibi</th>\n",
       "      <th>Average_Da</th>\n",
       "      <th>coords</th>\n",
       "      <th>address_road</th>\n",
       "      <th>concelho</th>\n",
       "      <th>freguesia</th>\n",
       "      <th>distrito</th>\n",
       "      <th>is_national_road</th>\n",
       "      <th>is_highway</th>\n",
       "      <th>is_city_center</th>\n",
       "      <th>nbr_points_around_billboard</th>\n",
       "      <th>average_people_around_billboard</th>\n",
       "      <th>std_people_around_billboard</th>\n",
       "      <th>diff_to_neighbourhood</th>\n",
       "    </tr>\n",
       "  </thead>\n",
       "  <tbody>\n",
       "    <tr>\n",
       "      <th>9</th>\n",
       "      <td>34634</td>\n",
       "      <td>-9.143221</td>\n",
       "      <td>38.710728</td>\n",
       "      <td>63</td>\n",
       "      <td>34.0</td>\n",
       "      <td>[[-9.143221, 38.710728]]</td>\n",
       "      <td>Praça Luís de Camões</td>\n",
       "      <td>None</td>\n",
       "      <td>Encarnação</td>\n",
       "      <td>Lisboa</td>\n",
       "      <td>False</td>\n",
       "      <td>False</td>\n",
       "      <td>True</td>\n",
       "      <td>597</td>\n",
       "      <td>10221.666108</td>\n",
       "      <td>8226.519490</td>\n",
       "      <td>-10187.666108</td>\n",
       "    </tr>\n",
       "    <tr>\n",
       "      <th>17</th>\n",
       "      <td>31707</td>\n",
       "      <td>-8.673731</td>\n",
       "      <td>41.179162</td>\n",
       "      <td>69</td>\n",
       "      <td>36.0</td>\n",
       "      <td>[[-8.673731, 41.179162]]</td>\n",
       "      <td>Avenida Vilagarcía de Arousa</td>\n",
       "      <td>Matosinhos</td>\n",
       "      <td>Real</td>\n",
       "      <td>Porto</td>\n",
       "      <td>False</td>\n",
       "      <td>False</td>\n",
       "      <td>True</td>\n",
       "      <td>303</td>\n",
       "      <td>6715.917492</td>\n",
       "      <td>5454.125083</td>\n",
       "      <td>-6679.917492</td>\n",
       "    </tr>\n",
       "    <tr>\n",
       "      <th>36</th>\n",
       "      <td>49291</td>\n",
       "      <td>-9.204441</td>\n",
       "      <td>38.710662</td>\n",
       "      <td>71</td>\n",
       "      <td>43.0</td>\n",
       "      <td>[[-9.204441, 38.710662]]</td>\n",
       "      <td>Avenida Helen Keller</td>\n",
       "      <td>None</td>\n",
       "      <td>None</td>\n",
       "      <td>Lisboa</td>\n",
       "      <td>False</td>\n",
       "      <td>False</td>\n",
       "      <td>True</td>\n",
       "      <td>303</td>\n",
       "      <td>8898.735974</td>\n",
       "      <td>6511.957892</td>\n",
       "      <td>-8855.735974</td>\n",
       "    </tr>\n",
       "  </tbody>\n",
       "</table>\n",
       "</div>"
      ],
      "text/plain": [
       "    PanelID         X          Y  Max_Visibi  Average_Da  \\\n",
       "9     34634 -9.143221  38.710728          63        34.0   \n",
       "17    31707 -8.673731  41.179162          69        36.0   \n",
       "36    49291 -9.204441  38.710662          71        43.0   \n",
       "\n",
       "                      coords                  address_road    concelho  \\\n",
       "9   [[-9.143221, 38.710728]]          Praça Luís de Camões        None   \n",
       "17  [[-8.673731, 41.179162]]  Avenida Vilagarcía de Arousa  Matosinhos   \n",
       "36  [[-9.204441, 38.710662]]          Avenida Helen Keller        None   \n",
       "\n",
       "     freguesia distrito  is_national_road  is_highway  is_city_center  \\\n",
       "9   Encarnação   Lisboa             False       False            True   \n",
       "17        Real    Porto             False       False            True   \n",
       "36        None   Lisboa             False       False            True   \n",
       "\n",
       "    nbr_points_around_billboard  average_people_around_billboard  \\\n",
       "9                           597                     10221.666108   \n",
       "17                          303                      6715.917492   \n",
       "36                          303                      8898.735974   \n",
       "\n",
       "    std_people_around_billboard  diff_to_neighbourhood  \n",
       "9                   8226.519490          -10187.666108  \n",
       "17                  5454.125083           -6679.917492  \n",
       "36                  6511.957892           -8855.735974  "
      ]
     },
     "execution_count": 14,
     "metadata": {},
     "output_type": "execute_result"
    }
   ],
   "source": [
    "df[df.nbr_points_around_billboard > 200].head(3)"
   ]
  },
  {
   "cell_type": "markdown",
   "metadata": {},
   "source": [
    "# Metaheuristics: Billboard optimization"
   ]
  },
  {
   "cell_type": "code",
   "execution_count": 15,
   "metadata": {},
   "outputs": [],
   "source": [
    "# Focus on lisbon\n",
    "\n",
    "df = df[df['distrito'] == 'Lisboa'].reset_index()"
   ]
  },
  {
   "cell_type": "code",
   "execution_count": 16,
   "metadata": {},
   "outputs": [],
   "source": [
    "def fitness(df):\n",
    "    \"\"\"\n",
    "    Fitness function, which we want to minimize\n",
    "    \"\"\"\n",
    "    \n",
    "    # Get billboard density\n",
    "    df, _ = get_density_billboards(df)\n",
    "\n",
    "    max_density = df['nbr_points_around_billboard'].mean()\n",
    "    total_number_of_views = df['Average_Da'].sum()\n",
    "    return max_density # + total_number_of_views"
   ]
  },
  {
   "cell_type": "code",
   "execution_count": 17,
   "metadata": {},
   "outputs": [
    {
     "data": {
      "text/plain": [
       "382.6084085051546"
      ]
     },
     "execution_count": 17,
     "metadata": {},
     "output_type": "execute_result"
    }
   ],
   "source": [
    "fitness(df)"
   ]
  },
  {
   "cell_type": "code",
   "execution_count": 18,
   "metadata": {},
   "outputs": [],
   "source": [
    "# We might have different impressions for the same coordinate (maybe diff directions of traffic?) so let's average it out\n",
    "\n",
    "MEAN_IMPRESSIONS_PER_COORD = df.groupby(['X', 'Y']).Average_Da.mean().reset_index()"
   ]
  },
  {
   "cell_type": "code",
   "execution_count": 21,
   "metadata": {},
   "outputs": [
    {
     "data": {
      "text/plain": [
       "((12416, 18), 12416)"
      ]
     },
     "execution_count": 21,
     "metadata": {},
     "output_type": "execute_result"
    }
   ],
   "source": [
    "df.shape, len(df)"
   ]
  },
  {
   "cell_type": "code",
   "execution_count": 20,
   "metadata": {},
   "outputs": [],
   "source": [
    "def get_neighbours(df, nbr_neighbours):\n",
    "    \"\"\"\n",
    "    Creates a list of size nbr_neighbours with potential swaps of coordinates.\n",
    "    \n",
    "    It first picks random samples from MEAN_IMPRESSIONS_PER_COORD, random positions in df and allocates those values.\n",
    "    \"\"\"\n",
    "    \n",
    "    neighbors = []\n",
    "    \n",
    "    # Pick new positions for swapping random elements of df\n",
    "    sampled_coords = MEAN_IMPRESSIONS_PER_COORD.sample(nbr_neighbours).reset_index()\n",
    "    \n",
    "    for i in range(nbr_neighbours):\n",
    "        \n",
    "        df_copy = df.copy()\n",
    "\n",
    "        # Pick a random number between 0 and len(df)\n",
    "        random_number = np.random.randint(0, len(df_copy))\n",
    "                    \n",
    "        # Replace by the Average_Da at that position\n",
    "        df_copy.loc[random_number, ['X', 'Y', 'Average_Da']] = sampled_coords.loc[i, ['X', 'Y', 'Average_Da']]\n",
    "                \n",
    "        neighbors.append(df_copy)\n",
    "    \n",
    "    return neighbors"
   ]
  },
  {
   "cell_type": "code",
   "execution_count": 30,
   "metadata": {},
   "outputs": [
    {
     "data": {
      "text/plain": [
       "'\\nTo implement:\\n    Neighborhood that \\n    floor assignment\\n    \\nclass ShufflePerturbation(Neighborhood):\\n    def __init__(self, prob=0.1):\\n        self.prob = prob\\n\\n    def compute(self, solution):\\n        ret = solution.clone()\\n\\n        maxlen = len(ret.assignment)\\n\\n        mask = np.random.random(maxlen) <= self.prob\\n        mask = np.arange(maxlen)[mask]\\n\\n        values = ret.assignment[mask]\\n        np.random.shuffle(values)\\n\\n        ret.assignment[mask] = values\\n\\n        return [ret]\\n        \\n'"
      ]
     },
     "execution_count": 30,
     "metadata": {},
     "output_type": "execute_result"
    }
   ],
   "source": [
    "def shuffle_perturbation(neighbor, prob=0.1):\n",
    "    \"\"\"\n",
    "    Randomly shuffles a subset of positions in the generated neighbors.\n",
    "    \n",
    "    It picks a neighbor and generates a new neighbour with some of its positions shuffled according to a given probability.\n",
    "    \"\"\"\n",
    "    \n",
    "    # Create a copy of the neighbor\n",
    "    neighbor_copy = neighbor.copy()\n",
    "    \n",
    "    \n",
    "    # Get the length of this neighbor\n",
    "    neighbor_len = len(neighbor_copy)\n",
    "    \n",
    "    \n",
    "    # Create a mask of the positions that will shuffle\n",
    "    mask = np.random.random_sample((neighbor_len,)) <= prob\n",
    "    mask = np.arange(neighbor_len)[mask]\n",
    "    \n",
    "    \n",
    "    # Create a shuffled mask to change within these values\n",
    "    shuffled_mask = mask.copy()\n",
    "    \n",
    "    # Shuffle this mask\n",
    "    np.random.shuffle(shuffled_mask)\n",
    "    \n",
    "    # TODO: Create a list with assessed values to avoid \"overshuffling\"\n",
    "    \n",
    "    # TODO: This is only for debugging purposes for now\n",
    "    neighbor_copy.loc[mask, ['X', 'Y', 'Average_Da']] = neighbor_copy.loc[shuffled_mask, ['X', 'Y', 'Average_Da']]\n",
    "    \n",
    "    return neighbor_copy\n",
    "\n",
    "\"\"\"\n",
    "To implement:\n",
    "    Neighborhood that \n",
    "    floor assignment\n",
    "    \n",
    "class ShufflePerturbation(Neighborhood):\n",
    "    def __init__(self, prob=0.1):\n",
    "        self.prob = prob\n",
    "\n",
    "    def compute(self, solution):\n",
    "        ret = solution.clone()\n",
    "\n",
    "        maxlen = len(ret.assignment)\n",
    "\n",
    "        mask = np.random.random(maxlen) <= self.prob\n",
    "        mask = np.arange(maxlen)[mask]\n",
    "\n",
    "        values = ret.assignment[mask]\n",
    "        np.random.shuffle(values)\n",
    "\n",
    "        ret.assignment[mask] = values\n",
    "\n",
    "        return [ret]\n",
    "        \n",
    "\"\"\""
   ]
  },
  {
   "cell_type": "code",
   "execution_count": 31,
   "metadata": {},
   "outputs": [],
   "source": [
    "# TODO: Debugging stuff, erase uppon review\n",
    "# mask = np.random.random_sample((100,)) <= 0.1\n",
    "# print(mask)\n",
    "# mask = np.arange(100)[mask]\n",
    "# shuffled_mask = mask.copy() \n",
    "# np.random.shuffle(shuffled_mask)\n",
    "# mask, shuffled_mask"
   ]
  },
  {
   "cell_type": "code",
   "execution_count": 32,
   "metadata": {},
   "outputs": [],
   "source": [
    "neighbors_it_1 = get_neighbours(df, 5)"
   ]
  },
  {
   "cell_type": "code",
   "execution_count": 33,
   "metadata": {},
   "outputs": [
    {
     "data": {
      "text/plain": [
       "(382.62709407216494, 382.6314432989691, 382.6578608247423)"
      ]
     },
     "execution_count": 33,
     "metadata": {},
     "output_type": "execute_result"
    }
   ],
   "source": [
    "fitness(neighbors_it_1[0]), fitness(neighbors_it_1[1]), fitness(neighbors_it_1[3])"
   ]
  },
  {
   "cell_type": "markdown",
   "metadata": {},
   "source": [
    "Optimization"
   ]
  },
  {
   "cell_type": "markdown",
   "metadata": {},
   "source": [
    "Gets neighbours in the best solution"
   ]
  },
  {
   "cell_type": "code",
   "execution_count": null,
   "metadata": {
    "scrolled": true,
    "tags": []
   },
   "outputs": [],
   "source": [
    "best_fitness = np.inf\n",
    "best_solution = df\n",
    "\n",
    "history_of_best_solutions = []\n",
    "\n",
    "for iteration in range(10):\n",
    "    \n",
    "    # Get 5 random neighbours\n",
    "    neighbors = get_neighbours(best_solution, 5)\n",
    "    \n",
    "    # Get 5 more shuffled neighbours and append to these neighbors list\n",
    "    for n in neighbors:\n",
    "        neighbors.append(shuffle_perturbation(n))\n",
    "    \n",
    "    \n",
    "    # Sanity-check print\n",
    "    print(f\"Nr of possible solutions: {len(neighbors)}.\")\n",
    "    \n",
    "    \n",
    "    # Get fitnesses of possible solutions\n",
    "    fitness_neighbours = [fitness(x) for x in neighbors]\n",
    "    \n",
    "    neighbour_lower_fitness_idx = np.argmin(fitness_neighbours)\n",
    "    fitness_neighbour_lower_fitness = fitness_neighbours[neighbour_lower_fitness_idx]\n",
    "    neighbour_lower_fitness = neighbors[neighbour_lower_fitness_idx]\n",
    "    \n",
    "    if fitness_neighbour_lower_fitness < best_fitness:\n",
    "        best_fitness = fitness_neighbour_lower_fitness\n",
    "        best_solution = neighbour_lower_fitness\n",
    "        \n",
    "        history_of_best_solutions.append(best_solution)\n",
    "\n",
    "        print(\"Found a better solution!\")\n",
    "        \n",
    "    print(\"Epoch %d | Fitness %f\" % (iteration, best_fitness))"
   ]
  },
  {
   "cell_type": "markdown",
   "metadata": {},
   "source": [
    "Check changes"
   ]
  },
  {
   "cell_type": "code",
   "execution_count": 36,
   "metadata": {},
   "outputs": [],
   "source": [
    "COLS = ['PanelID', 'X', 'Y', 'Max_Visibi']"
   ]
  },
  {
   "cell_type": "code",
   "execution_count": 37,
   "metadata": {
    "tags": []
   },
   "outputs": [
    {
     "data": {
      "text/html": [
       "<div>\n",
       "<style scoped>\n",
       "    .dataframe tbody tr th:only-of-type {\n",
       "        vertical-align: middle;\n",
       "    }\n",
       "\n",
       "    .dataframe tbody tr th {\n",
       "        vertical-align: top;\n",
       "    }\n",
       "\n",
       "    .dataframe thead th {\n",
       "        text-align: right;\n",
       "    }\n",
       "</style>\n",
       "<table border=\"1\" class=\"dataframe\">\n",
       "  <thead>\n",
       "    <tr style=\"text-align: right;\">\n",
       "      <th></th>\n",
       "      <th>PanelID</th>\n",
       "      <th>X</th>\n",
       "      <th>Y</th>\n",
       "      <th>Max_Visibi</th>\n",
       "    </tr>\n",
       "  </thead>\n",
       "  <tbody>\n",
       "    <tr>\n",
       "      <th>5470</th>\n",
       "      <td>29196</td>\n",
       "      <td>-9.148472</td>\n",
       "      <td>38.725948</td>\n",
       "      <td>69</td>\n",
       "    </tr>\n",
       "    <tr>\n",
       "      <th>5750</th>\n",
       "      <td>23518</td>\n",
       "      <td>-9.129396</td>\n",
       "      <td>38.741454</td>\n",
       "      <td>69</td>\n",
       "    </tr>\n",
       "    <tr>\n",
       "      <th>7199</th>\n",
       "      <td>24126</td>\n",
       "      <td>-9.151310</td>\n",
       "      <td>38.708844</td>\n",
       "      <td>69</td>\n",
       "    </tr>\n",
       "  </tbody>\n",
       "</table>\n",
       "</div>"
      ],
      "text/plain": [
       "      PanelID         X          Y  Max_Visibi\n",
       "5470    29196 -9.148472  38.725948          69\n",
       "5750    23518 -9.129396  38.741454          69\n",
       "7199    24126 -9.151310  38.708844          69"
      ]
     },
     "execution_count": 37,
     "metadata": {},
     "output_type": "execute_result"
    }
   ],
   "source": [
    "diff = pd.concat([df[COLS], best_solution[COLS]]).drop_duplicates(keep=False)\n",
    "diff.head(3)"
   ]
  },
  {
   "cell_type": "code",
   "execution_count": 42,
   "metadata": {},
   "outputs": [
    {
     "data": {
      "text/html": [
       "<div>\n",
       "<style scoped>\n",
       "    .dataframe tbody tr th:only-of-type {\n",
       "        vertical-align: middle;\n",
       "    }\n",
       "\n",
       "    .dataframe tbody tr th {\n",
       "        vertical-align: top;\n",
       "    }\n",
       "\n",
       "    .dataframe thead th {\n",
       "        text-align: right;\n",
       "    }\n",
       "</style>\n",
       "<table border=\"1\" class=\"dataframe\">\n",
       "  <thead>\n",
       "    <tr style=\"text-align: right;\">\n",
       "      <th></th>\n",
       "      <th>PanelID</th>\n",
       "      <th>X</th>\n",
       "      <th>Y</th>\n",
       "      <th>Max_Visibi</th>\n",
       "      <th>Average_Da</th>\n",
       "      <th>coords</th>\n",
       "      <th>address_road</th>\n",
       "      <th>concelho</th>\n",
       "      <th>freguesia</th>\n",
       "      <th>distrito</th>\n",
       "      <th>is_national_road</th>\n",
       "      <th>is_highway</th>\n",
       "      <th>is_city_center</th>\n",
       "      <th>nbr_points_around_billboard</th>\n",
       "      <th>average_people_around_billboard</th>\n",
       "      <th>std_people_around_billboard</th>\n",
       "      <th>diff_to_neighbourhood</th>\n",
       "    </tr>\n",
       "  </thead>\n",
       "  <tbody>\n",
       "    <tr>\n",
       "      <th>7199</th>\n",
       "      <td>24126</td>\n",
       "      <td>-9.15131</td>\n",
       "      <td>38.708844</td>\n",
       "      <td>69</td>\n",
       "      <td>3079.0</td>\n",
       "      <td>[[-9.15131, 38.708844]]</td>\n",
       "      <td>Largo do Conde Barão</td>\n",
       "      <td>None</td>\n",
       "      <td>Santa Catarina</td>\n",
       "      <td>Lisboa</td>\n",
       "      <td>False</td>\n",
       "      <td>False</td>\n",
       "      <td>True</td>\n",
       "      <td>582</td>\n",
       "      <td>9944.965206</td>\n",
       "      <td>8324.413258</td>\n",
       "      <td>-6865.965206</td>\n",
       "    </tr>\n",
       "  </tbody>\n",
       "</table>\n",
       "</div>"
      ],
      "text/plain": [
       "      PanelID        X          Y  Max_Visibi  Average_Da  \\\n",
       "7199    24126 -9.15131  38.708844          69      3079.0   \n",
       "\n",
       "                       coords          address_road concelho       freguesia  \\\n",
       "7199  [[-9.15131, 38.708844]]  Largo do Conde Barão     None  Santa Catarina   \n",
       "\n",
       "     distrito  is_national_road  is_highway  is_city_center  \\\n",
       "7199   Lisboa             False       False            True   \n",
       "\n",
       "      nbr_points_around_billboard  average_people_around_billboard  \\\n",
       "7199                          582                      9944.965206   \n",
       "\n",
       "      std_people_around_billboard  diff_to_neighbourhood  \n",
       "7199                  8324.413258           -6865.965206  "
      ]
     },
     "execution_count": 42,
     "metadata": {},
     "output_type": "execute_result"
    }
   ],
   "source": [
    "df[df.PanelID == 24126]"
   ]
  },
  {
   "cell_type": "code",
   "execution_count": 43,
   "metadata": {},
   "outputs": [
    {
     "data": {
      "text/html": [
       "<div>\n",
       "<style scoped>\n",
       "    .dataframe tbody tr th:only-of-type {\n",
       "        vertical-align: middle;\n",
       "    }\n",
       "\n",
       "    .dataframe tbody tr th {\n",
       "        vertical-align: top;\n",
       "    }\n",
       "\n",
       "    .dataframe thead th {\n",
       "        text-align: right;\n",
       "    }\n",
       "</style>\n",
       "<table border=\"1\" class=\"dataframe\">\n",
       "  <thead>\n",
       "    <tr style=\"text-align: right;\">\n",
       "      <th></th>\n",
       "      <th>PanelID</th>\n",
       "      <th>X</th>\n",
       "      <th>Y</th>\n",
       "      <th>Max_Visibi</th>\n",
       "      <th>Average_Da</th>\n",
       "      <th>coords</th>\n",
       "      <th>address_road</th>\n",
       "      <th>concelho</th>\n",
       "      <th>freguesia</th>\n",
       "      <th>distrito</th>\n",
       "      <th>is_national_road</th>\n",
       "      <th>is_highway</th>\n",
       "      <th>is_city_center</th>\n",
       "      <th>nbr_points_around_billboard</th>\n",
       "      <th>average_people_around_billboard</th>\n",
       "      <th>std_people_around_billboard</th>\n",
       "      <th>diff_to_neighbourhood</th>\n",
       "    </tr>\n",
       "  </thead>\n",
       "  <tbody>\n",
       "    <tr>\n",
       "      <th>7199</th>\n",
       "      <td>24126</td>\n",
       "      <td>-9.358457</td>\n",
       "      <td>38.698971</td>\n",
       "      <td>69</td>\n",
       "      <td>5267.0</td>\n",
       "      <td>[[-9.15131, 38.708844]]</td>\n",
       "      <td>Largo do Conde Barão</td>\n",
       "      <td>None</td>\n",
       "      <td>Santa Catarina</td>\n",
       "      <td>Lisboa</td>\n",
       "      <td>False</td>\n",
       "      <td>False</td>\n",
       "      <td>True</td>\n",
       "      <td>582</td>\n",
       "      <td>9944.965206</td>\n",
       "      <td>8324.413258</td>\n",
       "      <td>-6865.965206</td>\n",
       "    </tr>\n",
       "  </tbody>\n",
       "</table>\n",
       "</div>"
      ],
      "text/plain": [
       "      PanelID         X          Y  Max_Visibi  Average_Da  \\\n",
       "7199    24126 -9.358457  38.698971          69      5267.0   \n",
       "\n",
       "                       coords          address_road concelho       freguesia  \\\n",
       "7199  [[-9.15131, 38.708844]]  Largo do Conde Barão     None  Santa Catarina   \n",
       "\n",
       "     distrito  is_national_road  is_highway  is_city_center  \\\n",
       "7199   Lisboa             False       False            True   \n",
       "\n",
       "      nbr_points_around_billboard  average_people_around_billboard  \\\n",
       "7199                          582                      9944.965206   \n",
       "\n",
       "      std_people_around_billboard  diff_to_neighbourhood  \n",
       "7199                  8324.413258           -6865.965206  "
      ]
     },
     "execution_count": 43,
     "metadata": {},
     "output_type": "execute_result"
    }
   ],
   "source": [
    "best_solution[best_solution.PanelID == 24126]"
   ]
  },
  {
   "cell_type": "code",
   "execution_count": 44,
   "metadata": {},
   "outputs": [
    {
     "data": {
      "text/plain": [
       "231.43061728395062"
      ]
     },
     "execution_count": 44,
     "metadata": {},
     "output_type": "execute_result"
    }
   ],
   "source": [
    "fitness(best_solution)"
   ]
  },
  {
   "cell_type": "code",
   "execution_count": 45,
   "metadata": {},
   "outputs": [
    {
     "data": {
      "text/plain": [
       "231.69563786008231"
      ]
     },
     "execution_count": 45,
     "metadata": {},
     "output_type": "execute_result"
    }
   ],
   "source": [
    "fitness(df)"
   ]
  },
  {
   "cell_type": "code",
   "execution_count": null,
   "metadata": {},
   "outputs": [],
   "source": [
    "# Ao trocar da posição (x1, y1) para (x2, y2) estou a ganhar X de audiencia\n",
    "# O custo médio de aluguer é X€ , mantém se fixo\n",
    "# assumindo y% das pessoas que vêm têm interesse na marca, estamos a ter um impacto K vezes ... "
   ]
  }
 ],
 "metadata": {
  "kernelspec": {
   "display_name": "Python 3",
   "language": "python",
   "name": "python3"
  },
  "language_info": {
   "codemirror_mode": {
    "name": "ipython",
    "version": 3
   },
   "file_extension": ".py",
   "mimetype": "text/x-python",
   "name": "python",
   "nbconvert_exporter": "python",
   "pygments_lexer": "ipython3",
   "version": "3.7.7"
  }
 },
 "nbformat": 4,
 "nbformat_minor": 4
}
