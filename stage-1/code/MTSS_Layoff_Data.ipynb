{
 "cells": [
  {
   "cell_type": "code",
   "execution_count": 1,
   "metadata": {},
   "outputs": [
    {
     "name": "stdout",
     "output_type": "stream",
     "text": [
      "(42, 4)\n"
     ]
    },
    {
     "data": {
      "text/html": [
       "<div>\n",
       "<style scoped>\n",
       "    .dataframe tbody tr th:only-of-type {\n",
       "        vertical-align: middle;\n",
       "    }\n",
       "\n",
       "    .dataframe tbody tr th {\n",
       "        vertical-align: top;\n",
       "    }\n",
       "\n",
       "    .dataframe thead th {\n",
       "        text-align: right;\n",
       "    }\n",
       "</style>\n",
       "<table border=\"1\" class=\"dataframe\">\n",
       "  <thead>\n",
       "    <tr style=\"text-align: right;\">\n",
       "      <th></th>\n",
       "      <th>Data</th>\n",
       "      <th>Período de Tempo Equivalente</th>\n",
       "      <th>Distrito</th>\n",
       "      <th>Pedidos de Layoff Empresas</th>\n",
       "    </tr>\n",
       "  </thead>\n",
       "  <tbody>\n",
       "    <tr>\n",
       "      <th>0</th>\n",
       "      <td>2020-09-01</td>\n",
       "      <td>Sep-20 to Jan-21</td>\n",
       "      <td>AVEIRO</td>\n",
       "      <td>7562</td>\n",
       "    </tr>\n",
       "    <tr>\n",
       "      <th>1</th>\n",
       "      <td>2020-09-01</td>\n",
       "      <td>Sep-20 to Jan-21</td>\n",
       "      <td>BEJA</td>\n",
       "      <td>1023</td>\n",
       "    </tr>\n",
       "    <tr>\n",
       "      <th>2</th>\n",
       "      <td>2020-09-01</td>\n",
       "      <td>Sep-20 to Jan-21</td>\n",
       "      <td>BRAGA</td>\n",
       "      <td>10973</td>\n",
       "    </tr>\n",
       "    <tr>\n",
       "      <th>3</th>\n",
       "      <td>2020-09-01</td>\n",
       "      <td>Sep-20 to Jan-21</td>\n",
       "      <td>BRAGANÇA</td>\n",
       "      <td>1251</td>\n",
       "    </tr>\n",
       "    <tr>\n",
       "      <th>4</th>\n",
       "      <td>2020-09-01</td>\n",
       "      <td>Sep-20 to Jan-21</td>\n",
       "      <td>CASTELO BRANCO</td>\n",
       "      <td>1497</td>\n",
       "    </tr>\n",
       "  </tbody>\n",
       "</table>\n",
       "</div>"
      ],
      "text/plain": [
       "        Data Período de Tempo Equivalente        Distrito  \\\n",
       "0 2020-09-01             Sep-20 to Jan-21          AVEIRO   \n",
       "1 2020-09-01             Sep-20 to Jan-21            BEJA   \n",
       "2 2020-09-01             Sep-20 to Jan-21           BRAGA   \n",
       "3 2020-09-01             Sep-20 to Jan-21        BRAGANÇA   \n",
       "4 2020-09-01             Sep-20 to Jan-21  CASTELO BRANCO   \n",
       "\n",
       "   Pedidos de Layoff Empresas  \n",
       "0                        7562  \n",
       "1                        1023  \n",
       "2                       10973  \n",
       "3                        1251  \n",
       "4                        1497  "
      ]
     },
     "execution_count": 1,
     "metadata": {},
     "output_type": "execute_result"
    }
   ],
   "source": [
    "# Imports\n",
    "import pandas as pd\n",
    "import numpy as np\n",
    "\n",
    "\n",
    "# Read Excel File\n",
    "mtss_loff_df = pd.read_excel('../data/DadosMTS.xlsx', encoding='utf-8')\n",
    "\n",
    "print(mtss_loff_df.shape)\n",
    "mtss_loff_df.head()"
   ]
  },
  {
   "cell_type": "code",
   "execution_count": 3,
   "metadata": {},
   "outputs": [
    {
     "name": "stdout",
     "output_type": "stream",
     "text": [
      "(21, 3)\n"
     ]
    },
    {
     "data": {
      "text/html": [
       "<div>\n",
       "<style scoped>\n",
       "    .dataframe tbody tr th:only-of-type {\n",
       "        vertical-align: middle;\n",
       "    }\n",
       "\n",
       "    .dataframe tbody tr th {\n",
       "        vertical-align: top;\n",
       "    }\n",
       "\n",
       "    .dataframe thead th {\n",
       "        text-align: right;\n",
       "    }\n",
       "</style>\n",
       "<table border=\"1\" class=\"dataframe\">\n",
       "  <thead>\n",
       "    <tr style=\"text-align: right;\">\n",
       "      <th></th>\n",
       "      <th>Período de Tempo Equivalente</th>\n",
       "      <th>Distrito</th>\n",
       "      <th>Pedidos de Layoff Empresas</th>\n",
       "    </tr>\n",
       "  </thead>\n",
       "  <tbody>\n",
       "    <tr>\n",
       "      <th>0</th>\n",
       "      <td>Sep-20 to Jan-21</td>\n",
       "      <td>AVEIRO</td>\n",
       "      <td>15104</td>\n",
       "    </tr>\n",
       "    <tr>\n",
       "      <th>1</th>\n",
       "      <td>Sep-20 to Jan-21</td>\n",
       "      <td>BEJA</td>\n",
       "      <td>2037</td>\n",
       "    </tr>\n",
       "    <tr>\n",
       "      <th>2</th>\n",
       "      <td>Sep-20 to Jan-21</td>\n",
       "      <td>BRAGA</td>\n",
       "      <td>21892</td>\n",
       "    </tr>\n",
       "    <tr>\n",
       "      <th>3</th>\n",
       "      <td>Sep-20 to Jan-21</td>\n",
       "      <td>BRAGANÇA</td>\n",
       "      <td>2490</td>\n",
       "    </tr>\n",
       "    <tr>\n",
       "      <th>4</th>\n",
       "      <td>Sep-20 to Jan-21</td>\n",
       "      <td>CASTELO BRANCO</td>\n",
       "      <td>2986</td>\n",
       "    </tr>\n",
       "  </tbody>\n",
       "</table>\n",
       "</div>"
      ],
      "text/plain": [
       "  Período de Tempo Equivalente        Distrito  Pedidos de Layoff Empresas\n",
       "0             Sep-20 to Jan-21          AVEIRO                       15104\n",
       "1             Sep-20 to Jan-21            BEJA                        2037\n",
       "2             Sep-20 to Jan-21           BRAGA                       21892\n",
       "3             Sep-20 to Jan-21        BRAGANÇA                        2490\n",
       "4             Sep-20 to Jan-21  CASTELO BRANCO                        2986"
      ]
     },
     "execution_count": 3,
     "metadata": {},
     "output_type": "execute_result"
    }
   ],
   "source": [
    "# Get the df grouped by\n",
    "mtss_grouped = mtss_loff_df[[\"Período de Tempo Equivalente\", \"Distrito\", \"Pedidos de Layoff Empresas\"]].groupby([\"Período de Tempo Equivalente\", \"Distrito\"]).sum().reset_index(drop=False)\n",
    "print(mtss_grouped.shape)\n",
    "mtss_grouped.head()"
   ]
  }
 ],
 "metadata": {
  "kernelspec": {
   "display_name": "Python 3",
   "language": "python",
   "name": "python3"
  },
  "language_info": {
   "codemirror_mode": {
    "name": "ipython",
    "version": 3
   },
   "file_extension": ".py",
   "mimetype": "text/x-python",
   "name": "python",
   "nbconvert_exporter": "python",
   "pygments_lexer": "ipython3",
   "version": "3.7.7"
  }
 },
 "nbformat": 4,
 "nbformat_minor": 4
}
