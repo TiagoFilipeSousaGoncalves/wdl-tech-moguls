{
 "cells": [
  {
   "cell_type": "code",
   "execution_count": 1,
   "id": "falling-valentine",
   "metadata": {},
   "outputs": [],
   "source": [
    "import pandas as pd \n",
    "import numpy as np"
   ]
  },
  {
   "cell_type": "code",
   "execution_count": null,
   "id": "computational-pierce",
   "metadata": {},
   "outputs": [],
   "source": [
    "# Load Churn OD data\n",
    "churn_od = pd.read_csv('Churn_OD.txt', delimiter='|', encoding= 'unicode_escape'"
   ]
  },
  {
   "cell_type": "code",
   "execution_count": null,
   "id": "documentary-greece",
   "metadata": {},
   "outputs": [],
   "source": [
    "# Calculation of the SD for each county\n",
    "sd=[]\n",
    "for i in churn_od[\"County_of_Origin\"].unique():\n",
    "    sd+=[np.std(churn_od.loc[(churn_od[\"County_of_Origin\"] == i), \"Demand_weight\"])]"
   ]
  },
  {
   "cell_type": "code",
   "execution_count": null,
   "id": "constitutional-quarter",
   "metadata": {},
   "outputs": [],
   "source": [
    "# Sorting SD in descending order\n",
    "dataset = pd.DataFrame({'County': churn_od[\"County_of_Origin\"].unique(),  'SD': sd}, columns=['County', 'SD'])\n",
    "dataset.sort_values(by=['SD'], ascending=[False])"
   ]
  }
 ],
 "metadata": {
  "kernelspec": {
   "display_name": "Python 3",
   "language": "python",
   "name": "python3"
  },
  "language_info": {
   "codemirror_mode": {
    "name": "ipython",
    "version": 3
   },
   "file_extension": ".py",
   "mimetype": "text/x-python",
   "name": "python",
   "nbconvert_exporter": "python",
   "pygments_lexer": "ipython3",
   "version": "3.7.8"
  }
 },
 "nbformat": 4,
 "nbformat_minor": 5
}
