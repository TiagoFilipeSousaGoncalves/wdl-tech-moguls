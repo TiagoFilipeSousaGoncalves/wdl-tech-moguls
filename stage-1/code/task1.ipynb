{
 "cells": [
  {
   "cell_type": "code",
   "execution_count": null,
   "metadata": {},
   "outputs": [],
   "source": [
    "# Imports \n",
    "import pandas as pd\n",
    "import numpy as np\n",
    "import matplotlib.pyplot as plt\n",
    "import os\n",
    "\n",
    "\n",
    "# Directories\n",
    "# Stage Dir\n",
    "stage_1_dir = \"stage-1\"\n",
    "\n",
    "# Code Dir\n",
    "code_dir = \"code\"\n",
    "\n",
    "# Data Dir\n",
    "data_dir = \"data\"\n",
    "\n",
    "# Filenames\n",
    "churn_od_txt = \"Churn_OD.txt\"\n",
    "churn_users_pf_txt = \"Churn_UsersProfile.txt\"\n",
    "pt_parish_metadata = \"freguesias-metadata.xlsx\""
   ]
  },
  {
   "cell_type": "code",
   "execution_count": null,
   "metadata": {},
   "outputs": [],
   "source": [
    "# Load Churn OD data\n",
    "\n",
    "churn_od = np.genfromtxt(\n",
    "    fname=os.path.join(stage_1_dir, data_dir, churn_od_txt),\n",
    "    delimiter='|',\n",
    "    dtype=str\n",
    "    )\n",
    "\n",
    "churn_od = pd.DataFrame(data=churn_od[1::, :], columns=churn_od[0, :])\n",
    "print(churn_od.shape)\n",
    "churn_od.head()"
   ]
  },
  {
   "cell_type": "code",
   "execution_count": null,
   "metadata": {},
   "outputs": [],
   "source": [
    "# Load Churn Users Profile data\n",
    "churn_users_pf = np.genfromtxt(\n",
    "    fname=os.path.join(stage_1_dir, data_dir, churn_users_pf_txt),\n",
    "    delimiter='|',\n",
    "    dtype=str\n",
    ")\n",
    "\n",
    "churn_users_pf = pd.DataFrame(data=churn_users_pf[1::, :], columns=churn_users_pf[0, :])\n",
    "print(churn_users_pf.shape)\n",
    "churn_users_pf.head()"
   ]
  },
  {
   "cell_type": "code",
   "execution_count": null,
   "metadata": {},
   "outputs": [],
   "source": [
    "# Load Parish Metadata\n",
    "parish_metadata = pd.read_excel(os.path.join(stage_1_dir, data_dir, pt_parish_metadata))\n",
    "print(parish_metadata.shape)\n",
    "parish_metadata.head()"
   ]
  },
  {
   "cell_type": "code",
   "execution_count": null,
   "metadata": {},
   "outputs": [],
   "source": [
    "# Also get this population density mapping per county of origin\n",
    "counties_of_origin = churn_users_pf['County_of_Origin'].copy()\n",
    "counties_of_origin = counties_of_origin.drop_duplicates()\n",
    "counties_of_origin = np.array(counties_of_origin.values, dtype=str)\n",
    "print(f\"Counties of Origin:\\n{counties_of_origin}\")\n",
    "print(f\"Shape of this array:\\n{counties_of_origin.shape}\")\n",
    "\n",
    "# Create a dictionary that maps indices and counties' names\n",
    "counties_of_origin_dict = dict()\n",
    "\n",
    "for index, name in enumerate(counties_of_origin):\n",
    "    counties_of_origin_dict[name] = index\n",
    "\n",
    "print(f\"Dictionary of Indices and Names:\\n{counties_of_origin_dict}\")"
   ]
  },
  {
   "cell_type": "code",
   "execution_count": null,
   "metadata": {},
   "outputs": [],
   "source": [
    "# TODO: Get the periods as well!\n",
    "# Compute population density per county of origin\n",
    "pop_dens_orig_cnty = np.zeros(shape=(counties_of_origin.shape[0], 3), dtype=object)\n",
    "\n",
    "# Populate first column\n",
    "for name, index in counties_of_origin_dict.items():\n",
    "    pop_dens_orig_cnty[index, 0] = name\n",
    "\n",
    "print(f\"Column Names filled:\\n{pop_dens_orig_cnty}\")\n",
    "\n",
    "# Go through the dataframe\n",
    "for index, row in churn_users_pf.iterrows():\n",
    "    pop_dens_orig_cnty[counties_of_origin_dict[row['County_of_Origin']], 1] += np.float(row['Average_BusUsers_per_Day'])\n",
    "    \n",
    "\n",
    "print(f\"Countis of Origin and their Population Densities:\\n{pop_dens_orig_cnty}\")"
   ]
  },
  {
   "cell_type": "code",
   "execution_count": null,
   "metadata": {},
   "outputs": [],
   "source": []
  }
 ],
 "metadata": {
  "kernelspec": {
   "display_name": "Python 3",
   "language": "python",
   "name": "python3"
  },
  "language_info": {
   "codemirror_mode": {
    "name": "ipython",
    "version": 3
   },
   "file_extension": ".py",
   "mimetype": "text/x-python",
   "name": "python",
   "nbconvert_exporter": "python",
   "pygments_lexer": "ipython3",
   "version": "3.7.7"
  }
 },
 "nbformat": 4,
 "nbformat_minor": 4
}
