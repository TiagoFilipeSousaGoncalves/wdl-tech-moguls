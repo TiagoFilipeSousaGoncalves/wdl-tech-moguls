{
 "cells": [
  {
   "cell_type": "code",
   "execution_count": 1,
   "metadata": {},
   "outputs": [],
   "source": [
    "# Load dataset\n",
    "\n",
    "import pandas as pd\n",
    "import seaborn as sns\n",
    "\n",
    "churn_od = pd.read_csv('../data/Churn_OD.txt', delimiter = \"|\", encoding= 'unicode_escape')\n",
    "churn_user_profile = pd.read_csv('../data/Churn_UsersProfile.txt', delimiter = \"|\", encoding= 'unicode_escape')"
   ]
  },
  {
   "cell_type": "code",
   "execution_count": 2,
   "metadata": {},
   "outputs": [
    {
     "data": {
      "text/plain": [
       "((2253, 8), (544, 7))"
      ]
     },
     "execution_count": 2,
     "metadata": {},
     "output_type": "execute_result"
    }
   ],
   "source": [
    "churn_od.shape, churn_user_profile.shape"
   ]
  },
  {
   "cell_type": "code",
   "execution_count": 3,
   "metadata": {},
   "outputs": [
    {
     "data": {
      "text/html": [
       "<div>\n",
       "<style scoped>\n",
       "    .dataframe tbody tr th:only-of-type {\n",
       "        vertical-align: middle;\n",
       "    }\n",
       "\n",
       "    .dataframe tbody tr th {\n",
       "        vertical-align: top;\n",
       "    }\n",
       "\n",
       "    .dataframe thead th {\n",
       "        text-align: right;\n",
       "    }\n",
       "</style>\n",
       "<table border=\"1\" class=\"dataframe\">\n",
       "  <thead>\n",
       "    <tr style=\"text-align: right;\">\n",
       "      <th></th>\n",
       "      <th>Region_of_Origin</th>\n",
       "      <th>District_of_Origin</th>\n",
       "      <th>County_of_Origin</th>\n",
       "      <th>Region_of_Public_Transportation</th>\n",
       "      <th>District_of_Public_Transportation</th>\n",
       "      <th>County_of_Public_Transportation</th>\n",
       "      <th>Dicofre_ParishCode_of_Public_Transportation</th>\n",
       "      <th>Demand_weight</th>\n",
       "    </tr>\n",
       "  </thead>\n",
       "  <tbody>\n",
       "    <tr>\n",
       "      <th>0</th>\n",
       "      <td>R1 - AM Lisboa</td>\n",
       "      <td>Lisboa</td>\n",
       "      <td>Amadora</td>\n",
       "      <td>R1 - AM Lisboa</td>\n",
       "      <td>LISBOA</td>\n",
       "      <td>LISBOA</td>\n",
       "      <td>110608</td>\n",
       "      <td>0.307323</td>\n",
       "    </tr>\n",
       "    <tr>\n",
       "      <th>1</th>\n",
       "      <td>R1 - AM Lisboa</td>\n",
       "      <td>Lisboa</td>\n",
       "      <td>Amadora</td>\n",
       "      <td>R1 - AM Lisboa</td>\n",
       "      <td>LISBOA</td>\n",
       "      <td>LISBOA</td>\n",
       "      <td>110639</td>\n",
       "      <td>0.069997</td>\n",
       "    </tr>\n",
       "    <tr>\n",
       "      <th>2</th>\n",
       "      <td>R1 - AM Lisboa</td>\n",
       "      <td>Lisboa</td>\n",
       "      <td>Amadora</td>\n",
       "      <td>R1 - AM Lisboa</td>\n",
       "      <td>LISBOA</td>\n",
       "      <td>LISBOA</td>\n",
       "      <td>110658</td>\n",
       "      <td>0.066059</td>\n",
       "    </tr>\n",
       "    <tr>\n",
       "      <th>3</th>\n",
       "      <td>R1 - AM Lisboa</td>\n",
       "      <td>Lisboa</td>\n",
       "      <td>Amadora</td>\n",
       "      <td>R1 - AM Lisboa</td>\n",
       "      <td>LISBOA</td>\n",
       "      <td>LISBOA</td>\n",
       "      <td>110654</td>\n",
       "      <td>0.059847</td>\n",
       "    </tr>\n",
       "    <tr>\n",
       "      <th>4</th>\n",
       "      <td>R1 - AM Lisboa</td>\n",
       "      <td>Lisboa</td>\n",
       "      <td>Amadora</td>\n",
       "      <td>R1 - AM Lisboa</td>\n",
       "      <td>LISBOA</td>\n",
       "      <td>LISBOA</td>\n",
       "      <td>110633</td>\n",
       "      <td>0.052341</td>\n",
       "    </tr>\n",
       "  </tbody>\n",
       "</table>\n",
       "</div>"
      ],
      "text/plain": [
       "  Region_of_Origin District_of_Origin County_of_Origin  \\\n",
       "0   R1 - AM Lisboa             Lisboa          Amadora   \n",
       "1   R1 - AM Lisboa             Lisboa          Amadora   \n",
       "2   R1 - AM Lisboa             Lisboa          Amadora   \n",
       "3   R1 - AM Lisboa             Lisboa          Amadora   \n",
       "4   R1 - AM Lisboa             Lisboa          Amadora   \n",
       "\n",
       "  Region_of_Public_Transportation District_of_Public_Transportation  \\\n",
       "0                  R1 - AM Lisboa                            LISBOA   \n",
       "1                  R1 - AM Lisboa                            LISBOA   \n",
       "2                  R1 - AM Lisboa                            LISBOA   \n",
       "3                  R1 - AM Lisboa                            LISBOA   \n",
       "4                  R1 - AM Lisboa                            LISBOA   \n",
       "\n",
       "  County_of_Public_Transportation  \\\n",
       "0                          LISBOA   \n",
       "1                          LISBOA   \n",
       "2                          LISBOA   \n",
       "3                          LISBOA   \n",
       "4                          LISBOA   \n",
       "\n",
       "   Dicofre_ParishCode_of_Public_Transportation  Demand_weight  \n",
       "0                                       110608       0.307323  \n",
       "1                                       110639       0.069997  \n",
       "2                                       110658       0.066059  \n",
       "3                                       110654       0.059847  \n",
       "4                                       110633       0.052341  "
      ]
     },
     "execution_count": 3,
     "metadata": {},
     "output_type": "execute_result"
    }
   ],
   "source": [
    "churn_od.head()"
   ]
  },
  {
   "cell_type": "code",
   "execution_count": 4,
   "metadata": {},
   "outputs": [
    {
     "data": {
      "text/html": [
       "<div>\n",
       "<style scoped>\n",
       "    .dataframe tbody tr th:only-of-type {\n",
       "        vertical-align: middle;\n",
       "    }\n",
       "\n",
       "    .dataframe tbody tr th {\n",
       "        vertical-align: top;\n",
       "    }\n",
       "\n",
       "    .dataframe thead th {\n",
       "        text-align: right;\n",
       "    }\n",
       "</style>\n",
       "<table border=\"1\" class=\"dataframe\">\n",
       "  <thead>\n",
       "    <tr style=\"text-align: right;\">\n",
       "      <th></th>\n",
       "      <th>Region_of_Origin</th>\n",
       "      <th>District_of_Origin</th>\n",
       "      <th>County_of_Origin</th>\n",
       "      <th>Period</th>\n",
       "      <th>GenderDescription</th>\n",
       "      <th>AgeClassDescription</th>\n",
       "      <th>Average_BusUsers_per_Day</th>\n",
       "    </tr>\n",
       "  </thead>\n",
       "  <tbody>\n",
       "    <tr>\n",
       "      <th>0</th>\n",
       "      <td>R1 - AM Lisboa</td>\n",
       "      <td>Lisboa</td>\n",
       "      <td>Amadora</td>\n",
       "      <td>Sep-19 to Feb-20</td>\n",
       "      <td>Female</td>\n",
       "      <td>15-24</td>\n",
       "      <td>294.194206</td>\n",
       "    </tr>\n",
       "    <tr>\n",
       "      <th>1</th>\n",
       "      <td>R1 - AM Lisboa</td>\n",
       "      <td>Lisboa</td>\n",
       "      <td>Amadora</td>\n",
       "      <td>Sep-19 to Feb-20</td>\n",
       "      <td>Female</td>\n",
       "      <td>25-34</td>\n",
       "      <td>1081.652817</td>\n",
       "    </tr>\n",
       "    <tr>\n",
       "      <th>2</th>\n",
       "      <td>R1 - AM Lisboa</td>\n",
       "      <td>Lisboa</td>\n",
       "      <td>Amadora</td>\n",
       "      <td>Sep-19 to Feb-20</td>\n",
       "      <td>Female</td>\n",
       "      <td>35-44</td>\n",
       "      <td>235.836653</td>\n",
       "    </tr>\n",
       "    <tr>\n",
       "      <th>3</th>\n",
       "      <td>R1 - AM Lisboa</td>\n",
       "      <td>Lisboa</td>\n",
       "      <td>Amadora</td>\n",
       "      <td>Sep-19 to Feb-20</td>\n",
       "      <td>Female</td>\n",
       "      <td>45-54</td>\n",
       "      <td>840.951323</td>\n",
       "    </tr>\n",
       "    <tr>\n",
       "      <th>4</th>\n",
       "      <td>R1 - AM Lisboa</td>\n",
       "      <td>Lisboa</td>\n",
       "      <td>Amadora</td>\n",
       "      <td>Sep-19 to Feb-20</td>\n",
       "      <td>Female</td>\n",
       "      <td>55-64</td>\n",
       "      <td>1216.148092</td>\n",
       "    </tr>\n",
       "  </tbody>\n",
       "</table>\n",
       "</div>"
      ],
      "text/plain": [
       "  Region_of_Origin District_of_Origin County_of_Origin            Period  \\\n",
       "0   R1 - AM Lisboa             Lisboa          Amadora  Sep-19 to Feb-20   \n",
       "1   R1 - AM Lisboa             Lisboa          Amadora  Sep-19 to Feb-20   \n",
       "2   R1 - AM Lisboa             Lisboa          Amadora  Sep-19 to Feb-20   \n",
       "3   R1 - AM Lisboa             Lisboa          Amadora  Sep-19 to Feb-20   \n",
       "4   R1 - AM Lisboa             Lisboa          Amadora  Sep-19 to Feb-20   \n",
       "\n",
       "  GenderDescription AgeClassDescription  Average_BusUsers_per_Day  \n",
       "0            Female               15-24                294.194206  \n",
       "1            Female               25-34               1081.652817  \n",
       "2            Female               35-44                235.836653  \n",
       "3            Female               45-54                840.951323  \n",
       "4            Female               55-64               1216.148092  "
      ]
     },
     "execution_count": 4,
     "metadata": {},
     "output_type": "execute_result"
    }
   ],
   "source": [
    "churn_user_profile.head()"
   ]
  },
  {
   "cell_type": "code",
   "execution_count": 5,
   "metadata": {},
   "outputs": [
    {
     "data": {
      "text/html": [
       "<div>\n",
       "<style scoped>\n",
       "    .dataframe tbody tr th:only-of-type {\n",
       "        vertical-align: middle;\n",
       "    }\n",
       "\n",
       "    .dataframe tbody tr th {\n",
       "        vertical-align: top;\n",
       "    }\n",
       "\n",
       "    .dataframe thead th {\n",
       "        text-align: right;\n",
       "    }\n",
       "</style>\n",
       "<table border=\"1\" class=\"dataframe\">\n",
       "  <thead>\n",
       "    <tr style=\"text-align: right;\">\n",
       "      <th></th>\n",
       "      <th>Region_of_Origin</th>\n",
       "      <th>District_of_Origin</th>\n",
       "      <th>County_of_Origin</th>\n",
       "      <th>Period</th>\n",
       "      <th>GenderDescription</th>\n",
       "      <th>AgeClassDescription</th>\n",
       "      <th>Average_BusUsers_per_Day</th>\n",
       "    </tr>\n",
       "  </thead>\n",
       "  <tbody>\n",
       "    <tr>\n",
       "      <th>242</th>\n",
       "      <td>R2 - AM Porto</td>\n",
       "      <td>Porto</td>\n",
       "      <td>Vila do Conde</td>\n",
       "      <td>Sep-19 to Feb-20</td>\n",
       "      <td>Female</td>\n",
       "      <td>25-34</td>\n",
       "      <td>335.380123</td>\n",
       "    </tr>\n",
       "    <tr>\n",
       "      <th>243</th>\n",
       "      <td>R2 - AM Porto</td>\n",
       "      <td>Porto</td>\n",
       "      <td>Vila do Conde</td>\n",
       "      <td>Sep-19 to Feb-20</td>\n",
       "      <td>Female</td>\n",
       "      <td>35-44</td>\n",
       "      <td>144.469939</td>\n",
       "    </tr>\n",
       "    <tr>\n",
       "      <th>244</th>\n",
       "      <td>R2 - AM Porto</td>\n",
       "      <td>Porto</td>\n",
       "      <td>Vila do Conde</td>\n",
       "      <td>Sep-19 to Feb-20</td>\n",
       "      <td>Male</td>\n",
       "      <td>45-54</td>\n",
       "      <td>76.945089</td>\n",
       "    </tr>\n",
       "    <tr>\n",
       "      <th>527</th>\n",
       "      <td>R2 - AM Porto</td>\n",
       "      <td>Porto</td>\n",
       "      <td>Vila do Conde</td>\n",
       "      <td>Sep-20 to Jan-21</td>\n",
       "      <td>Female</td>\n",
       "      <td>25-34</td>\n",
       "      <td>283.342437</td>\n",
       "    </tr>\n",
       "    <tr>\n",
       "      <th>528</th>\n",
       "      <td>R2 - AM Porto</td>\n",
       "      <td>Porto</td>\n",
       "      <td>Vila do Conde</td>\n",
       "      <td>Sep-20 to Jan-21</td>\n",
       "      <td>Female</td>\n",
       "      <td>35-44</td>\n",
       "      <td>9.758835</td>\n",
       "    </tr>\n",
       "    <tr>\n",
       "      <th>529</th>\n",
       "      <td>R2 - AM Porto</td>\n",
       "      <td>Porto</td>\n",
       "      <td>Vila do Conde</td>\n",
       "      <td>Sep-20 to Jan-21</td>\n",
       "      <td>Female</td>\n",
       "      <td>45-54</td>\n",
       "      <td>76.844212</td>\n",
       "    </tr>\n",
       "    <tr>\n",
       "      <th>530</th>\n",
       "      <td>R2 - AM Porto</td>\n",
       "      <td>Porto</td>\n",
       "      <td>Vila do Conde</td>\n",
       "      <td>Sep-20 to Jan-21</td>\n",
       "      <td>Male</td>\n",
       "      <td>25-34</td>\n",
       "      <td>13.155082</td>\n",
       "    </tr>\n",
       "    <tr>\n",
       "      <th>531</th>\n",
       "      <td>R2 - AM Porto</td>\n",
       "      <td>Porto</td>\n",
       "      <td>Vila do Conde</td>\n",
       "      <td>Sep-20 to Jan-21</td>\n",
       "      <td>Male</td>\n",
       "      <td>35-44</td>\n",
       "      <td>17.975581</td>\n",
       "    </tr>\n",
       "    <tr>\n",
       "      <th>532</th>\n",
       "      <td>R2 - AM Porto</td>\n",
       "      <td>Porto</td>\n",
       "      <td>Vila do Conde</td>\n",
       "      <td>Sep-20 to Jan-21</td>\n",
       "      <td>Male</td>\n",
       "      <td>55-64</td>\n",
       "      <td>74.179387</td>\n",
       "    </tr>\n",
       "  </tbody>\n",
       "</table>\n",
       "</div>"
      ],
      "text/plain": [
       "    Region_of_Origin District_of_Origin County_of_Origin            Period  \\\n",
       "242    R2 - AM Porto              Porto    Vila do Conde  Sep-19 to Feb-20   \n",
       "243    R2 - AM Porto              Porto    Vila do Conde  Sep-19 to Feb-20   \n",
       "244    R2 - AM Porto              Porto    Vila do Conde  Sep-19 to Feb-20   \n",
       "527    R2 - AM Porto              Porto    Vila do Conde  Sep-20 to Jan-21   \n",
       "528    R2 - AM Porto              Porto    Vila do Conde  Sep-20 to Jan-21   \n",
       "529    R2 - AM Porto              Porto    Vila do Conde  Sep-20 to Jan-21   \n",
       "530    R2 - AM Porto              Porto    Vila do Conde  Sep-20 to Jan-21   \n",
       "531    R2 - AM Porto              Porto    Vila do Conde  Sep-20 to Jan-21   \n",
       "532    R2 - AM Porto              Porto    Vila do Conde  Sep-20 to Jan-21   \n",
       "\n",
       "    GenderDescription AgeClassDescription  Average_BusUsers_per_Day  \n",
       "242            Female               25-34                335.380123  \n",
       "243            Female               35-44                144.469939  \n",
       "244              Male               45-54                 76.945089  \n",
       "527            Female               25-34                283.342437  \n",
       "528            Female               35-44                  9.758835  \n",
       "529            Female               45-54                 76.844212  \n",
       "530              Male               25-34                 13.155082  \n",
       "531              Male               35-44                 17.975581  \n",
       "532              Male               55-64                 74.179387  "
      ]
     },
     "execution_count": 5,
     "metadata": {},
     "output_type": "execute_result"
    }
   ],
   "source": [
    "churn_user_profile[churn_user_profile['County_of_Origin'] == 'Vila do Conde']"
   ]
  },
  {
   "cell_type": "code",
   "execution_count": 9,
   "metadata": {},
   "outputs": [],
   "source": [
    "import numpy as np\n",
    "\n",
    "churn_user_profile_copy = churn_user_profile.copy()\n",
    "\n",
    "tmp = churn_user_profile_copy.merge(\n",
    "    churn_user_profile_copy, on=[\n",
    "        'Region_of_Origin', \n",
    "        'District_of_Origin', \n",
    "        'County_of_Origin',\n",
    "        'GenderDescription',  # Replace by aggregate_variables \n",
    "        'AgeClassDescription'\n",
    "    ], how='left'\n",
    ")\n",
    "\n",
    "# Keep rows where period_x is different from period_y, and period_x is in 2019\n",
    "tmp = tmp[tmp.Period_x != tmp.Period_y]\n",
    "tmp = tmp[tmp.Period_x == 'Sep-19 to Feb-20']\n",
    "\n",
    "tmp['Relative_Change_AverageBusUsers'] = (tmp['Average_BusUsers_per_Day_y'] - tmp['Average_BusUsers_per_Day_x'])/(tmp['Average_BusUsers_per_Day_x'])\n",
    "tmp['Relative_Change_AverageBusUsers_Abs'] = np.abs((tmp['Average_BusUsers_per_Day_y'] - tmp['Average_BusUsers_per_Day_x']))/(tmp['Average_BusUsers_per_Day_x'])"
   ]
  },
  {
   "cell_type": "code",
   "execution_count": 10,
   "metadata": {},
   "outputs": [
    {
     "data": {
      "text/html": [
       "<div>\n",
       "<style scoped>\n",
       "    .dataframe tbody tr th:only-of-type {\n",
       "        vertical-align: middle;\n",
       "    }\n",
       "\n",
       "    .dataframe tbody tr th {\n",
       "        vertical-align: top;\n",
       "    }\n",
       "\n",
       "    .dataframe thead th {\n",
       "        text-align: right;\n",
       "    }\n",
       "</style>\n",
       "<table border=\"1\" class=\"dataframe\">\n",
       "  <thead>\n",
       "    <tr style=\"text-align: right;\">\n",
       "      <th></th>\n",
       "      <th>Region_of_Origin</th>\n",
       "      <th>District_of_Origin</th>\n",
       "      <th>County_of_Origin</th>\n",
       "      <th>Period_x</th>\n",
       "      <th>GenderDescription</th>\n",
       "      <th>AgeClassDescription</th>\n",
       "      <th>Average_BusUsers_per_Day_x</th>\n",
       "      <th>Period_y</th>\n",
       "      <th>Average_BusUsers_per_Day_y</th>\n",
       "      <th>Relative_Change_AverageBusUsers</th>\n",
       "      <th>Relative_Change_AverageBusUsers_Abs</th>\n",
       "    </tr>\n",
       "  </thead>\n",
       "  <tbody>\n",
       "    <tr>\n",
       "      <th>470</th>\n",
       "      <td>R2 - AM Porto</td>\n",
       "      <td>Porto</td>\n",
       "      <td>Vila do Conde</td>\n",
       "      <td>Sep-19 to Feb-20</td>\n",
       "      <td>Female</td>\n",
       "      <td>25-34</td>\n",
       "      <td>335.380123</td>\n",
       "      <td>Sep-20 to Jan-21</td>\n",
       "      <td>283.342437</td>\n",
       "      <td>-0.155160</td>\n",
       "      <td>0.155160</td>\n",
       "    </tr>\n",
       "    <tr>\n",
       "      <th>472</th>\n",
       "      <td>R2 - AM Porto</td>\n",
       "      <td>Porto</td>\n",
       "      <td>Vila do Conde</td>\n",
       "      <td>Sep-19 to Feb-20</td>\n",
       "      <td>Female</td>\n",
       "      <td>35-44</td>\n",
       "      <td>144.469939</td>\n",
       "      <td>Sep-20 to Jan-21</td>\n",
       "      <td>9.758835</td>\n",
       "      <td>-0.932451</td>\n",
       "      <td>0.932451</td>\n",
       "    </tr>\n",
       "  </tbody>\n",
       "</table>\n",
       "</div>"
      ],
      "text/plain": [
       "    Region_of_Origin District_of_Origin County_of_Origin          Period_x  \\\n",
       "470    R2 - AM Porto              Porto    Vila do Conde  Sep-19 to Feb-20   \n",
       "472    R2 - AM Porto              Porto    Vila do Conde  Sep-19 to Feb-20   \n",
       "\n",
       "    GenderDescription AgeClassDescription  Average_BusUsers_per_Day_x  \\\n",
       "470            Female               25-34                  335.380123   \n",
       "472            Female               35-44                  144.469939   \n",
       "\n",
       "             Period_y  Average_BusUsers_per_Day_y  \\\n",
       "470  Sep-20 to Jan-21                  283.342437   \n",
       "472  Sep-20 to Jan-21                    9.758835   \n",
       "\n",
       "     Relative_Change_AverageBusUsers  Relative_Change_AverageBusUsers_Abs  \n",
       "470                        -0.155160                             0.155160  \n",
       "472                        -0.932451                             0.932451  "
      ]
     },
     "execution_count": 10,
     "metadata": {},
     "output_type": "execute_result"
    }
   ],
   "source": [
    "# Example of the data in Vila do Conde, in the two groups that have data\n",
    "\n",
    "tmp[\n",
    "    (tmp.County_of_Origin == 'Vila do Conde')\n",
    "]"
   ]
  },
  {
   "cell_type": "code",
   "execution_count": 11,
   "metadata": {},
   "outputs": [],
   "source": [
    "daily_users_changes = tmp"
   ]
  },
  {
   "cell_type": "markdown",
   "metadata": {},
   "source": [
    "### Some baseline statistics on Relative Change in Average Users:\n",
    "\n",
    "1) Median value is negative: Decrease in users by 36%. The mean value is positive, due to some outliers.\n",
    "\n",
    "2) Seixal users increased from 37 to 1631, for 15-24 Males!! \n",
    "Maybe it is due to the suspension of a boat connection between Seixal and Lisbon?\n",
    "https://www.publico.pt/2020/10/22/local/noticia/ligacao-fluvial-seixal-lisboa-suspensa-partir-segundafeira-obras-1936350 \n",
    "\n",
    "The news says the average is 2400 per day, but maybe not in this segment of the population?\n",
    "\n",
    "3) The highest decrease is in Santa Maria da Feira, 25-34 Females.\n",
    "\n",
    "4) The lowest absolute change is in Seixal as well, but from the group Male 55-64."
   ]
  },
  {
   "cell_type": "code",
   "execution_count": 12,
   "metadata": {},
   "outputs": [
    {
     "data": {
      "text/plain": [
       "(-0.3636859325701661, 0.3540754887378469)"
      ]
     },
     "execution_count": 12,
     "metadata": {},
     "output_type": "execute_result"
    }
   ],
   "source": [
    "daily_users_changes['Relative_Change_AverageBusUsers'].median(), daily_users_changes['Relative_Change_AverageBusUsers'].mean()"
   ]
  },
  {
   "cell_type": "code",
   "execution_count": 13,
   "metadata": {},
   "outputs": [
    {
     "data": {
      "text/plain": [
       "Region_of_Origin                         R1 - AM Lisboa\n",
       "District_of_Origin                             SetÃºbal\n",
       "County_of_Origin                                 Seixal\n",
       "Period_x                               Sep-19 to Feb-20\n",
       "GenderDescription                                  Male\n",
       "AgeClassDescription                               15-24\n",
       "Average_BusUsers_per_Day_x                      37.6977\n",
       "Period_y                               Sep-20 to Jan-21\n",
       "Average_BusUsers_per_Day_y                      1631.34\n",
       "Relative_Change_AverageBusUsers                 42.2742\n",
       "Relative_Change_AverageBusUsers_Abs             42.2742\n",
       "Name: 288, dtype: object"
      ]
     },
     "execution_count": 13,
     "metadata": {},
     "output_type": "execute_result"
    }
   ],
   "source": [
    "daily_users_changes.iloc[daily_users_changes['Relative_Change_AverageBusUsers'].argmax()]"
   ]
  },
  {
   "cell_type": "code",
   "execution_count": 14,
   "metadata": {},
   "outputs": [
    {
     "data": {
      "text/plain": [
       "Region_of_Origin                              R2 - AM Porto\n",
       "District_of_Origin                                   Aveiro\n",
       "County_of_Origin                       Santa Maria da Feira\n",
       "Period_x                                   Sep-19 to Feb-20\n",
       "GenderDescription                                    Female\n",
       "AgeClassDescription                                   25-34\n",
       "Average_BusUsers_per_Day_x                          153.751\n",
       "Period_y                                   Sep-20 to Jan-21\n",
       "Average_BusUsers_per_Day_y                          5.51498\n",
       "Relative_Change_AverageBusUsers                   -0.964131\n",
       "Relative_Change_AverageBusUsers_Abs                0.964131\n",
       "Name: 336, dtype: object"
      ]
     },
     "execution_count": 14,
     "metadata": {},
     "output_type": "execute_result"
    }
   ],
   "source": [
    "daily_users_changes.iloc[daily_users_changes['Relative_Change_AverageBusUsers'].argmin()]"
   ]
  },
  {
   "cell_type": "code",
   "execution_count": 15,
   "metadata": {},
   "outputs": [
    {
     "data": {
      "text/plain": [
       "Region_of_Origin                         R1 - AM Lisboa\n",
       "District_of_Origin                             SetÃºbal\n",
       "County_of_Origin                                 Seixal\n",
       "Period_x                               Sep-19 to Feb-20\n",
       "GenderDescription                                  Male\n",
       "AgeClassDescription                               55-64\n",
       "Average_BusUsers_per_Day_x                      1141.76\n",
       "Period_y                               Sep-20 to Jan-21\n",
       "Average_BusUsers_per_Day_y                      1118.73\n",
       "Relative_Change_AverageBusUsers              -0.0201688\n",
       "Relative_Change_AverageBusUsers_Abs           0.0201688\n",
       "Name: 296, dtype: object"
      ]
     },
     "execution_count": 15,
     "metadata": {},
     "output_type": "execute_result"
    }
   ],
   "source": [
    "daily_users_changes.iloc[daily_users_changes['Relative_Change_AverageBusUsers_Abs'].argmin()]"
   ]
  },
  {
   "cell_type": "code",
   "execution_count": 16,
   "metadata": {},
   "outputs": [
    {
     "data": {
      "text/plain": [
       "0.799163179916318"
      ]
     },
     "execution_count": 16,
     "metadata": {},
     "output_type": "execute_result"
    }
   ],
   "source": [
    "(daily_users_changes['Relative_Change_AverageBusUsers'] < 0).mean()"
   ]
  },
  {
   "cell_type": "code",
   "execution_count": 30,
   "metadata": {},
   "outputs": [
    {
     "data": {
      "application/vnd.plotly.v1+json": {
       "config": {
        "plotlyServerURL": "https://plot.ly"
       },
       "data": [
        {
         "alignmentgroup": "True",
         "bingroup": "x",
         "hovertemplate": "Relative_Change_AverageBusUsers=%{x}<br>count=%{y}<extra></extra>",
         "legendgroup": "",
         "marker": {
          "color": "#636efa"
         },
         "name": "",
         "nbinsx": 256,
         "offsetgroup": "",
         "orientation": "v",
         "showlegend": false,
         "type": "histogram",
         "x": [
          0.8219433390200758,
          -0.6227363081882493,
          1.0282563626782817,
          -0.32077779369876797,
          -0.39063969933030157,
          -0.4365742922577674,
          -0.3762933764686737,
          4.254716234828974,
          0.2856031831636225,
          -0.2411448271890368,
          -0.3225702605273859,
          -0.5264467422587696,
          -0.4599835870803141,
          -0.44724255724198775,
          -0.3089551451091546,
          -0.5429281880965175,
          -0.3512003697850774,
          -0.724409891660844,
          0.49799244610866406,
          -0.42640662695964,
          -0.1709433472550162,
          -0.40710480376452335,
          -0.7447330190366502,
          -0.511113479052721,
          -0.5025813952551319,
          -0.3565695136942386,
          -0.5056246188585446,
          0.054545622766128954,
          -0.4841020046048456,
          -0.6950596056891049,
          -0.1677844628155401,
          -0.1483303951031025,
          -0.4054648603733125,
          -0.2250117580766466,
          -0.7933698881101242,
          -0.3636859325701661,
          -0.5541831846992901,
          0.15393695809575467,
          2.760935210033935,
          3.7656568469577594,
          1.4077658569258105,
          -0.47521294634599703,
          -0.2771673881240243,
          0.08110554507264099,
          -0.5722955101841808,
          -0.3876103049846462,
          -0.18093732665129952,
          -0.5745289983774453,
          -0.5708905251606673,
          -0.9437101040604068,
          -0.15346815331361058,
          -0.15503911845574786,
          -0.928858219912621,
          -0.13540597070661203,
          -0.6193860593349254,
          -0.3784545740758034,
          -0.5323208395922026,
          -0.5999808077480401,
          -0.4915535797424894,
          -0.11981104059142057,
          -0.4075257911068701,
          -0.2522116236611796,
          -0.6360592168172844,
          19.465241393833203,
          0.4404255555718204,
          -0.29822826701330735,
          -0.23473394294492456,
          0.8069529808039632,
          -0.4114511660257235,
          -0.2097940845452255,
          -0.4068831272997995,
          -0.546613029581089,
          -0.3015775824120412,
          -0.2656397762929997,
          -0.7106771332213487,
          -0.5396860842967636,
          -0.4221730336211091,
          -0.22394693122145123,
          0.14506211426311375,
          -0.7057397784088367,
          0.2676077820173826,
          -0.32309653081281725,
          -0.251638958155817,
          -0.25993173883056064,
          -0.5475767176290652,
          -0.767767944366432,
          -0.04387255353546363,
          -0.397948968531748,
          -0.22702432477469728,
          -0.09278293537747068,
          -0.16334257607878053,
          -0.7142830230325568,
          -0.09411475402583257,
          -0.42317657877790826,
          3.901734949517658,
          -0.6247208711584177,
          0.06254798211537653,
          1.3922957329753776,
          -0.23433682974141812,
          -0.5691610349183497,
          -0.5415232841489034,
          -0.5607929088216334,
          -0.6651032070822069,
          27.38721998115422,
          0.35420290081279915,
          -0.19754122904015464,
          -0.08127331770846377,
          1.522726613602642,
          -0.6215267900358189,
          -0.16291710388907676,
          -0.5669772173705516,
          -0.9571014087386207,
          -0.3561071208571037,
          -0.7142985859073664,
          -0.8034178854338478,
          1.6930270874598177,
          0.8489942152219995,
          -0.6374339217311737,
          -0.13988980082391195,
          -0.8428322873838485,
          -0.2631578947368421,
          3.8480026719340006,
          -0.27886137189042043,
          -0.7825922126303672,
          0.05532854961086689,
          -0.2630996588491748,
          -0.39745924166150975,
          -0.2591273429368454,
          -0.578198407230543,
          -0.20350648371399235,
          -0.4602177836005691,
          0.24193551603735816,
          -0.5246354920154185,
          -0.38206847555555,
          -0.2781896092061986,
          -0.22483840580014056,
          -0.39051369527983887,
          -0.06490632311521763,
          0.2528029825670529,
          42.27424965299631,
          -0.5290889098584799,
          0.4027174958767337,
          -0.4832832148563538,
          -0.020168807466895224,
          -0.4019165451538592,
          1.487431178421029,
          -0.10969477451474786,
          -0.40990432743953936,
          -0.3757736031638804,
          -0.5050258207834039,
          -0.2072271008208696,
          0.22662540802835557,
          -0.3769313125818338,
          -0.551824272705623,
          -0.23137275685419517,
          -0.8286478619023853,
          -0.6307016166387536,
          -0.3269008138789783,
          -0.39007962109426675,
          -0.6174979948174998,
          -0.8198602397318587,
          1.3553578824588228,
          -0.9641305334172298,
          -0.45066869000755905,
          -0.1853704376120237,
          2.272822944283606,
          -0.5146056996058408,
          -0.2511686269962557,
          -0.2898750870312938,
          0.10847589040109488,
          -0.3588535888190016,
          -0.49471953250087075,
          -0.20589100968913668,
          -0.4855669579147641,
          1.5706378858271413,
          -0.3118297749271442,
          -0.5209338304986861,
          -0.6172140217593566,
          -0.36611673878083834,
          -0.5589798698089892,
          -0.03826635612192246,
          -0.6986071530836981,
          -0.4297879664763404,
          0.4796887253721354,
          7.344182522833615,
          1.1714231812267482,
          -0.6143616204923779,
          -0.1274106018562571,
          -0.8488203541522045,
          -0.09288898090410119,
          -0.7780510555043078,
          -0.7935024580859227,
          1.0054742839925712,
          -0.6835587864027985,
          -0.5363006409019678,
          -0.6344875972186009,
          -0.2648305370790177,
          -0.19518636395570732,
          1.4352995556065962,
          -0.41131890932417997,
          -0.39066765011521554,
          0.9805234761847733,
          -0.5797937909225549,
          -0.2652189803088203,
          -0.6902475041108181,
          -0.669188417229044,
          -0.33184642607902404,
          -0.7665202332629218,
          -0.39849752154955165,
          -0.5196441928032974,
          -0.684665698467819,
          -0.4862573335543137,
          0.030225642479869606,
          -0.7302447877926048,
          -0.7451737456474231,
          -0.24288458237798644,
          -0.30734564826457933,
          -0.6610626785679423,
          -0.8270710632171887,
          -0.12564099045823526,
          -0.39972470375163927,
          -0.47768026297286986,
          0.08636641156558775,
          12.272612228220186,
          -0.39630362083050225,
          -0.051825917139125856,
          -0.18650910293805603,
          -0.15516031640312805,
          -0.9324507571087158,
          -0.7664666144594559,
          -0.6912566900581925,
          0.4257426384502136,
          -0.7172797542749801,
          -0.4871418382531063,
          -0.15046232048991107,
          0.28551481629694314,
          -0.7577706599477065,
          -0.19293506171176808,
          16.07267439051934
         ],
         "xaxis": "x",
         "yaxis": "y"
        }
       ],
       "layout": {
        "autosize": true,
        "barmode": "relative",
        "legend": {
         "tracegroupgap": 0
        },
        "margin": {
         "t": 60
        },
        "template": {
         "data": {
          "bar": [
           {
            "error_x": {
             "color": "#2a3f5f"
            },
            "error_y": {
             "color": "#2a3f5f"
            },
            "marker": {
             "line": {
              "color": "#E5ECF6",
              "width": 0.5
             }
            },
            "type": "bar"
           }
          ],
          "barpolar": [
           {
            "marker": {
             "line": {
              "color": "#E5ECF6",
              "width": 0.5
             }
            },
            "type": "barpolar"
           }
          ],
          "carpet": [
           {
            "aaxis": {
             "endlinecolor": "#2a3f5f",
             "gridcolor": "white",
             "linecolor": "white",
             "minorgridcolor": "white",
             "startlinecolor": "#2a3f5f"
            },
            "baxis": {
             "endlinecolor": "#2a3f5f",
             "gridcolor": "white",
             "linecolor": "white",
             "minorgridcolor": "white",
             "startlinecolor": "#2a3f5f"
            },
            "type": "carpet"
           }
          ],
          "choropleth": [
           {
            "colorbar": {
             "outlinewidth": 0,
             "ticks": ""
            },
            "type": "choropleth"
           }
          ],
          "contour": [
           {
            "colorbar": {
             "outlinewidth": 0,
             "ticks": ""
            },
            "colorscale": [
             [
              0,
              "#0d0887"
             ],
             [
              0.1111111111111111,
              "#46039f"
             ],
             [
              0.2222222222222222,
              "#7201a8"
             ],
             [
              0.3333333333333333,
              "#9c179e"
             ],
             [
              0.4444444444444444,
              "#bd3786"
             ],
             [
              0.5555555555555556,
              "#d8576b"
             ],
             [
              0.6666666666666666,
              "#ed7953"
             ],
             [
              0.7777777777777778,
              "#fb9f3a"
             ],
             [
              0.8888888888888888,
              "#fdca26"
             ],
             [
              1,
              "#f0f921"
             ]
            ],
            "type": "contour"
           }
          ],
          "contourcarpet": [
           {
            "colorbar": {
             "outlinewidth": 0,
             "ticks": ""
            },
            "type": "contourcarpet"
           }
          ],
          "heatmap": [
           {
            "colorbar": {
             "outlinewidth": 0,
             "ticks": ""
            },
            "colorscale": [
             [
              0,
              "#0d0887"
             ],
             [
              0.1111111111111111,
              "#46039f"
             ],
             [
              0.2222222222222222,
              "#7201a8"
             ],
             [
              0.3333333333333333,
              "#9c179e"
             ],
             [
              0.4444444444444444,
              "#bd3786"
             ],
             [
              0.5555555555555556,
              "#d8576b"
             ],
             [
              0.6666666666666666,
              "#ed7953"
             ],
             [
              0.7777777777777778,
              "#fb9f3a"
             ],
             [
              0.8888888888888888,
              "#fdca26"
             ],
             [
              1,
              "#f0f921"
             ]
            ],
            "type": "heatmap"
           }
          ],
          "heatmapgl": [
           {
            "colorbar": {
             "outlinewidth": 0,
             "ticks": ""
            },
            "colorscale": [
             [
              0,
              "#0d0887"
             ],
             [
              0.1111111111111111,
              "#46039f"
             ],
             [
              0.2222222222222222,
              "#7201a8"
             ],
             [
              0.3333333333333333,
              "#9c179e"
             ],
             [
              0.4444444444444444,
              "#bd3786"
             ],
             [
              0.5555555555555556,
              "#d8576b"
             ],
             [
              0.6666666666666666,
              "#ed7953"
             ],
             [
              0.7777777777777778,
              "#fb9f3a"
             ],
             [
              0.8888888888888888,
              "#fdca26"
             ],
             [
              1,
              "#f0f921"
             ]
            ],
            "type": "heatmapgl"
           }
          ],
          "histogram": [
           {
            "marker": {
             "colorbar": {
              "outlinewidth": 0,
              "ticks": ""
             }
            },
            "type": "histogram"
           }
          ],
          "histogram2d": [
           {
            "colorbar": {
             "outlinewidth": 0,
             "ticks": ""
            },
            "colorscale": [
             [
              0,
              "#0d0887"
             ],
             [
              0.1111111111111111,
              "#46039f"
             ],
             [
              0.2222222222222222,
              "#7201a8"
             ],
             [
              0.3333333333333333,
              "#9c179e"
             ],
             [
              0.4444444444444444,
              "#bd3786"
             ],
             [
              0.5555555555555556,
              "#d8576b"
             ],
             [
              0.6666666666666666,
              "#ed7953"
             ],
             [
              0.7777777777777778,
              "#fb9f3a"
             ],
             [
              0.8888888888888888,
              "#fdca26"
             ],
             [
              1,
              "#f0f921"
             ]
            ],
            "type": "histogram2d"
           }
          ],
          "histogram2dcontour": [
           {
            "colorbar": {
             "outlinewidth": 0,
             "ticks": ""
            },
            "colorscale": [
             [
              0,
              "#0d0887"
             ],
             [
              0.1111111111111111,
              "#46039f"
             ],
             [
              0.2222222222222222,
              "#7201a8"
             ],
             [
              0.3333333333333333,
              "#9c179e"
             ],
             [
              0.4444444444444444,
              "#bd3786"
             ],
             [
              0.5555555555555556,
              "#d8576b"
             ],
             [
              0.6666666666666666,
              "#ed7953"
             ],
             [
              0.7777777777777778,
              "#fb9f3a"
             ],
             [
              0.8888888888888888,
              "#fdca26"
             ],
             [
              1,
              "#f0f921"
             ]
            ],
            "type": "histogram2dcontour"
           }
          ],
          "mesh3d": [
           {
            "colorbar": {
             "outlinewidth": 0,
             "ticks": ""
            },
            "type": "mesh3d"
           }
          ],
          "parcoords": [
           {
            "line": {
             "colorbar": {
              "outlinewidth": 0,
              "ticks": ""
             }
            },
            "type": "parcoords"
           }
          ],
          "pie": [
           {
            "automargin": true,
            "type": "pie"
           }
          ],
          "scatter": [
           {
            "marker": {
             "colorbar": {
              "outlinewidth": 0,
              "ticks": ""
             }
            },
            "type": "scatter"
           }
          ],
          "scatter3d": [
           {
            "line": {
             "colorbar": {
              "outlinewidth": 0,
              "ticks": ""
             }
            },
            "marker": {
             "colorbar": {
              "outlinewidth": 0,
              "ticks": ""
             }
            },
            "type": "scatter3d"
           }
          ],
          "scattercarpet": [
           {
            "marker": {
             "colorbar": {
              "outlinewidth": 0,
              "ticks": ""
             }
            },
            "type": "scattercarpet"
           }
          ],
          "scattergeo": [
           {
            "marker": {
             "colorbar": {
              "outlinewidth": 0,
              "ticks": ""
             }
            },
            "type": "scattergeo"
           }
          ],
          "scattergl": [
           {
            "marker": {
             "colorbar": {
              "outlinewidth": 0,
              "ticks": ""
             }
            },
            "type": "scattergl"
           }
          ],
          "scattermapbox": [
           {
            "marker": {
             "colorbar": {
              "outlinewidth": 0,
              "ticks": ""
             }
            },
            "type": "scattermapbox"
           }
          ],
          "scatterpolar": [
           {
            "marker": {
             "colorbar": {
              "outlinewidth": 0,
              "ticks": ""
             }
            },
            "type": "scatterpolar"
           }
          ],
          "scatterpolargl": [
           {
            "marker": {
             "colorbar": {
              "outlinewidth": 0,
              "ticks": ""
             }
            },
            "type": "scatterpolargl"
           }
          ],
          "scatterternary": [
           {
            "marker": {
             "colorbar": {
              "outlinewidth": 0,
              "ticks": ""
             }
            },
            "type": "scatterternary"
           }
          ],
          "surface": [
           {
            "colorbar": {
             "outlinewidth": 0,
             "ticks": ""
            },
            "colorscale": [
             [
              0,
              "#0d0887"
             ],
             [
              0.1111111111111111,
              "#46039f"
             ],
             [
              0.2222222222222222,
              "#7201a8"
             ],
             [
              0.3333333333333333,
              "#9c179e"
             ],
             [
              0.4444444444444444,
              "#bd3786"
             ],
             [
              0.5555555555555556,
              "#d8576b"
             ],
             [
              0.6666666666666666,
              "#ed7953"
             ],
             [
              0.7777777777777778,
              "#fb9f3a"
             ],
             [
              0.8888888888888888,
              "#fdca26"
             ],
             [
              1,
              "#f0f921"
             ]
            ],
            "type": "surface"
           }
          ],
          "table": [
           {
            "cells": {
             "fill": {
              "color": "#EBF0F8"
             },
             "line": {
              "color": "white"
             }
            },
            "header": {
             "fill": {
              "color": "#C8D4E3"
             },
             "line": {
              "color": "white"
             }
            },
            "type": "table"
           }
          ]
         },
         "layout": {
          "annotationdefaults": {
           "arrowcolor": "#2a3f5f",
           "arrowhead": 0,
           "arrowwidth": 1
          },
          "autotypenumbers": "strict",
          "coloraxis": {
           "colorbar": {
            "outlinewidth": 0,
            "ticks": ""
           }
          },
          "colorscale": {
           "diverging": [
            [
             0,
             "#8e0152"
            ],
            [
             0.1,
             "#c51b7d"
            ],
            [
             0.2,
             "#de77ae"
            ],
            [
             0.3,
             "#f1b6da"
            ],
            [
             0.4,
             "#fde0ef"
            ],
            [
             0.5,
             "#f7f7f7"
            ],
            [
             0.6,
             "#e6f5d0"
            ],
            [
             0.7,
             "#b8e186"
            ],
            [
             0.8,
             "#7fbc41"
            ],
            [
             0.9,
             "#4d9221"
            ],
            [
             1,
             "#276419"
            ]
           ],
           "sequential": [
            [
             0,
             "#0d0887"
            ],
            [
             0.1111111111111111,
             "#46039f"
            ],
            [
             0.2222222222222222,
             "#7201a8"
            ],
            [
             0.3333333333333333,
             "#9c179e"
            ],
            [
             0.4444444444444444,
             "#bd3786"
            ],
            [
             0.5555555555555556,
             "#d8576b"
            ],
            [
             0.6666666666666666,
             "#ed7953"
            ],
            [
             0.7777777777777778,
             "#fb9f3a"
            ],
            [
             0.8888888888888888,
             "#fdca26"
            ],
            [
             1,
             "#f0f921"
            ]
           ],
           "sequentialminus": [
            [
             0,
             "#0d0887"
            ],
            [
             0.1111111111111111,
             "#46039f"
            ],
            [
             0.2222222222222222,
             "#7201a8"
            ],
            [
             0.3333333333333333,
             "#9c179e"
            ],
            [
             0.4444444444444444,
             "#bd3786"
            ],
            [
             0.5555555555555556,
             "#d8576b"
            ],
            [
             0.6666666666666666,
             "#ed7953"
            ],
            [
             0.7777777777777778,
             "#fb9f3a"
            ],
            [
             0.8888888888888888,
             "#fdca26"
            ],
            [
             1,
             "#f0f921"
            ]
           ]
          },
          "colorway": [
           "#636efa",
           "#EF553B",
           "#00cc96",
           "#ab63fa",
           "#FFA15A",
           "#19d3f3",
           "#FF6692",
           "#B6E880",
           "#FF97FF",
           "#FECB52"
          ],
          "font": {
           "color": "#2a3f5f"
          },
          "geo": {
           "bgcolor": "white",
           "lakecolor": "white",
           "landcolor": "#E5ECF6",
           "showlakes": true,
           "showland": true,
           "subunitcolor": "white"
          },
          "hoverlabel": {
           "align": "left"
          },
          "hovermode": "closest",
          "mapbox": {
           "style": "light"
          },
          "paper_bgcolor": "white",
          "plot_bgcolor": "#E5ECF6",
          "polar": {
           "angularaxis": {
            "gridcolor": "white",
            "linecolor": "white",
            "ticks": ""
           },
           "bgcolor": "#E5ECF6",
           "radialaxis": {
            "gridcolor": "white",
            "linecolor": "white",
            "ticks": ""
           }
          },
          "scene": {
           "xaxis": {
            "backgroundcolor": "#E5ECF6",
            "gridcolor": "white",
            "gridwidth": 2,
            "linecolor": "white",
            "showbackground": true,
            "ticks": "",
            "zerolinecolor": "white"
           },
           "yaxis": {
            "backgroundcolor": "#E5ECF6",
            "gridcolor": "white",
            "gridwidth": 2,
            "linecolor": "white",
            "showbackground": true,
            "ticks": "",
            "zerolinecolor": "white"
           },
           "zaxis": {
            "backgroundcolor": "#E5ECF6",
            "gridcolor": "white",
            "gridwidth": 2,
            "linecolor": "white",
            "showbackground": true,
            "ticks": "",
            "zerolinecolor": "white"
           }
          },
          "shapedefaults": {
           "line": {
            "color": "#2a3f5f"
           }
          },
          "ternary": {
           "aaxis": {
            "gridcolor": "white",
            "linecolor": "white",
            "ticks": ""
           },
           "baxis": {
            "gridcolor": "white",
            "linecolor": "white",
            "ticks": ""
           },
           "bgcolor": "#E5ECF6",
           "caxis": {
            "gridcolor": "white",
            "linecolor": "white",
            "ticks": ""
           }
          },
          "title": {
           "x": 0.05
          },
          "xaxis": {
           "automargin": true,
           "gridcolor": "white",
           "linecolor": "white",
           "ticks": "",
           "title": {
            "standoff": 15
           },
           "zerolinecolor": "white",
           "zerolinewidth": 2
          },
          "yaxis": {
           "automargin": true,
           "gridcolor": "white",
           "linecolor": "white",
           "ticks": "",
           "title": {
            "standoff": 15
           },
           "zerolinecolor": "white",
           "zerolinewidth": 2
          }
         }
        },
        "xaxis": {
         "anchor": "y",
         "domain": [
          0,
          1
         ],
         "range": [
          -2,
          8
         ],
         "title": {
          "text": "Relative_Change_AverageBusUsers"
         },
         "type": "linear"
        },
        "yaxis": {
         "anchor": "x",
         "autorange": true,
         "domain": [
          0,
          1
         ],
         "range": [
          0,
          61.05263157894737
         ],
         "title": {
          "text": "count"
         }
        }
       }
      },
      "image/png": "[encoded data removed]",
      "text/html": [
       "<div>                            <div id=\"568dea3e-59da-4204-9010-70a7f23d407c\" class=\"plotly-graph-div\" style=\"height:525px; width:100%;\"></div>            <script type=\"text/javascript\">                require([\"plotly\"], function(Plotly) {                    window.PLOTLYENV=window.PLOTLYENV || {};                                    if (document.getElementById(\"568dea3e-59da-4204-9010-70a7f23d407c\")) {                    Plotly.newPlot(                        \"568dea3e-59da-4204-9010-70a7f23d407c\",                        [{\"alignmentgroup\": \"True\", \"bingroup\": \"x\", \"hovertemplate\": \"Relative_Change_AverageBusUsers=%{x}<br>count=%{y}<extra></extra>\", \"legendgroup\": \"\", \"marker\": {\"color\": \"#636efa\"}, \"name\": \"\", \"nbinsx\": 256, \"offsetgroup\": \"\", \"orientation\": \"v\", \"showlegend\": false, \"type\": \"histogram\", \"x\": [0.8219433390200758, -0.6227363081882493, 1.0282563626782817, -0.32077779369876797, -0.39063969933030157, -0.4365742922577674, -0.3762933764686737, 4.254716234828974, 0.2856031831636225, -0.2411448271890368, -0.3225702605273859, -0.5264467422587696, -0.4599835870803141, -0.44724255724198775, -0.3089551451091546, -0.5429281880965175, -0.3512003697850774, -0.724409891660844, 0.49799244610866406, -0.42640662695964, -0.1709433472550162, -0.40710480376452335, -0.7447330190366502, -0.511113479052721, -0.5025813952551319, -0.3565695136942386, -0.5056246188585446, 0.054545622766128954, -0.4841020046048456, -0.6950596056891049, -0.1677844628155401, -0.1483303951031025, -0.4054648603733125, -0.2250117580766466, -0.7933698881101242, -0.3636859325701661, -0.5541831846992901, 0.15393695809575467, 2.760935210033935, 3.7656568469577594, 1.4077658569258105, -0.47521294634599703, -0.2771673881240243, 0.08110554507264099, -0.5722955101841808, -0.3876103049846462, -0.18093732665129952, -0.5745289983774453, -0.5708905251606673, -0.9437101040604068, -0.15346815331361058, -0.15503911845574786, -0.928858219912621, -0.13540597070661203, -0.6193860593349254, -0.3784545740758034, -0.5323208395922026, -0.5999808077480401, -0.4915535797424894, -0.11981104059142057, -0.4075257911068701, -0.2522116236611796, -0.6360592168172844, 19.465241393833203, 0.4404255555718204, -0.29822826701330735, -0.23473394294492456, 0.8069529808039632, -0.4114511660257235, -0.2097940845452255, -0.4068831272997995, -0.546613029581089, -0.3015775824120412, -0.2656397762929997, -0.7106771332213487, -0.5396860842967636, -0.4221730336211091, -0.22394693122145123, 0.14506211426311375, -0.7057397784088367, 0.2676077820173826, -0.32309653081281725, -0.251638958155817, -0.25993173883056064, -0.5475767176290652, -0.767767944366432, -0.04387255353546363, -0.397948968531748, -0.22702432477469728, -0.09278293537747068, -0.16334257607878053, -0.7142830230325568, -0.09411475402583257, -0.42317657877790826, 3.901734949517658, -0.6247208711584177, 0.06254798211537653, 1.3922957329753776, -0.23433682974141812, -0.5691610349183497, -0.5415232841489034, -0.5607929088216334, -0.6651032070822069, 27.38721998115422, 0.35420290081279915, -0.19754122904015464, -0.08127331770846377, 1.522726613602642, -0.6215267900358189, -0.16291710388907676, -0.5669772173705516, -0.9571014087386207, -0.3561071208571037, -0.7142985859073664, -0.8034178854338478, 1.6930270874598177, 0.8489942152219995, -0.6374339217311737, -0.13988980082391195, -0.8428322873838485, -0.2631578947368421, 3.8480026719340006, -0.27886137189042043, -0.7825922126303672, 0.05532854961086689, -0.2630996588491748, -0.39745924166150975, -0.2591273429368454, -0.578198407230543, -0.20350648371399235, -0.4602177836005691, 0.24193551603735816, -0.5246354920154185, -0.38206847555555, -0.2781896092061986, -0.22483840580014056, -0.39051369527983887, -0.06490632311521763, 0.2528029825670529, 42.27424965299631, -0.5290889098584799, 0.4027174958767337, -0.4832832148563538, -0.020168807466895224, -0.4019165451538592, 1.487431178421029, -0.10969477451474786, -0.40990432743953936, -0.3757736031638804, -0.5050258207834039, -0.2072271008208696, 0.22662540802835557, -0.3769313125818338, -0.551824272705623, -0.23137275685419517, -0.8286478619023853, -0.6307016166387536, -0.3269008138789783, -0.39007962109426675, -0.6174979948174998, -0.8198602397318587, 1.3553578824588228, -0.9641305334172298, -0.45066869000755905, -0.1853704376120237, 2.272822944283606, -0.5146056996058408, -0.2511686269962557, -0.2898750870312938, 0.10847589040109488, -0.3588535888190016, -0.49471953250087075, -0.20589100968913668, -0.4855669579147641, 1.5706378858271413, -0.3118297749271442, -0.5209338304986861, -0.6172140217593566, -0.36611673878083834, -0.5589798698089892, -0.03826635612192246, -0.6986071530836981, -0.4297879664763404, 0.4796887253721354, 7.344182522833615, 1.1714231812267482, -0.6143616204923779, -0.1274106018562571, -0.8488203541522045, -0.09288898090410119, -0.7780510555043078, -0.7935024580859227, 1.0054742839925712, -0.6835587864027985, -0.5363006409019678, -0.6344875972186009, -0.2648305370790177, -0.19518636395570732, 1.4352995556065962, -0.41131890932417997, -0.39066765011521554, 0.9805234761847733, -0.5797937909225549, -0.2652189803088203, -0.6902475041108181, -0.669188417229044, -0.33184642607902404, -0.7665202332629218, -0.39849752154955165, -0.5196441928032974, -0.684665698467819, -0.4862573335543137, 0.030225642479869606, -0.7302447877926048, -0.7451737456474231, -0.24288458237798644, -0.30734564826457933, -0.6610626785679423, -0.8270710632171887, -0.12564099045823526, -0.39972470375163927, -0.47768026297286986, 0.08636641156558775, 12.272612228220186, -0.39630362083050225, -0.051825917139125856, -0.18650910293805603, -0.15516031640312805, -0.9324507571087158, -0.7664666144594559, -0.6912566900581925, 0.4257426384502136, -0.7172797542749801, -0.4871418382531063, -0.15046232048991107, 0.28551481629694314, -0.7577706599477065, -0.19293506171176808, 16.07267439051934], \"xaxis\": \"x\", \"yaxis\": \"y\"}],                        {\"barmode\": \"relative\", \"legend\": {\"tracegroupgap\": 0}, \"margin\": {\"t\": 60}, \"template\": {\"data\": {\"bar\": [{\"error_x\": {\"color\": \"#2a3f5f\"}, \"error_y\": {\"color\": \"#2a3f5f\"}, \"marker\": {\"line\": {\"color\": \"#E5ECF6\", \"width\": 0.5}}, \"type\": \"bar\"}], \"barpolar\": [{\"marker\": {\"line\": {\"color\": \"#E5ECF6\", \"width\": 0.5}}, \"type\": \"barpolar\"}], \"carpet\": [{\"aaxis\": {\"endlinecolor\": \"#2a3f5f\", \"gridcolor\": \"white\", \"linecolor\": \"white\", \"minorgridcolor\": \"white\", \"startlinecolor\": \"#2a3f5f\"}, \"baxis\": {\"endlinecolor\": \"#2a3f5f\", \"gridcolor\": \"white\", \"linecolor\": \"white\", \"minorgridcolor\": \"white\", \"startlinecolor\": \"#2a3f5f\"}, \"type\": \"carpet\"}], \"choropleth\": [{\"colorbar\": {\"outlinewidth\": 0, \"ticks\": \"\"}, \"type\": \"choropleth\"}], \"contour\": [{\"colorbar\": {\"outlinewidth\": 0, \"ticks\": \"\"}, \"colorscale\": [[0.0, \"#0d0887\"], [0.1111111111111111, \"#46039f\"], [0.2222222222222222, \"#7201a8\"], [0.3333333333333333, \"#9c179e\"], [0.4444444444444444, \"#bd3786\"], [0.5555555555555556, \"#d8576b\"], [0.6666666666666666, \"#ed7953\"], [0.7777777777777778, \"#fb9f3a\"], [0.8888888888888888, \"#fdca26\"], [1.0, \"#f0f921\"]], \"type\": \"contour\"}], \"contourcarpet\": [{\"colorbar\": {\"outlinewidth\": 0, \"ticks\": \"\"}, \"type\": \"contourcarpet\"}], \"heatmap\": [{\"colorbar\": {\"outlinewidth\": 0, \"ticks\": \"\"}, \"colorscale\": [[0.0, \"#0d0887\"], [0.1111111111111111, \"#46039f\"], [0.2222222222222222, \"#7201a8\"], [0.3333333333333333, \"#9c179e\"], [0.4444444444444444, \"#bd3786\"], [0.5555555555555556, \"#d8576b\"], [0.6666666666666666, \"#ed7953\"], [0.7777777777777778, \"#fb9f3a\"], [0.8888888888888888, \"#fdca26\"], [1.0, \"#f0f921\"]], \"type\": \"heatmap\"}], \"heatmapgl\": [{\"colorbar\": {\"outlinewidth\": 0, \"ticks\": \"\"}, \"colorscale\": [[0.0, \"#0d0887\"], [0.1111111111111111, \"#46039f\"], [0.2222222222222222, \"#7201a8\"], [0.3333333333333333, \"#9c179e\"], [0.4444444444444444, \"#bd3786\"], [0.5555555555555556, \"#d8576b\"], [0.6666666666666666, \"#ed7953\"], [0.7777777777777778, \"#fb9f3a\"], [0.8888888888888888, \"#fdca26\"], [1.0, \"#f0f921\"]], \"type\": \"heatmapgl\"}], \"histogram\": [{\"marker\": {\"colorbar\": {\"outlinewidth\": 0, \"ticks\": \"\"}}, \"type\": \"histogram\"}], \"histogram2d\": [{\"colorbar\": {\"outlinewidth\": 0, \"ticks\": \"\"}, \"colorscale\": [[0.0, \"#0d0887\"], [0.1111111111111111, \"#46039f\"], [0.2222222222222222, \"#7201a8\"], [0.3333333333333333, \"#9c179e\"], [0.4444444444444444, \"#bd3786\"], [0.5555555555555556, \"#d8576b\"], [0.6666666666666666, \"#ed7953\"], [0.7777777777777778, \"#fb9f3a\"], [0.8888888888888888, \"#fdca26\"], [1.0, \"#f0f921\"]], \"type\": \"histogram2d\"}], \"histogram2dcontour\": [{\"colorbar\": {\"outlinewidth\": 0, \"ticks\": \"\"}, \"colorscale\": [[0.0, \"#0d0887\"], [0.1111111111111111, \"#46039f\"], [0.2222222222222222, \"#7201a8\"], [0.3333333333333333, \"#9c179e\"], [0.4444444444444444, \"#bd3786\"], [0.5555555555555556, \"#d8576b\"], [0.6666666666666666, \"#ed7953\"], [0.7777777777777778, \"#fb9f3a\"], [0.8888888888888888, \"#fdca26\"], [1.0, \"#f0f921\"]], \"type\": \"histogram2dcontour\"}], \"mesh3d\": [{\"colorbar\": {\"outlinewidth\": 0, \"ticks\": \"\"}, \"type\": \"mesh3d\"}], \"parcoords\": [{\"line\": {\"colorbar\": {\"outlinewidth\": 0, \"ticks\": \"\"}}, \"type\": \"parcoords\"}], \"pie\": [{\"automargin\": true, \"type\": \"pie\"}], \"scatter\": [{\"marker\": {\"colorbar\": {\"outlinewidth\": 0, \"ticks\": \"\"}}, \"type\": \"scatter\"}], \"scatter3d\": [{\"line\": {\"colorbar\": {\"outlinewidth\": 0, \"ticks\": \"\"}}, \"marker\": {\"colorbar\": {\"outlinewidth\": 0, \"ticks\": \"\"}}, \"type\": \"scatter3d\"}], \"scattercarpet\": [{\"marker\": {\"colorbar\": {\"outlinewidth\": 0, \"ticks\": \"\"}}, \"type\": \"scattercarpet\"}], \"scattergeo\": [{\"marker\": {\"colorbar\": {\"outlinewidth\": 0, \"ticks\": \"\"}}, \"type\": \"scattergeo\"}], \"scattergl\": [{\"marker\": {\"colorbar\": {\"outlinewidth\": 0, \"ticks\": \"\"}}, \"type\": \"scattergl\"}], \"scattermapbox\": [{\"marker\": {\"colorbar\": {\"outlinewidth\": 0, \"ticks\": \"\"}}, \"type\": \"scattermapbox\"}], \"scatterpolar\": [{\"marker\": {\"colorbar\": {\"outlinewidth\": 0, \"ticks\": \"\"}}, \"type\": \"scatterpolar\"}], \"scatterpolargl\": [{\"marker\": {\"colorbar\": {\"outlinewidth\": 0, \"ticks\": \"\"}}, \"type\": \"scatterpolargl\"}], \"scatterternary\": [{\"marker\": {\"colorbar\": {\"outlinewidth\": 0, \"ticks\": \"\"}}, \"type\": \"scatterternary\"}], \"surface\": [{\"colorbar\": {\"outlinewidth\": 0, \"ticks\": \"\"}, \"colorscale\": [[0.0, \"#0d0887\"], [0.1111111111111111, \"#46039f\"], [0.2222222222222222, \"#7201a8\"], [0.3333333333333333, \"#9c179e\"], [0.4444444444444444, \"#bd3786\"], [0.5555555555555556, \"#d8576b\"], [0.6666666666666666, \"#ed7953\"], [0.7777777777777778, \"#fb9f3a\"], [0.8888888888888888, \"#fdca26\"], [1.0, \"#f0f921\"]], \"type\": \"surface\"}], \"table\": [{\"cells\": {\"fill\": {\"color\": \"#EBF0F8\"}, \"line\": {\"color\": \"white\"}}, \"header\": {\"fill\": {\"color\": \"#C8D4E3\"}, \"line\": {\"color\": \"white\"}}, \"type\": \"table\"}]}, \"layout\": {\"annotationdefaults\": {\"arrowcolor\": \"#2a3f5f\", \"arrowhead\": 0, \"arrowwidth\": 1}, \"autotypenumbers\": \"strict\", \"coloraxis\": {\"colorbar\": {\"outlinewidth\": 0, \"ticks\": \"\"}}, \"colorscale\": {\"diverging\": [[0, \"#8e0152\"], [0.1, \"#c51b7d\"], [0.2, \"#de77ae\"], [0.3, \"#f1b6da\"], [0.4, \"#fde0ef\"], [0.5, \"#f7f7f7\"], [0.6, \"#e6f5d0\"], [0.7, \"#b8e186\"], [0.8, \"#7fbc41\"], [0.9, \"#4d9221\"], [1, \"#276419\"]], \"sequential\": [[0.0, \"#0d0887\"], [0.1111111111111111, \"#46039f\"], [0.2222222222222222, \"#7201a8\"], [0.3333333333333333, \"#9c179e\"], [0.4444444444444444, \"#bd3786\"], [0.5555555555555556, \"#d8576b\"], [0.6666666666666666, \"#ed7953\"], [0.7777777777777778, \"#fb9f3a\"], [0.8888888888888888, \"#fdca26\"], [1.0, \"#f0f921\"]], \"sequentialminus\": [[0.0, \"#0d0887\"], [0.1111111111111111, \"#46039f\"], [0.2222222222222222, \"#7201a8\"], [0.3333333333333333, \"#9c179e\"], [0.4444444444444444, \"#bd3786\"], [0.5555555555555556, \"#d8576b\"], [0.6666666666666666, \"#ed7953\"], [0.7777777777777778, \"#fb9f3a\"], [0.8888888888888888, \"#fdca26\"], [1.0, \"#f0f921\"]]}, \"colorway\": [\"#636efa\", \"#EF553B\", \"#00cc96\", \"#ab63fa\", \"#FFA15A\", \"#19d3f3\", \"#FF6692\", \"#B6E880\", \"#FF97FF\", \"#FECB52\"], \"font\": {\"color\": \"#2a3f5f\"}, \"geo\": {\"bgcolor\": \"white\", \"lakecolor\": \"white\", \"landcolor\": \"#E5ECF6\", \"showlakes\": true, \"showland\": true, \"subunitcolor\": \"white\"}, \"hoverlabel\": {\"align\": \"left\"}, \"hovermode\": \"closest\", \"mapbox\": {\"style\": \"light\"}, \"paper_bgcolor\": \"white\", \"plot_bgcolor\": \"#E5ECF6\", \"polar\": {\"angularaxis\": {\"gridcolor\": \"white\", \"linecolor\": \"white\", \"ticks\": \"\"}, \"bgcolor\": \"#E5ECF6\", \"radialaxis\": {\"gridcolor\": \"white\", \"linecolor\": \"white\", \"ticks\": \"\"}}, \"scene\": {\"xaxis\": {\"backgroundcolor\": \"#E5ECF6\", \"gridcolor\": \"white\", \"gridwidth\": 2, \"linecolor\": \"white\", \"showbackground\": true, \"ticks\": \"\", \"zerolinecolor\": \"white\"}, \"yaxis\": {\"backgroundcolor\": \"#E5ECF6\", \"gridcolor\": \"white\", \"gridwidth\": 2, \"linecolor\": \"white\", \"showbackground\": true, \"ticks\": \"\", \"zerolinecolor\": \"white\"}, \"zaxis\": {\"backgroundcolor\": \"#E5ECF6\", \"gridcolor\": \"white\", \"gridwidth\": 2, \"linecolor\": \"white\", \"showbackground\": true, \"ticks\": \"\", \"zerolinecolor\": \"white\"}}, \"shapedefaults\": {\"line\": {\"color\": \"#2a3f5f\"}}, \"ternary\": {\"aaxis\": {\"gridcolor\": \"white\", \"linecolor\": \"white\", \"ticks\": \"\"}, \"baxis\": {\"gridcolor\": \"white\", \"linecolor\": \"white\", \"ticks\": \"\"}, \"bgcolor\": \"#E5ECF6\", \"caxis\": {\"gridcolor\": \"white\", \"linecolor\": \"white\", \"ticks\": \"\"}}, \"title\": {\"x\": 0.05}, \"xaxis\": {\"automargin\": true, \"gridcolor\": \"white\", \"linecolor\": \"white\", \"ticks\": \"\", \"title\": {\"standoff\": 15}, \"zerolinecolor\": \"white\", \"zerolinewidth\": 2}, \"yaxis\": {\"automargin\": true, \"gridcolor\": \"white\", \"linecolor\": \"white\", \"ticks\": \"\", \"title\": {\"standoff\": 15}, \"zerolinecolor\": \"white\", \"zerolinewidth\": 2}}}, \"xaxis\": {\"anchor\": \"y\", \"domain\": [0.0, 1.0], \"range\": [-2, 8], \"title\": {\"text\": \"Relative_Change_AverageBusUsers\"}}, \"yaxis\": {\"anchor\": \"x\", \"domain\": [0.0, 1.0], \"title\": {\"text\": \"count\"}}},                        {\"responsive\": true}                    ).then(function(){\n",
       "                            \n",
       "var gd = document.getElementById('568dea3e-59da-4204-9010-70a7f23d407c');\n",
       "var x = new MutationObserver(function (mutations, observer) {{\n",
       "        var display = window.getComputedStyle(gd).display;\n",
       "        if (!display || display === 'none') {{\n",
       "            console.log([gd, 'removed!']);\n",
       "            Plotly.purge(gd);\n",
       "            observer.disconnect();\n",
       "        }}\n",
       "}});\n",
       "\n",
       "// Listen for the removal of the full notebook cells\n",
       "var notebookContainer = gd.closest('#notebook-container');\n",
       "if (notebookContainer) {{\n",
       "    x.observe(notebookContainer, {childList: true});\n",
       "}}\n",
       "\n",
       "// Listen for the clearing of the current output cell\n",
       "var outputEl = gd.closest('.output');\n",
       "if (outputEl) {{\n",
       "    x.observe(outputEl, {childList: true});\n",
       "}}\n",
       "\n",
       "                        })                };                });            </script>        </div>"
      ]
     },
     "metadata": {},
     "output_type": "display_data"
    }
   ],
   "source": [
    "import plotly.express as px\n",
    "fig = px.histogram(daily_users_changes, x=\"Relative_Change_AverageBusUsers\", nbins=256)\n",
    "fig.update_xaxes(range=[-2, 8])\n",
    "fig.show()"
   ]
  },
  {
   "cell_type": "code",
   "execution_count": 24,
   "metadata": {},
   "outputs": [],
   "source": [
    "churn_od_std_demand = churn_od.groupby(['Region_of_Origin', 'District_of_Origin', 'County_of_Origin'])['Demand_weight'].std().reset_index()\n",
    "\n",
    "churn_od_std_demand.rename(columns = {'Demand_weight': 'std_demand_weight'}, inplace=True)"
   ]
  },
  {
   "cell_type": "code",
   "execution_count": 26,
   "metadata": {},
   "outputs": [
    {
     "data": {
      "text/html": [
       "<div>\n",
       "<style scoped>\n",
       "    .dataframe tbody tr th:only-of-type {\n",
       "        vertical-align: middle;\n",
       "    }\n",
       "\n",
       "    .dataframe tbody tr th {\n",
       "        vertical-align: top;\n",
       "    }\n",
       "\n",
       "    .dataframe thead th {\n",
       "        text-align: right;\n",
       "    }\n",
       "</style>\n",
       "<table border=\"1\" class=\"dataframe\">\n",
       "  <thead>\n",
       "    <tr style=\"text-align: right;\">\n",
       "      <th></th>\n",
       "      <th>Region_of_Origin</th>\n",
       "      <th>District_of_Origin</th>\n",
       "      <th>County_of_Origin</th>\n",
       "      <th>std_demand_weight</th>\n",
       "    </tr>\n",
       "  </thead>\n",
       "  <tbody>\n",
       "    <tr>\n",
       "      <th>22</th>\n",
       "      <td>R2 - AM Porto</td>\n",
       "      <td>Aveiro</td>\n",
       "      <td>Vale de Cambra</td>\n",
       "      <td>0.137990</td>\n",
       "    </tr>\n",
       "    <tr>\n",
       "      <th>9</th>\n",
       "      <td>R1 - AM Lisboa</td>\n",
       "      <td>SetÃºbal</td>\n",
       "      <td>Alcochete</td>\n",
       "      <td>0.118616</td>\n",
       "    </tr>\n",
       "    <tr>\n",
       "      <th>19</th>\n",
       "      <td>R2 - AM Porto</td>\n",
       "      <td>Aveiro</td>\n",
       "      <td>Oliveira de AzemÃ©is</td>\n",
       "      <td>0.110216</td>\n",
       "    </tr>\n",
       "    <tr>\n",
       "      <th>18</th>\n",
       "      <td>R2 - AM Porto</td>\n",
       "      <td>Aveiro</td>\n",
       "      <td>Espinho</td>\n",
       "      <td>0.096775</td>\n",
       "    </tr>\n",
       "    <tr>\n",
       "      <th>28</th>\n",
       "      <td>R2 - AM Porto</td>\n",
       "      <td>Porto</td>\n",
       "      <td>PÃ³voa de Varzim</td>\n",
       "      <td>0.065145</td>\n",
       "    </tr>\n",
       "    <tr>\n",
       "      <th>20</th>\n",
       "      <td>R2 - AM Porto</td>\n",
       "      <td>Aveiro</td>\n",
       "      <td>Santa Maria da Feira</td>\n",
       "      <td>0.061624</td>\n",
       "    </tr>\n",
       "    <tr>\n",
       "      <th>30</th>\n",
       "      <td>R2 - AM Porto</td>\n",
       "      <td>Porto</td>\n",
       "      <td>Trofa</td>\n",
       "      <td>0.061456</td>\n",
       "    </tr>\n",
       "    <tr>\n",
       "      <th>29</th>\n",
       "      <td>R2 - AM Porto</td>\n",
       "      <td>Porto</td>\n",
       "      <td>Santo Tirso</td>\n",
       "      <td>0.058835</td>\n",
       "    </tr>\n",
       "    <tr>\n",
       "      <th>33</th>\n",
       "      <td>R2 - AM Porto</td>\n",
       "      <td>Porto</td>\n",
       "      <td>Vila do Conde</td>\n",
       "      <td>0.058802</td>\n",
       "    </tr>\n",
       "    <tr>\n",
       "      <th>12</th>\n",
       "      <td>R1 - AM Lisboa</td>\n",
       "      <td>SetÃºbal</td>\n",
       "      <td>Moita</td>\n",
       "      <td>0.055400</td>\n",
       "    </tr>\n",
       "    <tr>\n",
       "      <th>25</th>\n",
       "      <td>R2 - AM Porto</td>\n",
       "      <td>Porto</td>\n",
       "      <td>Matosinhos</td>\n",
       "      <td>0.054143</td>\n",
       "    </tr>\n",
       "    <tr>\n",
       "      <th>13</th>\n",
       "      <td>R1 - AM Lisboa</td>\n",
       "      <td>SetÃºbal</td>\n",
       "      <td>Montijo</td>\n",
       "      <td>0.051163</td>\n",
       "    </tr>\n",
       "    <tr>\n",
       "      <th>32</th>\n",
       "      <td>R2 - AM Porto</td>\n",
       "      <td>Porto</td>\n",
       "      <td>Vila Nova de Gaia</td>\n",
       "      <td>0.049149</td>\n",
       "    </tr>\n",
       "    <tr>\n",
       "      <th>27</th>\n",
       "      <td>R2 - AM Porto</td>\n",
       "      <td>Porto</td>\n",
       "      <td>Porto</td>\n",
       "      <td>0.048461</td>\n",
       "    </tr>\n",
       "    <tr>\n",
       "      <th>24</th>\n",
       "      <td>R2 - AM Porto</td>\n",
       "      <td>Porto</td>\n",
       "      <td>Maia</td>\n",
       "      <td>0.045863</td>\n",
       "    </tr>\n",
       "    <tr>\n",
       "      <th>23</th>\n",
       "      <td>R2 - AM Porto</td>\n",
       "      <td>Porto</td>\n",
       "      <td>Gondomar</td>\n",
       "      <td>0.042371</td>\n",
       "    </tr>\n",
       "    <tr>\n",
       "      <th>21</th>\n",
       "      <td>R2 - AM Porto</td>\n",
       "      <td>Aveiro</td>\n",
       "      <td>SÃ£o JoÃ£o da Madeira</td>\n",
       "      <td>0.042176</td>\n",
       "    </tr>\n",
       "    <tr>\n",
       "      <th>16</th>\n",
       "      <td>R1 - AM Lisboa</td>\n",
       "      <td>SetÃºbal</td>\n",
       "      <td>Sesimbra</td>\n",
       "      <td>0.040945</td>\n",
       "    </tr>\n",
       "    <tr>\n",
       "      <th>3</th>\n",
       "      <td>R1 - AM Lisboa</td>\n",
       "      <td>Lisboa</td>\n",
       "      <td>Loures</td>\n",
       "      <td>0.040248</td>\n",
       "    </tr>\n",
       "    <tr>\n",
       "      <th>14</th>\n",
       "      <td>R1 - AM Lisboa</td>\n",
       "      <td>SetÃºbal</td>\n",
       "      <td>Palmela</td>\n",
       "      <td>0.039007</td>\n",
       "    </tr>\n",
       "    <tr>\n",
       "      <th>0</th>\n",
       "      <td>R1 - AM Lisboa</td>\n",
       "      <td>Lisboa</td>\n",
       "      <td>Amadora</td>\n",
       "      <td>0.038087</td>\n",
       "    </tr>\n",
       "    <tr>\n",
       "      <th>8</th>\n",
       "      <td>R1 - AM Lisboa</td>\n",
       "      <td>Lisboa</td>\n",
       "      <td>Vila Franca de Xira</td>\n",
       "      <td>0.035590</td>\n",
       "    </tr>\n",
       "    <tr>\n",
       "      <th>11</th>\n",
       "      <td>R1 - AM Lisboa</td>\n",
       "      <td>SetÃºbal</td>\n",
       "      <td>Barreiro</td>\n",
       "      <td>0.034393</td>\n",
       "    </tr>\n",
       "    <tr>\n",
       "      <th>31</th>\n",
       "      <td>R2 - AM Porto</td>\n",
       "      <td>Porto</td>\n",
       "      <td>Valongo</td>\n",
       "      <td>0.034026</td>\n",
       "    </tr>\n",
       "    <tr>\n",
       "      <th>10</th>\n",
       "      <td>R1 - AM Lisboa</td>\n",
       "      <td>SetÃºbal</td>\n",
       "      <td>Almada</td>\n",
       "      <td>0.033391</td>\n",
       "    </tr>\n",
       "    <tr>\n",
       "      <th>6</th>\n",
       "      <td>R1 - AM Lisboa</td>\n",
       "      <td>Lisboa</td>\n",
       "      <td>Oeiras</td>\n",
       "      <td>0.032631</td>\n",
       "    </tr>\n",
       "    <tr>\n",
       "      <th>15</th>\n",
       "      <td>R1 - AM Lisboa</td>\n",
       "      <td>SetÃºbal</td>\n",
       "      <td>Seixal</td>\n",
       "      <td>0.030984</td>\n",
       "    </tr>\n",
       "    <tr>\n",
       "      <th>17</th>\n",
       "      <td>R1 - AM Lisboa</td>\n",
       "      <td>SetÃºbal</td>\n",
       "      <td>SetÃºbal</td>\n",
       "      <td>0.029742</td>\n",
       "    </tr>\n",
       "    <tr>\n",
       "      <th>5</th>\n",
       "      <td>R1 - AM Lisboa</td>\n",
       "      <td>Lisboa</td>\n",
       "      <td>Odivelas</td>\n",
       "      <td>0.029463</td>\n",
       "    </tr>\n",
       "    <tr>\n",
       "      <th>4</th>\n",
       "      <td>R1 - AM Lisboa</td>\n",
       "      <td>Lisboa</td>\n",
       "      <td>Mafra</td>\n",
       "      <td>0.027646</td>\n",
       "    </tr>\n",
       "    <tr>\n",
       "      <th>26</th>\n",
       "      <td>R2 - AM Porto</td>\n",
       "      <td>Porto</td>\n",
       "      <td>Paredes</td>\n",
       "      <td>0.027260</td>\n",
       "    </tr>\n",
       "    <tr>\n",
       "      <th>2</th>\n",
       "      <td>R1 - AM Lisboa</td>\n",
       "      <td>Lisboa</td>\n",
       "      <td>Lisboa</td>\n",
       "      <td>0.024106</td>\n",
       "    </tr>\n",
       "    <tr>\n",
       "      <th>1</th>\n",
       "      <td>R1 - AM Lisboa</td>\n",
       "      <td>Lisboa</td>\n",
       "      <td>Cascais</td>\n",
       "      <td>0.024071</td>\n",
       "    </tr>\n",
       "    <tr>\n",
       "      <th>7</th>\n",
       "      <td>R1 - AM Lisboa</td>\n",
       "      <td>Lisboa</td>\n",
       "      <td>Sintra</td>\n",
       "      <td>0.022770</td>\n",
       "    </tr>\n",
       "  </tbody>\n",
       "</table>\n",
       "</div>"
      ],
      "text/plain": [
       "   Region_of_Origin District_of_Origin       County_of_Origin  \\\n",
       "22    R2 - AM Porto             Aveiro         Vale de Cambra   \n",
       "9    R1 - AM Lisboa           SetÃºbal              Alcochete   \n",
       "19    R2 - AM Porto             Aveiro   Oliveira de AzemÃ©is   \n",
       "18    R2 - AM Porto             Aveiro                Espinho   \n",
       "28    R2 - AM Porto              Porto       PÃ³voa de Varzim   \n",
       "20    R2 - AM Porto             Aveiro   Santa Maria da Feira   \n",
       "30    R2 - AM Porto              Porto                  Trofa   \n",
       "29    R2 - AM Porto              Porto            Santo Tirso   \n",
       "33    R2 - AM Porto              Porto          Vila do Conde   \n",
       "12   R1 - AM Lisboa           SetÃºbal                  Moita   \n",
       "25    R2 - AM Porto              Porto             Matosinhos   \n",
       "13   R1 - AM Lisboa           SetÃºbal                Montijo   \n",
       "32    R2 - AM Porto              Porto      Vila Nova de Gaia   \n",
       "27    R2 - AM Porto              Porto                  Porto   \n",
       "24    R2 - AM Porto              Porto                   Maia   \n",
       "23    R2 - AM Porto              Porto               Gondomar   \n",
       "21    R2 - AM Porto             Aveiro  SÃ£o JoÃ£o da Madeira   \n",
       "16   R1 - AM Lisboa           SetÃºbal               Sesimbra   \n",
       "3    R1 - AM Lisboa             Lisboa                 Loures   \n",
       "14   R1 - AM Lisboa           SetÃºbal                Palmela   \n",
       "0    R1 - AM Lisboa             Lisboa                Amadora   \n",
       "8    R1 - AM Lisboa             Lisboa    Vila Franca de Xira   \n",
       "11   R1 - AM Lisboa           SetÃºbal               Barreiro   \n",
       "31    R2 - AM Porto              Porto                Valongo   \n",
       "10   R1 - AM Lisboa           SetÃºbal                 Almada   \n",
       "6    R1 - AM Lisboa             Lisboa                 Oeiras   \n",
       "15   R1 - AM Lisboa           SetÃºbal                 Seixal   \n",
       "17   R1 - AM Lisboa           SetÃºbal               SetÃºbal   \n",
       "5    R1 - AM Lisboa             Lisboa               Odivelas   \n",
       "4    R1 - AM Lisboa             Lisboa                  Mafra   \n",
       "26    R2 - AM Porto              Porto                Paredes   \n",
       "2    R1 - AM Lisboa             Lisboa                 Lisboa   \n",
       "1    R1 - AM Lisboa             Lisboa                Cascais   \n",
       "7    R1 - AM Lisboa             Lisboa                 Sintra   \n",
       "\n",
       "    std_demand_weight  \n",
       "22           0.137990  \n",
       "9            0.118616  \n",
       "19           0.110216  \n",
       "18           0.096775  \n",
       "28           0.065145  \n",
       "20           0.061624  \n",
       "30           0.061456  \n",
       "29           0.058835  \n",
       "33           0.058802  \n",
       "12           0.055400  \n",
       "25           0.054143  \n",
       "13           0.051163  \n",
       "32           0.049149  \n",
       "27           0.048461  \n",
       "24           0.045863  \n",
       "23           0.042371  \n",
       "21           0.042176  \n",
       "16           0.040945  \n",
       "3            0.040248  \n",
       "14           0.039007  \n",
       "0            0.038087  \n",
       "8            0.035590  \n",
       "11           0.034393  \n",
       "31           0.034026  \n",
       "10           0.033391  \n",
       "6            0.032631  \n",
       "15           0.030984  \n",
       "17           0.029742  \n",
       "5            0.029463  \n",
       "4            0.027646  \n",
       "26           0.027260  \n",
       "2            0.024106  \n",
       "1            0.024071  \n",
       "7            0.022770  "
      ]
     },
     "execution_count": 26,
     "metadata": {},
     "output_type": "execute_result"
    }
   ],
   "source": [
    "# Sorting SD in descending order\n",
    "churn_od_std_demand.sort_values(by=['std_demand_weight'], ascending=[False])"
   ]
  },
  {
   "cell_type": "code",
   "execution_count": 31,
   "metadata": {},
   "outputs": [],
   "source": [
    "tmp = daily_users_changes.groupby('County_of_Origin')['Relative_Change_AverageBusUsers'].mean().reset_index()"
   ]
  },
  {
   "cell_type": "code",
   "execution_count": 32,
   "metadata": {},
   "outputs": [
    {
     "data": {
      "text/html": [
       "<div>\n",
       "<style scoped>\n",
       "    .dataframe tbody tr th:only-of-type {\n",
       "        vertical-align: middle;\n",
       "    }\n",
       "\n",
       "    .dataframe tbody tr th {\n",
       "        vertical-align: top;\n",
       "    }\n",
       "\n",
       "    .dataframe thead th {\n",
       "        text-align: right;\n",
       "    }\n",
       "</style>\n",
       "<table border=\"1\" class=\"dataframe\">\n",
       "  <thead>\n",
       "    <tr style=\"text-align: right;\">\n",
       "      <th></th>\n",
       "      <th>County_of_Origin</th>\n",
       "      <th>Relative_Change_AverageBusUsers</th>\n",
       "      <th>Region_of_Origin</th>\n",
       "      <th>District_of_Origin</th>\n",
       "      <th>std_demand_weight</th>\n",
       "    </tr>\n",
       "  </thead>\n",
       "  <tbody>\n",
       "    <tr>\n",
       "      <th>0</th>\n",
       "      <td>Alcochete</td>\n",
       "      <td>0.062548</td>\n",
       "      <td>R1 - AM Lisboa</td>\n",
       "      <td>SetÃºbal</td>\n",
       "      <td>0.118616</td>\n",
       "    </tr>\n",
       "    <tr>\n",
       "      <th>1</th>\n",
       "      <td>Almada</td>\n",
       "      <td>2.527883</td>\n",
       "      <td>R1 - AM Lisboa</td>\n",
       "      <td>SetÃºbal</td>\n",
       "      <td>0.033391</td>\n",
       "    </tr>\n",
       "    <tr>\n",
       "      <th>2</th>\n",
       "      <td>Amadora</td>\n",
       "      <td>0.334526</td>\n",
       "      <td>R1 - AM Lisboa</td>\n",
       "      <td>Lisboa</td>\n",
       "      <td>0.038087</td>\n",
       "    </tr>\n",
       "    <tr>\n",
       "      <th>3</th>\n",
       "      <td>Barreiro</td>\n",
       "      <td>-0.311165</td>\n",
       "      <td>R1 - AM Lisboa</td>\n",
       "      <td>SetÃºbal</td>\n",
       "      <td>0.034393</td>\n",
       "    </tr>\n",
       "    <tr>\n",
       "      <th>4</th>\n",
       "      <td>Cascais</td>\n",
       "      <td>-0.351603</td>\n",
       "      <td>R1 - AM Lisboa</td>\n",
       "      <td>Lisboa</td>\n",
       "      <td>0.024071</td>\n",
       "    </tr>\n",
       "    <tr>\n",
       "      <th>5</th>\n",
       "      <td>Espinho</td>\n",
       "      <td>-0.449227</td>\n",
       "      <td>R2 - AM Porto</td>\n",
       "      <td>Aveiro</td>\n",
       "      <td>0.096775</td>\n",
       "    </tr>\n",
       "    <tr>\n",
       "      <th>6</th>\n",
       "      <td>Gondomar</td>\n",
       "      <td>-0.203727</td>\n",
       "      <td>R2 - AM Porto</td>\n",
       "      <td>Porto</td>\n",
       "      <td>0.042371</td>\n",
       "    </tr>\n",
       "    <tr>\n",
       "      <th>7</th>\n",
       "      <td>Lisboa</td>\n",
       "      <td>-0.390986</td>\n",
       "      <td>R1 - AM Lisboa</td>\n",
       "      <td>Lisboa</td>\n",
       "      <td>0.024106</td>\n",
       "    </tr>\n",
       "    <tr>\n",
       "      <th>8</th>\n",
       "      <td>Loures</td>\n",
       "      <td>0.466681</td>\n",
       "      <td>R1 - AM Lisboa</td>\n",
       "      <td>Lisboa</td>\n",
       "      <td>0.040248</td>\n",
       "    </tr>\n",
       "    <tr>\n",
       "      <th>9</th>\n",
       "      <td>Mafra</td>\n",
       "      <td>-0.423741</td>\n",
       "      <td>R1 - AM Lisboa</td>\n",
       "      <td>Lisboa</td>\n",
       "      <td>0.027646</td>\n",
       "    </tr>\n",
       "    <tr>\n",
       "      <th>10</th>\n",
       "      <td>Maia</td>\n",
       "      <td>0.487918</td>\n",
       "      <td>R2 - AM Porto</td>\n",
       "      <td>Porto</td>\n",
       "      <td>0.045863</td>\n",
       "    </tr>\n",
       "    <tr>\n",
       "      <th>11</th>\n",
       "      <td>Matosinhos</td>\n",
       "      <td>-0.083387</td>\n",
       "      <td>R2 - AM Porto</td>\n",
       "      <td>Porto</td>\n",
       "      <td>0.054143</td>\n",
       "    </tr>\n",
       "    <tr>\n",
       "      <th>12</th>\n",
       "      <td>Moita</td>\n",
       "      <td>-0.206864</td>\n",
       "      <td>R1 - AM Lisboa</td>\n",
       "      <td>SetÃºbal</td>\n",
       "      <td>0.055400</td>\n",
       "    </tr>\n",
       "    <tr>\n",
       "      <th>13</th>\n",
       "      <td>Montijo</td>\n",
       "      <td>0.363553</td>\n",
       "      <td>R1 - AM Lisboa</td>\n",
       "      <td>SetÃºbal</td>\n",
       "      <td>0.051163</td>\n",
       "    </tr>\n",
       "    <tr>\n",
       "      <th>14</th>\n",
       "      <td>Odivelas</td>\n",
       "      <td>-0.446551</td>\n",
       "      <td>R1 - AM Lisboa</td>\n",
       "      <td>Lisboa</td>\n",
       "      <td>0.029463</td>\n",
       "    </tr>\n",
       "    <tr>\n",
       "      <th>15</th>\n",
       "      <td>Oeiras</td>\n",
       "      <td>1.606116</td>\n",
       "      <td>R1 - AM Lisboa</td>\n",
       "      <td>Lisboa</td>\n",
       "      <td>0.032631</td>\n",
       "    </tr>\n",
       "    <tr>\n",
       "      <th>16</th>\n",
       "      <td>Oliveira de AzemÃ©is</td>\n",
       "      <td>-0.027333</td>\n",
       "      <td>R2 - AM Porto</td>\n",
       "      <td>Aveiro</td>\n",
       "      <td>0.110216</td>\n",
       "    </tr>\n",
       "    <tr>\n",
       "      <th>17</th>\n",
       "      <td>Palmela</td>\n",
       "      <td>-0.297292</td>\n",
       "      <td>R1 - AM Lisboa</td>\n",
       "      <td>SetÃºbal</td>\n",
       "      <td>0.039007</td>\n",
       "    </tr>\n",
       "    <tr>\n",
       "      <th>18</th>\n",
       "      <td>Paredes</td>\n",
       "      <td>-0.400993</td>\n",
       "      <td>R2 - AM Porto</td>\n",
       "      <td>Porto</td>\n",
       "      <td>0.027260</td>\n",
       "    </tr>\n",
       "    <tr>\n",
       "      <th>19</th>\n",
       "      <td>Porto</td>\n",
       "      <td>-0.401032</td>\n",
       "      <td>R2 - AM Porto</td>\n",
       "      <td>Porto</td>\n",
       "      <td>0.048461</td>\n",
       "    </tr>\n",
       "    <tr>\n",
       "      <th>20</th>\n",
       "      <td>PÃ³voa de Varzim</td>\n",
       "      <td>-0.422019</td>\n",
       "      <td>R2 - AM Porto</td>\n",
       "      <td>Porto</td>\n",
       "      <td>0.065145</td>\n",
       "    </tr>\n",
       "    <tr>\n",
       "      <th>21</th>\n",
       "      <td>Santa Maria da Feira</td>\n",
       "      <td>-0.054714</td>\n",
       "      <td>R2 - AM Porto</td>\n",
       "      <td>Aveiro</td>\n",
       "      <td>0.061624</td>\n",
       "    </tr>\n",
       "    <tr>\n",
       "      <th>22</th>\n",
       "      <td>Santo Tirso</td>\n",
       "      <td>-0.307346</td>\n",
       "      <td>R2 - AM Porto</td>\n",
       "      <td>Porto</td>\n",
       "      <td>0.058835</td>\n",
       "    </tr>\n",
       "    <tr>\n",
       "      <th>23</th>\n",
       "      <td>Seixal</td>\n",
       "      <td>3.686974</td>\n",
       "      <td>R1 - AM Lisboa</td>\n",
       "      <td>SetÃºbal</td>\n",
       "      <td>0.030984</td>\n",
       "    </tr>\n",
       "    <tr>\n",
       "      <th>24</th>\n",
       "      <td>Sesimbra</td>\n",
       "      <td>0.141479</td>\n",
       "      <td>R1 - AM Lisboa</td>\n",
       "      <td>SetÃºbal</td>\n",
       "      <td>0.040945</td>\n",
       "    </tr>\n",
       "    <tr>\n",
       "      <th>25</th>\n",
       "      <td>SetÃºbal</td>\n",
       "      <td>-0.356272</td>\n",
       "      <td>R1 - AM Lisboa</td>\n",
       "      <td>SetÃºbal</td>\n",
       "      <td>0.029742</td>\n",
       "    </tr>\n",
       "    <tr>\n",
       "      <th>26</th>\n",
       "      <td>Sintra</td>\n",
       "      <td>-0.319786</td>\n",
       "      <td>R1 - AM Lisboa</td>\n",
       "      <td>Lisboa</td>\n",
       "      <td>0.022770</td>\n",
       "    </tr>\n",
       "    <tr>\n",
       "      <th>27</th>\n",
       "      <td>Trofa</td>\n",
       "      <td>-0.503375</td>\n",
       "      <td>R2 - AM Porto</td>\n",
       "      <td>Porto</td>\n",
       "      <td>0.061456</td>\n",
       "    </tr>\n",
       "    <tr>\n",
       "      <th>28</th>\n",
       "      <td>Valongo</td>\n",
       "      <td>1.874443</td>\n",
       "      <td>R2 - AM Porto</td>\n",
       "      <td>Porto</td>\n",
       "      <td>0.034026</td>\n",
       "    </tr>\n",
       "    <tr>\n",
       "      <th>29</th>\n",
       "      <td>Vila Franca de Xira</td>\n",
       "      <td>0.032064</td>\n",
       "      <td>R1 - AM Lisboa</td>\n",
       "      <td>Lisboa</td>\n",
       "      <td>0.035590</td>\n",
       "    </tr>\n",
       "    <tr>\n",
       "      <th>30</th>\n",
       "      <td>Vila Nova de Gaia</td>\n",
       "      <td>1.302062</td>\n",
       "      <td>R2 - AM Porto</td>\n",
       "      <td>Porto</td>\n",
       "      <td>0.049149</td>\n",
       "    </tr>\n",
       "    <tr>\n",
       "      <th>31</th>\n",
       "      <td>Vila do Conde</td>\n",
       "      <td>-0.543806</td>\n",
       "      <td>R2 - AM Porto</td>\n",
       "      <td>Porto</td>\n",
       "      <td>0.058802</td>\n",
       "    </tr>\n",
       "  </tbody>\n",
       "</table>\n",
       "</div>"
      ],
      "text/plain": [
       "        County_of_Origin  Relative_Change_AverageBusUsers Region_of_Origin  \\\n",
       "0              Alcochete                         0.062548   R1 - AM Lisboa   \n",
       "1                 Almada                         2.527883   R1 - AM Lisboa   \n",
       "2                Amadora                         0.334526   R1 - AM Lisboa   \n",
       "3               Barreiro                        -0.311165   R1 - AM Lisboa   \n",
       "4                Cascais                        -0.351603   R1 - AM Lisboa   \n",
       "5                Espinho                        -0.449227    R2 - AM Porto   \n",
       "6               Gondomar                        -0.203727    R2 - AM Porto   \n",
       "7                 Lisboa                        -0.390986   R1 - AM Lisboa   \n",
       "8                 Loures                         0.466681   R1 - AM Lisboa   \n",
       "9                  Mafra                        -0.423741   R1 - AM Lisboa   \n",
       "10                  Maia                         0.487918    R2 - AM Porto   \n",
       "11            Matosinhos                        -0.083387    R2 - AM Porto   \n",
       "12                 Moita                        -0.206864   R1 - AM Lisboa   \n",
       "13               Montijo                         0.363553   R1 - AM Lisboa   \n",
       "14              Odivelas                        -0.446551   R1 - AM Lisboa   \n",
       "15                Oeiras                         1.606116   R1 - AM Lisboa   \n",
       "16  Oliveira de AzemÃ©is                        -0.027333    R2 - AM Porto   \n",
       "17               Palmela                        -0.297292   R1 - AM Lisboa   \n",
       "18               Paredes                        -0.400993    R2 - AM Porto   \n",
       "19                 Porto                        -0.401032    R2 - AM Porto   \n",
       "20      PÃ³voa de Varzim                        -0.422019    R2 - AM Porto   \n",
       "21  Santa Maria da Feira                        -0.054714    R2 - AM Porto   \n",
       "22           Santo Tirso                        -0.307346    R2 - AM Porto   \n",
       "23                Seixal                         3.686974   R1 - AM Lisboa   \n",
       "24              Sesimbra                         0.141479   R1 - AM Lisboa   \n",
       "25              SetÃºbal                        -0.356272   R1 - AM Lisboa   \n",
       "26                Sintra                        -0.319786   R1 - AM Lisboa   \n",
       "27                 Trofa                        -0.503375    R2 - AM Porto   \n",
       "28               Valongo                         1.874443    R2 - AM Porto   \n",
       "29   Vila Franca de Xira                         0.032064   R1 - AM Lisboa   \n",
       "30     Vila Nova de Gaia                         1.302062    R2 - AM Porto   \n",
       "31         Vila do Conde                        -0.543806    R2 - AM Porto   \n",
       "\n",
       "   District_of_Origin  std_demand_weight  \n",
       "0            SetÃºbal           0.118616  \n",
       "1            SetÃºbal           0.033391  \n",
       "2              Lisboa           0.038087  \n",
       "3            SetÃºbal           0.034393  \n",
       "4              Lisboa           0.024071  \n",
       "5              Aveiro           0.096775  \n",
       "6               Porto           0.042371  \n",
       "7              Lisboa           0.024106  \n",
       "8              Lisboa           0.040248  \n",
       "9              Lisboa           0.027646  \n",
       "10              Porto           0.045863  \n",
       "11              Porto           0.054143  \n",
       "12           SetÃºbal           0.055400  \n",
       "13           SetÃºbal           0.051163  \n",
       "14             Lisboa           0.029463  \n",
       "15             Lisboa           0.032631  \n",
       "16             Aveiro           0.110216  \n",
       "17           SetÃºbal           0.039007  \n",
       "18              Porto           0.027260  \n",
       "19              Porto           0.048461  \n",
       "20              Porto           0.065145  \n",
       "21             Aveiro           0.061624  \n",
       "22              Porto           0.058835  \n",
       "23           SetÃºbal           0.030984  \n",
       "24           SetÃºbal           0.040945  \n",
       "25           SetÃºbal           0.029742  \n",
       "26             Lisboa           0.022770  \n",
       "27              Porto           0.061456  \n",
       "28              Porto           0.034026  \n",
       "29             Lisboa           0.035590  \n",
       "30              Porto           0.049149  \n",
       "31              Porto           0.058802  "
      ]
     },
     "execution_count": 32,
     "metadata": {},
     "output_type": "execute_result"
    }
   ],
   "source": [
    "tmp.merge(churn_od_std_demand)"
   ]
  },
  {
   "cell_type": "code",
   "execution_count": null,
   "metadata": {},
   "outputs": [],
   "source": []
  }
 ],
 "metadata": {
  "kernelspec": {
   "display_name": "Python 3",
   "language": "python",
   "name": "python3"
  },
  "language_info": {
   "codemirror_mode": {
    "name": "ipython",
    "version": 3
   },
   "file_extension": ".py",
   "mimetype": "text/x-python",
   "name": "python",
   "nbconvert_exporter": "python",
   "pygments_lexer": "ipython3",
   "version": "3.8.5"
  }
 },
 "nbformat": 4,
 "nbformat_minor": 4
}
