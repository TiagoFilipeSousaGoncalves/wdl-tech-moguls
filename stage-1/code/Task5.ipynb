import pandas as pd 
import numpy as np

# Load Churn OD data
churn_od = pd.read_csv('Churn_OD.txt', delimiter='|', encoding= 'unicode_escape')


# Calculation of the SD for each county
sd=[]
for i in churn_od["County_of_Origin"].unique():
    sd+=[np.std(churn_od.loc[(churn_od["County_of_Origin"] == i), "Demand_weight"])]


# Sorting SD in descending order
dataset = pd.DataFrame({'County': churn_od["County_of_Origin"].unique(),  'SD': sd}, columns=['County', 'SD'])
dataset.sort_values(by=['SD'], ascending=[False])
