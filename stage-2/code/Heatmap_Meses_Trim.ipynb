{
 "cells": [
  {
   "cell_type": "code",
   "execution_count": 112,
   "metadata": {
    "id": "XK-rYYdXy2TU"
   },
   "outputs": [],
   "source": [
    "import pandas as pd\n",
    "import matplotlib.pyplot as plt\n",
    "import descartes\n",
    "import geopandas as gpd\n",
    "from shapely.geometry import Point, Polygon\n",
    "import folium\n",
    "import osmnx\n",
    "import openrouteservice\n",
    "from folium.map import *\n",
    "from openrouteservice import client\n",
    "import numpy as np\n",
    "from folium.plugins import HeatMapWithTime"
   ]
  },
  {
   "cell_type": "code",
   "execution_count": null,
   "metadata": {
    "id": "TT7D_a9dHkDI"
   },
   "outputs": [],
   "source": [
    "porto_area = osmnx.geocode_to_gdf('Porto, Portugal')\n",
    "\n",
    "porto_area.plot()\n",
    "\n",
    "center_porto = porto_area['geometry'].centroid\n",
    "\n",
    "\n",
    "# openrouteservice api key\n",
    "api_key = \"5b3ce3597851110001cf6248516d2c7fa9b240a1989c451ecb3b2520\"  \n",
    "clnt = client.Client(key=api_key)\n",
    "\n",
    "m = folium.Map(location=[41.16181,-8.62057], zoom_start=14)\n",
    "m"
   ]
  },
  {
   "cell_type": "code",
   "execution_count": null,
   "metadata": {
    "id": "NQUnfyXx5f0w"
   },
   "outputs": [],
   "source": [
    "from google.colab import drive\n",
    "drive.mount('/content/drive')\n",
    "\n",
    "TRAFFIC_DATA_PATH = [\n",
    "    'traffic_flow_2018.csv',\n",
    "    'traffic_flow_2019.csv'\n",
    "]\n",
    "\n",
    "\n",
    "def load_data(data_paths, date_col, value_cols, agg_operation = 'sum'):\n",
    "    concat_data = []\n",
    "\n",
    "    for file in data_paths:\n",
    "        print(\"Reading file \", file)\n",
    "        df = pd.read_csv('/content/drive/MyDrive/WDL/' + file, encoding='latin-1')\n",
    "        \n",
    "        # print(df.head())\n",
    "\n",
    "        df[date_col] = pd.to_datetime(df[date_col])\n",
    "        df_resampled = df.set_index(date_col).groupby('entity_id')[value_cols].resample('H').agg(agg_operation).reset_index()\n",
    "        concat_data.append(df_resampled)\n",
    "\n",
    "    return pd.concat(concat_data)\n",
    "\n",
    "date_col = 'dateobservedfrom'\n",
    "value_cols = ['intensity']\n",
    "files_name = TRAFFIC_DATA_PATH\n",
    "traffic_data = load_data(files_name, date_col, value_cols, agg_operation = 'sum')\n",
    "traffic_data.rename(columns={'dateobservedfrom': 'dateobserved'}, inplace=True)"
   ]
  },
  {
   "cell_type": "code",
   "execution_count": 128,
   "metadata": {
    "id": "tOohKSnIC_Ip"
   },
   "outputs": [],
   "source": [
    "data_entities = pd.read_csv('/content/drive/MyDrive/WDL/data_entities.csv', sep=',', encoding='latin-1', error_bad_lines=False)\n",
    "df_resampled = traffic_data.merge(data_entities, on='entity_id')\n",
    "df_resampled.latitude = df_resampled.latitude.astype(float)\n",
    "df_resampled.longitude = df_resampled.longitude.astype(float)"
   ]
  },
  {
   "cell_type": "code",
   "execution_count": null,
   "metadata": {
    "id": "kfHHiUkpK_XV"
   },
   "outputs": [],
   "source": [
    "df_resampled.pickup_datetime = pd.to_datetime(df_resampled.dateobserved, format='%Y-%m-%d %H:%M:%S')\n",
    "df_resampled['month'] = df_resampled.dateobserved.apply(lambda x: x.month)\n",
    "df_resampled['week'] = df_resampled.dateobserved.apply(lambda x: x.week)\n",
    "df_resampled['day'] = df_resampled.dateobserved.apply(lambda x: x.day)\n",
    "df_resampled['hour'] = df_resampled.dateobserved.apply(lambda x: x.hour)\n",
    "df_resampled['year'] = df_resampled.dateobserved.apply(lambda x: x.year)"
   ]
  },
  {
   "cell_type": "code",
   "execution_count": 130,
   "metadata": {
    "id": "gINy1ONV-NZr"
   },
   "outputs": [],
   "source": [
    "df_copy_2018 = df_resampled[df_resampled.year==2018]\n",
    "\n",
    "df_month_list_2018 = []\n",
    "for month in df_copy_2018.month.sort_values().unique():\n",
    "    df_month_list_2018.append(df_copy_2018.loc[df_copy_2018.month == month, ['latitude', 'longitude', 'intensity']].groupby(['latitude', 'longitude']).sum().reset_index().values.tolist())\n",
    "\n",
    "time_index_2018=['Jan-2018', 'Fev-2018', 'Mar-2018', 'April-2018', 'May-2018', 'June-2018', 'July-2018', 'Aug-2018', 'Sept-2018', 'Oct-2018', 'Nov-2018', 'Decemb-2018']"
   ]
  },
  {
   "cell_type": "code",
   "execution_count": 131,
   "metadata": {
    "id": "zAholkA3ERN0"
   },
   "outputs": [],
   "source": [
    "df_copy_2019 = df_resampled[df_resampled.year==2019]\n",
    "\n",
    "df_month_list_2019 = []\n",
    "for month in df_copy_2019.month.sort_values().unique():\n",
    "    df_month_list_2019.append(df_copy_2019.loc[df_copy_2019.month == month, ['latitude', 'longitude', 'intensity']].groupby(['latitude', 'longitude']).sum().reset_index().values.tolist())\n",
    "\n",
    "time_index_2019=['Jan-2019', 'Fev-2019', 'Mar-2019', 'April-2019', 'May-2019', 'June-2019', 'July-2019', 'Aug-2019', 'Sept-2019', 'Oct-2019', 'Nov-2019', 'Decemb-2019']"
   ]
  },
  {
   "cell_type": "code",
   "execution_count": null,
   "metadata": {
    "id": "_F59xVvdUr9Z"
   },
   "outputs": [],
   "source": [
    "#MESES 2018 E 2019\n",
    "\n",
    "HeatMapWithTime(df_month_list_2018, index=time_index_2018, radius=8, gradient={0.2: 'blue', \n",
    "                            0.4: 'lime', \n",
    "                            0.7: 'orange',\n",
    "                            0.9: '#FC3800',\n",
    "                            1: 'red'}, min_opacity=0.8, max_opacity=1.0, use_local_extrema=True).add_to(m)\n",
    "\n",
    "\n",
    "HeatMapWithTime(df_month_list_2019, index=time_index_2019, radius=8, gradient={0.2: 'blue', \n",
    "                            0.4: 'lime', \n",
    "                            0.7: 'orange',\n",
    "                            0.9: '#FC3800',\n",
    "                            1: 'red'}, min_opacity=0.8, max_opacity=1.0, use_local_extrema=True).add_to(m)\n",
    "m"
   ]
  },
  {
   "cell_type": "code",
   "execution_count": 133,
   "metadata": {
    "id": "6RtEVR9uC7tr"
   },
   "outputs": [],
   "source": [
    "conditions = [\n",
    "    (df_resampled['month'].isin([1, 2, 3])),\n",
    "    (df_resampled['month'].isin([4, 5, 6])),\n",
    "    (df_resampled['month'].isin([7, 8, 9])),\n",
    "     (df_resampled['month'].isin([10, 11, 12])),\n",
    "    ]\n",
    "\n",
    "values = [1, 2, 3, 4]\n",
    "df_resampled['trimester'] = np.select(conditions, values)\n",
    "\n",
    "df_2018_tri = df_resampled[df_resampled.year==2018]\n",
    "df_2019_tri = df_resampled[df_resampled.year==2019]"
   ]
  },
  {
   "cell_type": "code",
   "execution_count": 134,
   "metadata": {
    "id": "UzaTQ9xBDO5K"
   },
   "outputs": [],
   "source": [
    "df_tri_list_2018 = []\n",
    "for tri in df_2018_tri.trimester.sort_values().unique():\n",
    "    df_tri_list_2018.append(df_2018_tri.loc[df_2018_tri.trimester == tri, ['latitude', 'longitude', 'intensity']].groupby(['latitude', 'longitude']).sum().reset_index().values.tolist())\n",
    "\n",
    "\n",
    "time_index_tri_2018=['1Trim-2018', '2Trim-2018', '3Trim-2018', '4Trim-2018']"
   ]
  },
  {
   "cell_type": "code",
   "execution_count": 135,
   "metadata": {
    "id": "et-dGsBQDCed"
   },
   "outputs": [],
   "source": [
    "df_tri_list_2019 = []\n",
    "for tri in df_2019_tri.trimester.sort_values().unique():\n",
    "    df_tri_list_2019.append(df_2019_tri.loc[df_2019_tri.trimester == tri, ['latitude', 'longitude', 'intensity']].groupby(['latitude', 'longitude']).sum().reset_index().values.tolist())\n",
    "\n",
    "\n",
    "time_index_tri_2019=['1Trim-2019', '2Trim-2019', '3Trim-2019', '4Trim-2019']"
   ]
  },
  {
   "cell_type": "code",
   "execution_count": null,
   "metadata": {
    "id": "IVUn_wTpDUjh"
   },
   "outputs": [],
   "source": [
    "#TRIMESTRES 2018 E 2019\n",
    "\n",
    "\n",
    "HeatMapWithTime(df_tri_list_2018, index=time_index_tri_2018, radius=8, gradient={0.2: 'blue', \n",
    "                            0.4: 'lime', \n",
    "                            0.7: 'orange',\n",
    "                            0.9: '#FC3800',\n",
    "                            1: 'red'}, min_opacity=0.8, max_opacity=1.0, use_local_extrema=True).add_to(m)\n",
    "\n",
    "\n",
    "HeatMapWithTime(df_tri_list_2019, index=time_index_tri_2019, radius=8, gradient={0.2: 'blue', \n",
    "                            0.4: 'lime', \n",
    "                            0.7: 'orange',\n",
    "                            0.9: '#FC3800',\n",
    "                            1: 'red'}, min_opacity=0.8, max_opacity=1.0, use_local_extrema=True).add_to(m)\n",
    "m"
   ]
  }
 ],
 "metadata": {
  "colab": {
   "collapsed_sections": [],
   "name": "Untitled14.ipynb",
   "provenance": []
  },
  "kernelspec": {
   "display_name": "Python 3",
   "language": "python",
   "name": "python3"
  },
  "language_info": {
   "codemirror_mode": {
    "name": "ipython",
    "version": 3
   },
   "file_extension": ".py",
   "mimetype": "text/x-python",
   "name": "python",
   "nbconvert_exporter": "python",
   "pygments_lexer": "ipython3",
   "version": "3.7.7"
  }
 },
 "nbformat": 4,
 "nbformat_minor": 4
}
