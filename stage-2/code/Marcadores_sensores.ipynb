{
  "nbformat": 4,
  "nbformat_minor": 0,
  "metadata": {
    "colab": {
      "name": "Untitled15.ipynb",
      "provenance": [],
      "collapsed_sections": []
    },
    "kernelspec": {
      "name": "python3",
      "display_name": "Python 3"
    },
    "language_info": {
      "name": "python"
    }
  },
  "cells": [
    {
      "cell_type": "code",
      "metadata": {
        "id": "D5ZDSNOYABP8"
      },
      "source": [
        "import pandas as pd\n",
        "import matplotlib.pyplot as plt\n",
        "import descartes\n",
        "import geopandas as gpd\n",
        "from shapely.geometry import Point, Polygon\n",
        "import osmnx\n",
        "import openrouteservice\n",
        "import requests"
      ],
      "execution_count": null,
      "outputs": []
    },
    {
      "cell_type": "code",
      "metadata": {
        "id": "oWy0kwDHAECO"
      },
      "source": [
        "porto_area = osmnx.geocode_to_gdf('Porto, Portugal')\n",
        "\n",
        "porto_area.plot()\n",
        "\n",
        "center_porto = porto_area['geometry'].centroid\n",
        "\n",
        "import folium\n",
        "from folium.map import *\n",
        "from openrouteservice import client\n",
        "\n",
        "# openrouteservice api key\n",
        "api_key = \"5b3ce3597851110001cf6248516d2c7fa9b240a1989c451ecb3b2520\"  \n",
        "clnt = client.Client(key=api_key)\n",
        "\n",
        "m = folium.Map(location=[41.16181,-8.62057], zoom_start=14)\n",
        "\n",
        "m"
      ],
      "execution_count": null,
      "outputs": []
    },
    {
      "cell_type": "code",
      "metadata": {
        "id": "KSB0rjfY1zKF"
      },
      "source": [
        "from google.colab import drive\n",
        "drive.mount('/content/drive')"
      ],
      "execution_count": null,
      "outputs": []
    },
    {
      "cell_type": "code",
      "metadata": {
        "id": "eZcnNObt1fCb"
      },
      "source": [
        "data_entities = pd.read_csv('/content/drive/MyDrive/WDL/data_entities.csv', sep=',', encoding='latin-1', error_bad_lines=False)"
      ],
      "execution_count": null,
      "outputs": []
    },
    {
      "cell_type": "code",
      "metadata": {
        "id": "nmD1-rtHAma7"
      },
      "source": [
        "for indice, row in data_entities.loc[data_entities[\"entity_type\"]==\"TrafficFlowObserved\"].iterrows():\n",
        "    folium.Marker(\n",
        "        location=[row[\"latitude\"], row[\"longitude\"]],\n",
        "        popup=row['name'],\n",
        "        icon=folium.Icon(color=\"red\", icon='automobile', prefix='fa')\n",
        "        ).add_to(m)\n",
        "\n",
        "\n",
        "\n",
        "for indice, row in data_entities.loc[data_entities[\"entity_type\"]==\"NoiseLevelObserved\"].iterrows():\n",
        "    folium.Marker(\n",
        "        location=[row[\"latitude\"], row[\"longitude\"]],\n",
        "        popup=row['name'],\n",
        "        icon=folium.Icon(color=\"green\", icon='glyphicon glyphicon-bullhorn')\n",
        "        ).add_to(m)\n",
        "\n",
        "\n",
        "\n",
        "for indice, row in data_entities.loc[data_entities[\"entity_type\"]==\"AirQualityObserved\"].iterrows():\n",
        "    folium.Marker(\n",
        "        location=[row[\"latitude\"], row[\"longitude\"]],\n",
        "        popup=row['name'],\n",
        "        icon=folium.Icon(color=\"blue\", icon='leaf', prefix='fa')\n",
        "        ).add_to(m)\n",
        "\n",
        "\n",
        "for indice, row in data_entities.loc[data_entities[\"entity_type\"]==\"WeatherQualityObserved\"].iterrows():\n",
        "    folium.Marker(\n",
        "        location=[row[\"latitude\"], row[\"longitude\"]],\n",
        "        popup=row['name'],\n",
        "        icon=folium.Icon(color=\"orange\", icon='sun-o', prefix='fa')\n",
        "        ).add_to(m)\n",
        "\n",
        "\n",
        "\n",
        "        \n",
        "\n",
        "m"
      ],
      "execution_count": null,
      "outputs": []
    }
  ]
}