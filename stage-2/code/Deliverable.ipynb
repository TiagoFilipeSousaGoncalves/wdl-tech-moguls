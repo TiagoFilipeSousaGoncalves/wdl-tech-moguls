{
 "cells": [
  {
   "cell_type": "code",
   "execution_count": 1,
   "metadata": {},
   "outputs": [],
   "source": [
    "import pandas as pd\n",
    "import holidays\n",
    "\n",
    "#!pip install holidays\n",
    "#!pip install openrouteservice"
   ]
  },
  {
   "cell_type": "code",
   "execution_count": 2,
   "metadata": {},
   "outputs": [],
   "source": [
    "TRAFFIC_DATA_PATH = [\n",
    "    'traffic_flow_2018.csv',\n",
    "    'traffic_flow_2019.csv'\n",
    "]\n",
    "\n",
    "WEATHER_DATA_PATH = [\n",
    "    'weather_observed_2018.csv',\n",
    "    'weather_observed_2019.csv'\n",
    "]\n",
    "\n",
    "\n",
    "AIR_QUALITY_PATH = [\n",
    "    'air_quality_2018.csv',\n",
    "    'air_quality_2019.csv'\n",
    "]\n",
    "\n",
    "# df = pd.read_csv('../data/traffic_flow_2018.csv', encoding='latin-1')"
   ]
  },
  {
   "cell_type": "code",
   "execution_count": 3,
   "metadata": {},
   "outputs": [],
   "source": [
    "pd.set_option(\"display.max_colwidth\", 500)"
   ]
  },
  {
   "cell_type": "code",
   "execution_count": 4,
   "metadata": {},
   "outputs": [],
   "source": [
    "pt_holidays = holidays.CountryHoliday('Portugal')"
   ]
  },
  {
   "cell_type": "code",
   "execution_count": 5,
   "metadata": {},
   "outputs": [],
   "source": [
    "def load_data(data_paths, date_col, value_cols, agg_operation = 'sum'):\n",
    "    concat_data = []\n",
    "\n",
    "    for file in data_paths:\n",
    "        print(\"Reading file \", file)\n",
    "        df = pd.read_csv('../data/' + file, encoding='latin-1')\n",
    "        \n",
    "        # print(df.head())\n",
    "\n",
    "        df[date_col] = pd.to_datetime(df[date_col])\n",
    "        df_resampled = df.set_index(date_col).groupby('entity_id')[value_cols].resample('H').agg(agg_operation).reset_index()\n",
    "        concat_data.append(df_resampled)\n",
    "\n",
    "    return pd.concat(concat_data)"
   ]
  },
  {
   "cell_type": "code",
   "execution_count": 6,
   "metadata": {},
   "outputs": [
    {
     "data": {
      "text/plain": [
       "\"\\nimport numpy as np\\nimport requests\\ntmp = requests.get('https://wdl-data.fra1.digitaloceanspaces.com/porto-digital/POIs.json').json()\\nret = []\\n\\nfor count, point_of_interest in enumerate(tmp['points_of_interest']):\\n    category = point_of_interest.get('category')[0]['value']\\n    location = point_of_interest.get('location')\\n    created = point_of_interest.get('created')\\n    \\n    if 'point' in location:\\n        location = location.get('point')[0].get('Point').get('posList')\\n    else:\\n        location = np.nan\\n    description = point_of_interest.get('description')[0]['value']\\n    \\n    ret.append({\\n        'id': count,\\n        'created_at': created,\\n        'category': category,\\n        'location': location,\\n        'description': description\\n    })\\n\\ndf_pois = pd.DataFrame.from_records(ret)\\ndf_pois.to_csv('../data/pois_processed.csv')\\n\""
      ]
     },
     "execution_count": 6,
     "metadata": {},
     "output_type": "execute_result"
    }
   ],
   "source": [
    "\"\"\"\n",
    "import numpy as np\n",
    "import requests\n",
    "tmp = requests.get('https://wdl-data.fra1.digitaloceanspaces.com/porto-digital/POIs.json').json()\n",
    "ret = []\n",
    "\n",
    "for count, point_of_interest in enumerate(tmp['points_of_interest']):\n",
    "    category = point_of_interest.get('category')[0]['value']\n",
    "    location = point_of_interest.get('location')\n",
    "    created = point_of_interest.get('created')\n",
    "    \n",
    "    if 'point' in location:\n",
    "        location = location.get('point')[0].get('Point').get('posList')\n",
    "    else:\n",
    "        location = np.nan\n",
    "    description = point_of_interest.get('description')[0]['value']\n",
    "    \n",
    "    ret.append({\n",
    "        'id': count,\n",
    "        'created_at': created,\n",
    "        'category': category,\n",
    "        'location': location,\n",
    "        'description': description\n",
    "    })\n",
    "\n",
    "df_pois = pd.DataFrame.from_records(ret)\n",
    "df_pois.to_csv('../data/pois_processed.csv')\n",
    "\"\"\""
   ]
  },
  {
   "cell_type": "code",
   "execution_count": 7,
   "metadata": {},
   "outputs": [],
   "source": [
    "df_pois = pd.read_csv('../data/pois_processed.csv')"
   ]
  },
  {
   "cell_type": "code",
   "execution_count": 8,
   "metadata": {},
   "outputs": [
    {
     "data": {
      "text/html": [
       "<div>\n",
       "<style scoped>\n",
       "    .dataframe tbody tr th:only-of-type {\n",
       "        vertical-align: middle;\n",
       "    }\n",
       "\n",
       "    .dataframe tbody tr th {\n",
       "        vertical-align: top;\n",
       "    }\n",
       "\n",
       "    .dataframe thead th {\n",
       "        text-align: right;\n",
       "    }\n",
       "</style>\n",
       "<table border=\"1\" class=\"dataframe\">\n",
       "  <thead>\n",
       "    <tr style=\"text-align: right;\">\n",
       "      <th></th>\n",
       "      <th>Unnamed: 0</th>\n",
       "      <th>id</th>\n",
       "      <th>created_at</th>\n",
       "      <th>category</th>\n",
       "      <th>location</th>\n",
       "      <th>description</th>\n",
       "    </tr>\n",
       "  </thead>\n",
       "  <tbody>\n",
       "    <tr>\n",
       "      <th>0</th>\n",
       "      <td>0</td>\n",
       "      <td>0</td>\n",
       "      <td>2019-05-06T14:57:05.466000Z</td>\n",
       "      <td>Restaurantes</td>\n",
       "      <td>41.15743895 -8.62750399</td>\n",
       "      <td>O Restaurante Churrascão Gaucho encontra-se encerrado, de forma a prevenir o surto do Covid-19.\\n\\nUm dos mais antigos restaurantes de gastronomia brasileira no Porto.\\nPossui uma decoração rústica e elegante, num ambiente sofisticado.</td>\n",
       "    </tr>\n",
       "    <tr>\n",
       "      <th>1</th>\n",
       "      <td>1</td>\n",
       "      <td>1</td>\n",
       "      <td>2019-05-06T14:57:05.473000Z</td>\n",
       "      <td>Restaurantes</td>\n",
       "      <td>41.14073900 -8.61242000</td>\n",
       "      <td>O Restaurante da Alzira, fundado em 1984, situa-se na zona da Ribeira do Porto, onde outrora eram os armazéns de bacalhau, num espaço arquitectónico compreendido entre os séculos XVII e XIX que foi ampliado e restaurado segundo o projecto do arquitecto Miguel Guedes. Serve comida tradicional tendo como especialidades o polvo, o bacalhau e o cabrito assados no forno. Apresenta também uma boa variedade de saladas e menu vegetariano.</td>\n",
       "    </tr>\n",
       "    <tr>\n",
       "      <th>2</th>\n",
       "      <td>2</td>\n",
       "      <td>2</td>\n",
       "      <td>2019-05-06T14:57:05.471000Z</td>\n",
       "      <td>Restaurantes</td>\n",
       "      <td>41.14580771 -8.60511089</td>\n",
       "      <td>O restaurante Irmãos Unidos encontra-se encerrado, de forma a prevenir o surto do Covid-19.\\n\\nRestaurante localizado próximo da Praça dos Poveiros, com uma ementa baseada na cozinha tradicional portuguesa, dando destaque aos pratos típicos do Porto como as Tripas à Moda do Porto, o cabrito e o bacalhau.\\n\\n</td>\n",
       "    </tr>\n",
       "    <tr>\n",
       "      <th>3</th>\n",
       "      <td>3</td>\n",
       "      <td>3</td>\n",
       "      <td>2019-05-06T14:57:05.476000Z</td>\n",
       "      <td>Restaurantes</td>\n",
       "      <td>41.16256626 -8.59424829</td>\n",
       "      <td>Localizado na zona das Antas, possui uma decoração rústica e um ambiente formal. Cozinha de cariz tradicional português.\\r\\nRestaurante “Embaixador do Vinho do Porto”, com selecção de Vinho do Porto para acompanhar a sua refeição.\\r\\n</td>\n",
       "    </tr>\n",
       "    <tr>\n",
       "      <th>4</th>\n",
       "      <td>4</td>\n",
       "      <td>4</td>\n",
       "      <td>2019-05-06T14:57:05.476000Z</td>\n",
       "      <td>Restaurantes</td>\n",
       "      <td>41.14802700 -8.60780700</td>\n",
       "      <td>Restaurante com largos anos de tradição, situado no centro da cidade. Dois grandes pisos, com salas confortáveis, paredes em pedra, lampiões à moda antiga, azulejos e mobiliário em madeira.\\nEmenta tipicamente portuense, onde não faltam as famosa tripas e o bacalhau.\\nRestaurante “Embaixador”  do Vinho do Porto, com  selecção de vinho do Porto para acompanhar a sua refeição</td>\n",
       "    </tr>\n",
       "  </tbody>\n",
       "</table>\n",
       "</div>"
      ],
      "text/plain": [
       "   Unnamed: 0  id                   created_at      category  \\\n",
       "0           0   0  2019-05-06T14:57:05.466000Z  Restaurantes   \n",
       "1           1   1  2019-05-06T14:57:05.473000Z  Restaurantes   \n",
       "2           2   2  2019-05-06T14:57:05.471000Z  Restaurantes   \n",
       "3           3   3  2019-05-06T14:57:05.476000Z  Restaurantes   \n",
       "4           4   4  2019-05-06T14:57:05.476000Z  Restaurantes   \n",
       "\n",
       "                  location  \\\n",
       "0  41.15743895 -8.62750399   \n",
       "1  41.14073900 -8.61242000   \n",
       "2  41.14580771 -8.60511089   \n",
       "3  41.16256626 -8.59424829   \n",
       "4  41.14802700 -8.60780700   \n",
       "\n",
       "                                                                                                                                                                                                                                                                                                                                                                                                                                          description  \n",
       "0                                                                                                                                                                                                         O Restaurante Churrascão Gaucho encontra-se encerrado, de forma a prevenir o surto do Covid-19.\\n\\nUm dos mais antigos restaurantes de gastronomia brasileira no Porto.\\nPossui uma decoração rústica e elegante, num ambiente sofisticado.  \n",
       "1  O Restaurante da Alzira, fundado em 1984, situa-se na zona da Ribeira do Porto, onde outrora eram os armazéns de bacalhau, num espaço arquitectónico compreendido entre os séculos XVII e XIX que foi ampliado e restaurado segundo o projecto do arquitecto Miguel Guedes. Serve comida tradicional tendo como especialidades o polvo, o bacalhau e o cabrito assados no forno. Apresenta também uma boa variedade de saladas e menu vegetariano.  \n",
       "2                                                                                                                               O restaurante Irmãos Unidos encontra-se encerrado, de forma a prevenir o surto do Covid-19.\\n\\nRestaurante localizado próximo da Praça dos Poveiros, com uma ementa baseada na cozinha tradicional portuguesa, dando destaque aos pratos típicos do Porto como as Tripas à Moda do Porto, o cabrito e o bacalhau.\\n\\n  \n",
       "3                                                                                                                                                                                                          Localizado na zona das Antas, possui uma decoração rústica e um ambiente formal. Cozinha de cariz tradicional português.\\r\\nRestaurante “Embaixador do Vinho do Porto”, com selecção de Vinho do Porto para acompanhar a sua refeição.\\r\\n  \n",
       "4                                                            Restaurante com largos anos de tradição, situado no centro da cidade. Dois grandes pisos, com salas confortáveis, paredes em pedra, lampiões à moda antiga, azulejos e mobiliário em madeira.\\nEmenta tipicamente portuense, onde não faltam as famosa tripas e o bacalhau.\\nRestaurante “Embaixador”  do Vinho do Porto, com  selecção de vinho do Porto para acompanhar a sua refeição  "
      ]
     },
     "execution_count": 8,
     "metadata": {},
     "output_type": "execute_result"
    }
   ],
   "source": [
    "df_pois.head()"
   ]
  },
  {
   "cell_type": "code",
   "execution_count": 9,
   "metadata": {},
   "outputs": [],
   "source": [
    "data_entities = pd.read_csv('../data/data_entities.csv', sep=',', encoding='latin-1', error_bad_lines=False)"
   ]
  },
  {
   "cell_type": "code",
   "execution_count": 10,
   "metadata": {},
   "outputs": [],
   "source": [
    "# Using tabular data, there's no real way to add the features.\n",
    "# We'll add the closest weather/noise sensor to each traffic sensor, as we want to predict traffic. "
   ]
  },
  {
   "cell_type": "code",
   "execution_count": 11,
   "metadata": {},
   "outputs": [],
   "source": [
    "traffic_flow_entities = data_entities[data_entities.entity_type == 'TrafficFlowObserved']\n",
    "weather_entities = data_entities[data_entities.entity_type == 'WeatherObserved']"
   ]
  },
  {
   "cell_type": "code",
   "execution_count": 12,
   "metadata": {},
   "outputs": [
    {
     "name": "stdout",
     "output_type": "stream",
     "text": [
      "Requirement already satisfied: geopy in c:\\users\\paulo\\anaconda3\\lib\\site-packages (2.1.0)\n",
      "Requirement already satisfied: geographiclib<2,>=1.49 in c:\\users\\paulo\\anaconda3\\lib\\site-packages (from geopy) (1.50)\n"
     ]
    }
   ],
   "source": [
    "!pip install geopy"
   ]
  },
  {
   "cell_type": "code",
   "execution_count": 13,
   "metadata": {},
   "outputs": [],
   "source": [
    "from geopy.distance import geodesic\n",
    "\n",
    "#centroid = (data_entities['latitude'].astype(float).mean(), data_entities['longitude'].astype(float).mean())\n",
    "#data_entities['distance_to_centroid'] = data_entities.apply(lambda x: geodesic((x['latitude'], x['longitude']), centroid).meters, axis=1)"
   ]
  },
  {
   "cell_type": "code",
   "execution_count": 15,
   "metadata": {},
   "outputs": [
    {
     "data": {
      "text/html": [
       "<div>\n",
       "<style scoped>\n",
       "    .dataframe tbody tr th:only-of-type {\n",
       "        vertical-align: middle;\n",
       "    }\n",
       "\n",
       "    .dataframe tbody tr th {\n",
       "        vertical-align: top;\n",
       "    }\n",
       "\n",
       "    .dataframe thead th {\n",
       "        text-align: right;\n",
       "    }\n",
       "</style>\n",
       "<table border=\"1\" class=\"dataframe\">\n",
       "  <thead>\n",
       "    <tr style=\"text-align: right;\">\n",
       "      <th></th>\n",
       "      <th>entity_id</th>\n",
       "      <th>name</th>\n",
       "      <th>latitude</th>\n",
       "      <th>longitude</th>\n",
       "      <th>entity_type</th>\n",
       "      <th>street</th>\n",
       "      <th>start_date</th>\n",
       "      <th>end_date</th>\n",
       "    </tr>\n",
       "  </thead>\n",
       "  <tbody>\n",
       "    <tr>\n",
       "      <th>0</th>\n",
       "      <td>testsixsq</td>\n",
       "      <td>Rua dos Campeões Europeus</td>\n",
       "      <td>41.162590</td>\n",
       "      <td>-8.585198</td>\n",
       "      <td>TrafficFlowObserved</td>\n",
       "      <td>Rua dos Campeões Europeus</td>\n",
       "      <td>NaN</td>\n",
       "      <td>NaN</td>\n",
       "    </tr>\n",
       "    <tr>\n",
       "      <th>1</th>\n",
       "      <td>urn:ngsi-ld:TrafficFlowObserved:porto:traffic:CMP:CT10Z2</td>\n",
       "      <td>R. Fernandes Tomás - 24 de Agosto</td>\n",
       "      <td>41.148406</td>\n",
       "      <td>-8.599094</td>\n",
       "      <td>TrafficFlowObserved</td>\n",
       "      <td>Rua de Fernandes Tomás</td>\n",
       "      <td>NaN</td>\n",
       "      <td>NaN</td>\n",
       "    </tr>\n",
       "    <tr>\n",
       "      <th>2</th>\n",
       "      <td>urn:ngsi-ld:TrafficFlowObserved:porto:traffic:CMP:CT10Z3</td>\n",
       "      <td>R. Camões - N-S</td>\n",
       "      <td>41.154960</td>\n",
       "      <td>-8.610091</td>\n",
       "      <td>TrafficFlowObserved</td>\n",
       "      <td>Rua de Camões</td>\n",
       "      <td>NaN</td>\n",
       "      <td>NaN</td>\n",
       "    </tr>\n",
       "    <tr>\n",
       "      <th>3</th>\n",
       "      <td>urn:ngsi-ld:TrafficFlowObserved:porto:traffic:CMP:CT10Z4</td>\n",
       "      <td>Av. Boavista - Casa da Música - E-O</td>\n",
       "      <td>41.158701</td>\n",
       "      <td>-8.633546</td>\n",
       "      <td>TrafficFlowObserved</td>\n",
       "      <td>Avenida da Boavista</td>\n",
       "      <td>NaN</td>\n",
       "      <td>NaN</td>\n",
       "    </tr>\n",
       "    <tr>\n",
       "      <th>4</th>\n",
       "      <td>urn:ngsi-ld:TrafficFlowObserved:porto:traffic:CMP:CT10Z5</td>\n",
       "      <td>Via Panorâmica - Faixa BUS</td>\n",
       "      <td>41.151096</td>\n",
       "      <td>-8.633818</td>\n",
       "      <td>TrafficFlowObserved</td>\n",
       "      <td>Rua de Entre Campos</td>\n",
       "      <td>NaN</td>\n",
       "      <td>NaN</td>\n",
       "    </tr>\n",
       "    <tr>\n",
       "      <th>...</th>\n",
       "      <td>...</td>\n",
       "      <td>...</td>\n",
       "      <td>...</td>\n",
       "      <td>...</td>\n",
       "      <td>...</td>\n",
       "      <td>...</td>\n",
       "      <td>...</td>\n",
       "      <td>...</td>\n",
       "    </tr>\n",
       "    <tr>\n",
       "      <th>125</th>\n",
       "      <td>urn:ngsi-ld:TrafficFlowObserved:porto:traffic:VolumLight:0_4</td>\n",
       "      <td>Av. Sidónio Pais - Câmara</td>\n",
       "      <td>41.164327</td>\n",
       "      <td>-8.636619</td>\n",
       "      <td>TrafficFlowObserved</td>\n",
       "      <td>Avenida Sidónio Pais</td>\n",
       "      <td>NaN</td>\n",
       "      <td>NaN</td>\n",
       "    </tr>\n",
       "    <tr>\n",
       "      <th>126</th>\n",
       "      <td>urn:ngsi-ld:TrafficFlowObserved:porto:traffic:VolumLight:0_5</td>\n",
       "      <td>Av. Sidónio Pais - Câmara</td>\n",
       "      <td>41.164327</td>\n",
       "      <td>-8.636619</td>\n",
       "      <td>TrafficFlowObserved</td>\n",
       "      <td>Avenida Sidónio Pais</td>\n",
       "      <td>NaN</td>\n",
       "      <td>NaN</td>\n",
       "    </tr>\n",
       "    <tr>\n",
       "      <th>127</th>\n",
       "      <td>urn:ngsi-ld:TrafficFlowObserved:porto:traffic:VolumLight:0_6</td>\n",
       "      <td>Av. Sidónio Pais - Câmara</td>\n",
       "      <td>41.164327</td>\n",
       "      <td>-8.636619</td>\n",
       "      <td>TrafficFlowObserved</td>\n",
       "      <td>Avenida Sidónio Pais</td>\n",
       "      <td>NaN</td>\n",
       "      <td>NaN</td>\n",
       "    </tr>\n",
       "    <tr>\n",
       "      <th>178</th>\n",
       "      <td>urn:ngsi-ld:TrafficFlowObserved:porto:traffic:CMP:CT7Z10</td>\n",
       "      <td>Av.Boavista O-E - Parque da Cidade</td>\n",
       "      <td>41.165238</td>\n",
       "      <td>-8.673290</td>\n",
       "      <td>TrafficFlowObserved</td>\n",
       "      <td>NaN</td>\n",
       "      <td>NaN</td>\n",
       "      <td>NaN</td>\n",
       "    </tr>\n",
       "    <tr>\n",
       "      <th>179</th>\n",
       "      <td>urn:ngsi-ld:TrafficFlowObserved:porto:traffic:CMP:CT11Z4</td>\n",
       "      <td>Av. Boavista - Rotunda - O-E</td>\n",
       "      <td>41.158409</td>\n",
       "      <td>-8.632158</td>\n",
       "      <td>TrafficFlowObserved</td>\n",
       "      <td>NaN</td>\n",
       "      <td>NaN</td>\n",
       "      <td>NaN</td>\n",
       "    </tr>\n",
       "  </tbody>\n",
       "</table>\n",
       "<p>130 rows × 8 columns</p>\n",
       "</div>"
      ],
      "text/plain": [
       "                                                        entity_id  \\\n",
       "0                                                       testsixsq   \n",
       "1        urn:ngsi-ld:TrafficFlowObserved:porto:traffic:CMP:CT10Z2   \n",
       "2        urn:ngsi-ld:TrafficFlowObserved:porto:traffic:CMP:CT10Z3   \n",
       "3        urn:ngsi-ld:TrafficFlowObserved:porto:traffic:CMP:CT10Z4   \n",
       "4        urn:ngsi-ld:TrafficFlowObserved:porto:traffic:CMP:CT10Z5   \n",
       "..                                                            ...   \n",
       "125  urn:ngsi-ld:TrafficFlowObserved:porto:traffic:VolumLight:0_4   \n",
       "126  urn:ngsi-ld:TrafficFlowObserved:porto:traffic:VolumLight:0_5   \n",
       "127  urn:ngsi-ld:TrafficFlowObserved:porto:traffic:VolumLight:0_6   \n",
       "178      urn:ngsi-ld:TrafficFlowObserved:porto:traffic:CMP:CT7Z10   \n",
       "179      urn:ngsi-ld:TrafficFlowObserved:porto:traffic:CMP:CT11Z4   \n",
       "\n",
       "                                    name   latitude  longitude  \\\n",
       "0              Rua dos Campeões Europeus  41.162590  -8.585198   \n",
       "1      R. Fernandes Tomás - 24 de Agosto  41.148406  -8.599094   \n",
       "2                        R. Camões - N-S  41.154960  -8.610091   \n",
       "3    Av. Boavista - Casa da Música - E-O  41.158701  -8.633546   \n",
       "4             Via Panorâmica - Faixa BUS  41.151096  -8.633818   \n",
       "..                                   ...        ...        ...   \n",
       "125            Av. Sidónio Pais - Câmara  41.164327  -8.636619   \n",
       "126            Av. Sidónio Pais - Câmara  41.164327  -8.636619   \n",
       "127            Av. Sidónio Pais - Câmara  41.164327  -8.636619   \n",
       "178   Av.Boavista O-E - Parque da Cidade  41.165238  -8.673290   \n",
       "179         Av. Boavista - Rotunda - O-E  41.158409  -8.632158   \n",
       "\n",
       "             entity_type                     street  start_date  end_date  \n",
       "0    TrafficFlowObserved  Rua dos Campeões Europeus         NaN       NaN  \n",
       "1    TrafficFlowObserved     Rua de Fernandes Tomás         NaN       NaN  \n",
       "2    TrafficFlowObserved              Rua de Camões         NaN       NaN  \n",
       "3    TrafficFlowObserved        Avenida da Boavista         NaN       NaN  \n",
       "4    TrafficFlowObserved        Rua de Entre Campos         NaN       NaN  \n",
       "..                   ...                        ...         ...       ...  \n",
       "125  TrafficFlowObserved       Avenida Sidónio Pais         NaN       NaN  \n",
       "126  TrafficFlowObserved       Avenida Sidónio Pais         NaN       NaN  \n",
       "127  TrafficFlowObserved       Avenida Sidónio Pais         NaN       NaN  \n",
       "178  TrafficFlowObserved                        NaN         NaN       NaN  \n",
       "179  TrafficFlowObserved                        NaN         NaN       NaN  \n",
       "\n",
       "[130 rows x 8 columns]"
      ]
     },
     "execution_count": 15,
     "metadata": {},
     "output_type": "execute_result"
    }
   ],
   "source": [
    "traffic_flow_entities"
   ]
  },
  {
   "cell_type": "code",
   "execution_count": 16,
   "metadata": {},
   "outputs": [],
   "source": [
    "import numpy as np\n",
    "\n",
    "def return_closest_weather_entity(weather_entities, traffic_entity):\n",
    "    # Return closest weather entity for a given traffic_entity\n",
    "\n",
    "    distances = []\n",
    "    for i, weather_entity in weather_entities.reset_index().iterrows():\n",
    "        coord_traffic = traffic_entity['latitude'], traffic_entity['longitude']\n",
    "        coord_weather = weather_entity['latitude'], weather_entity['longitude']\n",
    "\n",
    "        distances.append(geodesic(coord_traffic, coord_weather).meters)\n",
    "\n",
    "    closest_weather_sensor = weather_entities.iloc[np.argmin(distances)][['entity_id']].values\n",
    "    \n",
    "    return closest_weather_sensor\n",
    "\n",
    "mapping_weather_entities_traffic = {}\n",
    "\n",
    "for i, traffic_entity in traffic_flow_entities.reset_index().iterrows():\n",
    "    \n",
    "    mapping_weather_entities_traffic[traffic_entity['entity_id']] = return_closest_weather_entity(weather_entities, traffic_entity)[0]"
   ]
  },
  {
   "cell_type": "code",
   "execution_count": 19,
   "metadata": {},
   "outputs": [
    {
     "name": "stdout",
     "output_type": "stream",
     "text": [
      "Reading file  traffic_flow_2018.csv\n",
      "Reading file  traffic_flow_2019.csv\n"
     ]
    },
    {
     "name": "stderr",
     "output_type": "stream",
     "text": [
      "C:\\Users\\paulo\\anaconda3\\lib\\site-packages\\IPython\\core\\interactiveshell.py:3338: DtypeWarning: Columns (4,6) have mixed types.Specify dtype option on import or set low_memory=False.\n",
      "  if (await self.run_code(code, result,  async_=asy)):\n"
     ]
    },
    {
     "name": "stdout",
     "output_type": "stream",
     "text": [
      "Reading file  weather_observed_2018.csv\n"
     ]
    },
    {
     "name": "stderr",
     "output_type": "stream",
     "text": [
      "C:\\Users\\paulo\\anaconda3\\lib\\site-packages\\IPython\\core\\interactiveshell.py:3338: DtypeWarning: Columns (11) have mixed types.Specify dtype option on import or set low_memory=False.\n",
      "  if (await self.run_code(code, result,  async_=asy)):\n"
     ]
    },
    {
     "name": "stdout",
     "output_type": "stream",
     "text": [
      "Reading file  weather_observed_2019.csv\n",
      "Reading file  air_quality_2018.csv\n",
      "Reading file  air_quality_2019.csv\n"
     ]
    }
   ],
   "source": [
    "date_col = 'dateobservedfrom'\n",
    "value_cols = ['intensity']\n",
    "files_name = TRAFFIC_DATA_PATH\n",
    "\n",
    "traffic_data = load_data(files_name, date_col, value_cols, agg_operation = 'sum')\n",
    "traffic_data.rename(columns={'dateobservedfrom': 'dateobserved'}, inplace=True)\n",
    "\n",
    "WEATHER_COLS = [\n",
    "    'barometricpressure',\n",
    "    'dewpoint',\n",
    "    'precipitation',\n",
    "    'relativehumidity',\n",
    "    'solarradiation',\n",
    "    'temperature',\n",
    "    'winddirection',\n",
    "    'windspeed',\n",
    "    'illuminance',\n",
    "    'uvindexmax',\n",
    "    'pressuretendency'\n",
    "]\n",
    "\n",
    "weather_data = load_data(data_paths = WEATHER_DATA_PATH, date_col = 'dateobserved', value_cols = WEATHER_COLS, agg_operation = 'mean')\n",
    "\n",
    "AIR_QUALITY_COLS = [\n",
    "    'no2',\n",
    "    'o3',\n",
    "    'ox',\n",
    "    'co',\n",
    "    'pm1',\n",
    "    'pm25',\n",
    "    'pm10'\n",
    "]\n",
    "\n",
    "air_quality_data = load_data(data_paths = AIR_QUALITY_PATH, date_col = 'dateobserved', value_cols = AIR_QUALITY_COLS, agg_operation = 'mean')\n"
   ]
  },
  {
   "cell_type": "code",
   "execution_count": 21,
   "metadata": {},
   "outputs": [
    {
     "data": {
      "text/html": [
       "<div>\n",
       "<style scoped>\n",
       "    .dataframe tbody tr th:only-of-type {\n",
       "        vertical-align: middle;\n",
       "    }\n",
       "\n",
       "    .dataframe tbody tr th {\n",
       "        vertical-align: top;\n",
       "    }\n",
       "\n",
       "    .dataframe thead th {\n",
       "        text-align: right;\n",
       "    }\n",
       "</style>\n",
       "<table border=\"1\" class=\"dataframe\">\n",
       "  <thead>\n",
       "    <tr style=\"text-align: right;\">\n",
       "      <th></th>\n",
       "      <th>entity_id</th>\n",
       "      <th>dateobserved</th>\n",
       "      <th>barometricpressure</th>\n",
       "      <th>dewpoint</th>\n",
       "      <th>precipitation</th>\n",
       "      <th>relativehumidity</th>\n",
       "      <th>solarradiation</th>\n",
       "      <th>temperature</th>\n",
       "      <th>winddirection</th>\n",
       "      <th>windspeed</th>\n",
       "      <th>illuminance</th>\n",
       "      <th>uvindexmax</th>\n",
       "      <th>pressuretendency</th>\n",
       "    </tr>\n",
       "  </thead>\n",
       "  <tbody>\n",
       "    <tr>\n",
       "      <th>0</th>\n",
       "      <td>urn:ngsi-ld:AirQualityObserved:porto:weather:ubiwhere:5ad613dd3da2520542bc871a</td>\n",
       "      <td>2018-06-29 18:00:00</td>\n",
       "      <td>1011.000000</td>\n",
       "      <td>NaN</td>\n",
       "      <td>0.0</td>\n",
       "      <td>0.833000</td>\n",
       "      <td>39.099998</td>\n",
       "      <td>19.700001</td>\n",
       "      <td>312.000000</td>\n",
       "      <td>1.500000</td>\n",
       "      <td>NaN</td>\n",
       "      <td>NaN</td>\n",
       "      <td>NaN</td>\n",
       "    </tr>\n",
       "    <tr>\n",
       "      <th>1</th>\n",
       "      <td>urn:ngsi-ld:AirQualityObserved:porto:weather:ubiwhere:5ad613dd3da2520542bc871a</td>\n",
       "      <td>2018-06-29 19:00:00</td>\n",
       "      <td>1010.933339</td>\n",
       "      <td>NaN</td>\n",
       "      <td>0.0</td>\n",
       "      <td>0.856417</td>\n",
       "      <td>13.758334</td>\n",
       "      <td>19.533334</td>\n",
       "      <td>269.750000</td>\n",
       "      <td>1.236111</td>\n",
       "      <td>NaN</td>\n",
       "      <td>NaN</td>\n",
       "      <td>NaN</td>\n",
       "    </tr>\n",
       "    <tr>\n",
       "      <th>2</th>\n",
       "      <td>urn:ngsi-ld:AirQualityObserved:porto:weather:ubiwhere:5ad613dd3da2520542bc871a</td>\n",
       "      <td>2018-06-29 20:00:00</td>\n",
       "      <td>1011.224991</td>\n",
       "      <td>NaN</td>\n",
       "      <td>0.0</td>\n",
       "      <td>0.887917</td>\n",
       "      <td>1.291667</td>\n",
       "      <td>18.875000</td>\n",
       "      <td>283.000000</td>\n",
       "      <td>1.814815</td>\n",
       "      <td>NaN</td>\n",
       "      <td>NaN</td>\n",
       "      <td>NaN</td>\n",
       "    </tr>\n",
       "    <tr>\n",
       "      <th>3</th>\n",
       "      <td>urn:ngsi-ld:AirQualityObserved:porto:weather:ubiwhere:5ad613dd3da2520542bc871a</td>\n",
       "      <td>2018-06-29 21:00:00</td>\n",
       "      <td>1011.225001</td>\n",
       "      <td>NaN</td>\n",
       "      <td>0.0</td>\n",
       "      <td>0.924417</td>\n",
       "      <td>0.508333</td>\n",
       "      <td>18.400000</td>\n",
       "      <td>286.916667</td>\n",
       "      <td>1.046296</td>\n",
       "      <td>NaN</td>\n",
       "      <td>NaN</td>\n",
       "      <td>NaN</td>\n",
       "    </tr>\n",
       "    <tr>\n",
       "      <th>4</th>\n",
       "      <td>urn:ngsi-ld:AirQualityObserved:porto:weather:ubiwhere:5ad613dd3da2520542bc871a</td>\n",
       "      <td>2018-06-29 22:00:00</td>\n",
       "      <td>1011.108327</td>\n",
       "      <td>NaN</td>\n",
       "      <td>0.0</td>\n",
       "      <td>0.913167</td>\n",
       "      <td>0.500000</td>\n",
       "      <td>18.708333</td>\n",
       "      <td>248.500000</td>\n",
       "      <td>0.553241</td>\n",
       "      <td>NaN</td>\n",
       "      <td>NaN</td>\n",
       "      <td>NaN</td>\n",
       "    </tr>\n",
       "  </tbody>\n",
       "</table>\n",
       "</div>"
      ],
      "text/plain": [
       "                                                                        entity_id  \\\n",
       "0  urn:ngsi-ld:AirQualityObserved:porto:weather:ubiwhere:5ad613dd3da2520542bc871a   \n",
       "1  urn:ngsi-ld:AirQualityObserved:porto:weather:ubiwhere:5ad613dd3da2520542bc871a   \n",
       "2  urn:ngsi-ld:AirQualityObserved:porto:weather:ubiwhere:5ad613dd3da2520542bc871a   \n",
       "3  urn:ngsi-ld:AirQualityObserved:porto:weather:ubiwhere:5ad613dd3da2520542bc871a   \n",
       "4  urn:ngsi-ld:AirQualityObserved:porto:weather:ubiwhere:5ad613dd3da2520542bc871a   \n",
       "\n",
       "         dateobserved  barometricpressure  dewpoint  precipitation  \\\n",
       "0 2018-06-29 18:00:00         1011.000000       NaN            0.0   \n",
       "1 2018-06-29 19:00:00         1010.933339       NaN            0.0   \n",
       "2 2018-06-29 20:00:00         1011.224991       NaN            0.0   \n",
       "3 2018-06-29 21:00:00         1011.225001       NaN            0.0   \n",
       "4 2018-06-29 22:00:00         1011.108327       NaN            0.0   \n",
       "\n",
       "   relativehumidity  solarradiation  temperature  winddirection  windspeed  \\\n",
       "0          0.833000       39.099998    19.700001     312.000000   1.500000   \n",
       "1          0.856417       13.758334    19.533334     269.750000   1.236111   \n",
       "2          0.887917        1.291667    18.875000     283.000000   1.814815   \n",
       "3          0.924417        0.508333    18.400000     286.916667   1.046296   \n",
       "4          0.913167        0.500000    18.708333     248.500000   0.553241   \n",
       "\n",
       "   illuminance  uvindexmax  pressuretendency  \n",
       "0          NaN         NaN               NaN  \n",
       "1          NaN         NaN               NaN  \n",
       "2          NaN         NaN               NaN  \n",
       "3          NaN         NaN               NaN  \n",
       "4          NaN         NaN               NaN  "
      ]
     },
     "execution_count": 21,
     "metadata": {},
     "output_type": "execute_result"
    }
   ],
   "source": [
    "weather_data.head()"
   ]
  },
  {
   "cell_type": "code",
   "execution_count": 22,
   "metadata": {},
   "outputs": [],
   "source": [
    "traffic_data['closest_weather_entity_id'] = traffic_data['entity_id'].map(mapping_weather_entities_traffic)"
   ]
  },
  {
   "cell_type": "code",
   "execution_count": null,
   "metadata": {},
   "outputs": [],
   "source": [
    "air_quality_data.head()"
   ]
  },
  {
   "cell_type": "code",
   "execution_count": null,
   "metadata": {},
   "outputs": [],
   "source": [
    "data_entities.head()"
   ]
  },
  {
   "cell_type": "code",
   "execution_count": null,
   "metadata": {},
   "outputs": [],
   "source": [
    "data_entities['entity_type'].value_counts()"
   ]
  },
  {
   "cell_type": "code",
   "execution_count": null,
   "metadata": {},
   "outputs": [],
   "source": [
    "from geopy.distance import geodesic\n",
    "\n",
    "centroid = (data_entities['latitude'].astype(float).mean(), data_entities['longitude'].astype(float).mean())\n",
    "data_entities['distance_to_centroid'] = data_entities.apply(lambda x: geodesic((x['latitude'], x['longitude']), centroid).meters, axis=1)"
   ]
  },
  {
   "cell_type": "markdown",
   "metadata": {},
   "source": [
    "## Sensor Location"
   ]
  },
  {
   "cell_type": "markdown",
   "metadata": {},
   "source": [
    "There seem to be a total of 130 traffic flow sensors, 27 weather sensors, 18 noise sensors and 18 air quality sensors. \n",
    "\n",
    "The map below determines their distribution throughout the city of Porto.\n",
    "\n",
    "- **Traffic Sensors**: In the area of \"Foz\" and \"Campanhã\", there seem to be less traffic sensors compared to the remaining major areas of Porto: Boavista, Antas, Baixa (Downtown) and Antas. \n",
    "- **Noise Sensors** - They're very close to the traffic sensors, so shouldn't really give any complementary information\n",
    "- **Air Quality Sensors** - Three are in Viseu, not Porto. The remaining seem sparse and distant from traffic sensors, so it's hard to correlate a specific traffic sensor's intensity with the air quality in a different region (something that might also depend on the wind direction and intensity at that time). Their use for this problem could be in measuring the correlation between high traffic days and air quality a few moments later.\n",
    "- **Weather Sensors** - There seems to be a relevant amount of coverage throughout the city "
   ]
  },
  {
   "cell_type": "code",
   "execution_count": null,
   "metadata": {},
   "outputs": [],
   "source": [
    "import folium\n",
    "\n",
    "def plot_sensors_location(data_entities):\n",
    "\n",
    "    m = folium.Map(location=[41.16181, -8.62057], zoom_start=14)\n",
    "\n",
    "    for indice, row in data_entities.loc[data_entities[\"entity_type\"]==\"TrafficFlowObserved\"].iterrows():\n",
    "        folium.Marker(\n",
    "            location=[row[\"latitude\"], row[\"longitude\"]],\n",
    "            popup=row['name'],\n",
    "            icon=folium.Icon(color=\"red\", icon='automobile', prefix='fa')\n",
    "            ).add_to(m)\n",
    "\n",
    "    for indice, row in data_entities.loc[data_entities[\"entity_type\"]==\"NoiseLevelObserved\"].iterrows():\n",
    "        folium.Marker(\n",
    "            location=[row[\"latitude\"], row[\"longitude\"]],\n",
    "            popup=row['name'],\n",
    "            icon=folium.Icon(color=\"green\", icon='glyphicon glyphicon-bullhorn')\n",
    "            ).add_to(m)\n",
    "\n",
    "    for indice, row in data_entities.loc[data_entities[\"entity_type\"]==\"AirQualityObserved\"].iterrows():\n",
    "        folium.Marker(\n",
    "            location=[row[\"latitude\"], row[\"longitude\"]],\n",
    "            popup=row['name'],\n",
    "            icon=folium.Icon(color=\"blue\", icon='leaf', prefix='fa')\n",
    "            ).add_to(m)\n",
    "\n",
    "    for indice, row in data_entities.loc[data_entities[\"entity_type\"]==\"WeatherObserved\"].iterrows():\n",
    "        folium.Marker(\n",
    "            location=[row[\"latitude\"], row[\"longitude\"]],\n",
    "            popup=row['name'],\n",
    "            icon=folium.Icon(color=\"orange\", icon='sun-o', prefix='fa')\n",
    "            ).add_to(m)\n",
    "    return m\n",
    "\n",
    "m = plot_sensors_location(data_entities)\n",
    "\n",
    "m"
   ]
  },
  {
   "cell_type": "code",
   "execution_count": null,
   "metadata": {},
   "outputs": [],
   "source": [
    "df_resampled = traffic_data.merge(data_entities, on='entity_id')\n",
    "#df_resampled = df_resampled.merge(weather_data, on=['entity_id', 'dateobserved'])\n",
    "#df_resampled = df_resampled.merge(traffic_data, on=['entity_id', 'dateobserved'])"
   ]
  },
  {
   "cell_type": "code",
   "execution_count": null,
   "metadata": {},
   "outputs": [],
   "source": [
    "df_resampled.latitude = df_resampled.latitude.astype(float)\n",
    "df_resampled.longitude = df_resampled.longitude.astype(float)"
   ]
  },
  {
   "cell_type": "code",
   "execution_count": null,
   "metadata": {},
   "outputs": [],
   "source": [
    "#latbins = pd.cut(df_resampled.latitude, 8, labels=[f'lat{k}' for k in range(1,8+1)], retbins=True)\n",
    "#df_resampled = pd.concat([df_resampled, pd.get_dummies(latbins[0])], axis=1)\n",
    "#longbins = pd.cut(df_resampled.longitude, 8, labels=[f'long{k}' for k in range(1,8+1)], retbins=True)\n",
    "#df_resampled = pd.concat([df_resampled, pd.get_dummies(longbins[0])], axis=1)"
   ]
  },
  {
   "cell_type": "code",
   "execution_count": null,
   "metadata": {},
   "outputs": [],
   "source": [
    "df_resampled.head()"
   ]
  },
  {
   "cell_type": "code",
   "execution_count": null,
   "metadata": {},
   "outputs": [],
   "source": [
    "df_resampled = df_resampled.sort_values(by=['entity_id', 'dateobserved'], ascending=True)"
   ]
  },
  {
   "cell_type": "markdown",
   "metadata": {},
   "source": [
    "## Feature Extraction"
   ]
  },
  {
   "cell_type": "code",
   "execution_count": null,
   "metadata": {},
   "outputs": [],
   "source": [
    "import numpy as np\n",
    "\n",
    "def get_date_features(df_resampled, date_col, suffix):\n",
    "    df_resampled[f'day_{suffix}'] = df_resampled[date_col].dt.day\n",
    "    df_resampled[f'hour_{suffix}'] = df_resampled[date_col].dt.hour\n",
    "    df_resampled[f'month_{suffix}'] = df_resampled[date_col].dt.month\n",
    "    df_resampled[f'dayofweek_{suffix}'] = df_resampled[date_col].dt.dayofweek\n",
    "    df_resampled[f'year_{suffix}'] = df_resampled[date_col].dt.year\n",
    "    # df_resampled[f'quarter_{suffix}'] = df_resampled[date_col].dt.q\n",
    "    df_resampled[f'is_holiday_{suffix}'] = df_resampled[date_col].apply(lambda x: x in pt_holidays)\n",
    "    df_resampled[f'is_year_end_{suffix}'] = df_resampled[date_col].dt.is_year_end\n",
    "    df_resampled[f'is_weekend_{suffix}'] = np.where(df_resampled[f'dayofweek_{suffix}'].isin([5, 6]), 1, 0)\n",
    "                                                  \n",
    "    return df_resampled"
   ]
  },
  {
   "cell_type": "code",
   "execution_count": null,
   "metadata": {},
   "outputs": [],
   "source": [
    "df_resampled = get_date_features(df_resampled, 'dateobserved', 'today')"
   ]
  },
  {
   "cell_type": "code",
   "execution_count": null,
   "metadata": {},
   "outputs": [],
   "source": [
    "# Set target\n",
    "\n",
    "df_resampled['target'] = df_resampled.groupby('entity_id')['intensity'].shift(-24)\n",
    "df_resampled['dateobserved_target'] = df_resampled['dateobserved'] + pd.DateOffset(hours=24)"
   ]
  },
  {
   "cell_type": "code",
   "execution_count": null,
   "metadata": {},
   "outputs": [],
   "source": [
    "df_resampled = get_date_features(df_resampled, 'dateobserved_target', 'tomorrow')"
   ]
  },
  {
   "cell_type": "code",
   "execution_count": null,
   "metadata": {},
   "outputs": [],
   "source": [
    "df_resampled.head()"
   ]
  },
  {
   "cell_type": "markdown",
   "metadata": {},
   "source": [
    "Here's an example of what the target looks like.\n",
    "For this entity, on 2018-10-07 00:00, we observe an intensity of 104. The target, the number of cars on the following day at 00:00, is 95, which appears on the following row."
   ]
  },
  {
   "cell_type": "code",
   "execution_count": null,
   "metadata": {},
   "outputs": [],
   "source": [
    "df_resampled[\n",
    "    (\n",
    "        (df_resampled.dateobserved == pd.to_datetime('2018-10-07 00:00:00')) | (df_resampled.dateobserved == pd.to_datetime('2018-10-08 00:00:00'))\n",
    "    ) & (df_resampled.entity_id == 'urn:ngsi-ld:TrafficFlowObserved:porto:traffic:CMP:CT10Z2')\n",
    "][['entity_id', 'dateobserved', 'intensity', 'target']]"
   ]
  },
  {
   "cell_type": "code",
   "execution_count": null,
   "metadata": {},
   "outputs": [],
   "source": [
    "# Feature Engineering\n",
    "\n",
    "df_resampled['yesterday_value'] = df_resampled.groupby('entity_id')['intensity'].shift(24)"
   ]
  },
  {
   "cell_type": "code",
   "execution_count": null,
   "metadata": {
    "tags": []
   },
   "outputs": [],
   "source": [
    "df_resampled.sort_values(by='intensity', ascending=False)"
   ]
  },
  {
   "cell_type": "code",
   "execution_count": null,
   "metadata": {},
   "outputs": [],
   "source": [
    "df_resampled.columns"
   ]
  },
  {
   "cell_type": "code",
   "execution_count": null,
   "metadata": {},
   "outputs": [],
   "source": [
    "def rolling_fts_intensity(df_resampled, group_cols, window, agg_cols = ['mean', 'max', 'min', 'std']):\n",
    "    rolling_fts = df_resampled.groupby(group_cols)['intensity'].shift(1).rolling(window).agg(['mean', 'max', 'min', 'std'])\n",
    "    \n",
    "    group_cols_str = '_'.join(group_cols)\n",
    "    rolling_fts.columns = [\n",
    "        f'intensity_{group_cols_str}_{str(window)}_mean',\n",
    "        f'intensity_{group_cols_str}_{str(window)}_max',\n",
    "        f'intensity_{group_cols_str}_{str(window)}_min',\n",
    "        f'intensity_{group_cols_str}_{str(window)}_std',\n",
    "    ]\n",
    "    df_resampled = pd.concat([df_resampled, rolling_fts], axis=1)\n",
    "    return df_resampled"
   ]
  },
  {
   "cell_type": "code",
   "execution_count": null,
   "metadata": {},
   "outputs": [],
   "source": [
    "for day in [24, 24*2, 24*3, 24*4, 24*5, 24*6]:\n",
    "    df_resampled = rolling_fts_intensity(df_resampled, ['entity_id'], day)"
   ]
  },
  {
   "cell_type": "code",
   "execution_count": null,
   "metadata": {
    "tags": []
   },
   "outputs": [],
   "source": [
    "df_resampled.tail()"
   ]
  },
  {
   "cell_type": "code",
   "execution_count": null,
   "metadata": {},
   "outputs": [],
   "source": [
    "df_resampled = rolling_fts_intensity(df_resampled, ['entity_id', 'dayofweek_today'], 24)"
   ]
  },
  {
   "cell_type": "code",
   "execution_count": null,
   "metadata": {},
   "outputs": [],
   "source": [
    "from sklearn.linear_model import LinearRegression\n",
    "from xgboost import XGBRegressor"
   ]
  },
  {
   "cell_type": "code",
   "execution_count": null,
   "metadata": {},
   "outputs": [],
   "source": [
    "df_resampled.columns"
   ]
  },
  {
   "cell_type": "code",
   "execution_count": null,
   "metadata": {},
   "outputs": [],
   "source": [
    "COLS_TO_REMOVE = [\n",
    "    'entity_id',\n",
    "    'dateobserved',\n",
    "    'name',\n",
    "    'latitude',\n",
    "    'longitude',\n",
    "    'entity_type',\n",
    "    'street',\n",
    "    'start_date',\n",
    "    'end_date',\n",
    "    'target',\n",
    "    'dateobserved_target'\n",
    "]\n",
    "\n",
    "COLS_TO_KEEP = [x for x in df_resampled.columns if x not in COLS_TO_REMOVE]"
   ]
  },
  {
   "cell_type": "code",
   "execution_count": null,
   "metadata": {},
   "outputs": [],
   "source": [
    "COLS_TO_KEEP"
   ]
  },
  {
   "cell_type": "code",
   "execution_count": null,
   "metadata": {},
   "outputs": [],
   "source": [
    "df_resampled.columns"
   ]
  },
  {
   "cell_type": "code",
   "execution_count": null,
   "metadata": {},
   "outputs": [],
   "source": [
    "base_sensor_name = \"urn:ngsi-ld:TrafficFlowObserved:porto:traffic:CMP:\"\n",
    "outlier_sensor_list = [\n",
    "    \"CT10Z2\",\n",
    "    \"CT10Z3\",\n",
    "    \"CT11Z2\",\n",
    "    \"CT11Z8\",\n",
    "    \"CT12Z3\",\n",
    "    \"CT13Z9\",\n",
    "    \"CT14Z2\",\n",
    "    \"CT14Z9\",\n",
    "    \"CT15Z2\",\n",
    "    \"CT15Z3\",\n",
    "    \"CT17Z2\",\n",
    "    \"CT19Z3\",\n",
    "    \"CT1Z10\",\n",
    "    \"CT1Z2\",\n",
    "    \"CT1Z3\",\n",
    "    \"CT1Z4\",\n",
    "    \"CT1Z6\",\n",
    "    \"CT1Z7\",\n",
    "    \"CT1Z9\",\n",
    "    \"CT20Z1\",\n",
    "    \"CT21Z1\",\n",
    "    \"CT2Z2\",\n",
    "    \"CT3Z5\",\n",
    "    \"CT4Z4\",\n",
    "    \"CT5Z8\",\n",
    "    \"CT7Z5\",\n",
    "    \"CT7Z9\",\n",
    "    \"CT8Z2\",\n",
    "    \"CT8Z5\",\n",
    "    \"CT8Z8\",\n",
    "    \"CT9Z2\",\n",
    "    \"CT9Z3\"\n",
    "]\n",
    "outlier_sensor_list = [base_sensor_name+n for n in outlier_sensor_list]\n",
    "outlier_sensor_list.append(\"testsixsq\")\n",
    "\n",
    "df_resampled = df_resampled[\n",
    "    ~df_resampled.entity_id.isin(outlier_sensor_list)\n",
    "]"
   ]
  },
  {
   "cell_type": "code",
   "execution_count": null,
   "metadata": {},
   "outputs": [],
   "source": [
    "# Train baseline model\n",
    "\n",
    "# COLS = ['intensity', 'day', 'hour', 'month', 'dayofweek', 'year', 'quarter', 'is_year_end', 'is_holiday', 'yesterday_value']\n",
    "#COLS = COLS + [f'lat{k}' for k in range(1,8+1)]\n",
    "# COLS = COLS + [f'long{k}' for k in range(1,8+1)]\n",
    "\n",
    "X_train = df_resampled[0:int(0.8*len(df_resampled))]\n",
    "X_train = X_train[~X_train.target.isna()]\n",
    "\n",
    "X_test = df_resampled[int(0.8*len(df_resampled)):]\n",
    "X_test = X_test[~X_test.target.isna()]"
   ]
  },
  {
   "cell_type": "code",
   "execution_count": null,
   "metadata": {},
   "outputs": [],
   "source": [
    "import numpy as np"
   ]
  },
  {
   "cell_type": "code",
   "execution_count": null,
   "metadata": {},
   "outputs": [],
   "source": [
    "from sklearn.preprocessing import StandardScaler\n",
    "\n",
    "scaler = StandardScaler()\n",
    "\n",
    "#y_train = (X_train['target'] - X_train['intensity'])/(X_train['intensity'] + 0.001)\n",
    "y_train = X_train['target']\n",
    "\n",
    "# y_train = X_train['target']\n",
    "#y_train = scaler.fit_transform(y_train.values.reshape(-1, 1))"
   ]
  },
  {
   "cell_type": "code",
   "execution_count": null,
   "metadata": {},
   "outputs": [],
   "source": [
    "xgb = XGBRegressor(n_estimators=100)\n",
    "\n",
    "xgb.fit(X_train[COLS_TO_KEEP].fillna(9999).astype(float), y_train)"
   ]
  },
  {
   "cell_type": "code",
   "execution_count": null,
   "metadata": {},
   "outputs": [],
   "source": [
    "y_pred = xgb.predict(X_test[COLS_TO_KEEP].fillna(9999).astype(float))"
   ]
  },
  {
   "cell_type": "code",
   "execution_count": null,
   "metadata": {},
   "outputs": [],
   "source": [
    "y_pred"
   ]
  },
  {
   "cell_type": "code",
   "execution_count": null,
   "metadata": {},
   "outputs": [],
   "source": [
    "X_test['pred_score'] = y_pred\n",
    "#X_test['target'] = (X_test['target'] - X_test['intensity'])/(X_test['intensity'] + 0.001)\n",
    "#X_test['target'] = X_test['target'].fillna(0)"
   ]
  },
  {
   "cell_type": "code",
   "execution_count": null,
   "metadata": {},
   "outputs": [],
   "source": [
    "# Predicting that today's intensity will be the same as the target for baseline\n",
    "\n",
    "dummy_regressor = X_test['intensity']"
   ]
  },
  {
   "cell_type": "code",
   "execution_count": null,
   "metadata": {},
   "outputs": [],
   "source": [
    "from sklearn.metrics import mean_squared_error, mean_absolute_error\n",
    "from scipy.stats import spearmanr, pearsonr\n",
    "\n",
    "print(\"MAE\", mean_absolute_error(y_pred, X_test['target']))\n",
    "print(\"MSE\", mean_squared_error(y_pred, X_test['target']))\n",
    "print(\"Spearman Rank\", spearmanr(y_pred, X_test['target']))\n",
    "print(\"Pearson Rank\", pearsonr(y_pred, X_test['target']))"
   ]
  },
  {
   "cell_type": "code",
   "execution_count": null,
   "metadata": {},
   "outputs": [],
   "source": [
    "print(\"MAE\", mean_absolute_error(dummy_regressor, X_test['target']))\n",
    "print(\"MSE\", mean_squared_error(dummy_regressor, X_test['target']))\n",
    "print(\"Spearman Rank\", spearmanr(dummy_regressor, X_test['target']))\n",
    "print(\"Pearson Rank\", pearsonr(dummy_regressor, X_test['target']))"
   ]
  },
  {
   "cell_type": "code",
   "execution_count": null,
   "metadata": {
    "tags": []
   },
   "outputs": [],
   "source": [
    "X_test[X_test['intensity'] > 6000].head()[['dateobserved', 'entity_id', 'intensity', 'dayofweek_today', 'pred_score', 'target']]"
   ]
  },
  {
   "cell_type": "code",
   "execution_count": null,
   "metadata": {},
   "outputs": [],
   "source": [
    "X_test[(X_test['dateobserved'] == '2019-08-29 12:00:00') & (X_test['entity_id'] == 'urn:ngsi-ld:TrafficFlowObserved:porto:traffic:CMP:CT7Z3')]"
   ]
  },
  {
   "cell_type": "code",
   "execution_count": null,
   "metadata": {},
   "outputs": [],
   "source": [
    "import matplotlib.pyplot as plt\n",
    "\n",
    "plt.scatter(y_pred, X_test['target'], alpha=0.2)"
   ]
  },
  {
   "cell_type": "code",
   "execution_count": null,
   "metadata": {},
   "outputs": [],
   "source": [
    "xgb.get_booster().get_score(importance_type='weight')"
   ]
  },
  {
   "cell_type": "code",
   "execution_count": null,
   "metadata": {
    "tags": []
   },
   "outputs": [],
   "source": [
    "!pip install shap"
   ]
  },
  {
   "cell_type": "code",
   "execution_count": null,
   "metadata": {},
   "outputs": [],
   "source": [
    "import shap\n",
    "\n",
    "# explain the model's predictions using SHAP\n",
    "# (same syntax works for LightGBM, CatBoost, scikit-learn, transformers, Spark, etc.)\n",
    "explainer = shap.Explainer(xgb)\n",
    "shap_values = explainer(X_test[COLS_TO_KEEP].fillna(9999).astype(float))"
   ]
  },
  {
   "cell_type": "code",
   "execution_count": null,
   "metadata": {},
   "outputs": [],
   "source": [
    "shap.plots.beeswarm(shap_values)"
   ]
  },
  {
   "cell_type": "code",
   "execution_count": null,
   "metadata": {},
   "outputs": [],
   "source": [
    "tmp = X_test[X_test.entity_id == 'urn:ngsi-ld:TrafficFlowObserved:porto:traffic:CMP:CT7Z3']"
   ]
  },
  {
   "cell_type": "code",
   "execution_count": null,
   "metadata": {},
   "outputs": [],
   "source": [
    "tmp = tmp[\n",
    "    (tmp.dateobserved < '2018-08-12')# & (tmp.dateobserved > '2018-05-18')\n",
    "]"
   ]
  },
  {
   "cell_type": "code",
   "execution_count": null,
   "metadata": {},
   "outputs": [],
   "source": [
    "plt.plot(tmp['dateobserved'][600:700], tmp['pred_score'][600:700], label='pred')\n",
    "plt.plot(tmp['dateobserved'][600:700], tmp['target'][600:700], label='true')\n",
    "plt.legend()"
   ]
  },
  {
   "cell_type": "code",
   "execution_count": null,
   "metadata": {},
   "outputs": [],
   "source": []
  }
 ],
 "metadata": {
  "kernelspec": {
   "display_name": "Python 3",
   "language": "python",
   "name": "python3"
  },
  "language_info": {
   "codemirror_mode": {
    "name": "ipython",
    "version": 3
   },
   "file_extension": ".py",
   "mimetype": "text/x-python",
   "name": "python",
   "nbconvert_exporter": "python",
   "pygments_lexer": "ipython3",
   "version": "3.8.5"
  }
 },
 "nbformat": 4,
 "nbformat_minor": 4
}
