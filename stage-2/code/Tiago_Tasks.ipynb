{
 "cells": [
  {
   "cell_type": "code",
   "execution_count": 20,
   "metadata": {},
   "outputs": [],
   "source": [
    "# Imports\n",
    "import pandas as pd\n",
    "\n",
    "try:\n",
    "    import holidays\n",
    "except:\n",
    "    !pip install holidays\n",
    "finally:\n",
    "    import holidays"
   ]
  },
  {
   "cell_type": "code",
   "execution_count": 21,
   "metadata": {},
   "outputs": [],
   "source": [
    "TRAFFIC_DATA_PATH = [\n",
    "    '../data/traffic_flow_2018.csv',\n",
    "    '../data/traffic_flow_2019.csv'\n",
    "]\n",
    "\n",
    "WEATHER_DATA_PATH = [\n",
    "    '../data/weather_observed_2018.csv',\n",
    "    '../data/weather_observed_2019.csv'\n",
    "]\n",
    "\n",
    "\n",
    "AIR_QUALITY_PATH = [\n",
    "    '../data/air_quality_2018.csv',\n",
    "    '../data/air_quality_2019.csv'\n",
    "]\n",
    "\n",
    "# df = pd.read_csv('../data/traffic_flow_2018.csv', encoding='latin-1')"
   ]
  },
  {
   "cell_type": "code",
   "execution_count": 22,
   "metadata": {},
   "outputs": [],
   "source": [
    "pd.set_option(\"display.max_colwidth\", 500)\n",
    "pt_holidays = holidays.CountryHoliday('Portugal')"
   ]
  },
  {
   "cell_type": "code",
   "execution_count": 23,
   "metadata": {},
   "outputs": [],
   "source": [
    "#def load_resample_data(files_name):\n",
    "\n",
    "\n",
    "def load_data(data_paths, date_col, value_cols, agg_operation = 'sum'):\n",
    "    concat_data = []\n",
    "\n",
    "    for file in data_paths:\n",
    "        print(\"Reading file \", file)\n",
    "        df = pd.read_csv('../data/' + file, encoding='latin-1')\n",
    "        \n",
    "        # print(df.head())\n",
    "\n",
    "        df[date_col] = pd.to_datetime(df[date_col])\n",
    "        df_resampled = df.set_index(date_col).groupby('entity_id')[value_cols].resample('H').agg(agg_operation).reset_index()\n",
    "        concat_data.append(df_resampled)\n",
    "\n",
    "    return pd.concat(concat_data)"
   ]
  },
  {
   "cell_type": "code",
   "execution_count": 24,
   "metadata": {},
   "outputs": [
    {
     "name": "stdout",
     "output_type": "stream",
     "text": [
      "Reading file  ../data/traffic_flow_2018.csv\n",
      "Reading file  ../data/traffic_flow_2019.csv\n"
     ]
    },
    {
     "name": "stderr",
     "output_type": "stream",
     "text": [
      "/usr/local/anaconda3/envs/py37/lib/python3.7/site-packages/IPython/core/interactiveshell.py:3254: DtypeWarning: Columns (4,6) have mixed types.Specify dtype option on import or set low_memory=False.\n",
      "  if (await self.run_code(code, result,  async_=asy)):\n"
     ]
    }
   ],
   "source": [
    "date_col = 'dateobservedfrom'\n",
    "value_cols = ['intensity']\n",
    "files_name = TRAFFIC_DATA_PATH\n",
    "\n",
    "traffic_data = load_data(files_name, date_col, value_cols, agg_operation = 'sum')"
   ]
  },
  {
   "cell_type": "code",
   "execution_count": 25,
   "metadata": {},
   "outputs": [],
   "source": [
    "# traffic_data.rename(columns={'dateobservedfrom': 'dateobservedfrom'}, inplace=True)"
   ]
  },
  {
   "cell_type": "code",
   "execution_count": 26,
   "metadata": {},
   "outputs": [
    {
     "data": {
      "text/html": [
       "<div>\n",
       "<style scoped>\n",
       "    .dataframe tbody tr th:only-of-type {\n",
       "        vertical-align: middle;\n",
       "    }\n",
       "\n",
       "    .dataframe tbody tr th {\n",
       "        vertical-align: top;\n",
       "    }\n",
       "\n",
       "    .dataframe thead th {\n",
       "        text-align: right;\n",
       "    }\n",
       "</style>\n",
       "<table border=\"1\" class=\"dataframe\">\n",
       "  <thead>\n",
       "    <tr style=\"text-align: right;\">\n",
       "      <th></th>\n",
       "      <th>entity_id</th>\n",
       "      <th>dateobservedfrom</th>\n",
       "      <th>intensity</th>\n",
       "    </tr>\n",
       "  </thead>\n",
       "  <tbody>\n",
       "    <tr>\n",
       "      <th>0</th>\n",
       "      <td>urn:ngsi-ld:TrafficFlowObserved:porto:traffic:CMP:CT10Z2</td>\n",
       "      <td>2017-12-31 00:00:00</td>\n",
       "      <td>224</td>\n",
       "    </tr>\n",
       "    <tr>\n",
       "      <th>1</th>\n",
       "      <td>urn:ngsi-ld:TrafficFlowObserved:porto:traffic:CMP:CT10Z2</td>\n",
       "      <td>2017-12-31 01:00:00</td>\n",
       "      <td>186</td>\n",
       "    </tr>\n",
       "    <tr>\n",
       "      <th>2</th>\n",
       "      <td>urn:ngsi-ld:TrafficFlowObserved:porto:traffic:CMP:CT10Z2</td>\n",
       "      <td>2017-12-31 02:00:00</td>\n",
       "      <td>177</td>\n",
       "    </tr>\n",
       "    <tr>\n",
       "      <th>3</th>\n",
       "      <td>urn:ngsi-ld:TrafficFlowObserved:porto:traffic:CMP:CT10Z2</td>\n",
       "      <td>2017-12-31 03:00:00</td>\n",
       "      <td>138</td>\n",
       "    </tr>\n",
       "    <tr>\n",
       "      <th>4</th>\n",
       "      <td>urn:ngsi-ld:TrafficFlowObserved:porto:traffic:CMP:CT10Z2</td>\n",
       "      <td>2017-12-31 04:00:00</td>\n",
       "      <td>75</td>\n",
       "    </tr>\n",
       "  </tbody>\n",
       "</table>\n",
       "</div>"
      ],
      "text/plain": [
       "                                                  entity_id  \\\n",
       "0  urn:ngsi-ld:TrafficFlowObserved:porto:traffic:CMP:CT10Z2   \n",
       "1  urn:ngsi-ld:TrafficFlowObserved:porto:traffic:CMP:CT10Z2   \n",
       "2  urn:ngsi-ld:TrafficFlowObserved:porto:traffic:CMP:CT10Z2   \n",
       "3  urn:ngsi-ld:TrafficFlowObserved:porto:traffic:CMP:CT10Z2   \n",
       "4  urn:ngsi-ld:TrafficFlowObserved:porto:traffic:CMP:CT10Z2   \n",
       "\n",
       "     dateobservedfrom  intensity  \n",
       "0 2017-12-31 00:00:00        224  \n",
       "1 2017-12-31 01:00:00        186  \n",
       "2 2017-12-31 02:00:00        177  \n",
       "3 2017-12-31 03:00:00        138  \n",
       "4 2017-12-31 04:00:00         75  "
      ]
     },
     "execution_count": 26,
     "metadata": {},
     "output_type": "execute_result"
    }
   ],
   "source": [
    "traffic_data.head()"
   ]
  },
  {
   "cell_type": "code",
   "execution_count": 27,
   "metadata": {},
   "outputs": [],
   "source": [
    "data_entities = pd.read_csv('../data/data_entities.csv', encoding='latin-1', header=0, index_col=False)"
   ]
  },
  {
   "cell_type": "code",
   "execution_count": 28,
   "metadata": {},
   "outputs": [
    {
     "data": {
      "text/html": [
       "<div>\n",
       "<style scoped>\n",
       "    .dataframe tbody tr th:only-of-type {\n",
       "        vertical-align: middle;\n",
       "    }\n",
       "\n",
       "    .dataframe tbody tr th {\n",
       "        vertical-align: top;\n",
       "    }\n",
       "\n",
       "    .dataframe thead th {\n",
       "        text-align: right;\n",
       "    }\n",
       "</style>\n",
       "<table border=\"1\" class=\"dataframe\">\n",
       "  <thead>\n",
       "    <tr style=\"text-align: right;\">\n",
       "      <th></th>\n",
       "      <th>entity_id</th>\n",
       "      <th>name</th>\n",
       "      <th>latitude</th>\n",
       "      <th>longitude</th>\n",
       "      <th>entity_type</th>\n",
       "      <th>street</th>\n",
       "      <th>start_date</th>\n",
       "      <th>end_date</th>\n",
       "    </tr>\n",
       "  </thead>\n",
       "  <tbody>\n",
       "    <tr>\n",
       "      <th>0</th>\n",
       "      <td>testsixsq</td>\n",
       "      <td>Rua dos Campeões Europeus</td>\n",
       "      <td>41</td>\n",
       "      <td>162589760000003</td>\n",
       "      <td>-8</td>\n",
       "      <td>5851981169999991</td>\n",
       "      <td>TrafficFlowObserved</td>\n",
       "      <td>Rua dos Campeões Europeus</td>\n",
       "    </tr>\n",
       "    <tr>\n",
       "      <th>1</th>\n",
       "      <td>urn:ngsi-ld:TrafficFlowObserved:porto:traffic:CMP:CT10Z2</td>\n",
       "      <td>R. Fernandes Tomás - 24 de Agosto</td>\n",
       "      <td>41</td>\n",
       "      <td>148405920000002</td>\n",
       "      <td>-8</td>\n",
       "      <td>5990938559999996</td>\n",
       "      <td>TrafficFlowObserved</td>\n",
       "      <td>Rua de Fernandes Tomás</td>\n",
       "    </tr>\n",
       "    <tr>\n",
       "      <th>2</th>\n",
       "      <td>urn:ngsi-ld:TrafficFlowObserved:porto:traffic:CMP:CT10Z3</td>\n",
       "      <td>R. Camões - N-S</td>\n",
       "      <td>41</td>\n",
       "      <td>154959804999997</td>\n",
       "      <td>-8</td>\n",
       "      <td>6100910160000002</td>\n",
       "      <td>TrafficFlowObserved</td>\n",
       "      <td>Rua de Camões</td>\n",
       "    </tr>\n",
       "    <tr>\n",
       "      <th>3</th>\n",
       "      <td>urn:ngsi-ld:TrafficFlowObserved:porto:traffic:CMP:CT10Z4</td>\n",
       "      <td>Av. Boavista - Casa da Música - E-O</td>\n",
       "      <td>41</td>\n",
       "      <td>158700713000002</td>\n",
       "      <td>-8</td>\n",
       "      <td>6335461250000005</td>\n",
       "      <td>TrafficFlowObserved</td>\n",
       "      <td>Avenida da Boavista</td>\n",
       "    </tr>\n",
       "    <tr>\n",
       "      <th>4</th>\n",
       "      <td>urn:ngsi-ld:TrafficFlowObserved:porto:traffic:CMP:CT10Z5</td>\n",
       "      <td>Via Panorâmica - Faixa BUS</td>\n",
       "      <td>41</td>\n",
       "      <td>151096148000001</td>\n",
       "      <td>-8</td>\n",
       "      <td>6338182700000008</td>\n",
       "      <td>TrafficFlowObserved</td>\n",
       "      <td>Rua de Entre Campos</td>\n",
       "    </tr>\n",
       "  </tbody>\n",
       "</table>\n",
       "</div>"
      ],
      "text/plain": [
       "                                                  entity_id  \\\n",
       "0                                                 testsixsq   \n",
       "1  urn:ngsi-ld:TrafficFlowObserved:porto:traffic:CMP:CT10Z2   \n",
       "2  urn:ngsi-ld:TrafficFlowObserved:porto:traffic:CMP:CT10Z3   \n",
       "3  urn:ngsi-ld:TrafficFlowObserved:porto:traffic:CMP:CT10Z4   \n",
       "4  urn:ngsi-ld:TrafficFlowObserved:porto:traffic:CMP:CT10Z5   \n",
       "\n",
       "                                  name  latitude        longitude  \\\n",
       "0            Rua dos Campeões Europeus        41  162589760000003   \n",
       "1    R. Fernandes Tomás - 24 de Agosto        41  148405920000002   \n",
       "2                      R. Camões - N-S        41  154959804999997   \n",
       "3  Av. Boavista - Casa da Música - E-O        41  158700713000002   \n",
       "4           Via Panorâmica - Faixa BUS        41  151096148000001   \n",
       "\n",
       "   entity_type            street           start_date  \\\n",
       "0           -8  5851981169999991  TrafficFlowObserved   \n",
       "1           -8  5990938559999996  TrafficFlowObserved   \n",
       "2           -8  6100910160000002  TrafficFlowObserved   \n",
       "3           -8  6335461250000005  TrafficFlowObserved   \n",
       "4           -8  6338182700000008  TrafficFlowObserved   \n",
       "\n",
       "                    end_date  \n",
       "0  Rua dos Campeões Europeus  \n",
       "1     Rua de Fernandes Tomás  \n",
       "2              Rua de Camões  \n",
       "3        Avenida da Boavista  \n",
       "4        Rua de Entre Campos  "
      ]
     },
     "execution_count": 28,
     "metadata": {},
     "output_type": "execute_result"
    }
   ],
   "source": [
    "data_entities.head()"
   ]
  },
  {
   "cell_type": "code",
   "execution_count": 29,
   "metadata": {},
   "outputs": [
    {
     "data": {
      "text/html": [
       "<div>\n",
       "<style scoped>\n",
       "    .dataframe tbody tr th:only-of-type {\n",
       "        vertical-align: middle;\n",
       "    }\n",
       "\n",
       "    .dataframe tbody tr th {\n",
       "        vertical-align: top;\n",
       "    }\n",
       "\n",
       "    .dataframe thead th {\n",
       "        text-align: right;\n",
       "    }\n",
       "</style>\n",
       "<table border=\"1\" class=\"dataframe\">\n",
       "  <thead>\n",
       "    <tr style=\"text-align: right;\">\n",
       "      <th></th>\n",
       "      <th>entity_id</th>\n",
       "      <th>dateobservedfrom</th>\n",
       "      <th>intensity</th>\n",
       "      <th>name</th>\n",
       "      <th>latitude</th>\n",
       "      <th>longitude</th>\n",
       "      <th>entity_type</th>\n",
       "      <th>street</th>\n",
       "      <th>start_date</th>\n",
       "      <th>end_date</th>\n",
       "    </tr>\n",
       "  </thead>\n",
       "  <tbody>\n",
       "    <tr>\n",
       "      <th>0</th>\n",
       "      <td>urn:ngsi-ld:TrafficFlowObserved:porto:traffic:CMP:CT10Z2</td>\n",
       "      <td>2017-12-31 00:00:00</td>\n",
       "      <td>224</td>\n",
       "      <td>R. Fernandes Tomás - 24 de Agosto</td>\n",
       "      <td>41</td>\n",
       "      <td>148405920000002</td>\n",
       "      <td>-8</td>\n",
       "      <td>5990938559999996</td>\n",
       "      <td>TrafficFlowObserved</td>\n",
       "      <td>Rua de Fernandes Tomás</td>\n",
       "    </tr>\n",
       "    <tr>\n",
       "      <th>1</th>\n",
       "      <td>urn:ngsi-ld:TrafficFlowObserved:porto:traffic:CMP:CT10Z2</td>\n",
       "      <td>2017-12-31 01:00:00</td>\n",
       "      <td>186</td>\n",
       "      <td>R. Fernandes Tomás - 24 de Agosto</td>\n",
       "      <td>41</td>\n",
       "      <td>148405920000002</td>\n",
       "      <td>-8</td>\n",
       "      <td>5990938559999996</td>\n",
       "      <td>TrafficFlowObserved</td>\n",
       "      <td>Rua de Fernandes Tomás</td>\n",
       "    </tr>\n",
       "    <tr>\n",
       "      <th>2</th>\n",
       "      <td>urn:ngsi-ld:TrafficFlowObserved:porto:traffic:CMP:CT10Z2</td>\n",
       "      <td>2017-12-31 02:00:00</td>\n",
       "      <td>177</td>\n",
       "      <td>R. Fernandes Tomás - 24 de Agosto</td>\n",
       "      <td>41</td>\n",
       "      <td>148405920000002</td>\n",
       "      <td>-8</td>\n",
       "      <td>5990938559999996</td>\n",
       "      <td>TrafficFlowObserved</td>\n",
       "      <td>Rua de Fernandes Tomás</td>\n",
       "    </tr>\n",
       "    <tr>\n",
       "      <th>3</th>\n",
       "      <td>urn:ngsi-ld:TrafficFlowObserved:porto:traffic:CMP:CT10Z2</td>\n",
       "      <td>2017-12-31 03:00:00</td>\n",
       "      <td>138</td>\n",
       "      <td>R. Fernandes Tomás - 24 de Agosto</td>\n",
       "      <td>41</td>\n",
       "      <td>148405920000002</td>\n",
       "      <td>-8</td>\n",
       "      <td>5990938559999996</td>\n",
       "      <td>TrafficFlowObserved</td>\n",
       "      <td>Rua de Fernandes Tomás</td>\n",
       "    </tr>\n",
       "    <tr>\n",
       "      <th>4</th>\n",
       "      <td>urn:ngsi-ld:TrafficFlowObserved:porto:traffic:CMP:CT10Z2</td>\n",
       "      <td>2017-12-31 04:00:00</td>\n",
       "      <td>75</td>\n",
       "      <td>R. Fernandes Tomás - 24 de Agosto</td>\n",
       "      <td>41</td>\n",
       "      <td>148405920000002</td>\n",
       "      <td>-8</td>\n",
       "      <td>5990938559999996</td>\n",
       "      <td>TrafficFlowObserved</td>\n",
       "      <td>Rua de Fernandes Tomás</td>\n",
       "    </tr>\n",
       "  </tbody>\n",
       "</table>\n",
       "</div>"
      ],
      "text/plain": [
       "                                                  entity_id  \\\n",
       "0  urn:ngsi-ld:TrafficFlowObserved:porto:traffic:CMP:CT10Z2   \n",
       "1  urn:ngsi-ld:TrafficFlowObserved:porto:traffic:CMP:CT10Z2   \n",
       "2  urn:ngsi-ld:TrafficFlowObserved:porto:traffic:CMP:CT10Z2   \n",
       "3  urn:ngsi-ld:TrafficFlowObserved:porto:traffic:CMP:CT10Z2   \n",
       "4  urn:ngsi-ld:TrafficFlowObserved:porto:traffic:CMP:CT10Z2   \n",
       "\n",
       "     dateobservedfrom  intensity                               name  latitude  \\\n",
       "0 2017-12-31 00:00:00        224  R. Fernandes Tomás - 24 de Agosto        41   \n",
       "1 2017-12-31 01:00:00        186  R. Fernandes Tomás - 24 de Agosto        41   \n",
       "2 2017-12-31 02:00:00        177  R. Fernandes Tomás - 24 de Agosto        41   \n",
       "3 2017-12-31 03:00:00        138  R. Fernandes Tomás - 24 de Agosto        41   \n",
       "4 2017-12-31 04:00:00         75  R. Fernandes Tomás - 24 de Agosto        41   \n",
       "\n",
       "         longitude  entity_type            street           start_date  \\\n",
       "0  148405920000002           -8  5990938559999996  TrafficFlowObserved   \n",
       "1  148405920000002           -8  5990938559999996  TrafficFlowObserved   \n",
       "2  148405920000002           -8  5990938559999996  TrafficFlowObserved   \n",
       "3  148405920000002           -8  5990938559999996  TrafficFlowObserved   \n",
       "4  148405920000002           -8  5990938559999996  TrafficFlowObserved   \n",
       "\n",
       "                 end_date  \n",
       "0  Rua de Fernandes Tomás  \n",
       "1  Rua de Fernandes Tomás  \n",
       "2  Rua de Fernandes Tomás  \n",
       "3  Rua de Fernandes Tomás  \n",
       "4  Rua de Fernandes Tomás  "
      ]
     },
     "execution_count": 29,
     "metadata": {},
     "output_type": "execute_result"
    }
   ],
   "source": [
    "df_resampled = traffic_data.merge(data_entities, on='entity_id')\n",
    "df_resampled.head()"
   ]
  },
  {
   "cell_type": "code",
   "execution_count": 30,
   "metadata": {},
   "outputs": [],
   "source": [
    "df_resampled['day'] = df_resampled['dateobservedfrom'].dt.day\n",
    "df_resampled['hour'] = df_resampled['dateobservedfrom'].dt.hour\n",
    "df_resampled['month'] = df_resampled['dateobservedfrom'].dt.month\n",
    "df_resampled['dayofweek'] = df_resampled['dateobservedfrom'].dt.dayofweek\n",
    "df_resampled['year'] = df_resampled['dateobservedfrom'].dt.year\n",
    "df_resampled['quarter'] = df_resampled['dateobservedfrom'].dt.year\n",
    "df_resampled['is_holiday'] = df_resampled['dateobservedfrom'].apply(lambda x: x in pt_holidays)"
   ]
  },
  {
   "cell_type": "code",
   "execution_count": null,
   "metadata": {},
   "outputs": [],
   "source": [
    "# TODO\n",
    "# Traffic flow per day"
   ]
  },
  {
   "cell_type": "code",
   "execution_count": null,
   "metadata": {},
   "outputs": [],
   "source": [
    "# traffic flow per week"
   ]
  },
  {
   "cell_type": "code",
   "execution_count": null,
   "metadata": {},
   "outputs": [],
   "source": [
    "# traffic flow aggregated per month for all years (to check for sazonality)"
   ]
  },
  {
   "cell_type": "code",
   "execution_count": null,
   "metadata": {},
   "outputs": [],
   "source": [
    "# traffic flow aggregated per month+year "
   ]
  },
  {
   "cell_type": "code",
   "execution_count": null,
   "metadata": {},
   "outputs": [],
   "source": [
    "# Check this plot for ideas: https://www.researchgate.net/figure/A-heat-map-matrix-visualization-for-traffic-congestion-analysis-21_fig2_330420317 "
   ]
  }
 ],
 "metadata": {
  "kernelspec": {
   "display_name": "Python 3",
   "language": "python",
   "name": "python3"
  },
  "language_info": {
   "codemirror_mode": {
    "name": "ipython",
    "version": 3
   },
   "file_extension": ".py",
   "mimetype": "text/x-python",
   "name": "python",
   "nbconvert_exporter": "python",
   "pygments_lexer": "ipython3",
   "version": "3.7.7"
  }
 },
 "nbformat": 4,
 "nbformat_minor": 4
}
