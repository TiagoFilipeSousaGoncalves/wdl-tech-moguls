{
 "cells": [
  {
   "cell_type": "markdown",
   "metadata": {},
   "source": [
    "# External links and resources"
   ]
  },
  {
   "cell_type": "markdown",
   "metadata": {},
   "source": [
    "We created/used the following external links and/or resources:\n",
    " - \"pois_processed.csv\": We processed the file with the points of interest in .json format in order to obtain the data in a tabular form.\n",
    " - \"data_entities_wairsensors.csv\": We created the file with the traffic sensor and the correspondent (i.e., nearest) air quality sensors, as proxy to infer the air quality in a determined region of the city."
   ]
  },
  {
   "cell_type": "markdown",
   "metadata": {},
   "source": [
    "# Introduction"
   ]
  },
  {
   "cell_type": "markdown",
   "metadata": {},
   "source": [
    "Our solution focuses on forecasting traffic for the next day (at the same time) for the city of Porto. \n",
    "\n",
    "Regarding modeling, we used an XGBoost Classifier with weather features (current and forecast), historical intensity features, sensor position features (distance to sensor centroid).\n",
    "\n",
    "We propose using this model for making decisions regarding traffic flow, by changing the amount of time that traffic lights are on - read more below :) "
   ]
  },
  {
   "cell_type": "markdown",
   "metadata": {},
   "source": [
    "# Development"
   ]
  },
  {
   "cell_type": "code",
   "execution_count": 1,
   "metadata": {},
   "outputs": [],
   "source": [
    "# We import the needed Python libraries\n",
    "import warnings\n",
    "warnings.filterwarnings('ignore')\n",
    "\n",
    "import pandas as pd\n",
    "import holidays\n",
    "from geopy.distance import geodesic\n",
    "import numpy as np\n",
    "from sklearn.linear_model import LinearRegression\n",
    "from xgboost import XGBRegressor\n",
    "import numpy as np\n",
    "from sklearn.preprocessing import StandardScaler\n",
    "from sklearn.metrics import mean_squared_error, mean_absolute_error\n",
    "from scipy.stats import spearmanr, pearsonr\n",
    "import matplotlib.pyplot as plt\n",
    "import shap\n",
    "import folium\n",
    "from folium.plugins import HeatMapWithTime\n",
    "\n",
    "# Some useful Pandas features\n",
    "pd.set_option(\"display.max_colwidth\", 500)\n",
    "pt_holidays = holidays.CountryHoliday('Portugal')\n",
    "\n",
    "# Uncomment this if you need to install some of the libraries above\n",
    "# !pip install holidays\n",
    "# !pip install openrouteservice\n",
    "# !pip install geopy"
   ]
  },
  {
   "cell_type": "markdown",
   "metadata": {},
   "source": [
    "## Load Data"
   ]
  },
  {
   "cell_type": "markdown",
   "metadata": {},
   "source": [
    "This step of the script loads traffic, weather and air quality data.\n",
    "\n",
    "We removed data in post-COVID periods (2019 and 2020) since our goal is to study how the city of Porto behaves regularly."
   ]
  },
  {
   "cell_type": "code",
   "execution_count": 2,
   "metadata": {},
   "outputs": [],
   "source": [
    "# Load preprocessed points of interest, data given by the WDL Organizers\n",
    "\n",
    "df_pois = pd.read_csv('../data/pois_processed.csv')\n",
    "data_entities = pd.read_csv('../data/data_entities.csv', sep=',', encoding='latin-1', error_bad_lines=False)"
   ]
  },
  {
   "cell_type": "markdown",
   "metadata": {},
   "source": [
    "Using data about points of interest given by WDL team, we will calculate the number of points of interest in a 1.5km radius of each sensor, returning how many restaurants, stores, etc.,  we have."
   ]
  },
  {
   "cell_type": "code",
   "execution_count": 3,
   "metadata": {},
   "outputs": [],
   "source": [
    "def return_amount_of_points_of_interest_per_sensor(df_pois, data_entities):\n",
    "\n",
    "    # Function that calculates the distance in km between two points using the latitude and longitude data \n",
    "    def get_lat_lon_dist(row):\n",
    "        latlon1 = tuple(row[['latitude1', 'longitude1']])\n",
    "        latlon2 = tuple(row[['latitude2', 'longitude2']])\n",
    "\n",
    "        return geodesic(latlon1, latlon2).kilometers\n",
    "\n",
    "    # In order to be able to apply the function defined above with the data from the file with the points of interest, \n",
    "    # two columns were added to the dataframe: latitude and longitude, from a single column with these two values (location)\n",
    "    df_pois[['latitude', 'longitude']] = df_pois['location'].str.split(' ', 1, expand=True)\n",
    "    \n",
    "    # NaN data removal\n",
    "    df_pois = df_pois.drop(1609)\n",
    "\n",
    "    # Cross-join to get all combinations of latitude/longitude\n",
    "    dist = pd.merge(data_entities.assign(k=1), df_pois.assign(k=1), on='k', suffixes=('1', '2')) \\\n",
    "             .drop('k', axis=1)\n",
    "    \n",
    "    # Application of the get_lat_lon_dist function defined with the data from the points of interest and the sensors. \n",
    "    # Creation of a new column \"dist_NOME_DA_ENTIDADE\" with the distance in km from each sensor to each point of interest\n",
    "    dist['dist_NOME_DA_ENTIDADE'] = dist.apply(get_lat_lon_dist, axis=1)\n",
    "    \n",
    "    # We set a thresold distance equal to 1.5km because we consider, that given the size of the Porto region, 1.5km is a walkable distance. \n",
    "    # For each sensor, we defined the number of restaurants, hotels, shopping centers, etc that are at a distance of 1.5km or less\n",
    "    dist_new = dist[['entity_id', 'id', 'category', 'dist_NOME_DA_ENTIDADE']].copy() \n",
    "    dist_new = dist_new.rename(columns = {'id': 'point of interest'}, inplace = False)\n",
    "    dist_new['is_below_threshold'] = np.where(dist_new['dist_NOME_DA_ENTIDADE'] <= 1.5, 1, 0)\n",
    "    sensor_categ=dist_new.groupby(['entity_id', 'category'])['is_below_threshold'].sum().reset_index()\n",
    "    sensor_categ=sensor_categ.pivot_table(index=\"entity_id\", columns=\"category\", values=\"is_below_threshold\")\n",
    "    \n",
    "    return sensor_categ"
   ]
  },
  {
   "cell_type": "code",
   "execution_count": null,
   "metadata": {
    "tags": []
   },
   "outputs": [],
   "source": [
    "# So we get the number of points of interest (number of stores, markets, etc.) that are within walking distance of each sensor. \n",
    "# This new information will be added to feed the model we will develop later, \n",
    "# in order to also understand if the areas with more points of interest have more people flow and more traffic. \n",
    "sensor_categ = return_amount_of_points_of_interest_per_sensor(df_pois, data_entities)\n",
    "data_entities = data_entities.merge(sensor_categ, on=['entity_id'])\n",
    "data_entities.head()"
   ]
  },
  {
   "cell_type": "markdown",
   "metadata": {},
   "source": [
    "Load traffic, weather and air quality data, and resample to a period of an hour, to reduce dimensionality."
   ]
  },
  {
   "cell_type": "code",
   "execution_count": null,
   "metadata": {},
   "outputs": [],
   "source": [
    "# Function to load data and to get it by columns of interess and aggregation operation\n",
    "def load_data(data_paths, date_col, value_cols, agg_operation = 'sum'):\n",
    "    concat_data = []\n",
    "\n",
    "    for file in data_paths:\n",
    "        print(\"Reading file \", file)\n",
    "        df = pd.read_csv('../data/' + file, encoding='latin-1')\n",
    "        # print(df.head())\n",
    "\n",
    "        df[date_col] = pd.to_datetime(df[date_col])\n",
    "        \n",
    "        df = df.drop_duplicates()\n",
    "\n",
    "        df_resampled = df.set_index(date_col).groupby('entity_id')[value_cols].resample('H').agg(agg_operation).reset_index()\n",
    "        concat_data.append(df_resampled)\n",
    "\n",
    "    return pd.concat(concat_data)\n",
    "\n",
    "# Filenames of the data files (CSV)\n",
    "TRAFFIC_DATA_PATH = [\n",
    "    'traffic_flow_2018.csv',\n",
    "    'traffic_flow_2019.csv'\n",
    "]\n",
    "\n",
    "WEATHER_DATA_PATH = [\n",
    "    'weather_observed_2018.csv',\n",
    "    'weather_observed_2019.csv'\n",
    "]\n",
    "\n",
    "\n",
    "AIR_QUALITY_PATH = [\n",
    "    'air_quality_2018.csv',\n",
    "    'air_quality_2019.csv'\n",
    "]\n",
    "\n",
    "\n",
    "# Load traffic data\n",
    "# Date columns\n",
    "date_col = 'dateobservedfrom'\n",
    "\n",
    "# Traffic intensity column\n",
    "value_cols = ['intensity']\n",
    "\n",
    "# List of files to load and join\n",
    "files_name = TRAFFIC_DATA_PATH\n",
    "\n",
    "# We use our function to load the data\n",
    "traffic_data = load_data(files_name, date_col, value_cols, agg_operation = 'sum')\n",
    "traffic_data.rename(columns={'dateobservedfrom': 'dateobserved'}, inplace=True)\n",
    "\n",
    "\n",
    "# Load weather data\n",
    "# Weather parameters we need\n",
    "WEATHER_COLS = [\n",
    "    'barometricpressure',\n",
    "    'dewpoint',\n",
    "    'precipitation',\n",
    "    'relativehumidity',\n",
    "    'solarradiation',\n",
    "    'temperature',\n",
    "    'winddirection',\n",
    "    'windspeed',\n",
    "    'illuminance',\n",
    "    'uvindexmax',\n",
    "    'pressuretendency'\n",
    "]\n",
    "\n",
    "# We use our function to load the data\n",
    "weather_data = load_data(data_paths = WEATHER_DATA_PATH, date_col = 'dateobserved', value_cols = WEATHER_COLS, agg_operation = 'mean')\n",
    "\n",
    "\n",
    "# Load air quality data\n",
    "# Get the parameters we need\n",
    "AIR_QUALITY_COLS = [\n",
    "    'no2',\n",
    "    'o3',\n",
    "    'ox',\n",
    "    'co',\n",
    "    'pm1',\n",
    "    'pm25',\n",
    "    'pm10'\n",
    "]\n",
    "\n",
    "# We use our function to load the data\n",
    "air_quality_data = load_data(data_paths = AIR_QUALITY_PATH, date_col = 'dateobserved', value_cols = AIR_QUALITY_COLS, agg_operation = 'mean')"
   ]
  },
  {
   "cell_type": "code",
   "execution_count": null,
   "metadata": {},
   "outputs": [],
   "source": [
    "# Check the head of the dataframe\n",
    "traffic_data.head(3)"
   ]
  },
  {
   "cell_type": "code",
   "execution_count": null,
   "metadata": {},
   "outputs": [],
   "source": [
    "# Check the head of the dataframe\n",
    "air_quality_data.head(3)"
   ]
  },
  {
   "cell_type": "code",
   "execution_count": null,
   "metadata": {},
   "outputs": [],
   "source": [
    "# Check the head of the dataframe\n",
    "weather_data.head(3)"
   ]
  },
  {
   "cell_type": "markdown",
   "metadata": {},
   "source": [
    "To encode the latitude and longitude in a continuous way, we'll calculate the distance to the centroid as a feature.\n",
    "\n",
    "The coordinates (latitude, longitude) of this centroid are computed as:\n",
    " - latitude = mean(all_latitudes)\n",
    " - longitude = mean(all_longitudes)"
   ]
  },
  {
   "cell_type": "code",
   "execution_count": null,
   "metadata": {},
   "outputs": [],
   "source": [
    "# We compute the centroid coordinates (latitude, longitude)\n",
    "centroid = (data_entities['latitude'].astype(float).mean(), data_entities['longitude'].astype(float).mean())\n",
    "\n",
    "# We create a new column in the data_entities dataframe that contains the distance of each entity to the our centroid\n",
    "data_entities['distance_to_centroid'] = data_entities.apply(lambda x: geodesic((x['latitude'], x['longitude']), centroid).meters, axis=1)"
   ]
  },
  {
   "cell_type": "markdown",
   "metadata": {},
   "source": [
    "Let's start merging the data sources besides traffic into a single dataframe."
   ]
  },
  {
   "cell_type": "code",
   "execution_count": null,
   "metadata": {},
   "outputs": [],
   "source": [
    "# We merge traffic data with data entities\n",
    "df_resampled = traffic_data.merge(data_entities, on='entity_id')\n",
    "\n",
    "# Some \"engineering tweaks\" to avoid errors: we convert the latitude and longitude into the \"float\" type\n",
    "df_resampled.latitude = df_resampled.latitude.astype(float)\n",
    "df_resampled.longitude = df_resampled.longitude.astype(float)\n",
    "\n",
    "# We then sort values by entity_id and date\n",
    "df_resampled = df_resampled.sort_values(by=['entity_id', 'dateobserved'], ascending=True)"
   ]
  },
  {
   "cell_type": "markdown",
   "metadata": {},
   "source": [
    "### Traffic Sensor Spatial and Temporal Relationship"
   ]
  },
  {
   "cell_type": "markdown",
   "metadata": {},
   "source": [
    "The plot below shows the spatial and temporal relationship of traffic throughout the day.\n",
    "The median value of the intensity for each hour and for each sensor was calculated.\n",
    "\n",
    "From 7 a.m. on, there are more cars circulating in various parts of the city, since that is when people normally leave their homes to go to work, and from 6 p.m. on is when they start leaving work to return home.\n",
    "\n",
    "It is also possible to verify that the sensors closest to the road exits (like the IC-23) start to have more intensity at 7am due to the flow of people who live in areas outside the center of Porto and go to work in the city center. \n",
    "\n",
    "At sensor of Rua de Sampaio Bruno, near the Aliados area, there is a high intensity of cars at 6pm. This is not surprising since the Aliados is an area of the city with a very large flow of people!\n",
    "\n",
    "Sensor at Rua Sá da Bandeira shows in our map the maximum intensity since we defined that this is our global extreme, and therefore the minimum and maximum intensity of the other sensors are defined from the value of this sensor."
   ]
  },
  {
   "cell_type": "code",
   "execution_count": null,
   "metadata": {},
   "outputs": [],
   "source": [
    "#For each hour of the day \"hour_today\", selection from the 'intensity' column, which corresponds to the total number of cars. \n",
    "\n",
    "df_resampled['hour_today'] = df_resampled.dateobserved.dt.hour\n",
    "\n",
    "df_day_list = []\n",
    "for hour in df_resampled.hour_today.sort_values().unique():\n",
    "    df_day_list.append(\n",
    "        df_resampled.loc[df_resampled.hour_today == hour, ['latitude', 'longitude', 'intensity']].groupby(['latitude', 'longitude']).median().reset_index().values.tolist())\n",
    "\n",
    "time_index = list(np.arange(0,24))"
   ]
  },
  {
   "cell_type": "code",
   "execution_count": null,
   "metadata": {},
   "outputs": [],
   "source": [
    "#The warmer colors correspond to a higher flow of cars and traffic, while the cooler colors are linked to lower intensity values. \n",
    "\n",
    "m = folium.Map(location=[41.16181,-8.62057], zoom_start=14)\n",
    "\n",
    "HeatMapWithTime(df_day_list, index=time_index, radius=14, gradient={0.2: 'blue', \n",
    "                            0.4: 'lime', \n",
    "                            0.7: 'orange',\n",
    "                            0.9: '#FC3800',\n",
    "                            1: 'red'}, min_opacity=0.3, max_opacity=0.6, use_local_extrema=True).add_to(m)\n",
    "\n",
    "m"
   ]
  },
  {
   "cell_type": "markdown",
   "metadata": {},
   "source": [
    "## Sensor Location"
   ]
  },
  {
   "cell_type": "markdown",
   "metadata": {},
   "source": [
    "There seem to be a total of 130 traffic flow sensors, 27 weather sensors, 18 noise sensors and 18 air quality sensors. \n",
    "\n",
    "We generated a map where you can see the location of the various sensors throughout the city of Porto. The sensors were grouped by type (traffic flow, air quality, etc.) in order to visually perceive the distribution of the various types of sensors.\n",
    "\n",
    "- **Traffic Sensors**: In the area of \"Foz\" and \"Campanhã\", there seem to be less traffic sensors compared to the remaining major areas of Porto: Boavista, Antas, Baixa (Downtown) and Bonfim. \n",
    "- **Noise Sensors** - They're very close to the traffic sensors, so shouldn't really give any complementary information.\n",
    "- **Air Quality Sensors** - Three are in Viseu, not Porto. The remaining seem sparse and distant from traffic sensors, so it's hard to correlate a specific traffic sensor's intensity with the air quality in a different region (something that might also depend on the wind direction and intensity at that time). Their use for this problem could be in measuring the correlation between high traffic days and air quality a few moments later.\n",
    "- **Weather Sensors** - There seems to be a relevant amount of coverage throughout the city."
   ]
  },
  {
   "cell_type": "code",
   "execution_count": null,
   "metadata": {},
   "outputs": [],
   "source": [
    "def plot_sensors_location(data_entities):\n",
    "    # Function for plotting sensors location in a map. Each type of sensor is identified by a specific color and icon.\n",
    "\n",
    "    m = folium.Map(location=[41.16181, -8.62057], zoom_start=14)\n",
    "\n",
    "    for indice, row in data_entities.loc[data_entities[\"entity_type\"]==\"TrafficFlowObserved\"].iterrows():\n",
    "        folium.Marker(\n",
    "            location=[row[\"latitude\"], row[\"longitude\"]],\n",
    "            popup=row['name'],\n",
    "            icon=folium.Icon(color=\"red\", icon='automobile', prefix='fa')\n",
    "            ).add_to(m)\n",
    "\n",
    "    for indice, row in data_entities.loc[data_entities[\"entity_type\"]==\"NoiseLevelObserved\"].iterrows():\n",
    "        folium.Marker(\n",
    "            location=[row[\"latitude\"], row[\"longitude\"]],\n",
    "            popup=row['name'],\n",
    "            icon=folium.Icon(color=\"green\", icon='glyphicon glyphicon-bullhorn')\n",
    "            ).add_to(m)\n",
    "\n",
    "    for indice, row in data_entities.loc[data_entities[\"entity_type\"]==\"AirQualityObserved\"].iterrows():\n",
    "        folium.Marker(\n",
    "            location=[row[\"latitude\"], row[\"longitude\"]],\n",
    "            popup=row['name'],\n",
    "            icon=folium.Icon(color=\"blue\", icon='leaf', prefix='fa')\n",
    "            ).add_to(m)\n",
    "\n",
    "    for indice, row in data_entities.loc[data_entities[\"entity_type\"]==\"WeatherObserved\"].iterrows():\n",
    "        folium.Marker(\n",
    "            location=[row[\"latitude\"], row[\"longitude\"]],\n",
    "            popup=row['name'],\n",
    "            icon=folium.Icon(color=\"orange\", icon='sun-o', prefix='fa')\n",
    "            ).add_to(m)\n",
    "    return m\n",
    "\n",
    "m = plot_sensors_location(data_entities)\n",
    "\n",
    "m"
   ]
  },
  {
   "cell_type": "markdown",
   "metadata": {},
   "source": [
    "## Data Exploration"
   ]
  },
  {
   "cell_type": "markdown",
   "metadata": {},
   "source": [
    "### Weather Data"
   ]
  },
  {
   "cell_type": "markdown",
   "metadata": {},
   "source": [
    "Weather Data, which is very important for predicting traffic, has a lot of nulls for several values.\n",
    "As there's no possible way to directly map a weather sensor location to a traffic sensor, we'll average the weather metrics per hour. "
   ]
  },
  {
   "cell_type": "code",
   "execution_count": null,
   "metadata": {},
   "outputs": [],
   "source": [
    "# Check the percentage of NaN values in the dataset\n",
    "weather_data.isna().mean()"
   ]
  },
  {
   "cell_type": "code",
   "execution_count": null,
   "metadata": {},
   "outputs": [],
   "source": [
    "# Aggregate by specific parameters (the ones we need to train our model)\n",
    "weather_data_agg = weather_data.groupby('dateobserved')[['barometricpressure', 'dewpoint', 'precipitation', 'relativehumidity', 'solarradiation', 'temperature', 'winddirection', 'windspeed', 'illuminance', 'uvindexmax', 'pressuretendency']].mean().reset_index()"
   ]
  },
  {
   "cell_type": "code",
   "execution_count": null,
   "metadata": {},
   "outputs": [],
   "source": [
    "# Add this data to our main dataframe\n",
    "df_resampled = df_resampled.merge(weather_data_agg, on=['dateobserved'], how='left')"
   ]
  },
  {
   "cell_type": "markdown",
   "metadata": {},
   "source": [
    "### Traffic Data Sensor Regularity"
   ]
  },
  {
   "cell_type": "markdown",
   "metadata": {},
   "source": [
    "We give you some intuition about the behaviour of traffic in the City of Porto throughout the day."
   ]
  },
  {
   "cell_type": "code",
   "execution_count": null,
   "metadata": {},
   "outputs": [],
   "source": [
    "# Make a plot of two sensors with normal behavior and these sensors \n",
    "# with irregular behavior which we ended up removing from the analysis.\n",
    "\n",
    "# We got to detect 5 sensors that demonstrated abnormal behaviour\n",
    "# We show you the plots below\n",
    "base_sensor_name = \"urn:ngsi-ld:TrafficFlowObserved:porto:traffic:CMP:\"\n",
    "outlier_sensor_list = [\"CT21Z1\", \"CT4Z9\", \"CT5Z8\", \"CT9Z2\"]\n",
    "outlier_sensor_list = [base_sensor_name+n for n in outlier_sensor_list]\n",
    "outlier_sensor_list.append(\"testsixsq\")\n",
    "\n",
    "df_resampled = df_resampled[~df_resampled['entity_id'].isin(outlier_sensor_list)]"
   ]
  },
  {
   "cell_type": "markdown",
   "metadata": {},
   "source": [
    "The following image shows the regular behaviour of the intensity of the traffic during a day.\n",
    "\n",
    "Starting the analysis at 00:00, we realise that the traffic intensity decreases during the night, which, for the city of Porto, makes sense. The intensity starts to increase around 04:00/05:00, which marks the time-points when persons start their working routine. It then increases until 10:00/11:00 and keeps an approximately stable behaviour until the end of the working hours, 18:00/19:00. The intensity starts to decrease until night."
   ]
  },
  {
   "cell_type": "markdown",
   "metadata": {},
   "source": [
    "![Traffic Data Sensor Regular Behaviour](../figures/ct1z6_intensity.png \"Traffic Data Sensor Regular Behaviour\")"
   ]
  },
  {
   "cell_type": "markdown",
   "metadata": {},
   "source": [
    "## Feature Extraction"
   ]
  },
  {
   "cell_type": "markdown",
   "metadata": {},
   "source": [
    "Here's the data we have so far: a listing of car intensities and weather data for each hour.\n",
    "\n",
    "### Why does our model forecast for the next day and not the next hour?\n",
    "\n",
    "Initially, we thought that the target of our model should be the value in the next hour since we wanted to develop an actionable system in a more immediate way, such as in the next hour, rather than 24 hours later. However, the reality is that data may not be available immediately, and may, for example, be stored and transmitted at the end of the day. Thus, due to data integration lags, we decided to build a model that would make the forecast for the next day."
   ]
  },
  {
   "cell_type": "code",
   "execution_count": null,
   "metadata": {},
   "outputs": [],
   "source": [
    "# We show you a glimpse of our current dataset\n",
    "df_resampled.head(3)"
   ]
  },
  {
   "cell_type": "code",
   "execution_count": null,
   "metadata": {},
   "outputs": [],
   "source": [
    "# We had some weird cases of duplicates which are dropped here\n",
    "df_resampled = df_resampled.drop_duplicates(['entity_id', 'dateobserved'])"
   ]
  },
  {
   "cell_type": "code",
   "execution_count": null,
   "metadata": {},
   "outputs": [],
   "source": [
    "# We created a function to get some interesting date features, based on Pandas DataSeries predefined functions\n",
    "def get_date_features(df_resampled, date_col, suffix):\n",
    "    \"\"\"\n",
    "    Function for getting date features from a datetime column. \n",
    "    \"\"\"\n",
    "    df_resampled[f'day_{suffix}'] = df_resampled[date_col].dt.day\n",
    "    df_resampled[f'hour_{suffix}'] = df_resampled[date_col].dt.hour\n",
    "    df_resampled[f'month_{suffix}'] = df_resampled[date_col].dt.month\n",
    "    df_resampled[f'dayofweek_{suffix}'] = df_resampled[date_col].dt.dayofweek\n",
    "    # df_resampled[f'year_{suffix}'] = df_resampled[date_col].dt.year\n",
    "    df_resampled[f'quarter_{suffix}'] = df_resampled[date_col].dt.quarter\n",
    "    df_resampled[f'is_holiday_{suffix}'] = df_resampled[date_col].apply(lambda x: x in pt_holidays)\n",
    "    # df_resampled[f'is_year_end_{suffix}'] = df_resampled[date_col].dt.is_year_end\n",
    "    df_resampled[f'is_weekend_{suffix}'] = np.where(df_resampled[f'dayofweek_{suffix}'].isin([5, 6]), 1, 0)\n",
    "                                                  \n",
    "    return df_resampled"
   ]
  },
  {
   "cell_type": "code",
   "execution_count": null,
   "metadata": {},
   "outputs": [],
   "source": [
    "# We create a function to create our targets\n",
    "# As you can see, we created our target (label) based on a date offset (i.e., our label will be the intensity of the next day at the same time)\n",
    "def create_target(df_resampled, target_col = 'intensity', date_offset = 24):\n",
    "    \"\"\"\n",
    "    Function from creating lagged or future features for a specific date offset.\n",
    "    For instance, this adds a new column with the intensity values 24 hours in the future, for each row, by default.    \n",
    "    \"\"\"\n",
    "    \n",
    "    df_resampled['dateobserved_tomorrow'] = df_resampled['dateobserved'] + pd.DateOffset(hours=date_offset)\n",
    "    tmp = df_resampled[['entity_id', 'dateobserved', 'dateobserved_tomorrow', target_col]].merge(\n",
    "        df_resampled[['entity_id', 'dateobserved', 'dateobserved_tomorrow', target_col]], \n",
    "        left_on = ['entity_id', 'dateobserved_tomorrow'], \n",
    "        right_on=['entity_id', 'dateobserved'], \n",
    "        how='left'\n",
    "    )\n",
    "\n",
    "    tmp = tmp[['entity_id', 'dateobserved_x', f'{target_col}_y']]\n",
    "    tmp.columns = ['entity_id', 'dateobserved', f'target_{target_col}_{str(date_offset)}h']\n",
    "\n",
    "    df_resampled = df_resampled.merge(tmp, on=['entity_id', 'dateobserved'])\n",
    "    \n",
    "    return df_resampled"
   ]
  },
  {
   "cell_type": "markdown",
   "metadata": {},
   "source": [
    "Let's create our target, which we defined as a traffic prediction for the following day, at the same time.\n",
    "We will explain our decisions for this offset in the conclusion, as it serves using our solution in practice."
   ]
  },
  {
   "cell_type": "code",
   "execution_count": null,
   "metadata": {},
   "outputs": [],
   "source": [
    "df_resampled = create_target(df_resampled, target_col = 'intensity', date_offset=24)"
   ]
  },
  {
   "cell_type": "code",
   "execution_count": null,
   "metadata": {},
   "outputs": [],
   "source": [
    "df_resampled = get_date_features(df_resampled, 'dateobserved_tomorrow', 'tomorrow')\n",
    "df_resampled = get_date_features(df_resampled, 'dateobserved', 'today')"
   ]
  },
  {
   "cell_type": "code",
   "execution_count": null,
   "metadata": {},
   "outputs": [],
   "source": [
    "df_resampled.head(3)"
   ]
  },
  {
   "cell_type": "markdown",
   "metadata": {},
   "source": [
    "It's also very important we create lagged features: what occured in the past, in the same day."
   ]
  },
  {
   "cell_type": "code",
   "execution_count": null,
   "metadata": {},
   "outputs": [],
   "source": [
    "# This function is used to create the lagged features\n",
    "def rolling_fts_intensity(df_resampled, group_cols, window, agg_cols = ['mean', 'max', 'min', 'std']):\n",
    "    \"\"\"\n",
    "    Function for calculating aggregated rolling features\n",
    "    \"\"\"\n",
    "    rolling_fts = df_resampled.groupby(group_cols)['intensity'].shift(1).rolling(window).agg(['mean', 'max', 'min', 'std'])\n",
    "\n",
    "    group_cols_str = '_'.join(group_cols)\n",
    "    rolling_fts.columns = [\n",
    "        f'intensity_{group_cols_str}_{str(window)}_mean',\n",
    "        f'intensity_{group_cols_str}_{str(window)}_max',\n",
    "        f'intensity_{group_cols_str}_{str(window)}_min',\n",
    "        f'intensity_{group_cols_str}_{str(window)}_std',\n",
    "    ]\n",
    "    df_resampled = pd.concat([df_resampled, rolling_fts], axis=1)\n",
    "    return df_resampled\n",
    "\n",
    "for day in [24, 24*2, 24*3, 24*4, 24*5, 24*6]:\n",
    "    df_resampled = rolling_fts_intensity(df_resampled, ['entity_id'], day)\n",
    "\n",
    "df_resampled = rolling_fts_intensity(df_resampled, ['entity_id', 'dayofweek_today'], 24)\n",
    "\n",
    "# Get target intensity 24 hours ago\n",
    "for date_offset in [-24, -24*2, -24*3, -24*4, -24*5, -24*6, -24*7]:\n",
    "    df_resampled = create_target(df_resampled, target_col = 'intensity', date_offset=date_offset)"
   ]
  },
  {
   "cell_type": "markdown",
   "metadata": {},
   "source": [
    "Here's an example of what the target looks like.\n",
    "For this entity, on 2018-10-07 00:00, we observe an intensity of 104. The target, the number of cars on the following day at 00:00, is 95, which appears on the following row."
   ]
  },
  {
   "cell_type": "code",
   "execution_count": null,
   "metadata": {},
   "outputs": [],
   "source": [
    "df_resampled[\n",
    "    (\n",
    "        (df_resampled.dateobserved == pd.to_datetime('2018-10-07 00:00:00')) | (df_resampled.dateobserved == pd.to_datetime('2018-10-08 00:00:00'))\n",
    "    ) & (df_resampled.entity_id == 'urn:ngsi-ld:TrafficFlowObserved:porto:traffic:CMP:CT10Z2')\n",
    "][['entity_id', 'dateobserved', 'dateobserved_tomorrow', 'intensity', 'target_intensity_-24h', 'target_intensity_24h']]"
   ]
  },
  {
   "cell_type": "markdown",
   "metadata": {},
   "source": [
    "Let's assume we had tomorrow's weather - since we don't have historical forecasts we'll just use tomorrow's weather as if we had a forecast tool available"
   ]
  },
  {
   "cell_type": "code",
   "execution_count": null,
   "metadata": {},
   "outputs": [],
   "source": [
    "# Let's create some date offset targets for the weather features\n",
    "df_resampled = create_target(df_resampled, target_col = 'precipitation', date_offset=24)\n",
    "df_resampled = create_target(df_resampled, target_col = 'temperature', date_offset=24)\n",
    "df_resampled = create_target(df_resampled, target_col = 'relativehumidity', date_offset=24)\n",
    "\n",
    "df_resampled = create_target(df_resampled, target_col = 'precipitation', date_offset=-24)\n",
    "df_resampled = create_target(df_resampled, target_col = 'temperature', date_offset=-24)\n",
    "df_resampled = create_target(df_resampled, target_col = 'relativehumidity', date_offset=-24)"
   ]
  },
  {
   "cell_type": "code",
   "execution_count": null,
   "metadata": {},
   "outputs": [],
   "source": [
    "# We create a list of columns that we do not need to train our model\n",
    "COLS_TO_REMOVE = [\n",
    "    'entity_id',\n",
    "    'dateobserved',\n",
    "    'name',\n",
    "    'latitude',\n",
    "    'longitude',\n",
    "    'entity_type',\n",
    "    'street',\n",
    "    'start_date',\n",
    "    'end_date',\n",
    "    'target_intensity_24h',\n",
    "    'dateobserved_tomorrow',\n",
    "    'illuminance',\n",
    "    'uvindexmax',\n",
    "    'pressuretendency',\n",
    "    'solarradiation',\n",
    "    'dewpoint',\n",
    "    'barometricpressure',\n",
    "    'winddirection',\n",
    "    'windspeed',\n",
    "    'year_tomorrow',\n",
    "    'year_today'\n",
    "]\n",
    "\n",
    "# Based on the previous list, we create a new list with the features that we actually need!\n",
    "COLS_TO_KEEP = [x for x in df_resampled.columns if x not in COLS_TO_REMOVE]"
   ]
  },
  {
   "cell_type": "markdown",
   "metadata": {},
   "source": [
    "These will be the features that we will input into our model:"
   ]
  },
  {
   "cell_type": "code",
   "execution_count": null,
   "metadata": {
    "tags": []
   },
   "outputs": [],
   "source": [
    "COLS_TO_KEEP"
   ]
  },
  {
   "cell_type": "code",
   "execution_count": null,
   "metadata": {},
   "outputs": [],
   "source": [
    "df_resampled2 = df_resampled.sort_values(by='dateobserved', ascending=True)"
   ]
  },
  {
   "cell_type": "code",
   "execution_count": null,
   "metadata": {},
   "outputs": [],
   "source": [
    "# Train model\n",
    "# Please note that we use 80% of the data set as our train set!\n",
    "X_train = df_resampled2[0:int(0.8*len(df_resampled))]\n",
    "\n",
    "# We remove the NaNs (labels that are NaNs)\n",
    "X_train = X_train[~X_train.target_intensity_24h.isna()]\n",
    "\n",
    "# We use the remaining 20% as test set\n",
    "X_test = df_resampled2[int(0.8*len(df_resampled)):]\n",
    "\n",
    "# We remove the NaNs (labels that are NaNs)\n",
    "X_test = X_test[~X_test.target_intensity_24h.isna()]"
   ]
  },
  {
   "cell_type": "code",
   "execution_count": null,
   "metadata": {},
   "outputs": [],
   "source": [
    "# Our labels column\n",
    "y_train = X_train['target_intensity_24h']"
   ]
  },
  {
   "cell_type": "code",
   "execution_count": null,
   "metadata": {},
   "outputs": [],
   "source": [
    "# We train an XGBoost Regressor. \n",
    "# Since it is a decision tree, it becomes easier to explain the decisions of our model\n",
    "xgb = XGBRegressor(n_estimators=100)\n",
    "\n",
    "# We train our model\n",
    "xgb.fit(X_train[COLS_TO_KEEP].fillna(9999).astype(float), y_train)"
   ]
  },
  {
   "cell_type": "code",
   "execution_count": null,
   "metadata": {},
   "outputs": [],
   "source": [
    "y_pred = xgb.predict(X_test[COLS_TO_KEEP].fillna(9999).astype(float))\n",
    "X_test['pred_score'] = y_pred"
   ]
  },
  {
   "cell_type": "markdown",
   "metadata": {},
   "source": [
    "Below we get our model predictions compared to a dummy model, which always predicts that today's intensity will be the same as the \n",
    "target.\n",
    "\n",
    "Our model is a lot better than the baseline model, in the specified metrics. "
   ]
  },
  {
   "cell_type": "code",
   "execution_count": null,
   "metadata": {},
   "outputs": [],
   "source": [
    "# Predicting that today's intensity will be the same as the target for baseline\n",
    "\n",
    "dummy_regressor = X_test['intensity']\n",
    "\n",
    "print(\"MAE\", mean_absolute_error(dummy_regressor, X_test['target_intensity_24h']))\n",
    "print(\"MSE\", mean_squared_error(dummy_regressor, X_test['target_intensity_24h']))\n",
    "print(\"Spearman Rank\", spearmanr(dummy_regressor, X_test['target_intensity_24h']))\n",
    "print(\"Pearson Rank\", pearsonr(dummy_regressor, X_test['target_intensity_24h']))"
   ]
  },
  {
   "cell_type": "code",
   "execution_count": null,
   "metadata": {},
   "outputs": [],
   "source": [
    "# Model predictions\n",
    "\n",
    "print(\"MAE\", mean_absolute_error(y_pred, X_test['target_intensity_24h']))\n",
    "print(\"MSE\", mean_squared_error(y_pred, X_test['target_intensity_24h']))\n",
    "print(\"Spearman Rank\", spearmanr(y_pred, X_test['target_intensity_24h']))\n",
    "print(\"Pearson Rank\", pearsonr(y_pred, X_test['target_intensity_24h']))"
   ]
  },
  {
   "cell_type": "markdown",
   "metadata": {},
   "source": [
    "## Results Analysis"
   ]
  },
  {
   "cell_type": "code",
   "execution_count": null,
   "metadata": {
    "tags": []
   },
   "outputs": [],
   "source": [
    "X_test[X_test['intensity'] > 6000].head()[['dateobserved', 'entity_id', 'intensity', 'dayofweek_today', 'pred_score', 'target_intensity_24h', 'is_weekend_today', 'is_weekend_tomorrow']]"
   ]
  },
  {
   "cell_type": "code",
   "execution_count": null,
   "metadata": {},
   "outputs": [],
   "source": [
    "plt.title(\"Predicted vs True Intensity\")\n",
    "plt.scatter(y_pred, X_test['target_intensity_24h'], alpha=0.2)\n",
    "plt.ylabel('Predicted Value')\n",
    "plt.xlabel('Ground Truth')"
   ]
  },
  {
   "cell_type": "markdown",
   "metadata": {},
   "source": [
    "SHAP Plot below shows us the model focuses mostly on lagged features, month features (correlated with sazonality) and some weather features."
   ]
  },
  {
   "cell_type": "code",
   "execution_count": null,
   "metadata": {},
   "outputs": [],
   "source": [
    "# We now explain the model's predictions using SHAP\n",
    "# (same syntax works for LightGBM, CatBoost, scikit-learn, transformers, Spark, etc.)\n",
    "explainer = shap.Explainer(xgb)\n",
    "shap_values = explainer(X_test[COLS_TO_KEEP].fillna(9999).astype(float))"
   ]
  },
  {
   "cell_type": "code",
   "execution_count": null,
   "metadata": {},
   "outputs": [],
   "source": [
    "# Let's get a nice plot with the shap values so you can have an intuition on the rationale behind the model learned by the XGBoost Regressor\n",
    "shap.plots.beeswarm(shap_values, max_display=15)"
   ]
  },
  {
   "cell_type": "markdown",
   "metadata": {},
   "source": [
    "We used SHAP values to try to explain the model output and make it more interpretable. As expected, intensity is one of the most important features and is very relevant for predicting traffic. High intensity values increase the predicted traffic for the next day. \n",
    "The target intensities 114h, 120h, 24h and 48h before the forecast time the next day are also very relevant for traffic forecasting. The day of the week of the forecast also greatly influences the model results."
   ]
  },
  {
   "cell_type": "markdown",
   "metadata": {},
   "source": [
    "An example of the model predictions shape and the ground truth:"
   ]
  },
  {
   "cell_type": "code",
   "execution_count": null,
   "metadata": {},
   "outputs": [],
   "source": [
    "# We select a sensor\n",
    "tmp = X_test[X_test.entity_id == 'urn:ngsi-ld:TrafficFlowObserved:porto:traffic:CMP:CT11Z3']"
   ]
  },
  {
   "cell_type": "code",
   "execution_count": null,
   "metadata": {},
   "outputs": [],
   "source": [
    "# Select a timepoint\n",
    "tmp = tmp[\n",
    "    (tmp.dateobserved < '2020-08-10') & (tmp.dateobserved > '2018-05-18')\n",
    "]\n",
    "tmp"
   ]
  },
  {
   "cell_type": "code",
   "execution_count": null,
   "metadata": {
    "scrolled": false
   },
   "outputs": [],
   "source": [
    "#Plot Traffic Flow predictions\n",
    "\n",
    "import plotly.graph_objects as go\n",
    "\n",
    "dataframe=tmp\n",
    "# Create figure\n",
    "fig = go.Figure()\n",
    "\n",
    "fig.add_trace(\n",
    "    go.Scatter(x=list(tmp.dateobserved), y=list(tmp.target_intensity_24h),name='true'))\n",
    "fig.add_trace(\n",
    "    go.Scatter(x=list(tmp.dateobserved), y=list(tmp.pred_score),name='pred'))\n",
    "\n",
    "# Set title\n",
    "fig.update_layout(\n",
    "    title_text=\"Traffic Flow Observed - True vs Prediction\"\n",
    ")\n",
    "\n",
    "# Add range slider\n",
    "fig.update_layout(\n",
    "    xaxis=dict(\n",
    "        rangeselector=dict(\n",
    "            buttons=list([\n",
    "                dict(count=1,\n",
    "                     label=\"1m\",\n",
    "                     step=\"month\",\n",
    "                     stepmode=\"backward\"),\n",
    "                dict(count=6,\n",
    "                     label=\"6m\",\n",
    "                     step=\"month\",\n",
    "                     stepmode=\"backward\"),\n",
    "                dict(count=1,\n",
    "                     label=\"1y\",\n",
    "                     step=\"year\",\n",
    "                     stepmode=\"backward\"),\n",
    "                dict(step=\"all\")\n",
    "            ])\n",
    "        ),\n",
    "        rangeslider=dict(\n",
    "            visible=True\n",
    "        ),\n",
    "        type=\"date\"\n",
    "    )\n",
    ")\n",
    "\n",
    "fig.show()\n"
   ]
  },
  {
   "cell_type": "markdown",
   "metadata": {},
   "source": [
    "According to traffic flow (True vs Prediction) plot, it is possible to conclude that the results of our proposed model are close to real traffic intensity values.  "
   ]
  },
  {
   "cell_type": "markdown",
   "metadata": {},
   "source": [
    "# Conclusions"
   ]
  },
  {
   "cell_type": "markdown",
   "metadata": {},
   "source": [
    "## What do we propose?"
   ]
  },
  {
   "cell_type": "markdown",
   "metadata": {},
   "source": [
    "Taking into account our data analysis and the model we trained, we decided that the best way to deploy our model within the city would be through the implementation of smart traffic lights (TIME has a very interesting article on this topic: [https://time.com/5502192/smart-traffic-lights-ai/](https://time.com/5502192/smart-traffic-lights-ai/)). "
   ]
  },
  {
   "cell_type": "markdown",
   "metadata": {},
   "source": [
    "### How did we think about this proposal?"
   ]
  },
  {
   "cell_type": "markdown",
   "metadata": {},
   "source": [
    "We start by showing you some of our preliminary ideas and justifying why they were not suitable for this forecasting model:\n",
    " 1. We wondered about using this model to optimise travelling routes within the City of Porto. However, we acknowledge that services such as Google Maps, Apple's Maps or Waze do that well.\n",
    " 2. We thought about framing this problem as an anomaly detection problem with forecasting to predict which regions of the City of Porto could be more likely of car accidents. The main idea was to have a decision support system that could support these regions by increasing vigilance. On the other hand, we recognise that this data analysis and the model that was trained do not focus on anomaly detection. Hence, we refrain from using this idea, due to a lack of evidence between the main goal and all the knowledge we extracted.\n",
    "\n",
    "Hence, we had to go beyond our horizons and (try to) think outside of the box. "
   ]
  },
  {
   "cell_type": "markdown",
   "metadata": {},
   "source": [
    "### How would we do it?"
   ]
  },
  {
   "cell_type": "markdown",
   "metadata": {},
   "source": [
    "Our smart traffic lights project would be implemented in two phases:\n",
    " 1. After the installation of smart traffic lights in the City of Porto, we would use our forecasting model to understand which are the zones where we have higher traffic intensities. We would have to manually tune the behaviour of traffic lights in those zones and gather data related to the impact of these manipulations. Intuitively, we would need to gather data daily.\n",
    " 2. Assuming that Phase 1 had already generated an interesting data set, we could retrain a model which would receive the latitude, longitude, time and if a certain traffic light would be active or not. This way, using this model, we could immediately check the impacts on the traffic intensity in the City of Porto. \n",
    " 3. An interesting thing to test: could we generalise this analysis to road signs?\n",
    "\n",
    "There already some interesting projects/start-ups working on this subject ([https://www.zdnet.com/article/ai-based-traffic-management-gets-green-light/](https://www.zdnet.com/article/ai-based-traffic-management-gets-green-light/)).\n",
    "\n",
    "Therefore, we interpret this solution as an interesting opportunity for the City of Porto to be sustainable and a pioneer towards smart traffic management."
   ]
  },
  {
   "cell_type": "markdown",
   "metadata": {},
   "source": [
    "## How can this traffic-flow forecasting model help us achieve a much more sustainable Porto city?\n",
    "Following the contextualisation of the WDL team in the challenge document, we start by showing some of the correlations between traffic intensity and the presence of air pollutants:\n",
    "\n",
    "### TODO: Colocar em forma de Tabela!"
   ]
  },
  {
   "cell_type": "markdown",
   "metadata": {},
   "source": [
    "We also find it useful to give you some insights about these chemicals to give you intuition on why it is important to keep their concentration in the atmosphere as lower as possible.\n",
    " 1. NO2: it is one of a group of highly reactive gases known as oxides of nitrogen or nitrogen oxides (NOx). This gas primarily gets in the air from the burning of fuel. For instance, it forms from emissions from cars, trucks and buses, power plants, and off-road equipment. The presence of high concentrations of NO2 in the atmosphere may contribute to several respiratory complications in human beings. Hence, if one lives in a city with high concentrations of NO2, one may be more likely to develop respiratory diseases (particularly, asthma). On the other hand, this presence of NO2 in the atmosphere has also several negative effects on the environment (e.g., NO2 interacts with water, oxygen and other chemicals in the atmosphere to form acid rain, which impacts sensitive ecosystems). Please refer to: [https://www.epa.gov/no2-pollution/basic-information-about-no2#:~:text=Nitrogen%20Dioxide%20(NO2)%20is,from%20the%20burning%20of%20fuel.](https://www.epa.gov/no2-pollution/basic-information-about-no2#:~:text=Nitrogen%20Dioxide%20(NO2)%20is,from%20the%20burning%20of%20fuel.)).\n",
    " 2. O3: it is a gas composed of three atoms of oxygen and is commonly known as ozone. At a stratospheric level, this gas occurs naturally and is extremely useful in the sense that it forms a protective layer that shields us from the sun's harmful ultraviolet rays. However, at a tropospheric level (i.e., ground level), ozone is created by chemical reactions between oxides of nitrogen and volatile organic compounds (e.g., when pollutants emitted by cars, power plants, industrial boilers, refineries, chemical plants, and other sources chemically react in the presence of sunlight). Similarly to NO2, ozone is extremely harmful to the respiratory system and may contribute to several other environmental complications (i.e., elevated exposures to ozone can affect sensitive vegetation and ecosystems, including forests, parks, wildlife refuges and wilderness areas). Please refer to: [https://www.epa.gov/ground-level-ozone-pollution/ground-level-ozone-basics](https://www.epa.gov/ground-level-ozone-pollution/ground-level-ozone-basics)).\n",
    " 3. Ox: TODO (Tiago)\n",
    " 4. CO: carbon monoxide is also present in the exhaust gases of internal combustion engines and furnaces as a result of the incomplete conversion of carbon or carbon-containing fuels to carbon dioxide. This compound is dangerous to human health since its absorption by red blood cells in preference to oxygen will create a negative impact on the transport of oxygen from the lungs to the tissues, in which it is required. Please refer to: [https://www.britannica.com/science/carbon-monoxide](https://www.britannica.com/science/carbon-monoxide)).\n",
    " 5. PM1, PM2.5 and PM10: https://www.sciencedirect.com/science/article/abs/pii/S1352231007003299"
   ]
  },
  {
   "cell_type": "markdown",
   "metadata": {},
   "source": [
    "We now show you example plots to give you the intuition of how traffic intensity contributes to the increase of the concentration of air pollutants in the atmosphere. \n",
    "\n",
    "As we explained above, the burning of fossil fuels generates chemical compounds that act as precursors of these pollutants.\n",
    "\n",
    "Hence, we can see that there is a positive correlation between traffic intensity and the concentration/level of air pollutants in the atmosphere."
   ]
  },
  {
   "cell_type": "markdown",
   "metadata": {},
   "source": [
    "Traffic Intensity"
   ]
  },
  {
   "cell_type": "markdown",
   "metadata": {},
   "source": [
    "![Traffic Intensity](../figures/ct1z6_intensity.png \"Traffic Intensity\")"
   ]
  },
  {
   "cell_type": "markdown",
   "metadata": {},
   "source": [
    "NO2 Concentration"
   ]
  },
  {
   "cell_type": "markdown",
   "metadata": {},
   "source": [
    "![NO2 Concentration](../figures/ct1z6_no2.png \"NO2 Concentration\")"
   ]
  },
  {
   "cell_type": "markdown",
   "metadata": {},
   "source": [
    "O3"
   ]
  },
  {
   "cell_type": "markdown",
   "metadata": {},
   "source": [
    "![O3 Concentration](../figures/ct1z6_o3.png \"NO2 Concentration\")"
   ]
  },
  {
   "cell_type": "markdown",
   "metadata": {},
   "source": [
    "Ox"
   ]
  },
  {
   "cell_type": "markdown",
   "metadata": {},
   "source": [
    "![Ox Concentration](../figures/ct1z6_ox.png \"Ox Concentration\")"
   ]
  },
  {
   "cell_type": "markdown",
   "metadata": {},
   "source": [
    "CO"
   ]
  },
  {
   "cell_type": "markdown",
   "metadata": {},
   "source": [
    "![CO Concentration](../figures/ct1z6_co.png \"CO Concentration\")"
   ]
  },
  {
   "cell_type": "markdown",
   "metadata": {},
   "source": [
    "PM1"
   ]
  },
  {
   "cell_type": "markdown",
   "metadata": {},
   "source": [
    "![PM1](../figures/ct1z6_pm1.png \"PM1\")"
   ]
  },
  {
   "cell_type": "markdown",
   "metadata": {},
   "source": [
    "PM2.5"
   ]
  },
  {
   "cell_type": "markdown",
   "metadata": {},
   "source": [
    "![PM2.5](../figures/ct1z6_pm25.png \"PM25\")"
   ]
  },
  {
   "cell_type": "markdown",
   "metadata": {},
   "source": [
    "PM10"
   ]
  },
  {
   "cell_type": "markdown",
   "metadata": {},
   "source": [
    "![PM10](../figures/ct1z6_pm10.png \"PM10\")"
   ]
  },
  {
   "cell_type": "markdown",
   "metadata": {},
   "source": [
    "# Scalability and Impact"
   ]
  },
  {
   "cell_type": "markdown",
   "metadata": {},
   "source": [
    "The impact of tourism and the economic growth that has taken place in Porto translates into an increase in the number of cars in circulation (source: https://www.dinheirovivo.pt/empresas/porto-tem-mais-carros-por-habitante-do-que-lisboa-12798231.html). Per year, there has been a 4.1% increase in the number of vehicles (i.e., essentially cars) in circulation in the Greater Porto region, and this increase does not seem to be slowing down (http://www.imt-ip.pt/sites/IMTT/Portugues/Noticias/Paginas/Anuario-Estatistico-Mobilidade-Transportes-2019.aspx). \n",
    "\n",
    "\n",
    "Let's take the year 2019 as an example. In 2019, the annual average daily traffic was equal to 30 797 vehicles per day, which at the end of the year results in the circulation of approximately 11 240 905 vehicles. Knowing that a typical passenger car emits about 4600 kg of CO2 per year (https://www.epa.gov/greenvehicles/greenhouse-gas-emissions-typical-passenger-vehicle), there is an increase in CO2 emissions of 51 708 163 000 kg per year! (http://www.imt-ip.pt/sites/IMTT/Portugues/Noticias/Paginas/Anuario-Estatistico-Mobilidade-Transportes-2019.aspx)!\n",
    "\n",
    "Considering that at an average speed of 30 mph and 40 mph, CO2 emission is approximately 350 g/mi and 310 g/mi, respectively (source: https://www.researchgate.net/publication/46438207_May_2010Real-World_Carbon_Dioxide_Impacts_of_Traffic_Congestion) and that on average, the distance travelled by a Portuguese citizen is 9000 km (source: https://www.publico.pt/2018/01/23/sociedade/noticia/quem-e-o-condutor-portugues-conduz-nove-mil-quilometros-por-ano-tem-carro-com-uma-decada-e-usao-diariamente-1800028), for the same distance travelled, you save ((350 - 310) X (9000 X 0.621371192)) = 223.69 kg CO2 if you increase the speed from 30 mph to 40 mph. \n",
    "\n",
    "Thus, the construction of intelligent traffic lights that would turn on and off according to the areas and times of heaviest traffic, would allow the decongestion of traffic in these regions and a greater flow of cars, which would therefore increase their speed and contribute to the reduction of CO2 emissions (https://www.porto.pt/pt/noticia/camara-vai-consumir-energia-100-renovavel-e-evitar-a-emissao-de-165-toneladas-de-co2-por-ano). Hence, this initiative would contribute to making the city of Porto a more sustainable and environmentally friendly city through traffic changes. \n",
    "\n",
    "This proposal is well-aligned with the City's strategies towards sustainability and the CO2 levels reduction (see [https://www.porto.pt/pt/noticia/camara-estuda-medidas-para-um-porto-sustentavel-e-mais-amigo-do-ambiente](https://www.porto.pt/pt/noticia/camara-estuda-medidas-para-um-porto-sustentavel-e-mais-amigo-do-ambiente) and [https://www.publico.pt/2020/09/28/local/noticia/novo-pdm-promete-porto-denso-verde-2030-1932911](https://www.publico.pt/2020/09/28/local/noticia/novo-pdm-promete-porto-denso-verde-2030-1932911))."
   ]
  },
  {
   "attachments": {
    "9d4e4db3-8b7c-41aa-a074-fc6eb59379df.png": {
     "image/png": "[encoded data removed]"
    }
   },
   "cell_type": "markdown",
   "metadata": {},
   "source": [
    "![image.png](attachment:9d4e4db3-8b7c-41aa-a074-fc6eb59379df.png)\n",
    "![IMP](../figures/IMP.png \"IMP2019\")"
   ]
  },
  {
   "cell_type": "markdown",
   "metadata": {},
   "source": [
    "# Ideias:\n",
    "- Saúde das pessoas (TODO: pesquisar efeito dos outros componentes do air quality), cidade sustentável\n",
    "- Saúde: rever https://www.universityofcalifornia.edu/news/how-traffic-jams-affect-heart-health\n",
    "\n",
    "\n",
    "https://en.wikipedia.org/wiki/Smart_traffic_light"
   ]
  },
  {
   "cell_type": "markdown",
   "metadata": {},
   "source": [
    "# Future Work"
   ]
  },
  {
   "cell_type": "markdown",
   "metadata": {},
   "source": [
    "Based on our proposal, it would be interesting if we could have access to:\n",
    " - data regarding the position of traffic lights;\n",
    " - the average speed of cars in that localisation;\n",
    " - CO2 levels.\n",
    "\n",
    "This way, we could analyse the impact of our solution, as well as extract the correlations between the average speed of cars and the air quality.\n",
    "\n",
    "# TODO: Explain this (above)!"
   ]
  },
  {
   "cell_type": "code",
   "execution_count": null,
   "metadata": {},
   "outputs": [],
   "source": []
  }
 ],
 "metadata": {
  "kernelspec": {
   "display_name": "Python 3",
   "language": "python",
   "name": "python3"
  },
  "language_info": {
   "codemirror_mode": {
    "name": "ipython",
    "version": 3
   },
   "file_extension": ".py",
   "mimetype": "text/x-python",
   "name": "python",
   "nbconvert_exporter": "python",
   "pygments_lexer": "ipython3",
   "version": "3.7.6"
  }
 },
 "nbformat": 4,
 "nbformat_minor": 4
}
