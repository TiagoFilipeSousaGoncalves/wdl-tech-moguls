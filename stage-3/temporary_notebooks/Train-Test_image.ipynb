{
  "nbformat": 4,
  "nbformat_minor": 0,
  "metadata": {
    "colab": {
      "name": "Untitled5.ipynb",
      "provenance": []
    },
    "kernelspec": {
      "name": "python3",
      "display_name": "Python 3"
    },
    "language_info": {
      "name": "python"
    }
  },
  "cells": [
    {
      "cell_type": "code",
      "metadata": {
        "id": "GaXLJ8xVlsrU"
      },
      "source": [
        "import numpy as np \n",
        "import pandas as pd\n",
        "from sklearn.model_selection import GroupShuffleSplit\n",
        "\n",
        "from google.colab import drive\n",
        "drive.mount('/content/drive')\n",
        "\n",
        "df = pd.read_csv(\"/content/drive/MyDrive/WDL/annotations.csv\", sep=\";\")\n",
        "df = df[df['image'].notna()]\n",
        "df['image_name'] = df['image'].apply(lambda x: x.split('/')[-1])\n",
        "df['image_group'] = df.image_name.str.extract(r\"(image\\d{1,})\")\n",
        "\n",
        "df"
      ],
      "execution_count": null,
      "outputs": []
    },
    {
      "cell_type": "code",
      "metadata": {
        "id": "wlq8YGwjH_bT"
      },
      "source": [
        "train_inds, test_inds = next(GroupShuffleSplit(test_size=.20, n_splits=2, random_state =42).split(df, groups=df['image_group']))\n",
        "\n",
        "train = df.iloc[train_inds]\n",
        "test = df.iloc[test_inds]"
      ],
      "execution_count": 12,
      "outputs": []
    }
  ]
}