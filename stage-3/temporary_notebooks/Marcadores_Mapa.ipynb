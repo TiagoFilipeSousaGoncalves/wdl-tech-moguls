{
  "nbformat": 4,
  "nbformat_minor": 0,
  "metadata": {
    "colab": {
      "name": "Marcadores_Mapa.ipynb",
      "provenance": [],
      "collapsed_sections": []
    },
    "kernelspec": {
      "name": "python3",
      "display_name": "Python 3"
    },
    "language_info": {
      "name": "python"
    }
  },
  "cells": [
    {
      "cell_type": "code",
      "metadata": {
        "id": "GaXLJ8xVlsrU"
      },
      "source": [
        "import pandas as pd\n",
        "import numpy as np\n",
        "import matplotlib.pyplot as plt\n",
        "import folium\n",
        "import osmnx\n",
        "import openrouteservice\n",
        "from folium.map import *\n",
        "from openrouteservice import client\n",
        "\n",
        "\n",
        "from google.colab import drive\n",
        "drive.mount('/content/drive')\n",
        "\n",
        "mapping_name_coords = pd.read_csv('/content/drive/MyDrive/WDL/mapping_name_coords.csv', sep=',')\n",
        "\n",
        "#Random, mudar depois para previsao\n",
        "mapping_name_coords['randNumCol'] = np.random.randint(1, 5000, mapping_name_coords.shape[0])\n",
        "\n",
        "mapping_name_coords['coordinates'] = mapping_name_coords['coordinates'].str.replace('(', '').str.replace(')', '').str.replace('\\'', '')\n",
        "mapping_name_coords[['latitude','longitude']] = mapping_name_coords.coordinates.str.split(\",\",expand=True,).astype(float)"
      ],
      "execution_count": null,
      "outputs": []
    },
    {
      "cell_type": "code",
      "metadata": {
        "id": "jqKqxyKFnQDB"
      },
      "source": [
        "lisboa_area = osmnx.geocode_to_gdf('Lisboa, Portugal')\n",
        "\n",
        "lisboa_area.plot()\n",
        "\n",
        "center_lisboa = lisboa_area['geometry'].centroid\n",
        "\n",
        "\n",
        "# openrouteservice api key\n",
        "api_key = \"5b3ce3597851110001cf6248516d2c7fa9b240a1989c451ecb3b2520\"  \n",
        "clnt = client.Client(key=api_key)\n",
        "\n",
        "m = folium.Map(location=[38.760398,-9.190202], zoom_start=14)"
      ],
      "execution_count": null,
      "outputs": []
    },
    {
      "cell_type": "code",
      "metadata": {
        "id": "yeYtDg-BzCjY"
      },
      "source": [
        "for indice, row in mapping_name_coords.iterrows():\n",
        "      folium.CircleMarker(location=[row[\"latitude\"], row[\"longitude\"]],\n",
        "                          color=\"crimson\", fill_color=\"crimson\", fill=True,\n",
        "                          radius=5).add_to(m)\n",
        "\n",
        "m"
      ],
      "execution_count": null,
      "outputs": []
    }
  ]
}