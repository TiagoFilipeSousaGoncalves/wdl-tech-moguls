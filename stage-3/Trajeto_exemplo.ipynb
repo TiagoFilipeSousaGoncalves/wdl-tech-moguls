{
  "nbformat": 4,
  "nbformat_minor": 0,
  "metadata": {
    "colab": {
      "name": "Trajeto_exemplo.ipynb",
      "provenance": [],
      "collapsed_sections": []
    },
    "kernelspec": {
      "name": "python3",
      "display_name": "Python 3"
    },
    "language_info": {
      "name": "python"
    }
  },
  "cells": [
    {
      "cell_type": "code",
      "metadata": {
        "id": "FPpfwyz8ZYtp"
      },
      "source": [
        "import pandas as pd\n",
        "import numpy as np\n",
        "import matplotlib.pyplot as plt\n",
        "import folium\n",
        "import osmnx\n",
        "import openrouteservice\n",
        "from folium.map import *\n",
        "from openrouteservice import client\n",
        "\n",
        "from google.colab import drive\n",
        "drive.mount('/content/drive')\n",
        "\n",
        "ciclovias = pd.read_csv('/content/drive/MyDrive/WDL/ciclovias_df.csv', sep=',')"
      ],
      "execution_count": null,
      "outputs": []
    },
    {
      "cell_type": "code",
      "metadata": {
        "id": "_1efLoFLZbk0"
      },
      "source": [
        "lisboa_area = osmnx.geocode_to_gdf('Lisboa, Portugal')\n",
        "\n",
        "lisboa_area.plot()\n",
        "\n",
        "center_lisboa = lisboa_area['geometry'].centroid\n",
        "\n",
        "\n",
        "# openrouteservice api key\n",
        "api_key = \"5b3ce3597851110001cf6248516d2c7fa9b240a1989c451ecb3b2520\"  \n",
        "clnt = client.Client(key=api_key)\n",
        "\n",
        "m = folium.Map(location=[38.760398,-9.190202], zoom_start=14)"
      ],
      "execution_count": null,
      "outputs": []
    },
    {
      "cell_type": "code",
      "metadata": {
        "id": "ywcAjmeRZus2"
      },
      "source": [
        "import sys\n",
        "sys.setrecursionlimit(100000)"
      ],
      "execution_count": 54,
      "outputs": []
    },
    {
      "cell_type": "code",
      "metadata": {
        "id": "7VGtMLTrbsS7"
      },
      "source": [
        "###TESTE 1 percurso#####\n",
        "\n",
        "a=[[38.6934096000848, -9.21314651900988], [38.6934085077131,-9.21314619381973], [38.6932761006397,-9.21310666345566], [38.6931447913061,-9.21306746097666], [38.6930153201234,-9.21302880826662], [38.6928884169904,-9.21299092271783], [38.6927577870545,-9.21295192325807], [38.6926272340059,-9.21291294715454], [ 38.692499070225,-9.21287468521164], [38.6923682159121,-9.21283561927656], [38.6923471681661,-9.21282933645946], [38.6923324587895,-9.21282614474528], [ 38.6923146321065,-9.21282537848232], [38.6922949095147,-9.21282845341555], [38.6922780062345,-9.21283455387464], [38.6922608806863,-9.21284445151242], [ 38.6922463641079,-9.21285642605517], [38.6922365865905,-9.21286687975012], [38.6922244398901,-9.21288360638071], [38.6922149961166,-9.21290101573093], [ 38.6922079453632,-9.21291856970991], [38.6922027239068,-9.21293700852943], [38.6922012087238,-9.21294429835794], [38.6922001100233,-9.21295035390128], [ 38.6921421656427,-9.21327086470981], [38.6920814530743,-9.21360668191248], [38.6920474150295,-9.21379324582731], [38.6920161675488,-9.21396595951708], [ 38.6919800246172,-9.21416572507336], [38.6919518144952,-9.21432480233713], [ 38.6919452426024,-9.21436185963923], [38.6919051830004,-9.21458308684592], [ 38.6918874662918,-9.21468285014814]]\n",
        "\n",
        "folium.PolyLine(locations=a, color=\"red\", weight=2.5, opacity=1).add_to(m)\n",
        "m\n",
        "\n",
        "#####TODOS - crash####\n",
        "\n",
        "#for indice, row in ciclovias.iterrows():\n",
        "    #folium.PolyLine(locations=ciclovias[\"geometry\"], color=\"red\", weight=2.5, opacity=1).add_to(m)\n",
        "\n",
        "\n",
        "#m"
      ],
      "execution_count": null,
      "outputs": []
    }
  ]
}