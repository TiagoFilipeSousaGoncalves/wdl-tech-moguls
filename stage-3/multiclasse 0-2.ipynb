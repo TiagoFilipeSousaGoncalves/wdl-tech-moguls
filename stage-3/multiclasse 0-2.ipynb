{
  "nbformat": 4,
  "nbformat_minor": 0,
  "metadata": {
    "colab": {
      "name": "Untitled5.ipynb",
      "provenance": []
    },
    "kernelspec": {
      "name": "python3",
      "display_name": "Python 3"
    },
    "language_info": {
      "name": "python"
    }
  },
  "cells": [
    {
      "cell_type": "code",
      "metadata": {
        "id": "GaXLJ8xVlsrU"
      },
      "source": [
        "import numpy as np \n",
        "import pandas as pd\n",
        "from sklearn.preprocessing import LabelEncoder\n",
        "from sklearn import preprocessing\n",
        "\n",
        "from google.colab import drive\n",
        "drive.mount('/content/drive')\n",
        "\n",
        "df = pd.read_csv(\"/content/drive/MyDrive/WDL/annotations.csv\", sep=\";\")\n",
        "df = df[df['pavement_quality'].notna()]\n",
        "\n",
        "le_df = preprocessing.LabelEncoder()\n",
        "le_df = le_df.fit(df[\"pavement_quality\"])\n",
        "le_df.classes_ = np.array(['low', 'mid','high'])\n",
        "df[\"quality\"] = le_df.transform(df[\"pavement_quality\"])\n",
        "\n",
        "df"
      ],
      "execution_count": null,
      "outputs": []
    }
  ]
}